{
 "cells": [
  {
   "cell_type": "code",
   "execution_count": null,
   "metadata": {},
   "outputs": [],
   "source": [
    "!pip install -q --disable-pip-version-check dpss==0.10.2 \n",
    "import dpss\n",
    "%timeit -n 1000 -r 10 dpss.sequence_matcher_m2m([1980, 2980, 3500, 4000, 1050, 2000], [1950, 2900, 30, 80, 3300, 200, 3980, 1050, 20, 2000])"
   ]
  },
  {
   "cell_type": "code",
   "execution_count": null,
   "metadata": {},
   "outputs": [],
   "source": [
    "!pip install -q --disable-pip-version-check dpss==0.10.5\n",
    "import dpss\n",
    "%timeit -n 1000 -r 10 dpss.sequence_matcher_m2m([1980, 2980, 3500, 4000, 1050, 2000], [1950, 2900, 30, 80, 3300, 200, 3980, 1050, 20, 2000])"
   ]
  },
  {
   "cell_type": "code",
   "execution_count": null,
   "metadata": {},
   "outputs": [],
   "source": [
    "!pip install -q --disable-pip-version-check dpss==0.11.0\n",
    "import dpss\n",
    "%timeit -n 1000 -r 10 dpss.sequence_matcher_m2m([1980, 2980, 3500, 4000, 1050, 2000], [1950, 2900, 30, 80, 3300, 200, 3980, 1050, 20, 2000])"
   ]
  },
  {
   "cell_type": "code",
   "execution_count": null,
   "metadata": {},
   "outputs": [],
   "source": [
    "!pip install -q --disable-pip-version-check dpss==0.11.1\n",
    "import dpss\n",
    "%timeit -n 1000 -r 10 dpss.sequence_matcher_m2m([1980, 2980, 3500, 4000, 1050, 2000], [1950, 2900, 30, 80, 3300, 200, 3980, 1050, 20, 2000])"
   ]
  },
  {
   "cell_type": "code",
   "execution_count": null,
   "metadata": {},
   "outputs": [],
   "source": [
    "!pip uninstall -q -y dpss\n",
    "!pip install -q --disable-pip-version-check --no-index --find-links ../target/wheels dpss\n",
    "import dpss\n",
    "%timeit -n 1000 -r 10 dpss.sequence_matcher_m2m([1980, 2980, 3500, 4000, 1050, 2000], [1950, 2900, 30, 80, 3300, 200, 3980, 1050, 20, 2000])"
   ]
  }
 ],
 "metadata": {
  "interpreter": {
   "hash": "87233e2b4968e527509109d870f09729c2e86bc35e4c43b1869c1a8ef6433d05"
  },
  "kernelspec": {
   "display_name": "Python 3.9.5 ('env': venv)",
   "language": "python",
   "name": "python3"
  },
  "language_info": {
   "codemirror_mode": {
    "name": "ipython",
    "version": 3
   },
   "file_extension": ".py",
   "mimetype": "text/x-python",
   "name": "python",
   "nbconvert_exporter": "python",
   "pygments_lexer": "ipython3",
   "version": "3.9.5"
  },
  "orig_nbformat": 4
 },
 "nbformat": 4,
 "nbformat_minor": 2
}
