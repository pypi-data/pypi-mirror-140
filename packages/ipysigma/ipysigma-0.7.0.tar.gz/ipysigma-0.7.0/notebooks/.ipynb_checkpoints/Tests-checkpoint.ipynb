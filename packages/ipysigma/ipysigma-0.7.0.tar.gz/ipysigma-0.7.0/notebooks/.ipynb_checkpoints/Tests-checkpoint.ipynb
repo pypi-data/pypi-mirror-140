{
 "cells": [
  {
   "cell_type": "code",
   "execution_count": 2,
   "id": "08897f6f-c81e-41d0-8542-3bac4d7e5064",
   "metadata": {},
   "outputs": [],
   "source": [
    "import networkx as nx\n",
    "from ipysigma import Sigma"
   ]
  },
  {
   "cell_type": "code",
   "execution_count": 3,
   "id": "5989da75-0009-4ff7-8b37-8b31b6d4b49d",
   "metadata": {},
   "outputs": [],
   "source": [
    "g = nx.karate_club_graph()"
   ]
  },
  {
   "cell_type": "code",
   "execution_count": 4,
   "id": "3a0d6f3a-1084-4bd0-8558-07b7bb2dec21",
   "metadata": {},
   "outputs": [
    {
     "data": {
      "text/plain": [
       "34"
      ]
     },
     "execution_count": 4,
     "metadata": {},
     "output_type": "execute_result"
    }
   ],
   "source": [
    "g.order()"
   ]
  },
  {
   "cell_type": "code",
   "execution_count": 26,
   "id": "86b9d7fa-0c36-4391-8932-66bd7881904b",
   "metadata": {
    "tags": []
   },
   "outputs": [
    {
     "data": {
      "application/vnd.jupyter.widget-view+json": {
       "model_id": "ee6a61bda63443bd8d82fc9631312deb",
       "version_major": 2,
       "version_minor": 0
      },
      "text/plain": [
       "Sigma(data={'nodes': [{'key': '0', 'attributes': {'nodedef': 'n0', 'label': '1831', 'occurrences': 1, 'viz': {…"
      ]
     },
     "metadata": {},
     "output_type": "display_data"
    }
   ],
   "source": [
    "Sigma.from_gexf('./data/arctic.gexf')"
   ]
  }
 ],
 "metadata": {
  "kernelspec": {
   "display_name": "Python 3",
   "language": "python",
   "name": "python3"
  },
  "language_info": {
   "codemirror_mode": {
    "name": "ipython",
    "version": 3
   },
   "file_extension": ".py",
   "mimetype": "text/x-python",
   "name": "python",
   "nbconvert_exporter": "python",
   "pygments_lexer": "ipython3",
   "version": "3.6.10"
  }
 },
 "nbformat": 4,
 "nbformat_minor": 5
}
