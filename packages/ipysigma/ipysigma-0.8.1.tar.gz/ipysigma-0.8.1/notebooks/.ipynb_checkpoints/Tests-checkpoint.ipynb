{
 "cells": [
  {
   "cell_type": "code",
   "execution_count": 1,
   "id": "414ad4c9",
   "metadata": {},
   "outputs": [],
   "source": [
    "import networkx as nx\n",
    "from ipysigma import Sigma"
   ]
  },
  {
   "cell_type": "code",
   "execution_count": 3,
   "id": "1ae22a6d-771e-412e-9a14-10d953f25bde",
   "metadata": {},
   "outputs": [
    {
     "data": {
      "application/vnd.jupyter.widget-view+json": {
       "model_id": "9199b9e3b0ca4583b694da24f04442b9",
       "version_major": 2,
       "version_minor": 0
      },
      "text/plain": [
       "Sigma(nx.Graph with 34 nodes and 78 edges)"
      ]
     },
     "metadata": {},
     "output_type": "display_data"
    }
   ],
   "source": [
    "g = nx.karate_club_graph()\n",
    "from random import random\n",
    "categ = {}\n",
    "for k, a in g.nodes(data=True):\n",
    "    a['size'] = 20 * random()\n",
    "    a['random'] = random()\n",
    "    categ[k] = random() > 0.5\n",
    "for _, _, a in g.edges(data=True):\n",
    "    a['random'] = random()\n",
    "    a['partition'] = random() > 0.5\n",
    "    a['label'] = 'Test'\n",
    "sigma = Sigma(\n",
    "    g,\n",
    "    node_size=g.degree,\n",
    "    node_size_range=[5, 10],\n",
    "    node_color=categ,\n",
    "    node_label='club',\n",
    "    edge_color='partition',\n",
    "    edge_label='label',\n",
    "    edge_size='random',\n",
    "    clickable_edges=True\n",
    ")\n",
    "sigma"
   ]
  },
  {
   "cell_type": "code",
   "execution_count": 7,
   "id": "ff0f2886-0fc6-4a66-a1bf-5d6e52f4378f",
   "metadata": {},
   "outputs": [
    {
     "data": {
      "application/vnd.jupyter.widget-view+json": {
       "model_id": "de6b0564bc6940ff85e51be80f784ddc",
       "version_major": 2,
       "version_minor": 0
      },
      "text/plain": [
       "Sigma(nx.DiGraph with 366 nodes and 1,107 edges)"
      ]
     },
     "metadata": {},
     "output_type": "display_data"
    }
   ],
   "source": [
    "g = nx.read_gexf('./data/rio.gexf')\n",
    "Sigma(g, node_color='Nature of institution', node_label='Label2', node_size=g.degree)"
   ]
  }
 ],
 "metadata": {
  "kernelspec": {
   "display_name": "Python 3",
   "language": "python",
   "name": "python3"
  },
  "language_info": {
   "codemirror_mode": {
    "name": "ipython",
    "version": 3
   },
   "file_extension": ".py",
   "mimetype": "text/x-python",
   "name": "python",
   "nbconvert_exporter": "python",
   "pygments_lexer": "ipython3",
   "version": "3.6.10"
  }
 },
 "nbformat": 4,
 "nbformat_minor": 5
}
