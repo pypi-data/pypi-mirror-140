{
 "cells": [
  {
   "cell_type": "markdown",
   "id": "d263f580",
   "metadata": {},
   "source": [
    "# reaction-network (Demo Notebook): Enumerators\n",
    "\n",
    "### Author: Matthew McDermott\n",
    "Last Updated: 12/07/21\n",
    "\n",
    "**If you use this code in your work, please consider citing the following paper:**\n",
    "\n",
    "McDermott, M. J., Dwaraknath, S. S., and Persson, K. A. (2021). A graph-based network for predicting chemical reaction pathways in solid-state materials synthesis. \n",
    "Nature Communications, 12(1). https://doi.org/10.1038/s41467-021-23339-x"
   ]
  },
  {
   "cell_type": "markdown",
   "id": "529c0d4d",
   "metadata": {},
   "source": [
    "### Imports"
   ]
  },
  {
   "cell_type": "code",
   "execution_count": 30,
   "id": "4f283fcf",
   "metadata": {},
   "outputs": [
    {
     "name": "stdout",
     "output_type": "stream",
     "text": [
      "The autoreload extension is already loaded. To reload it, use:\n",
      "  %reload_ext autoreload\n"
     ]
    }
   ],
   "source": [
    "import logging\n",
    "from pprint import pprint\n",
    "\n",
    "from pymatgen.core.composition import Composition, Element\n",
    "from pymatgen.ext.matproj import MPRester\n",
    "\n",
    "from rxn_network.enumerators.basic import BasicEnumerator, BasicOpenEnumerator\n",
    "from rxn_network.enumerators.minimize import MinimizeGibbsEnumerator, MinimizeGrandPotentialEnumerator\n",
    "from rxn_network.fireworks import EnumeratorFW\n",
    "from rxn_network.costs.softplus import Softplus\n",
    "from rxn_network.entries.entry_set import GibbsEntrySet\n",
    "\n",
    "%load_ext autoreload\n",
    "%autoreload 2"
   ]
  },
  {
   "cell_type": "markdown",
   "id": "7b999074",
   "metadata": {},
   "source": [
    "## Downloading and modifying entries"
   ]
  },
  {
   "cell_type": "markdown",
   "id": "8f5db570",
   "metadata": {},
   "source": [
    "First, we acquire entries for phases in the Y-Mn-O chemical system from the Materials Project (MP), a computed materials database containing calculations for over 130,000 materials."
   ]
  },
  {
   "cell_type": "code",
   "execution_count": 31,
   "id": "7e48b3d9",
   "metadata": {},
   "outputs": [],
   "source": [
    "with MPRester() as mpr:  # insert your Materials Project API key here if it's not stored in .pmgrc.yaml\n",
    "    entries = mpr.get_entries_in_chemsys(\"Y-Mn-O\", inc_structure=\"final\")"
   ]
  },
  {
   "cell_type": "markdown",
   "id": "825b675b",
   "metadata": {},
   "source": [
    "The `GibbsEntrySet` class allows us to automatically convered `ComputedStructureEntry` objects downloaded from the MP database into `GibbsComputedEntry` objects, where DFT-calculated energies have been converted to an AI-estimated equivalent values of the Gibbs free energies of formation, $\\Delta G_f$ for all entries at the specified temperature.\n",
    "\n",
    "For more information, check out the citation in the documentation for `GibbsComputedEntry`."
   ]
  },
  {
   "cell_type": "code",
   "execution_count": 32,
   "id": "2df768d6",
   "metadata": {},
   "outputs": [],
   "source": [
    "temp = 900  # units: Kelvin\n",
    "gibbs_entries = GibbsEntrySet.from_entries(entries, temp)"
   ]
  },
  {
   "cell_type": "markdown",
   "id": "29089129",
   "metadata": {},
   "source": [
    "We can print the entries by calling `.entries` or `.entries_list`:"
   ]
  },
  {
   "cell_type": "code",
   "execution_count": 33,
   "id": "2aabaca9",
   "metadata": {},
   "outputs": [
    {
     "data": {
      "text/plain": [
       "[GibbsComputedEntry | mp-35 | Mn29 (Mn)\n",
       " Gibbs Energy (900 K) = 0.0000,\n",
       " GibbsComputedEntry | mp-776603 | Mn15 O32 (Mn15O32)\n",
       " Gibbs Energy (900 K) = -51.2858,\n",
       " GibbsComputedEntry | mp-867971 | Mn15 O32 (Mn15O32)\n",
       " Gibbs Energy (900 K) = -51.1337,\n",
       " GibbsComputedEntry | mp-1222372 | Mn20 O43 (Mn20O43)\n",
       " Gibbs Energy (900 K) = -65.6727,\n",
       " GibbsComputedEntry | mp-849596 | Mn21 O40 (Mn21O40)\n",
       " Gibbs Energy (900 K) = -77.4960,\n",
       " GibbsComputedEntry | mp-766493 | Mn21 O40 (Mn21O40)\n",
       " Gibbs Energy (900 K) = -76.8789,\n",
       " GibbsComputedEntry | mp-778470 | Mn64 O96 (Mn2O3)\n",
       " Gibbs Energy (900 K) = -230.8296,\n",
       " GibbsComputedEntry | mp-1172875 | Mn32 O48 (Mn2O3)\n",
       " Gibbs Energy (900 K) = -121.0665,\n",
       " GibbsComputedEntry | mvc-844 | Mn8 O12 (Mn2O3)\n",
       " Gibbs Energy (900 K) = -25.9208,\n",
       " GibbsComputedEntry | mp-1304368 | Mn4 O6 (Mn2O3)\n",
       " Gibbs Energy (900 K) = -14.4337]"
      ]
     },
     "execution_count": 33,
     "metadata": {},
     "output_type": "execute_result"
    }
   ],
   "source": [
    "gibbs_entries.entries_list[0:10]  # first 10 entries"
   ]
  },
  {
   "cell_type": "markdown",
   "id": "5ecbdd74",
   "metadata": {},
   "source": [
    "The `GibbsEntrySet` class has many helpful functions, such as the following `filter_by_stability()` function, which automatically removes entries which are a specified energy per atom above the convex hull of stability:"
   ]
  },
  {
   "cell_type": "code",
   "execution_count": 34,
   "id": "afe4de87",
   "metadata": {},
   "outputs": [],
   "source": [
    "filtered_entries = gibbs_entries.filter_by_stability(0.025)"
   ]
  },
  {
   "cell_type": "markdown",
   "id": "ac4142dd",
   "metadata": {},
   "source": [
    "You should now see a much shorter list of entries within the Y-Mn-O system (< 25 meV/atom below the hull)"
   ]
  },
  {
   "cell_type": "code",
   "execution_count": 35,
   "id": "905bbbea",
   "metadata": {},
   "outputs": [
    {
     "data": {
      "text/plain": [
       "[GibbsComputedEntry | mp-35 | Mn29 (Mn)\n",
       " Gibbs Energy (900 K) = 0.0000,\n",
       " GibbsComputedEntry | mp-1172875 | Mn32 O48 (Mn2O3)\n",
       " Gibbs Energy (900 K) = -121.0665,\n",
       " GibbsComputedEntry | mp-18759 | Mn6 O8 (Mn3O4)\n",
       " Gibbs Energy (900 K) = -22.0554,\n",
       " GibbsComputedEntry | mp-18922 | Mn5 O8 (Mn5O8)\n",
       " Gibbs Energy (900 K) = -18.7767,\n",
       " GibbsComputedEntry | mp-999539 | Mn4 O4 (MnO)\n",
       " Gibbs Energy (900 K) = -12.5286,\n",
       " GibbsComputedEntry | mp-1279979 | Mn1 O2 (MnO2)\n",
       " Gibbs Energy (900 K) = -3.9510,\n",
       " GibbsComputedEntry | mp-12957 | O8 (O2)\n",
       " Gibbs Energy (900 K) = 0.0000,\n",
       " GibbsComputedEntry | mp-1187739 | Y3 (Y)\n",
       " Gibbs Energy (900 K) = 0.0000,\n",
       " GibbsComputedEntry | mp-18831 | Y4 Mn4 O14 (Y2Mn2O7)\n",
       " Gibbs Energy (900 K) = -52.1400,\n",
       " GibbsComputedEntry | mp-2652 | Y16 O24 (Y2O3)\n",
       " Gibbs Energy (900 K) = -139.2136,\n",
       " GibbsComputedEntry | mp-22508 | Y1 Mn12 (YMn12)\n",
       " Gibbs Energy (900 K) = -0.1070,\n",
       " GibbsComputedEntry | mp-510598 | Y4 Mn8 O20 (YMn2O5)\n",
       " Gibbs Energy (900 K) = -68.6521,\n",
       " GibbsComputedEntry | mp-19227 | Y2 Mn2 O6 (YMnO3)\n",
       " Gibbs Energy (900 K) = -25.4484]"
      ]
     },
     "execution_count": 35,
     "metadata": {},
     "output_type": "execute_result"
    }
   ],
   "source": [
    "filtered_entries.entries_list"
   ]
  },
  {
   "cell_type": "markdown",
   "id": "3a810f32",
   "metadata": {},
   "source": [
    "## Running enumerators\n",
    "\n",
    "There are several types of enumerator classes contained within `rxn_network.enumerators`: These are:\n",
    "\n",
    "1. `BasicEnumerator`: use a combinatorial approach to identify all possible (closed) reactions within a set of entries\n",
    "2. `BasicOpenEnumerator`: use a combinatorial approach to identify all **open** reactions within a set of entries and a list of specified open entries/elements\n",
    "3. `MinimizeGibbsEnumerator`: use a thermodynamic approach to identify all reactions within a set of entries that are predicted by minimizing Gibbs free energy between a set of two reacting phases touching at an interface\n",
    "4. `MinimizeGrandPotentialEnumerator`: use a thermodynamic approach to identify all reactions within a set of entries that are predicted by minimizing the grand potential between a set of two reacting phases touching at an interface with an **open** element at a specified chemical potential\n",
    "\n",
    "### Basic enumerators\n",
    "We first create a basic enumerator object by initializing one from the `BasicEnumerator` class:"
   ]
  },
  {
   "cell_type": "code",
   "execution_count": 36,
   "id": "e92e7cb2",
   "metadata": {},
   "outputs": [],
   "source": [
    "be = BasicEnumerator()"
   ]
  },
  {
   "cell_type": "markdown",
   "id": "edcc5636",
   "metadata": {},
   "source": [
    "The `BasicEnumerator` class, as is true for all other enumerator classes, can be provided with several arguments for customizing the enumerator output:\n",
    "\n",
    "- **precursors**: Optional list of precursor formulas; only reactions which contain at least these phases as reactants will be enumerated.\n",
    "- **target**: Optional formula of target; only reactions which include formation of this target will be enumerated.\n",
    "- **calculators**: Optional list of Calculator object names; see calculators module for options (e.g., [\"ChempotDistanceCalculator])\n",
    "- **n**: Maximum reactant/product cardinality; i.e., largest possible number of entries on either side of the reaction. Defaults to 2.\n",
    "- **exclusive_precursors**: Whether to consider only reactions that have reactants which are a subset of the provided list of precursors. Defaults to True.\n",
    "- **exclusive_targets**: Whether to consider only reactions that make the provided target directly (i.e. with no byproducts). Defualts to False.\n",
    "- **remove_unbalanced**: Whether to remove reactions which are unbalanced. Defaults to True.\n",
    "- **remove_changed**: Whether to remove reactions which can only be balanced by removing a reactant/product or having it change sides. Defaults to True.\n",
    "\n",
    "Note that the default arguments are good for generating a list of simple (unconstrained) reactions, as we might build for a reaction network. Run the following cell:"
   ]
  },
  {
   "cell_type": "code",
   "execution_count": 37,
   "id": "102063fc",
   "metadata": {},
   "outputs": [
    {
     "name": "stderr",
     "output_type": "stream",
     "text": [
      "Mn-Y: 100%|████████████████████████████████████████████████████████████████████████████████████████████████████████████████████████████████████████| 4/4 [00:01<00:00,  2.07it/s]\n"
     ]
    }
   ],
   "source": [
    "all_rxns = be.enumerate(filtered_entries)"
   ]
  },
  {
   "cell_type": "markdown",
   "id": "afc844ff",
   "metadata": {},
   "source": [
    "This should complete somewhat quickly (within a few seconds). As a result, a list of ~800 generated reactions will be stored within the `all_rxns` object:"
   ]
  },
  {
   "cell_type": "code",
   "execution_count": 38,
   "id": "3c67e9ee",
   "metadata": {},
   "outputs": [
    {
     "name": "stdout",
     "output_type": "stream",
     "text": [
      "800\n"
     ]
    }
   ],
   "source": [
    "print(len(all_rxns))"
   ]
  },
  {
   "cell_type": "code",
   "execution_count": 41,
   "id": "0eae80ef",
   "metadata": {},
   "outputs": [
    {
     "name": "stdout",
     "output_type": "stream",
     "text": [
      "[0.5 MnO2 + 0.04167 YMn12 -> MnO + 0.04167 Y,\n",
      " Y2Mn2O7 + 2 MnO2 -> 0.5 O2 + 2 YMn2O5,\n",
      " MnO2 + 0.6944 Y -> 0.6667 YMnO3 + 0.02778 YMn12,\n",
      " 1.981 YMnO3 + 0.01887 YMn12 -> Y2O3 + 0.7358 Mn3O4,\n",
      " 0.5 YMn2O5 + 0.5 Y -> MnO + 0.5 Y2O3,\n",
      " 0.2895 Mn5O8 + 0.1842 Mn3O4 -> 0.02632 O2 + Mn2O3,\n",
      " Mn5O8 + 0.2222 YMn12 -> 7.667 MnO + 0.1111 Y2O3,\n",
      " MnO2 + 0.3333 Y -> 0.3333 YMnO3 + 0.3333 Mn2O3,\n",
      " YMnO3 + 0.3333 Y -> MnO + 0.6667 Y2O3,\n",
      " 0.3333 YMnO3 + 2.333 Mn2O3 -> Mn5O8 + 0.3333 Y]\n"
     ]
    }
   ],
   "source": [
    "pprint(all_rxns[0:10])  # first 10 reactions"
   ]
  },
  {
   "cell_type": "markdown",
   "id": "42e1e246",
   "metadata": {},
   "source": [
    "Looking at the list of reactions above, we see that all reactions are stoichiometrically balanced. If we look at any particular reaction object, we find that the reaction energy and uncertainty can automatically be calculated using the entry energies:"
   ]
  },
  {
   "cell_type": "code",
   "execution_count": 42,
   "id": "138fa836",
   "metadata": {},
   "outputs": [
    {
     "name": "stdout",
     "output_type": "stream",
     "text": [
      "0.5 MnO2 + 0.04167 YMn12 -> MnO + 0.04167 Y\n",
      "-0.564331681228941 ± 0.06265339360411736 eV/atom\n"
     ]
    }
   ],
   "source": [
    "r = all_rxns[0]\n",
    "print(r)\n",
    "print(r.energy_per_atom, \"±\", r.energy_uncertainty_per_atom, \"eV/atom\")"
   ]
  },
  {
   "cell_type": "markdown",
   "id": "8d74e8bc",
   "metadata": {},
   "source": [
    "If we want to generate only reactions which contain specific precursors, we can supply them when we initialize the `BasicEnumerator` object."
   ]
  },
  {
   "cell_type": "code",
   "execution_count": 43,
   "id": "c0ccf3bc",
   "metadata": {},
   "outputs": [
    {
     "name": "stderr",
     "output_type": "stream",
     "text": [
      "O-Y: 100%|████████████████████████████████████████████████████████████████████████████████████████████████████████████████████████████████████████| 1/1 [00:00<00:00, 319.08it/s]\n"
     ]
    }
   ],
   "source": [
    "be_precursors = BasicEnumerator(precursors=[\"Y2O3\"])\n",
    "y2o3_rxns_exclusive = be_precursors.enumerate(filtered_entries)"
   ]
  },
  {
   "cell_type": "code",
   "execution_count": 44,
   "id": "551da08b",
   "metadata": {},
   "outputs": [
    {
     "data": {
      "text/plain": [
       "[0.6667 Y2O3 -> O2 + 1.333 Y]"
      ]
     },
     "execution_count": 44,
     "metadata": {},
     "output_type": "execute_result"
    }
   ],
   "source": [
    "y2o3_rxns_exclusive"
   ]
  },
  {
   "cell_type": "markdown",
   "id": "1c40612e",
   "metadata": {},
   "source": [
    "Note that by default, this only produces reactions which exclusively have the provided precursor(s). To include reactions that contain this precursor (non-exclusively), set the `exclusive_precursors=False`:"
   ]
  },
  {
   "cell_type": "code",
   "execution_count": 45,
   "id": "d7a90c39",
   "metadata": {},
   "outputs": [
    {
     "name": "stderr",
     "output_type": "stream",
     "text": [
      "O-Y: 100%|█████████████████████████████████████████████████████████████████████████████████████████████████████████████████████████████████████████| 2/2 [00:00<00:00,  3.53it/s]\n"
     ]
    }
   ],
   "source": [
    "be_precursors = BasicEnumerator(precursors=[\"Y2O3\"], exclusive_precursors=False)\n",
    "y2o3_rxns = be_precursors.enumerate(filtered_entries)"
   ]
  },
  {
   "cell_type": "code",
   "execution_count": 46,
   "id": "3254e746",
   "metadata": {},
   "outputs": [
    {
     "data": {
      "text/plain": [
       "[MnO2 + 0.04167 Y2O3 -> 1.062 O2 + 0.08333 YMn12,\n",
       " 0.0381 Y2O3 + 1.971 Mn3O4 -> Mn5O8 + 0.07619 YMn12,\n",
       " MnO2 + 0.25 Y2O3 -> 0.125 O2 + 0.5 YMn2O5,\n",
       " 0.4444 Y2O3 + 1.667 Mn3O4 -> Mn5O8 + 0.8889 Y,\n",
       " 0.6154 Mn2O3 + 0.05128 Y2O3 -> O2 + 0.1026 YMn12,\n",
       " 4.5 MnO + 0.5 Y2O3 -> Y + 1.5 Mn3O4,\n",
       " Y2O3 + 2 Mn3O4 -> Y2Mn2O7 + 4 MnO,\n",
       " Mn + 0.05556 Y2O3 -> 0.03333 YMn2O5 + 0.07778 YMn12,\n",
       " YMn2O5 + 0.5 Y2O3 -> YMnO3 + 0.5 Y2Mn2O7,\n",
       " Mn5O8 + 0.8 Y2O3 -> 1.6 YMn2O5 + 0.6 Mn3O4,\n",
       " Mn + 0.03846 Y2O3 -> 0.07692 YMn12 + 0.03846 Mn2O3,\n",
       " YMn2O5 + 0.5 Y2O3 -> 2 YMnO3 + 0.25 O2,\n",
       " 1.154 Mn2O3 + 0.5128 Y2O3 -> YMn2O5 + 0.02564 YMn12,\n",
       " 2 YMnO3 + 0.3333 Y2O3 -> Y2Mn2O7 + 0.6667 Y,\n",
       " Mn5O8 + 2 Y2O3 -> 3 YMnO3 + YMn2O5,\n",
       " YMn12 + 10 Y2O3 -> 6 YMn2O5 + 15 Y,\n",
       " Mn2O3 + 0.6667 Y2O3 -> YMn2O5 + 0.3333 Y,\n",
       " 5 Mn + 2.667 Y2O3 -> Mn5O8 + 5.333 Y,\n",
       " Mn5O8 + 2.5 Y2O3 -> 4 YMnO3 + 0.5 Y2Mn2O7,\n",
       " MnO + 0.04167 Y2O3 -> 0.5625 O2 + 0.08333 YMn12,\n",
       " Mn + 0.07692 Y2O3 -> 0.07692 YMnO3 + 0.07692 YMn12,\n",
       " 13.12 Mn + 0.5 Y2O3 -> YMn12 + 0.375 Mn3O4,\n",
       " Y2O3 + 0.75 Mn3O4 -> 2 YMnO3 + 0.25 Mn,\n",
       " Mn5O8 + 1.167 Y2O3 -> 2.3 YMn2O5 + 0.03333 YMn12,\n",
       " Mn5O8 + Y2O3 -> 2 YMn2O5 + MnO,\n",
       " Mn + Y2O3 -> YMnO3 + Y,\n",
       " MnO + 0.6667 Y2O3 -> YMnO3 + 0.3333 Y,\n",
       " MnO2 + 0.5 Y2O3 -> YMnO3 + 0.25 O2,\n",
       " Y2O3 + 6 Mn3O4 -> 2 Y + 9 Mn2O3,\n",
       " 5 MnO + Y2O3 -> Mn5O8 + 2 Y,\n",
       " YMn12 + 14 Y2O3 -> 6 Y2Mn2O7 + 17 Y,\n",
       " Y2O3 + 0.4615 Mn3O4 -> 0.6923 Y2Mn2O7 + 0.6154 Y,\n",
       " YMn2O5 + 0.6667 Y2O3 -> Y2Mn2O7 + 0.3333 Y,\n",
       " 2 Mn2O3 + 1.5 Y2O3 -> Mn + 1.5 Y2Mn2O7,\n",
       " MnO + 0.8333 Y2O3 -> 0.5 Y2Mn2O7 + 0.6667 Y,\n",
       " MnO + 0.1429 Y2O3 -> 0.2857 YMn2O5 + 0.4286 Mn,\n",
       " Mn5O8 + Y2O3 -> Y2Mn2O7 + Mn3O4,\n",
       " Mn5O8 + 1.5 Y2O3 -> 1.5 Y2Mn2O7 + 2 MnO,\n",
       " Mn + 0.8333 Y2O3 -> 0.5 YMn2O5 + 1.167 Y,\n",
       " 0.08333 YMn12 + 0.3333 Y2O3 -> MnO + 0.75 Y,\n",
       " Y2O3 + 0.9358 Mn3O4 -> 0.9633 Y2Mn2O7 + 0.07339 YMn12,\n",
       " 1.889 MnO + 0.03704 Y2O3 -> MnO2 + 0.07407 YMn12,\n",
       " YMn12 + 6 Y2O3 -> 13 Y + 6 Mn2O3,\n",
       " Mn + 0.5 Y2O3 -> Y + 0.5 Mn2O3,\n",
       " YMn2O5 + 0.3922 Y2O3 -> 0.8824 Y2Mn2O7 + 0.01961 YMn12,\n",
       " MnO + 0.359 Y2O3 -> 0.6923 YMnO3 + 0.02564 YMn12,\n",
       " Y2O3 + 1.75 Mn3O4 -> 2 YMn2O5 + 1.25 Mn,\n",
       " Mn + 0.04167 Y2O3 -> 0.0625 O2 + 0.08333 YMn12,\n",
       " 1.167 Mn2O3 + 0.5 Y2O3 -> YMn2O5 + 0.3333 Mn,\n",
       " YMn12 + 12 Y2O3 -> 12 YMnO3 + 13 Y,\n",
       " 52.5 MnO + 0.5 Y2O3 -> YMn12 + 13.5 Mn3O4,\n",
       " 1.125 Mn + 0.5 Y2O3 -> Y + 0.375 Mn3O4,\n",
       " 2.5 Mn2O3 + 0.1667 Y2O3 -> Mn5O8 + 0.3333 Y,\n",
       " 0.08333 YMn12 + 0.6667 Y2O3 -> MnO2 + 1.417 Y,\n",
       " Mn2O3 + 1.333 Y2O3 -> Y2Mn2O7 + 0.6667 Y,\n",
       " YMn2O5 + 0.25 Y2O3 -> 0.75 Y2Mn2O7 + 0.5 MnO,\n",
       " Mn5O8 + 2.069 Y2O3 -> 2.029 Y2Mn2O7 + 0.07843 YMn12,\n",
       " Mn5O8 + 0.5 Y2O3 -> YMn2O5 + 1.5 Mn2O3,\n",
       " Mn5O8 + 2 Y2O3 -> 4 YMnO3 + MnO2,\n",
       " Mn5O8 + 1.5 Y2O3 -> 2.5 YMn2O5 + 0.5 Y,\n",
       " Mn5O8 + 2 Y2O3 -> Mn + 2 Y2Mn2O7,\n",
       " 1.5 Mn2O3 + 0.5 Y2O3 -> YMn2O5 + MnO,\n",
       " Mn5O8 + 1.143 Y2O3 -> 2.286 YMn2O5 + 0.4286 Mn,\n",
       " 0.08571 YMn12 + 0.4571 Y2O3 -> Y + 0.3429 Mn3O4,\n",
       " MnO + 0.1667 Y2O3 -> 0.3333 Y + 0.5 Mn2O3,\n",
       " MnO + 0.2843 Y2O3 -> 0.2647 Y2Mn2O7 + 0.03922 YMn12,\n",
       " Y2O3 + Mn3O4 -> 2 YMnO3 + MnO,\n",
       " 1.308 Mn2O3 + 1.026 Y2O3 -> Y2Mn2O7 + 0.05128 YMn12,\n",
       " MnO + 0.5 Y2O3 -> 0.5 YMn2O5 + 0.5 Y,\n",
       " YMn2O5 + 0.375 Y2O3 -> 0.25 Mn + 0.875 Y2Mn2O7,\n",
       " MnO + 0.01282 Y2O3 -> 0.02564 YMn12 + 0.3462 Mn2O3,\n",
       " Mn + 0.6667 Y2O3 -> MnO2 + 1.333 Y,\n",
       " 0.01905 Y2O3 + 0.4857 Mn3O4 -> MnO2 + 0.0381 YMn12,\n",
       " Mn + 0.06863 Y2O3 -> 0.02941 Y2Mn2O7 + 0.07843 YMn12,\n",
       " MnO2 + 0.5 Y2O3 -> 0.5 Y2Mn2O7,\n",
       " Mn5O8 + 3.167 Y2O3 -> 2.5 Y2Mn2O7 + 1.333 Y,\n",
       " 4 Mn2O3 + Y2O3 -> Y2Mn2O7 + 2 Mn3O4,\n",
       " 17 Mn + 0.6667 Y2O3 -> MnO2 + 1.333 YMn12,\n",
       " Y2O3 + 0.6 Mn3O4 -> 1.8 YMnO3 + 0.2 Y,\n",
       " MnO + 0.1667 Y2O3 -> 0.3 YMn2O5 + 0.03333 YMn12,\n",
       " 9 Mn + 0.3333 Y2O3 -> MnO + 0.6667 YMn12,\n",
       " 7.667 MnO + 0.1111 Y2O3 -> Mn5O8 + 0.2222 YMn12,\n",
       " Mn2O3 + Y2O3 -> 2 YMnO3,\n",
       " Mn5O8 + 0.5 Y2O3 -> 0.5 Y2Mn2O7 + 2 Mn2O3,\n",
       " 0.4167 YMn12 + 2.667 Y2O3 -> Mn5O8 + 5.75 Y,\n",
       " 0.5 Mn2O3 + 0.1667 Y2O3 -> MnO2 + 0.3333 Y,\n",
       " MnO + 0.3333 Y2O3 -> MnO2 + 0.6667 Y,\n",
       " 0.2 Mn5O8 + 0.1333 Y2O3 -> MnO2 + 0.2667 Y,\n",
       " 0.6667 Y2O3 -> O2 + 1.333 Y,\n",
       " Y2O3 + 3 Mn3O4 -> 2 YMn2O5 + 5 MnO,\n",
       " MnO + 0.3333 Y2O3 -> 0.6667 YMnO3 + 0.3333 Mn,\n",
       " Mn5O8 + 2.5 Y2O3 -> 5 YMnO3 + 0.25 O2,\n",
       " Y2O3 + Mn3O4 -> Mn + Y2Mn2O7,\n",
       " 0.2222 Y2O3 + 0.3333 Mn3O4 -> MnO2 + 0.4444 Y,\n",
       " Mn + 0.3333 Y2O3 -> MnO + 0.6667 Y,\n",
       " Y2O3 + 78 Mn3O4 -> 2 YMn12 + 105 Mn2O3,\n",
       " 2.5 Mn2O3 + 0.5 Y2O3 -> YMn2O5 + Mn3O4,\n",
       " 2.654 Mn2O3 + 0.01282 Y2O3 -> Mn5O8 + 0.02564 YMn12,\n",
       " Y2O3 + 1.636 Mn3O4 -> 1.909 YMn2O5 + 0.09091 YMn12,\n",
       " 0.2464 Mn5O8 + 0.009662 Y2O3 -> MnO2 + 0.01932 YMn12,\n",
       " MnO + 0.25 Y2O3 -> 0.5 Mn + 0.25 Y2Mn2O7,\n",
       " 0.6538 Mn2O3 + 0.01282 Y2O3 -> MnO2 + 0.02564 YMn12,\n",
       " 2 Mn2O3 + Y2O3 -> Y2Mn2O7 + 2 MnO,\n",
       " Y2O3 + 0.7358 Mn3O4 -> 1.981 YMnO3 + 0.01887 YMn12,\n",
       " Y2O3 + 8 Mn3O4 -> 17.5 O2 + 2 YMn12,\n",
       " 69 Mn + 2.667 Y2O3 -> Mn5O8 + 5.333 YMn12,\n",
       " Mn + 1.167 Y2O3 -> 0.5 Y2Mn2O7 + 1.333 Y,\n",
       " YMn2O5 + 0.125 Y2O3 -> 0.625 Y2Mn2O7 + 0.25 Mn3O4,\n",
       " Y2O3 + 0.8571 Mn3O4 -> 1.286 YMn2O5 + 0.7143 Y,\n",
       " Mn5O8 + 0.2083 Y2O3 -> 4.313 O2 + 0.4167 YMn12]"
      ]
     },
     "execution_count": 46,
     "metadata": {},
     "output_type": "execute_result"
    }
   ],
   "source": [
    "y2o3_rxns"
   ]
  },
  {
   "cell_type": "markdown",
   "id": "26eef136",
   "metadata": {},
   "source": [
    "This same approach can be used for the target phase(s) as well.\n",
    "\n",
    "With `exclusive_targets=False`:"
   ]
  },
  {
   "cell_type": "code",
   "execution_count": 47,
   "id": "0e0be703",
   "metadata": {},
   "outputs": [
    {
     "name": "stderr",
     "output_type": "stream",
     "text": [
      "Mn-O-Y: 100%|██████████████████████████████████████████████████████████████████████████████████████████████████████████████████████████████████████| 1/1 [00:00<00:00,  1.57it/s]\n"
     ]
    }
   ],
   "source": [
    "be_target = BasicEnumerator(targets=[\"YMnO3\"])\n",
    "ymno3_rxns = be_target.enumerate(filtered_entries)"
   ]
  },
  {
   "cell_type": "code",
   "execution_count": 48,
   "id": "ede95782",
   "metadata": {},
   "outputs": [
    {
     "data": {
      "text/plain": [
       "[MnO2 + 0.6944 Y -> 0.6667 YMnO3 + 0.02778 YMn12,\n",
       " MnO2 + 0.3333 Y -> 0.3333 YMnO3 + 0.3333 Mn2O3,\n",
       " Y2Mn2O7 + 0.04 YMn12 -> 2.04 YMnO3 + 0.44 MnO2,\n",
       " YMn2O5 + 0.4 Y -> 1.4 YMnO3 + 0.2 Mn3O4,\n",
       " Y2Mn2O7 + 5 Mn2O3 -> 2 YMnO3 + 2 Mn5O8,\n",
       " Y2Mn2O7 + 2 Mn3O4 -> 2 YMnO3 + 3 Mn2O3,\n",
       " YMn2O5 + 0.5 Y2O3 -> YMnO3 + 0.5 Y2Mn2O7,\n",
       " YMn2O5 + 0.2857 Y -> 1.286 YMnO3 + 0.1429 Mn5O8,\n",
       " YMn2O5 + 0.5 Y2O3 -> 2 YMnO3 + 0.25 O2,\n",
       " YMn2O5 + 0.07143 YMn12 -> 1.071 YMnO3 + 1.786 MnO,\n",
       " YMn2O5 + 0.6667 MnO -> YMnO3 + 0.3333 Mn5O8,\n",
       " MnO2 + 0.5 Y -> 0.5 YMnO3 + 0.5 MnO,\n",
       " Mn5O8 + 2 Y2O3 -> 3 YMnO3 + YMn2O5,\n",
       " Y2Mn2O7 + 0.07143 YMn12 -> 2.071 YMnO3 + 0.7857 MnO,\n",
       " MnO + 0.3333 Y -> 0.3333 YMnO3 + 0.6667 Mn,\n",
       " MnO + 0.3333 YMn12 -> 0.3333 YMnO3 + 4.667 Mn,\n",
       " Y2Mn2O7 + 1.667 MnO -> 2 YMnO3 + 0.3333 Mn5O8,\n",
       " YMn2O5 + Mn3O4 -> YMnO3 + 2 Mn2O3,\n",
       " YMn2O5 + 0.5 Mn -> YMnO3 + 0.5 Mn3O4,\n",
       " Mn5O8 + 2.5 Y2O3 -> 4 YMnO3 + 0.5 Y2Mn2O7,\n",
       " Y2Mn2O7 + 0.5 Mn3O4 -> 2 YMnO3 + 1.5 MnO2,\n",
       " Mn5O8 + 2.667 YMn12 -> 2.667 YMnO3 + 34.33 Mn,\n",
       " YMn2O5 + 2 Mn2O3 -> YMnO3 + Mn5O8,\n",
       " Y2Mn2O7 + 1.25 Mn3O4 -> 2 YMnO3 + 0.75 Mn5O8,\n",
       " YMn2O5 + 0.3333 Y -> 1.333 YMnO3 + 0.3333 Mn2O3,\n",
       " Mn + 0.07692 Y2O3 -> 0.07692 YMnO3 + 0.07692 YMn12,\n",
       " Y2Mn2O7 + 2 MnO -> 2 YMnO3 + Mn2O3,\n",
       " Y2O3 + 0.75 Mn3O4 -> 2 YMnO3 + 0.25 Mn,\n",
       " Y + Mn2O3 -> YMnO3 + Mn,\n",
       " YMn2O5 + 0.02564 YMn12 -> 1.026 YMnO3 + 0.641 Mn2O3,\n",
       " Y2Mn2O7 + 0.5 Mn5O8 -> 2 YMnO3 + 2.5 MnO2,\n",
       " YMn2O5 + 0.6944 Y -> 1.667 YMnO3 + 0.02778 YMn12,\n",
       " YMn12 + Mn2O3 -> YMnO3 + 13 Mn,\n",
       " Mn + Y2O3 -> YMnO3 + Y,\n",
       " MnO + 0.6667 Y2O3 -> YMnO3 + 0.3333 Y,\n",
       " MnO2 + 0.5 Y2O3 -> YMnO3 + 0.25 O2,\n",
       " YMn2O5 + MnO -> YMnO3 + Mn2O3,\n",
       " YMn2O5 + 0.6667 Y -> 1.667 YMnO3 + 0.3333 Mn,\n",
       " MnO2 + 0.6667 Y -> 0.6667 YMnO3 + 0.3333 Mn,\n",
       " MnO2 + 0.6667 YMn12 -> 0.6667 YMnO3 + 8.333 Mn,\n",
       " O2 + 0.6667 YMn12 -> 0.6667 YMnO3 + 7.333 Mn,\n",
       " YMn12 + 0.75 Mn3O4 -> YMnO3 + 13.25 Mn,\n",
       " YMn12 + 14 Mn2O3 -> YMnO3 + 39 MnO,\n",
       " Mn5O8 + 2.861 Y -> 2.667 YMnO3 + 0.1944 YMn12,\n",
       " YMn12 + 14 Mn3O4 -> YMnO3 + 53 MnO,\n",
       " Y + 0.75 Mn3O4 -> YMnO3 + 1.25 Mn,\n",
       " YMn2O5 + 0.5 Y -> 1.5 YMnO3 + 0.5 MnO,\n",
       " Y2Mn2O7 + Mn2O3 -> 2 YMnO3 + 2 MnO2,\n",
       " YMn2O5 + 2 MnO -> YMnO3 + Mn3O4,\n",
       " MnO + 0.359 Y2O3 -> 0.6923 YMnO3 + 0.02564 YMn12,\n",
       " 0.5 Y2Mn2O7 -> YMnO3 + 0.25 O2,\n",
       " O2 + 0.1132 YMn12 -> 0.1132 YMnO3 + 0.4151 Mn3O4,\n",
       " Y2Mn2O7 + 0.6667 Y -> 2 YMnO3 + 0.3333 Y2O3,\n",
       " YMn12 + 12 Y2O3 -> 12 YMnO3 + 13 Y,\n",
       " Y2Mn2O7 + 0.0566 YMn12 -> 2.057 YMnO3 + 0.2075 Mn3O4,\n",
       " MnO2 + 0.02564 YMn12 -> 0.02564 YMnO3 + 0.641 Mn2O3,\n",
       " YMn2O5 + Mn -> YMnO3 + 2 MnO,\n",
       " Y2Mn2O7 + MnO -> 2 YMnO3 + MnO2,\n",
       " Mn5O8 + 2 Y2O3 -> 4 YMnO3 + MnO2,\n",
       " YMn2O5 + 0.6667 YMn12 -> 1.667 YMnO3 + 8.333 Mn,\n",
       " MnO2 + 0.07143 YMn12 -> 0.07143 YMnO3 + 1.786 MnO,\n",
       " Mn5O8 + 0.02564 YMn12 -> 0.02564 YMnO3 + 2.641 Mn2O3,\n",
       " Y + 0.9231 Mn2O3 -> 0.9231 YMnO3 + 0.07692 YMn12,\n",
       " YMn2O5 + 0.5 Mn3O4 -> YMnO3 + 0.5 Mn5O8,\n",
       " O2 + 0.1026 YMn12 -> 0.1026 YMnO3 + 0.5641 Mn2O3,\n",
       " YMn2O5 + 0.25 Mn -> YMnO3 + 0.25 Mn5O8,\n",
       " Mn5O8 + 0.8 Y -> 0.8 YMnO3 + 1.4 Mn3O4,\n",
       " MnO2 + 0.01942 YMn12 -> 0.01942 YMnO3 + 0.2427 Mn5O8,\n",
       " Y2Mn2O7 + 3 MnO -> 2 YMnO3 + Mn3O4,\n",
       " Mn + 2 Y2Mn2O7 -> 4 YMnO3 + MnO2,\n",
       " Y2O3 + Mn3O4 -> 2 YMnO3 + MnO,\n",
       " Y2Mn2O7 + 0.05128 YMn12 -> 2.051 YMnO3 + 0.2821 Mn2O3,\n",
       " Y + 2 Mn2O3 -> YMnO3 + 3 MnO,\n",
       " Y + 2 Mn3O4 -> YMnO3 + 5 MnO,\n",
       " Y2Mn2O7 + 0.04854 YMn12 -> 2.049 YMnO3 + 0.1068 Mn5O8,\n",
       " MnO + 0.3889 Y -> 0.3333 YMnO3 + 0.05556 YMn12,\n",
       " YMn2O5 + 0.01942 YMn12 -> 1.019 YMnO3 + 0.2427 Mn5O8,\n",
       " YMn2O5 -> YMnO3 + MnO2,\n",
       " Y2Mn2O7 + 0.04 YMn12 -> 1.6 YMnO3 + 0.44 YMn2O5,\n",
       " Y2O3 + 0.6 Mn3O4 -> 1.8 YMnO3 + 0.2 Y,\n",
       " Y2Mn2O7 + 0.5 Mn3O4 -> 0.5 YMnO3 + 1.5 YMn2O5,\n",
       " Mn2O3 + Y2O3 -> 2 YMnO3,\n",
       " YMn12 + 53 Mn2O3 -> YMnO3 + 39 Mn3O4,\n",
       " Mn5O8 + 2.667 Y -> 2.667 YMnO3 + 2.333 Mn,\n",
       " MnO2 + 0.4 Y -> 0.4 YMnO3 + 0.2 Mn3O4,\n",
       " Y2Mn2O7 + 0.3333 YMn12 -> 2.333 YMnO3 + 3.667 Mn,\n",
       " Mn + Y2Mn2O7 -> 2 YMnO3 + MnO,\n",
       " Y2Mn2O7 + MnO -> YMnO3 + YMn2O5,\n",
       " O2 + 0.1429 YMn12 -> 0.1429 YMnO3 + 1.571 MnO,\n",
       " Y + 0.6792 Mn3O4 -> 0.9057 YMnO3 + 0.09434 YMn12,\n",
       " O2 + 0.08 YMn12 -> 0.08 YMnO3 + 0.88 MnO2,\n",
       " Y + 5 Mn2O3 -> YMnO3 + 3 Mn3O4,\n",
       " Mn + 2 Y2Mn2O7 -> 3 YMnO3 + YMn2O5,\n",
       " Mn + 1.6 Y2Mn2O7 -> 3.2 YMnO3 + 0.2 Mn5O8,\n",
       " MnO + 0.3333 Y2O3 -> 0.6667 YMnO3 + 0.3333 Mn,\n",
       " Mn5O8 + 2.5 Y2O3 -> 5 YMnO3 + 0.25 O2,\n",
       " Mn + 1.333 Y2Mn2O7 -> 2.667 YMnO3 + 0.3333 Mn3O4,\n",
       " YMn2O5 + 0.3333 Mn -> YMnO3 + 0.6667 Mn2O3,\n",
       " O2 + 0.09709 YMn12 -> 0.09709 YMnO3 + 0.2136 Mn5O8,\n",
       " Mn + 1.5 Y2Mn2O7 -> 3 YMnO3 + 0.5 Mn2O3,\n",
       " Mn5O8 + 0.3333 Y -> 0.3333 YMnO3 + 2.333 Mn2O3,\n",
       " MnO2 + 0.03774 YMn12 -> 0.03774 YMnO3 + 0.4717 Mn3O4,\n",
       " Mn5O8 + 0.07547 YMn12 -> 0.07547 YMnO3 + 1.943 Mn3O4,\n",
       " Y2O3 + 0.7358 Mn3O4 -> 1.981 YMnO3 + 0.01887 YMn12,\n",
       " Mn5O8 + 1.5 Y -> 1.5 YMnO3 + 3.5 MnO,\n",
       " YMn2O5 + 0.03774 YMn12 -> 1.038 YMnO3 + 0.4717 Mn3O4,\n",
       " MnO2 + 0.2857 Y -> 0.2857 YMnO3 + 0.1429 Mn5O8,\n",
       " Mn5O8 + 0.2143 YMn12 -> 0.2143 YMnO3 + 7.357 MnO]"
      ]
     },
     "execution_count": 48,
     "metadata": {},
     "output_type": "execute_result"
    }
   ],
   "source": [
    "ymno3_rxns"
   ]
  },
  {
   "cell_type": "markdown",
   "id": "27452d91",
   "metadata": {},
   "source": [
    "With `exclusive_targets=True`:"
   ]
  },
  {
   "cell_type": "code",
   "execution_count": 49,
   "id": "89dbc356",
   "metadata": {},
   "outputs": [
    {
     "name": "stderr",
     "output_type": "stream",
     "text": [
      "Mn-O-Y: 100%|██████████████████████████████████████████████████████████████████████████████████████████████████████████████████████████████████████| 1/1 [00:00<00:00, 12.84it/s]\n"
     ]
    }
   ],
   "source": [
    "be_target = BasicEnumerator(targets=[\"YMnO3\"], exclusive_targets=True)\n",
    "ymno3_rxns = be_target.enumerate(filtered_entries)"
   ]
  },
  {
   "cell_type": "code",
   "execution_count": 50,
   "id": "c6263834",
   "metadata": {},
   "outputs": [
    {
     "data": {
      "text/plain": [
       "[Mn2O3 + Y2O3 -> 2 YMnO3]"
      ]
     },
     "execution_count": 50,
     "metadata": {},
     "output_type": "execute_result"
    }
   ],
   "source": [
    "ymno3_rxns"
   ]
  },
  {
   "cell_type": "markdown",
   "id": "c2aa527e",
   "metadata": {},
   "source": [
    "And finally with multiple targets (e.g., YMnO3 and O2):"
   ]
  },
  {
   "cell_type": "code",
   "execution_count": 51,
   "id": "74d8cd84",
   "metadata": {},
   "outputs": [
    {
     "name": "stderr",
     "output_type": "stream",
     "text": [
      "Mn-O-Y: 100%|██████████████████████████████████████████████████████████████████████████████████████████████████████████████████████████████████████| 1/1 [00:00<00:00,  6.89it/s]\n"
     ]
    }
   ],
   "source": [
    "be_targets = BasicEnumerator(targets=[\"YMnO3\", \"O2\"], exclusive_targets=True)\n",
    "ymno3_rxns_o2 = be_targets.enumerate(filtered_entries)"
   ]
  },
  {
   "cell_type": "code",
   "execution_count": 52,
   "id": "7ac11b74",
   "metadata": {},
   "outputs": [
    {
     "data": {
      "text/plain": [
       "[0.5 Y2Mn2O7 -> YMnO3 + 0.25 O2,\n",
       " Mn5O8 + 2.5 Y2O3 -> 5 YMnO3 + 0.25 O2,\n",
       " Mn2O3 + Y2O3 -> 2 YMnO3,\n",
       " MnO2 + 0.5 Y2O3 -> YMnO3 + 0.25 O2,\n",
       " YMn2O5 + 0.5 Y2O3 -> 2 YMnO3 + 0.25 O2]"
      ]
     },
     "execution_count": 52,
     "metadata": {},
     "output_type": "execute_result"
    }
   ],
   "source": [
    "ymno3_rxns_o2"
   ]
  },
  {
   "cell_type": "markdown",
   "id": "6c399338",
   "metadata": {},
   "source": [
    "#### Open entries"
   ]
  },
  {
   "cell_type": "markdown",
   "id": "ded84ba9",
   "metadata": {},
   "source": [
    "In the previous cell, we showed that it was possible to specify YMnO3 as a target, along with O2. However, because O2 is a gas, it is often desirable to include it as an **open entry** in addition to the 1-2 possible precursors/targets. For example, we may want to specify a reaction that follows:\n",
    "\n",
    "$$ A + B ~ (+~O_2) \\rightarrow C + D ~ (+~O_2) $$\n",
    "\n",
    "To do this, we use the `BasicOpenEnumerator` class, which is an extension to the previous basic enumerator. All of the lessons learned above also apply to this class, although now a list of open entry formulas must be specified."
   ]
  },
  {
   "cell_type": "code",
   "execution_count": 53,
   "id": "ee20fdee",
   "metadata": {},
   "outputs": [
    {
     "name": "stderr",
     "output_type": "stream",
     "text": [
      "Mn-O-Y: 100%|██████████████████████████████████████████████████████████████████████████████████████████████████████████████████████████████████████| 1/1 [00:01<00:00,  1.41s/it]\n"
     ]
    }
   ],
   "source": [
    "be_target_open = BasicOpenEnumerator([\"O2\"],targets=[\"YMnO3\"])\n",
    "ymno3_rxns_open = be_target_open.enumerate(filtered_entries)"
   ]
  },
  {
   "cell_type": "code",
   "execution_count": 54,
   "id": "cf553b1d",
   "metadata": {},
   "outputs": [
    {
     "data": {
      "text/plain": [
       "[O2 + Y2O3 + 1.5 Mn3O4 -> 2 YMnO3 + 2.5 MnO2,\n",
       " YMn2O5 + 0.8571 O2 + Y -> 0.5714 YMnO3 + 0.7143 Y2Mn2O7,\n",
       " 5 MnO + YMn12 -> YMnO3 + 16 Mn + O2,\n",
       " 2 Y2Mn2O7 + 3 MnO2 -> YMnO3 + O2 + 3 YMn2O5,\n",
       " O2 + MnO + 0.07692 YMn12 -> 0.07692 YMnO3 + 0.9231 Mn2O3,\n",
       " 7.5 O2 + YMn12 + Y2O3 -> 3 YMnO3 + 9 MnO,\n",
       " 0.5758 YMn2O5 + 0.1818 O2 + 0.4242 Y -> YMnO3 + 0.0303 Mn5O8,\n",
       " 1.143 O2 + MnO + Y -> 0.4286 YMnO3 + 0.2857 Y2Mn2O7,\n",
       " O2 + 0.2857 Mn5O8 + 1.429 Y -> 1.429 YMnO3,\n",
       " 1.1 YMn2O5 -> YMnO3 + 1.25 O2 + 0.1 YMn12,\n",
       " O2 + Mn5O8 + 0.1282 YMn12 -> 0.1282 YMnO3 + 3.205 Mn2O3,\n",
       " O2 + MnO2 + 0.1509 YMn12 -> 0.1509 YMnO3 + 0.8868 Mn3O4,\n",
       " 0.5 Y2Mn2O7 + 0.2 Mn5O8 -> YMnO3 + Mn + 1.05 O2,\n",
       " YMn2O5 -> YMnO3 + 0.25 O2 + 0.5 Mn2O3,\n",
       " Mn + 1.667 Y2O3 -> YMnO3 + O2 + 2.333 Y,\n",
       " 0.6667 O2 + MnO2 + Y -> 0.3333 YMnO3 + 0.3333 Y2Mn2O7,\n",
       " 0.5 Y2Mn2O7 + 0.5 Mn2O3 -> YMnO3 + Mn + O2,\n",
       " 0.5 Y2Mn2O7 + 3 Mn5O8 -> YMnO3 + O2 + 7.5 Mn2O3,\n",
       " O2 + Y + 0.5 Mn3O4 -> YMnO3 + 0.5 MnO2,\n",
       " 0.5 Y2Mn2O7 + 0.6667 Mn3O4 -> YMnO3 + 0.08333 O2 + Mn2O3,\n",
       " YMn2O5 + MnO -> YMnO3 + 0.1667 O2 + 0.6667 Mn3O4,\n",
       " YMn2O5 + 3 Mn5O8 -> YMnO3 + O2 + 8 Mn2O3,\n",
       " 0.2824 O2 + Mn5O8 + 1.435 Y2O3 -> 0.7412 YMnO3 + 2.129 YMn2O5,\n",
       " YMn2O5 + Y2Mn2O7 -> 3 YMnO3 + O2 + MnO,\n",
       " 3.333 Y2Mn2O7 + 1.667 Mn3O4 -> 6.667 YMnO3 + O2 + Mn5O8,\n",
       " YMn2O5 -> YMnO3 + 0.2 O2 + 0.2 Mn5O8,\n",
       " O2 + 0.1026 YMn12 + 0.5641 Y2O3 -> 1.231 YMnO3,\n",
       " MnO2 + 0.5 Y2O3 -> YMnO3 + 0.25 O2,\n",
       " 0.2118 O2 + Mn2O3 + 0.5765 Y2O3 -> 0.3059 YMnO3 + 0.8471 YMn2O5,\n",
       " 0.5 Y2Mn2O7 + 0.5 Y2O3 -> YMnO3 + O2 + Y,\n",
       " 0.5 Y2Mn2O7 + MnO2 -> YMnO3 + Mn + 1.25 O2,\n",
       " YMn2O5 + 0.1429 O2 + 0.5 Y2O3 -> 0.4286 YMnO3 + 0.7857 Y2Mn2O7,\n",
       " 0.2 Mn5O8 + 1.133 Y2O3 -> YMnO3 + O2 + 1.267 Y,\n",
       " 0.5375 Y2Mn2O7 + 0.4125 Mn2O3 -> YMnO3 + O2 + 0.075 YMn12,\n",
       " O2 + 0.08738 YMn12 + Mn2O3 -> 0.08738 YMnO3 + 0.5922 Mn5O8,\n",
       " O2 + YMn12 + 12 Mn2O3 -> YMnO3 + 35 MnO,\n",
       " 8 Y2Mn2O7 + 3 Mn5O8 -> YMnO3 + O2 + 15 YMn2O5,\n",
       " O2 + Y + 0.3333 Mn3O4 -> 0.3333 YMnO3 + 0.3333 Y2Mn2O7,\n",
       " 0.5 Y2Mn2O7 + 3 MnO2 -> YMnO3 + O2 + 1.5 Mn2O3,\n",
       " O2 + Y2Mn2O7 + 6 MnO -> 2 YMnO3 + 3 Mn2O3,\n",
       " 5 Y2Mn2O7 + 2 Y -> 10 YMnO3 + O2 + Y2O3,\n",
       " O2 + Y2Mn2O7 + 0.2143 YMn12 -> 2.214 YMnO3 + 2.357 MnO,\n",
       " 3 Y2Mn2O7 + MnO -> 6 YMnO3 + MnO2 + O2,\n",
       " YMn2O5 + O2 + 2 Mn2O3 -> YMnO3 + 5 MnO2,\n",
       " 0.5625 YMn2O5 + 0.1875 O2 + 0.4375 Y -> YMnO3 + 0.0625 Mn2O3,\n",
       " YMn2O5 + O2 + 5 MnO -> YMnO3 + 3 Mn2O3,\n",
       " 1.194 Y + 1.667 Mn2O3 -> YMnO3 + O2 + 0.1944 YMn12,\n",
       " O2 + 2.083 Y + Mn3O4 -> 2 YMnO3 + 0.08333 YMn12,\n",
       " O2 + 6 Y2O3 + 4 Mn3O4 -> 12 YMnO3,\n",
       " 2 MnO2 + Y -> YMnO3 + Mn + 0.5 O2,\n",
       " 0.9048 O2 + Mn + 0.5 Y2O3 -> 0.381 YMnO3 + 0.3095 Y2Mn2O7,\n",
       " 3 Y2Mn2O7 + MnO -> 5 YMnO3 + O2 + YMn2O5,\n",
       " Y + 1.25 Mn3O4 -> YMnO3 + 2.75 Mn + O2,\n",
       " 2.5 MnO2 + 1.125 Y -> YMnO3 + O2 + 0.125 YMn12,\n",
       " 0.5517 Y2Mn2O7 + 1.138 MnO -> YMnO3 + O2 + 0.1034 YMn12,\n",
       " 0.4545 Y2Mn2O7 + 0.09091 YMn12 -> YMnO3 + Mn + 0.09091 O2,\n",
       " 2.667 Y2Mn2O7 + 0.3333 Mn3O4 -> 5.333 YMnO3 + MnO2 + O2,\n",
       " 1.706 MnO2 + 0.5294 Y2O3 -> YMnO3 + O2 + 0.05882 YMn12,\n",
       " O2 + 1.333 Mn + 0.6667 Y2O3 -> 1.333 YMnO3,\n",
       " 2 MnO2 + 0.5 Y2O3 -> YMnO3 + Mn + 1.25 O2,\n",
       " 0.8471 O2 + Mn + 0.3059 Y2O3 -> 0.2235 YMnO3 + 0.3882 YMn2O5,\n",
       " 0.5413 Y2Mn2O7 + 0.3028 Mn3O4 -> YMnO3 + O2 + 0.08257 YMn12,\n",
       " YMn2O5 + O2 + 0.1282 YMn12 -> 1.128 YMnO3 + 1.205 Mn2O3,\n",
       " O2 + 3 MnO + Y2O3 -> YMnO3 + YMn2O5,\n",
       " YMn2O5 + 0.2857 Y -> 1.286 YMnO3 + 0.7143 Mn + 0.5714 O2,\n",
       " 2.5 Y2Mn2O7 + 2.5 Mn2O3 -> 5 YMnO3 + O2 + Mn5O8,\n",
       " O2 + Y2O3 + 2.75 Mn3O4 -> 2 YMnO3 + 1.25 Mn5O8,\n",
       " Mn + Y2Mn2O7 + 0.5 O2 -> 2 YMnO3 + MnO2,\n",
       " Y2Mn2O7 + 0.3333 Mn3O4 -> YMnO3 + 0.1667 O2 + YMn2O5,\n",
       " O2 + 1.067 Mn + 0.1333 Y2O3 -> 0.2667 YMnO3 + 0.8 MnO2,\n",
       " YMn2O5 -> YMnO3 + 0.5 O2 + MnO,\n",
       " YMn2O5 -> YMnO3 + Mn + O2,\n",
       " YMn2O5 + Mn + 0.6 O2 -> YMnO3 + 0.4 Mn5O8,\n",
       " O2 + MnO + YMn12 -> YMnO3 + 12 Mn,\n",
       " YMn2O5 + O2 + 0.1165 YMn12 -> 1.117 YMnO3 + 0.4563 Mn5O8,\n",
       " O2 + Y2Mn2O7 + 9 MnO -> 2 YMnO3 + 3 Mn3O4,\n",
       " 0.4 Mn5O8 + 0.5 Y2O3 -> YMnO3 + Mn + 0.85 O2,\n",
       " 0.5 Y2Mn2O7 + 1.5 MnO2 -> YMnO3 + O2 + 1.5 MnO,\n",
       " O2 + 0.04 YMn12 + Mn2O3 -> 0.04 YMnO3 + 2.44 MnO2,\n",
       " 2.5 Y2Mn2O7 + 0.5 Mn2O3 -> 5 YMnO3 + MnO2 + O2,\n",
       " YMn2O5 + Mn2O3 -> YMnO3 + 0.1 O2 + 0.6 Mn5O8,\n",
       " O2 + 1.5 Y + Mn3O4 -> 1.5 YMnO3 + 1.5 MnO,\n",
       " 2.5 MnO2 + YMn12 -> YMnO3 + 13.5 Mn + O2,\n",
       " O2 + Y2O3 + 4 Mn3O4 -> 2 YMnO3 + 5 Mn2O3,\n",
       " 2.75 Mn5O8 + Y -> YMnO3 + O2 + 4.25 Mn3O4,\n",
       " 0.5397 O2 + Y2O3 + 0.6667 Mn3O4 -> 0.5079 YMnO3 + 0.746 Y2Mn2O7,\n",
       " YMn2O5 + 2 Y2Mn2O7 -> 5 YMnO3 + MnO2 + O2,\n",
       " O2 + 1.333 Y + 0.1111 Mn2O3 -> 0.2222 YMnO3 + 0.5556 Y2O3,\n",
       " O2 + Y2Mn2O7 + 0.1538 YMn12 -> 2.154 YMnO3 + 0.8462 Mn2O3,\n",
       " 5 Mn5O8 + 12 Y2O3 -> 23 YMnO3 + O2 + YMn2O5,\n",
       " 13.5 O2 + Mn5O8 + YMn12 -> YMnO3 + 16 MnO2,\n",
       " 0.5 YMn2O5 + 0.25 Y2O3 -> YMnO3 + 0.125 O2,\n",
       " YMn2O5 + O2 + 0.2143 YMn12 -> 1.214 YMnO3 + 3.357 MnO,\n",
       " O2 + Y2Mn2O7 + 0.1456 YMn12 -> 2.146 YMnO3 + 0.3204 Mn5O8,\n",
       " O2 + 1.5 Mn5O8 + Y2O3 -> 2 YMnO3 + 5.5 MnO2,\n",
       " 7 MnO2 + Y -> YMnO3 + O2 + 3 Mn2O3,\n",
       " O2 + 5 MnO + Y2O3 -> 2 YMnO3 + Mn3O4,\n",
       " YMn12 + 16 Mn3O4 -> YMnO3 + O2 + 59 MnO,\n",
       " 0.5 Mn2O3 + 1.167 Y2O3 -> YMnO3 + O2 + 1.333 Y,\n",
       " O2 + 1.467 Mn + 0.5333 Y2O3 -> 1.067 YMnO3 + 0.4 MnO,\n",
       " 4.75 MnO2 + 0.5 Y2O3 -> YMnO3 + O2 + 0.75 Mn5O8,\n",
       " 0.5 YMn2O5 + 0.8333 Y2O3 -> YMnO3 + O2 + 1.167 Y,\n",
       " O2 + 5.667 Mn + Y2O3 -> 1.667 YMnO3 + 0.3333 YMn12,\n",
       " YMn2O5 + O2 + 12 Mn2O3 -> YMnO3 + 5 Mn5O8,\n",
       " 1.5 O2 + 4 MnO + Y -> YMnO3 + Mn3O4,\n",
       " 5 YMn2O5 + 2 Y2O3 -> 9 YMnO3 + MnO2 + O2,\n",
       " 5 Y2Mn2O7 + 5 MnO -> 10 YMnO3 + O2 + Mn5O8,\n",
       " 0.625 Mn5O8 + 1.177 Y -> YMnO3 + O2 + 0.1771 YMn12,\n",
       " 4.714 Mn + 0.7143 Y2Mn2O7 -> YMnO3 + O2 + 0.4286 YMn12,\n",
       " 0.625 Mn5O8 + YMn12 -> YMnO3 + 14.13 Mn + O2,\n",
       " O2 + Y2Mn2O7 + 3.75 Mn3O4 -> 2 YMnO3 + 2.25 Mn5O8,\n",
       " 4 MnO2 + 0.5 Y2O3 -> YMnO3 + O2 + 1.5 Mn2O3,\n",
       " YMn2O5 + Mn3O4 -> YMnO3 + O2 + 4 MnO,\n",
       " MnO + 1.333 Y2O3 -> YMnO3 + O2 + 1.667 Y,\n",
       " YMn2O5 + O2 + 1.333 YMn12 -> 2.333 YMnO3 + 15.67 Mn,\n",
       " YMn12 + 59 Mn2O3 -> YMnO3 + O2 + 43 Mn3O4,\n",
       " 6.818 Y2Mn2O7 + 0.2727 YMn12 -> 13.91 YMnO3 + O2 + Mn3O4,\n",
       " O2 + Y2Mn2O7 + 0.1698 YMn12 -> 2.17 YMnO3 + 0.6226 Mn3O4,\n",
       " O2 + 1.667 Mn + Y2O3 -> 1.667 YMnO3 + 0.3333 Y,\n",
       " YMn2O5 + O2 + 0.08 YMn12 -> 1.08 YMnO3 + 1.88 MnO2,\n",
       " YMn2O5 + 0.5 O2 + Y -> 2 YMnO3,\n",
       " 4.273 Y2Mn2O7 + 0.09091 YMn12 -> 8.636 YMnO3 + MnO2 + O2,\n",
       " 0.9921 YMn2O5 + 0.007874 YMn12 -> YMnO3 + 0.1713 O2 + 0.5394 Mn2O3,\n",
       " O2 + YMn12 + 0.3333 Mn2O3 -> YMnO3 + 11.67 Mn,\n",
       " O2 + Y + Mn3O4 -> YMnO3 + Mn2O3,\n",
       " O2 + 1.111 Y + 0.8889 Mn2O3 -> 0.4444 YMnO3 + 0.6667 YMn2O5,\n",
       " 0.5 Y2Mn2O7 -> YMnO3 + 0.25 O2,\n",
       " O2 + 3.667 MnO + Y2O3 -> 2 YMnO3 + 0.3333 Mn5O8,\n",
       " YMn2O5 + 0.0177 MnO -> YMnO3 + 0.1947 O2 + 0.2035 Mn5O8,\n",
       " YMn2O5 + 0.08333 Y -> YMnO3 + O2 + 0.08333 YMn12,\n",
       " Y + 4 Mn3O4 -> YMnO3 + O2 + 11 MnO,\n",
       " YMn2O5 + O2 + Mn5O8 -> YMnO3 + 6 MnO2,\n",
       " 5 MnO + Y -> YMnO3 + 4 Mn + O2,\n",
       " 56.5 MnO2 + YMn12 -> YMnO3 + O2 + 13.5 Mn5O8,\n",
       " 9.75 O2 + YMn12 + Y2O3 -> 3 YMnO3 + 4.5 Mn2O3,\n",
       " 3 Y2Mn2O7 + 3 MnO -> 6 YMnO3 + O2 + Mn3O4,\n",
       " O2 + 2 MnO2 + 2 Y -> 2 YMnO3,\n",
       " 2 Mn + 5 Y2Mn2O7 -> 10 YMnO3 + O2 + Mn2O3,\n",
       " O2 + 0.09037 YMn12 + 0.2592 Y2O3 -> 0.1331 YMnO3 + 0.4757 YMn2O5,\n",
       " O2 + 0.3478 MnO + 1.217 Y -> 0.3478 YMnO3 + 0.4348 Y2O3,\n",
       " Y + 1.667 Mn2O3 -> YMnO3 + 2.333 Mn + O2,\n",
       " YMn2O5 + 0.07143 Mn -> YMnO3 + 0.2857 O2 + 0.3571 Mn3O4,\n",
       " 10.2 O2 + YMn12 + Y2O3 -> 3 YMnO3 + 1.8 Mn5O8,\n",
       " YMn12 + 16 Mn2O3 -> YMnO3 + O2 + 43 MnO,\n",
       " O2 + Mn5O8 + 0.1887 YMn12 -> 0.1887 YMnO3 + 2.358 Mn3O4,\n",
       " O2 + Y + 0.5 Mn3O4 -> 0.5 YMnO3 + 0.5 YMn2O5,\n",
       " YMn2O5 + 0.3333 Mn5O8 -> YMnO3 + O2 + 2.667 MnO,\n",
       " 5 Mn + 10 Y2Mn2O7 -> 20 YMnO3 + O2 + Mn5O8,\n",
       " 4.286 O2 + Mn5O8 + 5 Y -> 1.857 YMnO3 + 1.571 Y2Mn2O7,\n",
       " O2 + MnO2 + 0.1165 YMn12 -> 0.1165 YMnO3 + 0.4563 Mn5O8,\n",
       " O2 + YMn12 + 0.25 Mn3O4 -> YMnO3 + 11.75 Mn,\n",
       " YMn2O5 + O2 + 3 Mn3O4 -> YMnO3 + 2 Mn5O8,\n",
       " O2 + Y2Mn2O7 + 0.12 YMn12 -> 0.8 YMnO3 + 1.32 YMn2O5,\n",
       " 0.4286 O2 + MnO + 0.5 Y2O3 -> 0.2857 YMnO3 + 0.3571 Y2Mn2O7,\n",
       " 4 YMn2O5 + Y2O3 -> 6 YMnO3 + O2 + Mn2O3,\n",
       " O2 + Mn5O8 + 2.5 Y -> 2.5 YMnO3 + 2.5 MnO,\n",
       " O2 + 1.293 Y + 0.1207 Mn3O4 -> 0.3621 YMnO3 + 0.4655 Y2O3,\n",
       " O2 + 0.08066 YMn12 + 0.4437 Y2O3 -> 0.1139 YMnO3 + 0.4271 Y2Mn2O7,\n",
       " YMn2O5 + O2 + 2 MnO -> YMnO3 + 3 MnO2,\n",
       " O2 + YMn12 + 12 Mn3O4 -> YMnO3 + 47 MnO,\n",
       " Mn2O3 + 0.5 Y2O3 -> YMnO3 + Mn + 0.75 O2,\n",
       " 0.5 Y2Mn2O7 + 0.5 Mn5O8 -> YMnO3 + O2 + 2.5 MnO,\n",
       " Mn + 4 Y2Mn2O7 -> 7 YMnO3 + O2 + YMn2O5,\n",
       " O2 + MnO2 + 0.1282 YMn12 -> 0.1282 YMnO3 + 1.205 Mn2O3,\n",
       " 0.1765 YMn2O5 + 0.2059 Mn5O8 -> 0.1765 YMnO3 + 1.206 Mn + O2,\n",
       " 0.08333 YMn12 + 1.667 Y2O3 -> YMnO3 + O2 + 2.417 Y,\n",
       " 2 YMn2O5 + Y2Mn2O7 -> 4 YMnO3 + O2 + Mn2O3,\n",
       " O2 + MnO + 0.09434 YMn12 -> 0.09434 YMnO3 + 0.6792 Mn3O4,\n",
       " O2 + Y2Mn2O7 + 1.5 Mn3O4 -> 2 YMnO3 + 4.5 MnO2,\n",
       " YMn2O5 + O2 + 5 Mn3O4 -> YMnO3 + 8 Mn2O3,\n",
       " O2 + 0.07692 YMn12 + Mn3O4 -> 0.07692 YMnO3 + 1.923 Mn2O3,\n",
       " 0.9048 O2 + Y + 0.5 Mn2O3 -> 0.381 YMnO3 + 0.3095 Y2Mn2O7,\n",
       " YMn2O5 + Mn5O8 -> YMnO3 + O2 + 2 Mn3O4,\n",
       " YMn12 + 1.25 Mn3O4 -> YMnO3 + 14.75 Mn + O2,\n",
       " YMn2O5 + Mn + 0.3333 O2 -> YMnO3 + 0.6667 Mn3O4,\n",
       " O2 + Y + 3 Mn2O3 -> YMnO3 + Mn5O8,\n",
       " 0.52 YMn2O5 + 0.24 O2 + 0.48 Y -> YMnO3 + 0.04 MnO2,\n",
       " O2 + 1.467 Mn + 0.1333 Y2O3 -> 0.2667 YMnO3 + 0.4 Mn3O4,\n",
       " YMn2O5 + 4 Mn2O3 -> YMnO3 + O2 + 3 Mn3O4,\n",
       " 0.5 Y2Mn2O7 + 0.2 Mn5O8 -> YMnO3 + MnO2 + 0.05 O2,\n",
       " YMn2O5 + 0.3333 Mn3O4 -> YMnO3 + 0.1667 O2 + Mn2O3,\n",
       " O2 + 3 MnO + Y2O3 -> 2 YMnO3 + MnO2,\n",
       " O2 + Y + Mn2O3 -> YMnO3 + MnO2,\n",
       " 0.4203 Mn5O8 + 0.5459 Y2O3 -> YMnO3 + O2 + 0.09179 YMn12,\n",
       " 0.825 YMn2O5 + 0.125 Y2Mn2O7 -> YMnO3 + O2 + 0.075 YMn12,\n",
       " 2 MnO + 0.5 Y2O3 -> YMnO3 + Mn + 0.25 O2,\n",
       " 1.229 Y + 1.25 Mn3O4 -> YMnO3 + O2 + 0.2292 YMn12,\n",
       " 0.9667 YMn2O5 + 0.05556 Y2O3 -> YMnO3 + O2 + 0.07778 YMn12,\n",
       " 0.5619 Y2O3 + 0.8286 Mn3O4 -> YMnO3 + O2 + 0.1238 YMn12,\n",
       " 2 YMn2O5 + 3 Mn3O4 -> YMnO3 + 9.5 O2 + YMn12,\n",
       " YMn2O5 + 0.1333 Y2O3 -> 1.267 YMnO3 + 0.7333 Mn + 0.8 O2,\n",
       " YMn2O5 + O2 + 0.1509 YMn12 -> 1.151 YMnO3 + 0.8868 Mn3O4,\n",
       " 12 O2 + YMn12 + Y2O3 -> 3 YMnO3 + 9 MnO2,\n",
       " O2 + Mn5O8 + 2 Y -> 2 YMnO3 + Mn3O4,\n",
       " O2 + Mn5O8 + 1.667 Y -> 1.667 YMnO3 + 1.667 Mn2O3,\n",
       " 5.5 MnO2 + Y -> YMnO3 + O2 + 1.5 Mn3O4,\n",
       " O2 + Y2Mn2O7 + 0.12 YMn12 -> 2.12 YMnO3 + 1.32 MnO2,\n",
       " 7 Mn5O8 + Y -> YMnO3 + O2 + 17 Mn2O3,\n",
       " O2 + Mn5O8 + 0.3571 YMn12 -> 0.3571 YMnO3 + 8.929 MnO,\n",
       " O2 + 0.03521 Mn5O8 + 1.345 Y -> 0.1761 YMnO3 + 0.5845 Y2O3,\n",
       " 0.5355 Y2Mn2O7 + 0.1564 Mn5O8 -> YMnO3 + O2 + 0.07109 YMn12,\n",
       " 0.5 Y2Mn2O7 + 2.25 MnO2 -> YMnO3 + O2 + 0.75 Mn3O4,\n",
       " YMn2O5 + 0.00549 YMn12 -> 1.005 YMnO3 + 0.1435 O2 + 0.2121 Mn5O8,\n",
       " O2 + 1.694 Y + Mn2O3 -> 1.667 YMnO3 + 0.02778 YMn12,\n",
       " O2 + 4 MnO + Y2O3 -> 2 YMnO3 + Mn2O3,\n",
       " O2 + 1.143 MnO + 0.8571 Y -> 0.8571 YMnO3 + 0.2857 MnO2,\n",
       " Mn + Y2Mn2O7 + 0.5 O2 -> YMnO3 + YMn2O5,\n",
       " YMn2O5 + 3 MnO2 -> YMnO3 + O2 + 2 Mn2O3,\n",
       " 0.551 YMn2O5 + 0.1224 O2 + 0.449 Y -> YMnO3 + 0.102 Mn,\n",
       " 2.5 Mn2O3 + 0.5 Y2O3 -> YMnO3 + O2 + 4 MnO,\n",
       " 0.5455 YMn2O5 + 0.1818 O2 + 0.4545 Y -> YMnO3 + 0.09091 MnO,\n",
       " 0.5766 YMn2O5 + 0.1606 O2 + 0.4234 Y -> YMnO3 + 0.05109 Mn3O4,\n",
       " 0.5 Y2Mn2O7 + 3.75 MnO2 -> YMnO3 + O2 + 0.75 Mn5O8,\n",
       " O2 + MnO + 0.06796 YMn12 -> 0.06796 YMnO3 + 0.3495 Mn5O8,\n",
       " 6 YMn2O5 + 3 Y2O3 -> 10 YMnO3 + Y2Mn2O7 + O2,\n",
       " O2 + Mn5O8 + 3.333 YMn12 -> 3.333 YMnO3 + 41.67 Mn,\n",
       " O2 + MnO + 0.04 YMn12 -> 0.04 YMnO3 + 1.44 MnO2,\n",
       " O2 + MnO2 + 1.333 YMn12 -> 1.333 YMnO3 + 15.67 Mn,\n",
       " 4.273 Y2Mn2O7 + 0.09091 YMn12 -> 7.636 YMnO3 + O2 + YMn2O5,\n",
       " 0.5 Y2Mn2O7 + 1.5 Mn2O3 -> YMnO3 + O2 + 3 MnO,\n",
       " 0.2031 YMn2O5 + 0.3985 Y2Mn2O7 -> YMnO3 + 0.2398 O2 + 0.04062 Mn5O8,\n",
       " O2 + 1.333 Y + 0.6667 Mn2O3 -> 1.333 YMnO3,\n",
       " YMn2O5 + 0.07143 Mn -> YMnO3 + 0.1429 O2 + 0.2143 Mn5O8,\n",
       " O2 + 1.2 Y + 0.4 Mn3O4 -> 1.2 YMnO3,\n",
       " O2 + Y2Mn2O7 + 2 Y -> 2 YMnO3 + Y2O3,\n",
       " 8.5 MnO2 + Y -> YMnO3 + O2 + 1.5 Mn5O8,\n",
       " O2 + 3 Mn2O3 + Y2O3 -> 2 YMnO3 + 4 MnO2,\n",
       " Mn + Y2Mn2O7 + 0.1667 O2 -> 2 YMnO3 + 0.3333 Mn3O4,\n",
       " YMn2O5 + Mn + 0.5 O2 -> YMnO3 + Mn2O3,\n",
       " 2 YMn2O5 + 9 MnO -> YMnO3 + 8 O2 + YMn12,\n",
       " Mn + 3 Y2Mn2O7 -> 6 YMnO3 + O2 + MnO,\n",
       " 0.2667 O2 + MnO + 0.02222 Y -> 0.02222 YMnO3 + 0.4889 Mn2O3,\n",
       " O2 + Y2Mn2O7 + 5 MnO -> 2 YMnO3 + Mn5O8,\n",
       " Mn + Y2Mn2O7 + 0.3 O2 -> 2 YMnO3 + 0.2 Mn5O8,\n",
       " 0.3333 YMn2O5 + 0.6667 MnO2 -> 0.3333 YMnO3 + Mn + O2,\n",
       " 0.4 Mn5O8 + Y -> YMnO3 + Mn + 0.1 O2,\n",
       " 2.5 MnO2 + 0.5 Y2O3 -> YMnO3 + O2 + 1.5 MnO,\n",
       " 3 O2 + YMn12 + Y2O3 -> 3 YMnO3 + 9 Mn,\n",
       " Y + 11 Mn2O3 -> YMnO3 + O2 + 7 Mn3O4,\n",
       " 3 Mn + Y2Mn2O7 + O2 -> 2 YMnO3 + 3 MnO,\n",
       " YMn2O5 + MnO2 -> YMnO3 + O2 + 2 MnO,\n",
       " O2 + Y2Mn2O7 + 3 Mn2O3 -> 2 YMnO3 + 6 MnO2,\n",
       " 43 MnO2 + YMn12 -> YMnO3 + O2 + 27 Mn2O3,\n",
       " 0.2 Mn5O8 + 0.5 Y2O3 -> YMnO3 + 0.05 O2,\n",
       " O2 + 1.333 Mn + 0.1111 Y2O3 -> 0.2222 YMnO3 + 0.5556 Mn2O3,\n",
       " O2 + Y + 0.75 Mn3O4 -> YMnO3 + 0.25 Mn5O8,\n",
       " YMn2O5 + Mn2O3 -> YMnO3 + O2 + 3 MnO,\n",
       " 0.5 Y2O3 + 2.5 Mn3O4 -> YMnO3 + O2 + 6.5 MnO,\n",
       " 1.222 Y2O3 + 0.3333 Mn3O4 -> YMnO3 + O2 + 1.444 Y,\n",
       " 1.333 Mn5O8 + Y -> YMnO3 + O2 + 5.667 MnO,\n",
       " 0.02703 YMn2O5 + 0.4865 Mn2O3 -> 0.02703 YMnO3 + Mn + 0.7568 O2,\n",
       " 1.115 Mn2O3 + 0.5513 Y2O3 -> YMnO3 + O2 + 0.1026 YMn12,\n",
       " O2 + MnO2 + 1.667 Y -> YMnO3 + 0.3333 Y2O3,\n",
       " 3 YMn2O5 + Y2O3 -> 5 YMnO3 + O2 + MnO,\n",
       " 2.5 O2 + 6 MnO + Y -> YMnO3 + Mn5O8,\n",
       " 0.06954 O2 + Y2O3 + 0.707 Mn3O4 -> 1.989 YMnO3 + 0.011 YMn12,\n",
       " 2 YMn2O5 + 1.8 Mn5O8 -> YMnO3 + 10.7 O2 + YMn12,\n",
       " 0.5294 Y2Mn2O7 + 0.6471 MnO2 -> YMnO3 + O2 + 0.05882 YMn12,\n",
       " O2 + 1.2 MnO + 0.8 Y -> 0.4 YMnO3 + 0.4 YMn2O5,\n",
       " 5.333 Mn5O8 + YMn12 -> YMnO3 + O2 + 37.67 MnO,\n",
       " 3 Mn + 6 Y2Mn2O7 -> 12 YMnO3 + O2 + Mn3O4,\n",
       " O2 + Y2Mn2O7 + 6 Mn3O4 -> 2 YMnO3 + 9 Mn2O3,\n",
       " 29 Mn + 1.667 Y2O3 -> YMnO3 + O2 + 2.333 YMn12,\n",
       " 5.545 Y2Mn2O7 + 0.1818 YMn12 -> 11.27 YMnO3 + O2 + Mn2O3,\n",
       " YMn2O5 + Mn + O2 -> YMnO3 + 2 MnO2,\n",
       " O2 + YMn12 + 47 Mn2O3 -> YMnO3 + 35 Mn3O4,\n",
       " 0.7969 O2 + Mn + 0.03095 Y2O3 -> 0.0619 YMnO3 + 0.1876 Mn5O8,\n",
       " O2 + 0.05825 YMn12 + Mn3O4 -> 0.05825 YMnO3 + 0.7282 Mn5O8,\n",
       " O2 + 1.4 Y + Mn2O3 -> 1.4 YMnO3 + 0.2 Mn3O4,\n",
       " 4 Mn5O8 + 0.5 Y2O3 -> YMnO3 + O2 + 9.5 Mn2O3,\n",
       " 0.5 O2 + 2 MnO + Y -> YMnO3 + Mn,\n",
       " O2 + Y2Mn2O7 + 15 Mn2O3 -> 2 YMnO3 + 6 Mn5O8,\n",
       " YMn2O5 + 4 MnO2 -> YMnO3 + O2 + Mn5O8,\n",
       " YMn2O5 + O2 + 1.667 Y -> 2 YMnO3 + 0.3333 Y2O3,\n",
       " 9 O2 + YMn12 + Y2O3 -> 3 YMnO3 + 3 Mn3O4,\n",
       " O2 + MnO + Y -> YMnO3,\n",
       " O2 + MnO2 + 0.2143 YMn12 -> 0.2143 YMnO3 + 3.357 MnO,\n",
       " O2 + Y2Mn2O7 + YMn12 -> 3 YMnO3 + 11 Mn,\n",
       " O2 + Y2Mn2O7 + 1.5 Mn5O8 -> 2 YMnO3 + 7.5 MnO2,\n",
       " 3 Y2Mn2O7 + 2 MnO -> 6 YMnO3 + O2 + Mn2O3,\n",
       " O2 + 3 MnO2 + 2 Y -> YMnO3 + YMn2O5,\n",
       " 0.7143 O2 + Mn5O8 + 2.5 Y2O3 -> 1.143 YMnO3 + 1.929 Y2Mn2O7,\n",
       " O2 + 1.5 Y + Mn2O3 -> 1.5 YMnO3 + 0.5 MnO,\n",
       " YMn2O5 + O2 + Mn3O4 -> YMnO3 + 4 MnO2,\n",
       " 0.2308 YMn2O5 + 0.7692 MnO -> 0.2308 YMnO3 + Mn + 0.6154 O2,\n",
       " 7 MnO2 + 2 Y2O3 -> YMnO3 + O2 + 3 YMn2O5,\n",
       " Y2Mn2O7 + 0.5 Mn2O3 -> YMnO3 + 0.25 O2 + YMn2O5,\n",
       " MnO2 + Y2O3 -> YMnO3 + O2 + Y,\n",
       " YMn2O5 -> YMnO3 + 0.3333 O2 + 0.3333 Mn3O4,\n",
       " YMn2O5 + 3 Mn + O2 -> YMnO3 + 4 MnO,\n",
       " O2 + Mn5O8 + 3.333 Y -> 3.333 YMnO3 + 1.667 Mn,\n",
       " 29.5 MnO2 + YMn12 -> YMnO3 + O2 + 13.5 Mn3O4,\n",
       " 11.36 Y2Mn2O7 + 0.4545 YMn12 -> 23.18 YMnO3 + O2 + Mn5O8,\n",
       " O2 + 11 Mn2O3 + Y2O3 -> 2 YMnO3 + 4 Mn5O8,\n",
       " O2 + 4 MnO + 2 Y2O3 -> 4 YMnO3,\n",
       " 0.5 Y2Mn2O7 + 0.3333 Mn3O4 -> YMnO3 + Mn + 0.9167 O2,\n",
       " YMn2O5 + O2 + 4 MnO -> YMnO3 + Mn5O8,\n",
       " O2 + 2 Y + Mn3O4 -> 2 YMnO3 + Mn,\n",
       " Mn + 4 Y2Mn2O7 -> 8 YMnO3 + MnO2 + O2,\n",
       " 0.5 Y2Mn2O7 + 1.125 Mn5O8 -> YMnO3 + O2 + 1.875 Mn3O4,\n",
       " O2 + 0.5 Mn5O8 + Y -> YMnO3 + 1.5 MnO2,\n",
       " YMn12 + 1.667 Mn2O3 -> YMnO3 + 14.33 Mn + O2,\n",
       " 0.5679 YMn2O5 + 0.08014 O2 + 0.4434 Y -> YMnO3 + 0.01132 YMn12,\n",
       " O2 + Mn5O8 + 3.472 Y -> 3.333 YMnO3 + 0.1389 YMn12,\n",
       " 0.5 O2 + Y2O3 + Mn3O4 -> YMnO3 + YMn2O5,\n",
       " 6.5 Mn2O3 + 0.5 Y2O3 -> YMnO3 + O2 + 4 Mn3O4,\n",
       " 13.5 O2 + YMn12 + Mn3O4 -> YMnO3 + 14 MnO2,\n",
       " 4 MnO2 + Y -> YMnO3 + O2 + 3 MnO,\n",
       " 14.75 Mn5O8 + YMn12 -> YMnO3 + O2 + 28.25 Mn3O4,\n",
       " 3.222 MnO + 0.5926 Y2O3 -> YMnO3 + O2 + 0.1852 YMn12,\n",
       " O2 + 1.667 Y + Mn2O3 -> 1.667 YMnO3 + 0.3333 Mn,\n",
       " 0.1675 YMn2O5 + 0.4162 Y2Mn2O7 -> YMnO3 + 0.264 O2 + 0.05584 Mn3O4,\n",
       " 3.25 MnO2 + 0.5 Y2O3 -> YMnO3 + O2 + 0.75 Mn3O4,\n",
       " 3 MnO2 + 1.5 Y2O3 -> YMnO3 + Y2Mn2O7 + 0.25 O2,\n",
       " YMn2O5 + 0.125 Y -> 1.125 YMnO3 + 0.375 O2 + 0.875 MnO,\n",
       " 0.5 Y2Mn2O7 + 4.5 Mn2O3 -> YMnO3 + O2 + 3 Mn3O4,\n",
       " 1.625 Mn5O8 + 0.5 Y2O3 -> YMnO3 + O2 + 2.375 Mn3O4,\n",
       " 0.5 Y2Mn2O7 + 1.5 Mn3O4 -> YMnO3 + O2 + 4.5 MnO,\n",
       " 0.8333 Mn5O8 + 0.5 Y2O3 -> YMnO3 + O2 + 3.167 MnO,\n",
       " 0.5 Y2O3 + 0.6667 Mn3O4 -> YMnO3 + Mn + 0.5833 O2,\n",
       " O2 + 0.4 Mn5O8 + 1.2 Y -> 0.4 YMnO3 + 0.8 YMn2O5,\n",
       " 5 MnO + 1.333 Y -> YMnO3 + O2 + 0.3333 YMn12,\n",
       " 6 Mn5O8 + 15 Y2O3 -> 28 YMnO3 + Y2Mn2O7 + O2,\n",
       " 0.5 Y2Mn2O7 + MnO -> YMnO3 + Mn + 0.75 O2,\n",
       " YMn2O5 + O2 + 8 MnO -> YMnO3 + 3 Mn3O4,\n",
       " Y + 4 Mn2O3 -> YMnO3 + O2 + 7 MnO,\n",
       " 3.273 Y2Mn2O7 + 0.09091 YMn12 -> 6.636 YMnO3 + O2 + MnO,\n",
       " 2 YMn2O5 + 9 MnO2 -> YMnO3 + 12.5 O2 + YMn12,\n",
       " 2 YMn2O5 + 9 Mn -> YMnO3 + 3.5 O2 + YMn12,\n",
       " 43 Mn5O8 + YMn12 -> YMnO3 + O2 + 113 Mn2O3,\n",
       " 5 Mn5O8 + 12 Y2O3 -> 24 YMnO3 + MnO2 + O2,\n",
       " YMn2O5 + 2 MnO2 -> YMnO3 + O2 + Mn3O4,\n",
       " 16 MnO2 + YMn12 -> YMnO3 + O2 + 27 MnO,\n",
       " 2 YMn2O5 + 4.5 Mn2O3 -> YMnO3 + 10.25 O2 + YMn12,\n",
       " O2 + Y2Mn2O7 + 3 MnO -> 2 YMnO3 + 3 MnO2,\n",
       " 0.4 YMn2O5 + 0.3 Mn3O4 -> 0.4 YMnO3 + 1.3 Mn + O2,\n",
       " 0.9697 YMn2O5 + 0.03031 YMn12 -> YMnO3 + 0.05548 O2 + 0.4344 Mn3O4,\n",
       " Mn + Y2Mn2O7 + 0.25 O2 -> 2 YMnO3 + 0.5 Mn2O3,\n",
       " O2 + YMn12 + 11.33 Y2O3 -> 12 YMnO3 + 11.67 Y,\n",
       " 0.02222 YMn2O5 + 0.4889 Y2Mn2O7 -> YMnO3 + 0.02222 Mn + 0.2667 O2,\n",
       " 0.381 O2 + Mn2O3 + Y2O3 -> 0.4762 YMnO3 + 0.7619 Y2Mn2O7]"
      ]
     },
     "execution_count": 54,
     "metadata": {},
     "output_type": "execute_result"
    }
   ],
   "source": [
    "ymno3_rxns_open"
   ]
  },
  {
   "cell_type": "markdown",
   "id": "a012a55e",
   "metadata": {},
   "source": [
    "You will now see that the reactions from before are included in this new list, along with many other open-O2 reactions -- some which even have 3 reactants or 3 products. In other words, the open entry/entries do not count towards the specified $n$ of the reactions.\n",
    "\n",
    "It is even possible to specify multiple open entries, allowing for even more complex reactions (such as ones with 4+ reactants or products). For example, specifiyng Y2O3 and O2 as both being open:"
   ]
  },
  {
   "cell_type": "code",
   "execution_count": 55,
   "id": "364b7e48",
   "metadata": {},
   "outputs": [
    {
     "name": "stderr",
     "output_type": "stream",
     "text": [
      "Mn-O-Y: 100%|██████████████████████████████████████████████████████████████████████████████████████████████████████████████████████████████████████| 1/1 [00:03<00:00,  3.02s/it]\n"
     ]
    }
   ],
   "source": [
    "be_target_open2 = BasicOpenEnumerator([\"Y2O3\", \"O2\"],targets=[\"YMnO3\"])\n",
    "ymno3_rxns_open2 = be_target_open2.enumerate(filtered_entries)"
   ]
  },
  {
   "cell_type": "code",
   "execution_count": 57,
   "id": "cd48333b",
   "metadata": {},
   "outputs": [
    {
     "data": {
      "text/plain": [
       "[0.2 YMn2O5 + 1.1 Y2Mn2O7 -> YMnO3 + O2 + 1.6 MnO + 0.7 Y2O3,\n",
       " O2 + 13 Y2Mn2O7 + YMn12 + Y2O3 -> 29 YMnO3 + 9 MnO,\n",
       " YMn2O5 + 0.8571 O2 + Y -> 0.5714 YMnO3 + 0.7143 Y2Mn2O7,\n",
       " 5 MnO + YMn12 -> YMnO3 + 16 Mn + O2,\n",
       " 0.4544 YMn2O5 + 0.452 Y2Mn2O7 -> YMnO3 + O2 + 0.06773 YMn12 + 0.1453 Y2O3,\n",
       " 3.5 YMn2O5 + Mn + Y2O3 -> 5.5 YMnO3 + 0.5 Mn5O8,\n",
       " 2 Y2Mn2O7 + 3 MnO2 -> YMnO3 + O2 + 3 YMn2O5,\n",
       " O2 + MnO + 0.07692 YMn12 -> 0.07692 YMnO3 + 0.9231 Mn2O3,\n",
       " O2 + YMn12 + 13 Y2O3 + Mn3O4 -> 15 YMnO3 + 12 Y,\n",
       " 0.5758 YMn2O5 + 0.1818 O2 + 0.4242 Y -> YMnO3 + 0.0303 Mn5O8,\n",
       " 1.143 O2 + MnO + Y -> 0.4286 YMnO3 + 0.2857 Y2Mn2O7,\n",
       " O2 + 0.09709 YMn12 + Mn2O3 + Y2O3 -> 2.097 YMnO3 + 0.2136 Mn5O8,\n",
       " O2 + 0.2857 Mn5O8 + 1.429 Y -> 1.429 YMnO3,\n",
       " 1.1 YMn2O5 -> YMnO3 + 1.25 O2 + 0.1 YMn12,\n",
       " O2 + Mn5O8 + 0.1282 YMn12 -> 0.1282 YMnO3 + 3.205 Mn2O3,\n",
       " 27 MnO2 + YMn12 + Y2O3 -> 3 YMnO3 + 12 Mn3O4,\n",
       " 3 YMn2O5 + 5 Mn2O3 -> YMnO3 + 3 Mn5O8 + Y2O3,\n",
       " O2 + MnO2 + 0.1509 YMn12 -> 0.1509 YMnO3 + 0.8868 Mn3O4,\n",
       " 0.5 Y2Mn2O7 + 0.2 Mn5O8 -> YMnO3 + Mn + 1.05 O2,\n",
       " YMn2O5 -> YMnO3 + 0.25 O2 + 0.5 Mn2O3,\n",
       " 0.6667 O2 + MnO2 + Y -> 0.3333 YMnO3 + 0.3333 Y2Mn2O7,\n",
       " 3 MnO2 + YMn12 + Y2O3 -> 3 YMnO3 + 12 Mn,\n",
       " 0.5 Y2Mn2O7 + 0.5 Mn2O3 -> YMnO3 + Mn + O2,\n",
       " 0.7 YMn2O5 + 1.2 MnO2 -> 0.5 YMnO3 + O2 + 2.1 MnO + 0.1 Y2O3,\n",
       " 0.5 Y2Mn2O7 + 3 Mn5O8 -> YMnO3 + O2 + 7.5 Mn2O3,\n",
       " 0.5714 O2 + 3 MnO2 + Y + Y2O3 -> 0.7143 YMnO3 + 1.143 Y2Mn2O7,\n",
       " O2 + Y + 0.5 Mn3O4 -> YMnO3 + 0.5 MnO2,\n",
       " YMn2O5 + 0.6667 Y -> YMnO3 + MnO + 0.3333 Y2O3,\n",
       " O2 + Mn5O8 + 1.667 Y + Y2O3 -> 3.667 YMnO3 + 0.6667 Mn2O3,\n",
       " Y + Y2O3 + 1.415 Mn3O4 -> 2.887 YMnO3 + 0.1132 YMn12,\n",
       " 0.5 Y2Mn2O7 + 0.6667 Mn3O4 -> YMnO3 + 0.08333 O2 + Mn2O3,\n",
       " YMn2O5 + MnO -> YMnO3 + 0.1667 O2 + 0.6667 Mn3O4,\n",
       " YMn2O5 + Mn + O2 + Y2O3 -> YMnO3 + Y2Mn2O7,\n",
       " O2 + Mn5O8 + 2.389 Y + Y2O3 -> 4.333 YMnO3 + 0.05556 YMn12,\n",
       " YMn2O5 + MnO2 + 0.09524 O2 + Y2O3 -> 0.619 YMnO3 + 1.19 Y2Mn2O7,\n",
       " 4 YMn2O5 + 2.5 Mn2O3 -> YMnO3 + 10.75 O2 + YMn12 + Y2O3,\n",
       " YMn2O5 + Mn5O8 + 3 Y2O3 -> 5 YMnO3 + Y2Mn2O7,\n",
       " Mn5O8 + Y + Y2O3 -> 3 YMnO3 + 2 MnO,\n",
       " YMn2O5 + 3 Mn5O8 -> YMnO3 + O2 + 8 Mn2O3,\n",
       " YMn2O5 + Y2Mn2O7 -> 3 YMnO3 + O2 + MnO,\n",
       " Y2Mn2O7 + 1.667 Y -> YMnO3 + Mn + 1.333 Y2O3,\n",
       " 3.333 Y2Mn2O7 + 1.667 Mn3O4 -> 6.667 YMnO3 + O2 + Mn5O8,\n",
       " YMn2O5 + 2 Y2O3 + Mn3O4 -> 5 YMnO3,\n",
       " Mn5O8 + Y + 1.667 Y2O3 -> 4.333 YMnO3 + 0.6667 Mn,\n",
       " YMn2O5 + O2 + 13 Mn2O3 + Y2O3 -> 3 YMnO3 + 5 Mn5O8,\n",
       " YMn2O5 -> YMnO3 + 0.2 O2 + 0.2 Mn5O8,\n",
       " 5.357 MnO + Y + Y2O3 -> 2.786 YMnO3 + 0.2143 YMn12,\n",
       " 0.5 Y2Mn2O7 + MnO2 -> YMnO3 + Mn + 1.25 O2,\n",
       " YMn2O5 + 0.1429 O2 + 0.5 Y2O3 -> 0.4286 YMnO3 + 0.7857 Y2Mn2O7,\n",
       " O2 + 0.04498 YMn12 + Mn2O3 + 1.247 Y2O3 -> 0.2939 YMnO3 + 1.123 Y2Mn2O7,\n",
       " 3 Y + 2 Mn2O3 -> YMnO3 + 3 Mn + Y2O3,\n",
       " 0.25 Mn + 2.875 Y2Mn2O7 -> YMnO3 + O2 + Mn5O8 + 2.375 Y2O3,\n",
       " YMn2O5 + Y2O3 + 0.75 Mn3O4 -> 3 YMnO3 + 0.25 Mn5O8,\n",
       " 0.5375 Y2Mn2O7 + 0.4125 Mn2O3 -> YMnO3 + O2 + 0.075 YMn12,\n",
       " O2 + YMn12 + 13 Mn2O3 + Y2O3 -> 3 YMnO3 + 35 MnO,\n",
       " 5 YMn2O5 + O2 + 3 Y + Y2O3 -> 10 YMnO3,\n",
       " O2 + 0.08738 YMn12 + Mn2O3 -> 0.08738 YMnO3 + 0.5922 Mn5O8,\n",
       " O2 + YMn12 + 12 Mn2O3 -> YMnO3 + 35 MnO,\n",
       " 8 Y2Mn2O7 + 3 Mn5O8 -> YMnO3 + O2 + 15 YMn2O5,\n",
       " 7 Y2Mn2O7 + 3 Mn3O4 -> YMnO3 + 11 YMn2O5 + Y2O3,\n",
       " Y2Mn2O7 -> YMnO3 + Mn + 1.25 O2 + 0.5 Y2O3,\n",
       " 3 Y + 5 Mn2O3 -> YMnO3 + 9 MnO + Y2O3,\n",
       " O2 + Y + 0.3333 Mn3O4 -> 0.3333 YMnO3 + 0.3333 Y2Mn2O7,\n",
       " YMn2O5 + O2 + 0.12 YMn12 + Y2O3 -> 3.12 YMnO3 + 0.32 MnO2,\n",
       " 0.5 Y2Mn2O7 + 3 MnO2 -> YMnO3 + O2 + 1.5 Mn2O3,\n",
       " 2.6 Mn5O8 + 12.53 Y -> YMnO3 + O2 + YMn12 + 5.267 Y2O3,\n",
       " O2 + Y2Mn2O7 + 6 MnO -> 2 YMnO3 + 3 Mn2O3,\n",
       " 1.5 Y2Mn2O7 + 1.75 MnO2 -> YMnO3 + O2 + 0.75 Mn5O8 + Y2O3,\n",
       " Mn5O8 + 0.1429 YMn12 + Y2O3 -> 2.143 YMnO3 + 4.571 MnO,\n",
       " 5 Y2Mn2O7 + 2 Y -> 10 YMnO3 + O2 + Y2O3,\n",
       " O2 + Y2Mn2O7 + 0.2143 YMn12 -> 2.214 YMnO3 + 2.357 MnO,\n",
       " 3 Y2Mn2O7 + MnO -> 6 YMnO3 + MnO2 + O2,\n",
       " 1.3 YMn2O5 + 0.03333 YMn12 -> YMnO3 + Mn2O3 + 0.1667 Y2O3,\n",
       " YMn2O5 + O2 + 2 Mn2O3 -> YMnO3 + 5 MnO2,\n",
       " 10.5 O2 + MnO + YMn12 + Y2O3 -> 3 YMnO3 + 2 Mn5O8,\n",
       " YMn2O5 + Y2O3 + Mn3O4 -> 3 YMnO3 + Mn2O3,\n",
       " YMn2O5 + O2 + 5 MnO -> YMnO3 + 3 Mn2O3,\n",
       " 0.5625 YMn2O5 + 0.1875 O2 + 0.4375 Y -> YMnO3 + 0.0625 Mn2O3,\n",
       " YMn2O5 + 0.5238 O2 + Mn2O3 + 1.5 Y2O3 -> 0.9048 YMnO3 + 1.548 Y2Mn2O7,\n",
       " 1.194 Y + 1.667 Mn2O3 -> YMnO3 + O2 + 0.1944 YMn12,\n",
       " O2 + 2.083 Y + Mn3O4 -> 2 YMnO3 + 0.08333 YMn12,\n",
       " 0.25 O2 + Y2Mn2O7 + Y2O3 + 1.25 Mn3O4 -> 2.25 YMnO3 + 1.75 YMn2O5,\n",
       " YMn2O5 + Mn2O3 + Y2O3 -> 3 YMnO3 + MnO2,\n",
       " 2 MnO2 + Y -> YMnO3 + Mn + 0.5 O2,\n",
       " 3 YMn2O5 + 0.25 Mn -> YMnO3 + O2 + Y2O3 + 1.75 Mn3O4,\n",
       " O2 + 0.9722 Y + Y2O3 + 1.083 Mn3O4 -> 2.972 YMnO3 + 0.1389 Mn2O3,\n",
       " 3 Y2Mn2O7 + MnO -> 5 YMnO3 + O2 + YMn2O5,\n",
       " 0.525 Y2Mn2O7 + 0.175 Mn5O8 -> YMnO3 + 0.925 Mn + O2 + 0.025 Y2O3,\n",
       " Y2Mn2O7 + 2 MnO + Y2O3 -> 4 YMnO3,\n",
       " 3 YMn2O5 + 7 MnO -> YMnO3 + Y2O3 + 4 Mn3O4,\n",
       " 2.5 MnO2 + 1.125 Y -> YMnO3 + O2 + 0.125 YMn12,\n",
       " Y + 1.25 Mn3O4 -> YMnO3 + 2.75 Mn + O2,\n",
       " 0.5517 Y2Mn2O7 + 1.138 MnO -> YMnO3 + O2 + 0.1034 YMn12,\n",
       " 0.4545 Y2Mn2O7 + 0.09091 YMn12 -> YMnO3 + Mn + 0.09091 O2,\n",
       " 3 Y + 20 Mn2O3 -> YMnO3 + O2 + Y2O3 + 13 Mn3O4,\n",
       " 2.667 Y2Mn2O7 + 0.3333 Mn3O4 -> 5.333 YMnO3 + MnO2 + O2,\n",
       " 1.5 Y2Mn2O7 + 3 Mn3O4 -> YMnO3 + 5.5 Mn2O3 + Y2O3,\n",
       " O2 + Y2Mn2O7 + Y2O3 + 2 Mn3O4 -> 4 YMnO3 + 4 MnO2,\n",
       " 1.125 Y2Mn2O7 + 1.25 Mn3O4 -> YMnO3 + Mn5O8 + 0.625 Y2O3,\n",
       " 0.5454 YMn2O5 + 1.812 MnO + Y2O3 -> 2.513 YMnO3 + 0.03247 YMn12,\n",
       " 9 Mn5O8 + 3 Y -> YMnO3 + 22 Mn2O3 + Y2O3,\n",
       " 6 MnO2 + 1.667 Y -> YMnO3 + Mn5O8 + 0.3333 Y2O3,\n",
       " 0.8529 Y2Mn2O7 -> YMnO3 + O2 + 0.05882 YMn12 + 0.3235 Y2O3,\n",
       " 2.412 YMn2O5 + 0.4706 Mn2O3 -> YMnO3 + O2 + 0.7059 Y2O3 + 1.588 Mn3O4,\n",
       " 160 MnO2 + 3 YMn12 -> YMnO3 + O2 + 39 Mn5O8 + Y2O3,\n",
       " 2.75 Y2Mn2O7 + 0.5 MnO -> YMnO3 + O2 + Mn5O8 + 2.25 Y2O3,\n",
       " 2.6 Mn5O8 + 13.87 Y -> YMnO3 + YMn12 + 5.933 Y2O3,\n",
       " 3 Y2Mn2O7 + 1.667 Y -> YMnO3 + Mn5O8 + 3.333 Y2O3,\n",
       " 0.75 Mn + 0.625 Y2Mn2O7 -> YMnO3 + MnO + 0.125 Y2O3,\n",
       " 41 MnO2 + 3 YMn12 -> YMnO3 + 76 MnO + Y2O3,\n",
       " Y + 3 Mn2O3 + Y2O3 -> 3 YMnO3 + 3 MnO,\n",
       " YMn2O5 + O2 + 0.09091 YMn12 + Y2O3 -> 1.636 YMnO3 + 0.7273 Y2Mn2O7,\n",
       " O2 + Mn5O8 + Y + Y2O3 -> YMnO3 + 2 YMn2O5,\n",
       " 2 YMn2O5 + Mn + Y2O3 -> 4 YMnO3 + MnO,\n",
       " 0.5413 Y2Mn2O7 + 0.3028 Mn3O4 -> YMnO3 + O2 + 0.08257 YMn12,\n",
       " 1.5 Y2Mn2O7 + MnO2 -> YMnO3 + O2 + 1.5 Mn2O3 + Y2O3,\n",
       " YMn2O5 + O2 + 0.1282 YMn12 -> 1.128 YMnO3 + 1.205 Mn2O3,\n",
       " O2 + 1.75 Y + 0.25 Y2O3 + Mn3O4 -> 2.25 YMnO3 + 0.75 Mn,\n",
       " YMn2O5 + O2 + Y2O3 + 1.5 Mn3O4 -> 3 YMnO3 + 3.5 MnO2,\n",
       " YMn2O5 + O2 + 7 MnO + Y2O3 -> 3 YMnO3 + 2 Mn3O4,\n",
       " 117 MnO2 + 3 YMn12 -> YMnO3 + 76 Mn2O3 + Y2O3,\n",
       " 1.077 Y2Mn2O7 + 0.8462 Y -> YMnO3 + Y2O3 + 0.3846 Mn3O4,\n",
       " 2.6 YMn2O5 -> YMnO3 + O2 + 0.8 Y2O3 + 1.4 Mn3O4,\n",
       " O2 + Y2Mn2O7 + 6 MnO + Y2O3 -> 4 YMnO3 + 2 Mn2O3,\n",
       " YMn2O5 + 0.2857 Y -> 1.286 YMnO3 + 0.7143 Mn + 0.5714 O2,\n",
       " O2 + MnO2 + 0.09091 YMn12 + Y2O3 -> 0.6364 YMnO3 + 0.7273 Y2Mn2O7,\n",
       " O2 + 1.435 Y + 0.1304 Y2O3 + Mn3O4 -> 1.696 YMnO3 + 1.304 MnO,\n",
       " 2.5 Y2Mn2O7 + 2.5 Mn2O3 -> 5 YMnO3 + O2 + Mn5O8,\n",
       " O2 + Mn5O8 + 2.333 Y + Y2O3 -> 4.333 YMnO3 + 0.6667 Mn,\n",
       " Mn + Y2Mn2O7 + 0.5 O2 -> 2 YMnO3 + MnO2,\n",
       " O2 + MnO2 + YMn12 + 11.67 Y2O3 -> 13 YMnO3 + 11.33 Y,\n",
       " O2 + Y2Mn2O7 + 16 Mn2O3 + Y2O3 -> 4 YMnO3 + 6 Mn5O8,\n",
       " 6.5 YMn2O5 -> YMnO3 + 11.38 O2 + YMn12 + 2.25 Y2O3,\n",
       " Y2Mn2O7 + 0.3333 Mn3O4 -> YMnO3 + 0.1667 O2 + YMn2O5,\n",
       " 0.3596 YMn2O5 + 0.4045 MnO2 -> 0.04494 YMnO3 + 1.079 Mn + O2 + 0.1573 Y2O3,\n",
       " YMn2O5 + 1.857 MnO + 0.1429 Y2O3 -> 1.286 YMnO3 + 0.8571 Mn3O4,\n",
       " O2 + Mn5O8 + 0.1698 YMn12 + Y2O3 -> 2.17 YMnO3 + 1.623 Mn3O4,\n",
       " Y2Mn2O7 + Mn5O8 + Y2O3 -> YMnO3 + 3 YMn2O5,\n",
       " MnO2 + 0.6645 Y + 0.02766 Y2O3 -> 0.6943 YMnO3 + 0.02547 YMn12,\n",
       " O2 + Y2Mn2O7 + Y2O3 + 6 Mn3O4 -> 4 YMnO3 + 8 Mn2O3,\n",
       " 13 MnO2 + 17.33 Y -> YMnO3 + YMn12 + 7.667 Y2O3,\n",
       " 2.873 YMn2O5 + 0.1273 YMn12 -> YMnO3 + Y2O3 + 2.091 Mn3O4,\n",
       " YMn2O5 -> YMnO3 + 0.5 O2 + MnO,\n",
       " Y2Mn2O7 + 0.3333 Y -> YMnO3 + MnO2 + 0.6667 Y2O3,\n",
       " YMn2O5 -> YMnO3 + Mn + O2,\n",
       " O2 + MnO + 0.05777 YMn12 + 0.4443 Y2O3 -> 0.1996 YMnO3 + 0.7469 YMn2O5,\n",
       " YMn2O5 + Mn + 0.6 O2 -> YMnO3 + 0.4 Mn5O8,\n",
       " O2 + MnO + YMn12 -> YMnO3 + 12 Mn,\n",
       " 1.286 YMn2O5 + 0.4286 Mn -> YMnO3 + Mn2O3 + 0.1429 Y2O3,\n",
       " YMn12 + 13.67 Y2O3 + Mn3O4 -> 15 YMnO3 + 13.33 Y,\n",
       " YMn12 + Y2O3 + 1.5 Mn3O4 -> 3 YMnO3 + 13.5 Mn,\n",
       " O2 + Mn5O8 + Y + Y2O3 -> 3 YMnO3 + 2 MnO2,\n",
       " YMn2O5 + O2 + 0.1165 YMn12 -> 1.117 YMnO3 + 0.4563 Mn5O8,\n",
       " 3 YMn12 + 43 Mn2O3 -> YMnO3 + O2 + 121 MnO + Y2O3,\n",
       " 4 Y2Mn2O7 + Y -> 6 YMnO3 + O2 + YMn2O5 + Y2O3,\n",
       " 1.667 YMn2O5 -> YMnO3 + O2 + 2.333 MnO + 0.3333 Y2O3,\n",
       " O2 + Y2Mn2O7 + 9 MnO -> 2 YMnO3 + 3 Mn3O4,\n",
       " 2.857 YMn2O5 + 0.1429 Y -> YMnO3 + O2 + Y2O3 + 1.571 Mn3O4,\n",
       " O2 + 0.6604 Y + Y2O3 + 1.594 Mn3O4 -> 2.66 YMnO3 + 0.4245 Mn5O8,\n",
       " 6 MnO + YMn12 + Y2O3 -> 3 YMnO3 + 15 Mn,\n",
       " 0.5 Y2Mn2O7 + 1.5 MnO2 -> YMnO3 + O2 + 1.5 MnO,\n",
       " O2 + 0.04 YMn12 + Mn2O3 -> 0.04 YMnO3 + 2.44 MnO2,\n",
       " 3 YMn2O5 + Mn + Y2O3 -> 5 YMnO3 + Mn2O3,\n",
       " YMn2O5 + Mn2O3 -> YMnO3 + 0.1 O2 + 0.6 Mn5O8,\n",
       " 2.5 Y2Mn2O7 + 0.5 Mn2O3 -> 5 YMnO3 + MnO2 + O2,\n",
       " O2 + MnO2 + 0.1321 YMn12 + Y2O3 -> 2.132 YMnO3 + 0.1509 Mn3O4,\n",
       " O2 + 1.5 Y + Mn3O4 -> 1.5 YMnO3 + 1.5 MnO,\n",
       " 3 YMn2O5 + MnO -> YMnO3 + O2 + Y2O3 + 2 Mn3O4,\n",
       " 2.5 MnO2 + YMn12 -> YMnO3 + 13.5 Mn + O2,\n",
       " O2 + YMn12 + Mn2O3 + 12.33 Y2O3 -> 14 YMnO3 + 11.67 Y,\n",
       " 3 Y + 7 Mn3O4 -> YMnO3 + O2 + 20 MnO + Y2O3,\n",
       " 2.75 Mn5O8 + Y -> YMnO3 + O2 + 4.25 Mn3O4,\n",
       " O2 + Mn5O8 + Y + 2 Y2O3 -> 3 YMnO3 + Y2Mn2O7,\n",
       " Mn + 1.5 Y2Mn2O7 + 0.5 Y2O3 -> 4 YMnO3,\n",
       " YMn2O5 + 2 Y2Mn2O7 -> 5 YMnO3 + MnO2 + O2,\n",
       " O2 + MnO + 0.04266 YMn12 + 0.7346 Y2O3 -> 0.1754 YMnO3 + 0.6682 Y2Mn2O7,\n",
       " 14.33 Mn5O8 + 3 YMn12 -> YMnO3 + O2 + 106.7 MnO + Y2O3,\n",
       " 3 YMn12 + 164 Mn2O3 -> YMnO3 + O2 + Y2O3 + 121 Mn3O4,\n",
       " O2 + MnO + 0.07692 YMn12 + 0.9231 Y2O3 -> 1.923 YMnO3,\n",
       " O2 + Y2Mn2O7 + 0.1538 YMn12 -> 2.154 YMnO3 + 0.8462 Mn2O3,\n",
       " 2 YMn2O5 + Y -> YMnO3 + Y2O3 + Mn3O4,\n",
       " 1.6 YMn2O5 + 1.4 Y -> YMnO3 + 2.2 Mn + O2 + Y2O3,\n",
       " Mn5O8 + 3 Y -> YMnO3 + 4 Mn + O2 + Y2O3,\n",
       " 2.882 Y2Mn2O7 + 0.01961 YMn12 -> YMnO3 + O2 + Mn5O8 + 2.392 Y2O3,\n",
       " 13.5 O2 + Mn5O8 + YMn12 -> YMnO3 + 16 MnO2,\n",
       " 4 YMn2O5 + 1.667 Mn3O4 -> YMnO3 + 10.33 O2 + YMn12 + Y2O3,\n",
       " 0.25 Mn + 0.875 Y2Mn2O7 -> YMnO3 + MnO2 + 0.375 Y2O3,\n",
       " YMn2O5 + O2 + 0.2143 YMn12 -> 1.214 YMnO3 + 3.357 MnO,\n",
       " O2 + Y2Mn2O7 + 0.1456 YMn12 -> 2.146 YMnO3 + 0.3204 Mn5O8,\n",
       " 3 Y2Mn2O7 + 0.3333 Y -> YMnO3 + O2 + Mn5O8 + 2.667 Y2O3,\n",
       " 7 MnO2 + Y -> YMnO3 + O2 + 3 Mn2O3,\n",
       " YMn2O5 + O2 + YMn12 + 11.67 Y2O3 -> 14 YMnO3 + 11.33 Y,\n",
       " Y2Mn2O7 -> YMnO3 + MnO2 + 0.25 O2 + 0.5 Y2O3,\n",
       " 3 YMn12 + 43 Mn3O4 -> YMnO3 + O2 + 164 MnO + Y2O3,\n",
       " O2 + 0.08 YMn12 + Mn2O3 + Y2O3 -> 1.2 YMnO3 + 0.88 YMn2O5,\n",
       " Mn5O8 + 0.0566 YMn12 + Y2O3 -> 2.057 YMnO3 + 1.208 Mn3O4,\n",
       " 1.5 Y2Mn2O7 + 0.125 Mn5O8 -> YMnO3 + O2 + Y2O3 + 0.875 Mn3O4,\n",
       " YMn2O5 + O2 + Y2O3 + 5 Mn3O4 -> 3 YMnO3 + 7 Mn2O3,\n",
       " O2 + MnO + YMn12 + 12 Y2O3 -> 13 YMnO3 + 12 Y,\n",
       " 18 Y2Mn2O7 + YMn12 + Y2O3 -> 39 YMnO3 + 3 Mn3O4,\n",
       " YMn2O5 + O2 + 0.1262 YMn12 + Y2O3 -> 3.126 YMnO3 + 0.07767 Mn5O8,\n",
       " YMn12 + 16 Mn3O4 -> YMnO3 + O2 + 59 MnO,\n",
       " 4 MnO2 + 3 Y -> YMnO3 + 3 Mn + O2 + Y2O3,\n",
       " O2 + Y2Mn2O7 + 4 Mn2O3 + Y2O3 -> 4 YMnO3 + 6 MnO2,\n",
       " YMn2O5 + 0.3333 Mn + 0.6667 Y2O3 -> 2.333 YMnO3,\n",
       " YMn2O5 + O2 + 0.1429 YMn12 + Y2O3 -> 3.143 YMnO3 + 0.5714 MnO,\n",
       " 0.8571 Y2Mn2O7 + 1.286 YMn12 -> YMnO3 + 16.14 Mn + Y2O3,\n",
       " 4 YMn2O5 + Mn5O8 -> YMnO3 + 11 O2 + YMn12 + Y2O3,\n",
       " 10 MnO2 + 3 Y -> YMnO3 + O2 + Y2O3 + 3 Mn3O4,\n",
       " 51 YMn2O5 + YMn12 + Y2O3 -> 54 YMnO3 + 12 Mn5O8,\n",
       " YMn2O5 + O2 + 12 Mn2O3 -> YMnO3 + 5 Mn5O8,\n",
       " 0.8824 Y2Mn2O7 + 0.01961 YMn12 -> YMnO3 + MnO2 + 0.3922 Y2O3,\n",
       " 2.333 Mn5O8 + 3 Y -> YMnO3 + O2 + 10.67 MnO + Y2O3,\n",
       " 3 Y + 2.667 Mn2O3 -> YMnO3 + 4.333 Mn + O2 + Y2O3,\n",
       " 1.5 O2 + 4 MnO + Y -> YMnO3 + Mn3O4,\n",
       " 0.75 Y2Mn2O7 + 0.5 MnO2 -> YMnO3 + Mn + 1.25 O2 + 0.25 Y2O3,\n",
       " 5 Y2Mn2O7 + 5 MnO -> 10 YMnO3 + O2 + Mn5O8,\n",
       " 0.625 Mn5O8 + 1.177 Y -> YMnO3 + O2 + 0.1771 YMn12,\n",
       " YMn2O5 + 0.02564 YMn12 + 0.641 Y2O3 -> 2.308 YMnO3,\n",
       " O2 + MnO2 + 0.12 YMn12 + Y2O3 -> 1.8 YMnO3 + 0.32 YMn2O5,\n",
       " 4.714 Mn + 0.7143 Y2Mn2O7 -> YMnO3 + O2 + 0.4286 YMn12,\n",
       " 3 Y + 7 Mn2O3 -> YMnO3 + O2 + 13 MnO + Y2O3,\n",
       " 1.4 Y2Mn2O7 + 0.2 Y -> YMnO3 + O2 + 1.8 MnO + Y2O3,\n",
       " 0.625 Mn5O8 + YMn12 -> YMnO3 + 14.13 Mn + O2,\n",
       " 6 MnO + 3 Y -> YMnO3 + 5 Mn + Y2O3,\n",
       " O2 + Y2Mn2O7 + 3.75 Mn3O4 -> 2 YMnO3 + 2.25 Mn5O8,\n",
       " Mn + 0.01613 Y2Mn2O7 + 0.7419 O2 + 0.07258 Y2O3 -> 0.1774 YMnO3 + 0.4274 Mn2O3,\n",
       " 9 Mn + 2 Y2Mn2O7 -> YMnO3 + 4 O2 + YMn12 + Y2O3,\n",
       " 2.625 Y2Mn2O7 + 0.25 Mn3O4 -> YMnO3 + O2 + Mn5O8 + 2.125 Y2O3,\n",
       " YMn2O5 + Mn3O4 -> YMnO3 + O2 + 4 MnO,\n",
       " O2 + Mn5O8 + 1.667 Y + 1.667 Y2O3 -> 5 YMnO3,\n",
       " YMn2O5 + O2 + 1.333 YMn12 -> 2.333 YMnO3 + 15.67 Mn,\n",
       " YMn12 + 59 Mn2O3 -> YMnO3 + O2 + 43 Mn3O4,\n",
       " 6.818 Y2Mn2O7 + 0.2727 YMn12 -> 13.91 YMnO3 + O2 + Mn3O4,\n",
       " O2 + Y2Mn2O7 + 0.1698 YMn12 -> 2.17 YMnO3 + 0.6226 Mn3O4,\n",
       " 3 MnO2 + 3 YMn12 -> YMnO3 + 38 Mn + Y2O3,\n",
       " YMn2O5 + O2 + YMn12 + 0.3333 Y2O3 -> 2.667 YMnO3 + 11.33 Mn,\n",
       " 1.6 YMn2O5 + 1.4 YMn12 -> YMnO3 + 19 Mn + O2 + Y2O3,\n",
       " 1.25 Mn + 2.375 Y2Mn2O7 -> YMnO3 + Mn5O8 + 1.875 Y2O3,\n",
       " O2 + 16 Y2Mn2O7 + YMn12 + Y2O3 -> 35 YMnO3 + 3 Mn3O4,\n",
       " 20.4 Y2Mn2O7 + YMn12 + Y2O3 -> 43.8 YMnO3 + 1.8 Mn5O8,\n",
       " O2 + 1.583 Y + Mn2O3 + 0.08333 Y2O3 -> 1.75 YMnO3 + 0.25 Mn,\n",
       " YMn2O5 + O2 + 0.08 YMn12 -> 1.08 YMnO3 + 1.88 MnO2,\n",
       " YMn2O5 + 0.5 O2 + Y -> 2 YMnO3,\n",
       " 13.67 Mn5O8 + 3 YMn12 -> YMnO3 + 103.3 MnO + Y2O3,\n",
       " 79 MnO2 + 3 YMn12 -> YMnO3 + Y2O3 + 38 Mn3O4,\n",
       " 4.273 Y2Mn2O7 + 0.09091 YMn12 -> 8.636 YMnO3 + MnO2 + O2,\n",
       " 0.9921 YMn2O5 + 0.007874 YMn12 -> YMnO3 + 0.1713 O2 + 0.5394 Mn2O3,\n",
       " O2 + YMn12 + 0.3333 Mn2O3 -> YMnO3 + 11.67 Mn,\n",
       " 8 MnO + 3 Y -> YMnO3 + 7 Mn + O2 + Y2O3,\n",
       " O2 + Y + Mn3O4 -> YMnO3 + Mn2O3,\n",
       " O2 + 1.111 Y + 0.8889 Mn2O3 -> 0.4444 YMnO3 + 0.6667 YMn2O5,\n",
       " 0.5 Y2Mn2O7 -> YMnO3 + 0.25 O2,\n",
       " Y2Mn2O7 + 6 Mn2O3 + Y2O3 -> 4 YMnO3 + 2 Mn5O8,\n",
       " O2 + MnO2 + 0.1262 YMn12 + Y2O3 -> 2.126 YMnO3 + 0.07767 Mn5O8,\n",
       " YMn2O5 + 0.0177 MnO -> YMnO3 + 0.1947 O2 + 0.2035 Mn5O8,\n",
       " YMn2O5 + 0.08333 Y -> YMnO3 + O2 + 0.08333 YMn12,\n",
       " Y + 4 Mn3O4 -> YMnO3 + O2 + 11 MnO,\n",
       " YMn2O5 + O2 + Mn5O8 -> YMnO3 + 6 MnO2,\n",
       " 3 YMn2O5 + 0.6667 Y -> YMnO3 + Mn5O8 + 1.333 Y2O3,\n",
       " YMn2O5 + 0.005789 YMn12 -> 0.2551 YMnO3 + 0.1028 O2 + 0.3629 Mn5O8 + 0.3753 Y2O3,\n",
       " 5 MnO + Y -> YMnO3 + 4 Mn + O2,\n",
       " 56.5 MnO2 + YMn12 -> YMnO3 + O2 + 13.5 Mn5O8,\n",
       " 0.6757 YMn2O5 + 0.3243 Y2Mn2O7 -> YMnO3 + Mn + 1.081 O2 + 0.1622 Y2O3,\n",
       " O2 + Mn5O8 + 0.2857 YMn12 + Y2O3 -> 2.286 YMnO3 + 6.143 MnO,\n",
       " 2 Y2Mn2O7 + 1.8 Mn5O8 -> YMnO3 + 11.2 O2 + YMn12 + Y2O3,\n",
       " 2.375 Y2Mn2O7 -> YMnO3 + O2 + 0.75 Mn5O8 + 1.875 Y2O3,\n",
       " O2 + 4 MnO + Y + Y2O3 -> 3 YMnO3 + Mn,\n",
       " 3 Y2Mn2O7 + 3 MnO -> 6 YMnO3 + O2 + Mn3O4,\n",
       " 1.172 YMn2O5 + 0.6559 MnO -> YMnO3 + 0.129 O2 + Mn2O3 + 0.08602 Y2O3,\n",
       " O2 + 2 MnO2 + 2 Y -> 2 YMnO3,\n",
       " YMn2O5 + 0.5714 O2 + MnO + Y2O3 -> 0.7143 YMnO3 + 1.143 Y2Mn2O7,\n",
       " 2 Mn + 5 Y2Mn2O7 -> 10 YMnO3 + O2 + Mn2O3,\n",
       " 6 Y2Mn2O7 + YMn12 + Y2O3 -> 15 YMnO3 + 9 Mn,\n",
       " Y2Mn2O7 + Mn5O8 + Y2O3 -> 4 YMnO3 + 3 MnO2,\n",
       " 0.7143 YMn2O5 + 1.571 MnO + Y2O3 -> 2.714 YMnO3 + 0.2857 Mn,\n",
       " O2 + 1.993 Y + 0.08297 Y2O3 + Mn3O4 -> 2.083 YMnO3 + 0.07642 YMn12,\n",
       " 3 Y + 2 Mn3O4 -> YMnO3 + 5 Mn + O2 + Y2O3,\n",
       " YMn12 + Y2O3 + 15 Mn3O4 -> 3 YMnO3 + 54 MnO,\n",
       " 4 MnO2 + 3 YMn12 -> YMnO3 + 39 Mn + O2 + Y2O3,\n",
       " 9 MnO2 + 3 Y -> YMnO3 + 4 Mn2O3 + Y2O3,\n",
       " Y + 1.667 Mn2O3 -> YMnO3 + 2.333 Mn + O2,\n",
       " YMn2O5 + 0.07143 Mn -> YMnO3 + 0.2857 O2 + 0.3571 Mn3O4,\n",
       " O2 + Mn5O8 + YMn12 + 13.67 Y2O3 -> 17 YMnO3 + 11.33 Y,\n",
       " 1.036 Y2Mn2O7 + 0.9286 MnO -> YMnO3 + 0.2857 O2 + Mn2O3 + 0.5357 Y2O3,\n",
       " YMn12 + 16 Mn2O3 -> YMnO3 + O2 + 43 MnO,\n",
       " O2 + Mn5O8 + 0.1887 YMn12 -> 0.1887 YMnO3 + 2.358 Mn3O4,\n",
       " O2 + Y + 0.5 Mn3O4 -> 0.5 YMnO3 + 0.5 YMn2O5,\n",
       " 3 YMn2O5 + YMn12 + Y2O3 -> 6 YMnO3 + 12 Mn,\n",
       " YMn2O5 + 0.3333 Mn5O8 -> YMnO3 + O2 + 2.667 MnO,\n",
       " 5 Mn + 10 Y2Mn2O7 -> 20 YMnO3 + O2 + Mn5O8,\n",
       " 3 YMn2O5 + O2 + Y + Y2O3 -> 2 YMnO3 + 2 Y2Mn2O7,\n",
       " 1.25 Y2Mn2O7 -> YMnO3 + O2 + 1.5 MnO + 0.75 Y2O3,\n",
       " 0.75 Y2Mn2O7 + 1.5 MnO -> YMnO3 + Mn2O3 + 0.25 Y2O3,\n",
       " YMn2O5 + O2 + 4.333 MnO + Y2O3 -> 3 YMnO3 + 0.6667 Mn5O8,\n",
       " 3 YMn12 + 41 Mn3O4 -> YMnO3 + 158 MnO + Y2O3,\n",
       " 0.75 Y2Mn2O7 + 0.5 MnO -> YMnO3 + Mn + O2 + 0.25 Y2O3,\n",
       " 4.286 O2 + Mn5O8 + 5 Y -> 1.857 YMnO3 + 1.571 Y2Mn2O7,\n",
       " 13 Y + 6.5 Mn2O3 -> YMnO3 + YMn12 + 5.5 Y2O3,\n",
       " O2 + MnO2 + 0.1165 YMn12 -> 0.1165 YMnO3 + 0.4563 Mn5O8,\n",
       " 0.25 Mn + 1.875 Y2Mn2O7 -> YMnO3 + O2 + 1.375 Y2O3 + Mn3O4,\n",
       " 1.5 YMn2O5 + 0.5 Y -> YMnO3 + Mn2O3 + 0.5 Y2O3,\n",
       " O2 + YMn12 + 0.25 Mn3O4 -> YMnO3 + 11.75 Mn,\n",
       " O2 + Y2Mn2O7 + Y2O3 + 4 Mn3O4 -> 4 YMnO3 + 2 Mn5O8,\n",
       " YMn2O5 + O2 + 3 Mn3O4 -> YMnO3 + 2 Mn5O8,\n",
       " O2 + Y + 2 Mn2O3 + Y2O3 -> 3 YMnO3 + MnO2,\n",
       " Y2Mn2O7 + 0.05128 YMn12 + 0.2821 Y2O3 -> 2.615 YMnO3,\n",
       " O2 + Y2Mn2O7 + 0.12 YMn12 -> 0.8 YMnO3 + 1.32 YMn2O5,\n",
       " Y2Mn2O7 + 2 Mn2O3 + Y2O3 -> 4 YMnO3 + 2 MnO2,\n",
       " O2 + Mn5O8 + 0.1282 YMn12 + Y2O3 -> 2.128 YMnO3 + 2.205 Mn2O3,\n",
       " 1.375 Mn + 1.5 Y2Mn2O7 -> YMnO3 + Y2O3 + 1.125 Mn3O4,\n",
       " YMn2O5 + Y2O3 + 0.5 Mn3O4 -> 3 YMnO3 + 0.5 MnO2,\n",
       " MnO2 + 0.08 Y + 0.46 Y2O3 -> 0.24 YMnO3 + 0.38 Y2Mn2O7,\n",
       " 3 YMn2O5 -> YMnO3 + 5 Mn + 4.5 O2 + Y2O3,\n",
       " O2 + Mn5O8 + 2.5 Y -> 2.5 YMnO3 + 2.5 MnO,\n",
       " YMn2O5 + O2 + 2 MnO -> YMnO3 + 3 MnO2,\n",
       " 11.67 Y + 6.5 Mn2O3 -> YMnO3 + O2 + YMn12 + 4.833 Y2O3,\n",
       " 6.5 YMn2O5 + 15.17 Y -> YMnO3 + YMn12 + 9.833 Y2O3,\n",
       " O2 + MnO2 + 0.1282 YMn12 + 1.205 Y2O3 -> 2.538 YMnO3,\n",
       " 2 Y2Mn2O7 + 9 MnO2 -> YMnO3 + 13 O2 + YMn12 + Y2O3,\n",
       " MnO2 + 0.4783 Y + 0.04348 Y2O3 -> 0.5652 YMnO3 + 0.4348 MnO,\n",
       " O2 + YMn12 + 12 Mn3O4 -> YMnO3 + 47 MnO,\n",
       " 0.5 Y2Mn2O7 + 0.5 Mn5O8 -> YMnO3 + O2 + 2.5 MnO,\n",
       " Mn + 4 Y2Mn2O7 -> 7 YMnO3 + O2 + YMn2O5,\n",
       " 1.5 Y2Mn2O7 + 0.5 Mn2O3 -> YMnO3 + 3 MnO2 + Y2O3,\n",
       " O2 + MnO2 + 0.1282 YMn12 -> 0.1282 YMnO3 + 1.205 Mn2O3,\n",
       " 1.75 Y2Mn2O7 + 2.5 MnO -> YMnO3 + Mn5O8 + 1.25 Y2O3,\n",
       " 0.1765 YMn2O5 + 0.2059 Mn5O8 -> 0.1765 YMnO3 + 1.206 Mn + O2,\n",
       " YMn2O5 + 1.625 Mn + O2 + Y2O3 -> 3 YMnO3 + 0.125 Mn5O8,\n",
       " 3.5 Mn5O8 + 3 Y -> YMnO3 + Y2O3 + 5.5 Mn3O4,\n",
       " 4 YMn2O5 + 5 MnO2 -> YMnO3 + 12 O2 + YMn12 + Y2O3,\n",
       " 1.265 Y2Mn2O7 + 0.03922 YMn12 -> YMnO3 + YMn2O5 + 0.2843 Y2O3,\n",
       " 3 Y + 5 Mn3O4 -> YMnO3 + 14 MnO + Y2O3,\n",
       " Y + 6 Mn2O3 + Y2O3 -> 3 YMnO3 + 3 Mn3O4,\n",
       " YMn2O5 + YMn12 + 12.33 Y2O3 -> 14 YMnO3 + 12.67 Y,\n",
       " 2 YMn2O5 + Y2Mn2O7 -> 4 YMnO3 + O2 + Mn2O3,\n",
       " 2.982 YMn2O5 + 0.01818 YMn12 -> YMnO3 + O2 + Y2O3 + 1.727 Mn3O4,\n",
       " O2 + MnO + 0.09434 YMn12 -> 0.09434 YMnO3 + 0.6792 Mn3O4,\n",
       " 0.5 Mn + 1.5 Y2Mn2O7 -> YMnO3 + O2 + 2.5 MnO + Y2O3,\n",
       " O2 + Y2Mn2O7 + 1.5 Mn3O4 -> 2 YMnO3 + 4.5 MnO2,\n",
       " O2 + Mn5O8 + 0.04 YMn12 + Y2O3 -> 2.04 YMnO3 + 3.44 MnO2,\n",
       " YMn2O5 + O2 + 5 Mn3O4 -> YMnO3 + 8 Mn2O3,\n",
       " O2 + 0.07692 YMn12 + Mn3O4 -> 0.07692 YMnO3 + 1.923 Mn2O3,\n",
       " 3 YMn2O5 + MnO2 -> YMnO3 + O2 + 3 Mn2O3 + Y2O3,\n",
       " 0.9048 O2 + Y + 0.5 Mn2O3 -> 0.381 YMnO3 + 0.3095 Y2Mn2O7,\n",
       " YMn2O5 + Mn5O8 -> YMnO3 + O2 + 2 Mn3O4,\n",
       " O2 + Y2Mn2O7 + 2 Mn5O8 + Y2O3 -> 4 YMnO3 + 8 MnO2,\n",
       " O2 + 5 MnO2 + 3 Y + Y2O3 -> 5 YMnO3,\n",
       " MnO + YMn12 + 12.67 Y2O3 -> 13 YMnO3 + 13.33 Y,\n",
       " YMn12 + 1.25 Mn3O4 -> YMnO3 + 14.75 Mn + O2,\n",
       " YMn2O5 + Mn + 0.3333 O2 -> YMnO3 + 0.6667 Mn3O4,\n",
       " YMn2O5 + 0.3333 Y + 0.3333 Y2O3 -> 2 YMnO3,\n",
       " O2 + Y + 3 Mn2O3 -> YMnO3 + Mn5O8,\n",
       " 0.52 YMn2O5 + 0.24 O2 + 0.48 Y -> YMnO3 + 0.04 MnO2,\n",
       " YMn2O5 + 4 Mn2O3 -> YMnO3 + O2 + 3 Mn3O4,\n",
       " 3 YMn2O5 + 2 Mn -> YMnO3 + O2 + 7 MnO + Y2O3,\n",
       " YMn2O5 + 2 Mn + O2 + Y2O3 -> 3 YMnO3 + MnO,\n",
       " 0.5 Y2Mn2O7 + 0.2 Mn5O8 -> YMnO3 + MnO2 + 0.05 O2,\n",
       " YMn2O5 + 1.667 Mn + O2 + Y2O3 -> 3 YMnO3 + 0.3333 Mn2O3,\n",
       " YMn2O5 + 0.3333 Mn3O4 -> YMnO3 + 0.1667 O2 + Mn2O3,\n",
       " 13 Mn5O8 + 3 Y -> YMnO3 + O2 + 32 Mn2O3 + Y2O3,\n",
       " MnO2 + 0.01259 YMn12 + 0.3147 Y2O3 -> 0.133 YMnO3 + 0.509 YMn2O5,\n",
       " O2 + Y + Mn2O3 -> YMnO3 + MnO2,\n",
       " 0.825 YMn2O5 + 0.125 Y2Mn2O7 -> YMnO3 + O2 + 0.075 YMn12,\n",
       " 3 YMn12 + 158 Mn2O3 -> YMnO3 + Y2O3 + 117 Mn3O4,\n",
       " 1.229 Y + 1.25 Mn3O4 -> YMnO3 + O2 + 0.2292 YMn12,\n",
       " 1.5 Y2Mn2O7 + Mn5O8 -> YMnO3 + O2 + 3.5 Mn2O3 + Y2O3,\n",
       " 39 MnO2 + YMn12 + Y2O3 -> 3 YMnO3 + 24 Mn2O3,\n",
       " O2 + Y2Mn2O7 + YMn12 + 11 Y2O3 -> 14 YMnO3 + 11 Y,\n",
       " O2 + Mn5O8 + 0.1282 YMn12 + 3.205 Y2O3 -> 6.538 YMnO3,\n",
       " 2 YMn2O5 + 3 Mn3O4 -> YMnO3 + 9.5 O2 + YMn12,\n",
       " MnO2 + 0.3333 Y + 0.3333 Y2O3 -> YMnO3,\n",
       " 3 Y2Mn2O7 + MnO2 -> YMnO3 + O2 + 3 YMn2O5 + Y2O3,\n",
       " YMn2O5 + O2 + 0.1321 YMn12 + Y2O3 -> 3.132 YMnO3 + 0.1509 Mn3O4,\n",
       " Mn5O8 + 0.3333 Y + 2.333 Y2O3 -> 5 YMnO3,\n",
       " 6.333 YMn2O5 -> YMnO3 + O2 + 2.333 Mn5O8 + 2.667 Y2O3,\n",
       " O2 + 0.06796 YMn12 + Y2O3 + Mn3O4 -> 2.068 YMnO3 + 0.3495 Mn5O8,\n",
       " YMn2O5 + 0.5 Y2O3 -> YMnO3 + 0.5 Y2Mn2O7,\n",
       " YMn2O5 + O2 + 0.1509 YMn12 -> 1.151 YMnO3 + 0.8868 Mn3O4,\n",
       " 8 MnO + 3 YMn12 -> YMnO3 + 43 Mn + O2 + Y2O3,\n",
       " 6.5 Y2Mn2O7 + 17.33 Y -> YMnO3 + YMn12 + 14.17 Y2O3,\n",
       " YMn2O5 + O2 + 1.5 Mn5O8 + Y2O3 -> 3 YMnO3 + 6.5 MnO2,\n",
       " O2 + 18.4 Y2Mn2O7 + YMn12 + Y2O3 -> 39.8 YMnO3 + 1.8 Mn5O8,\n",
       " 0.6974 Y2Mn2O7 + 0.2368 Mn2O3 -> YMnO3 + 0.8684 Mn + O2 + 0.1974 Y2O3,\n",
       " YMn12 + 54 Mn2O3 + Y2O3 -> 3 YMnO3 + 39 Mn3O4,\n",
       " 10 O2 + MnO + YMn12 + Y2O3 -> 3 YMnO3 + 5 Mn2O3,\n",
       " YMn2O5 + O2 + 3 MnO + Y2O3 -> 3 YMnO3 + 2 MnO2,\n",
       " O2 + Mn5O8 + 2 Y -> 2 YMnO3 + Mn3O4,\n",
       " 51 MnO2 + YMn12 + Y2O3 -> 3 YMnO3 + 12 Mn5O8,\n",
       " 121 MnO2 + 3 YMn12 -> YMnO3 + O2 + 78 Mn2O3 + Y2O3,\n",
       " Mn5O8 + YMn12 + 14.33 Y2O3 -> 17 YMnO3 + 12.67 Y,\n",
       " 1.5 YMn2O5 + 0.08621 Y -> YMnO3 + 0.3103 O2 + Mn2O3 + 0.2931 Y2O3,\n",
       " O2 + Mn5O8 + 1.667 Y -> 1.667 YMnO3 + 1.667 Mn2O3,\n",
       " O2 + 4 MnO + YMn12 + Y2O3 -> 3 YMnO3 + 13 Mn,\n",
       " YMn2O5 + Mn + 0.5 O2 + Y2O3 -> 3 YMnO3,\n",
       " 2 Y2Mn2O7 + 0.3333 Y -> YMnO3 + O2 + 1.667 Y2O3 + Mn3O4,\n",
       " 13 MnO + 7.333 Y -> YMnO3 + O2 + YMn12 + 2.667 Y2O3,\n",
       " YMn2O5 + Mn + 0.7179 Y2O3 -> 2.385 YMnO3 + 0.05128 YMn12,\n",
       " O2 + Y + 4 Mn2O3 + Y2O3 -> 3 YMnO3 + Mn5O8,\n",
       " 5.5 MnO2 + Y -> YMnO3 + O2 + 1.5 Mn3O4,\n",
       " 0.5 Mn + 1.25 Y2Mn2O7 -> YMnO3 + YMn2O5 + 0.25 Y2O3,\n",
       " O2 + 2.5 MnO + 0.5 Y + Y2O3 -> 2.5 YMnO3,\n",
       " O2 + Y2Mn2O7 + 0.12 YMn12 -> 2.12 YMnO3 + 1.32 MnO2,\n",
       " YMn2O5 + 1.75 Mn + O2 + Y2O3 -> 3 YMnO3 + 0.25 Mn3O4,\n",
       " O2 + 0.07692 YMn12 + Y2O3 + Mn3O4 -> 2.077 YMnO3 + 0.9231 Mn2O3,\n",
       " 2.25 Mn + Y2Mn2O7 + 1.25 O2 + Y2O3 -> 3.75 YMnO3 + 0.25 YMn2O5,\n",
       " 7 Mn5O8 + Y -> YMnO3 + O2 + 17 Mn2O3,\n",
       " O2 + Mn5O8 + 0.3571 YMn12 -> 0.3571 YMnO3 + 8.929 MnO,\n",
       " 43 MnO2 + 3 YMn12 -> YMnO3 + O2 + 78 MnO + Y2O3,\n",
       " 5 MnO2 + 3 Y -> YMnO3 + 4 MnO + Y2O3,\n",
       " 0.5355 Y2Mn2O7 + 0.1564 Mn5O8 -> YMnO3 + O2 + 0.07109 YMn12,\n",
       " 0.5 Y2Mn2O7 + 2.25 MnO2 -> YMnO3 + O2 + 0.75 Mn3O4,\n",
       " O2 + Y + Mn2O3 + 0.5 Y2O3 -> YMnO3 + 0.5 Y2Mn2O7,\n",
       " YMn2O5 + 0.00549 YMn12 -> 1.005 YMnO3 + 0.1435 O2 + 0.2121 Mn5O8,\n",
       " Mn + Y2Mn2O7 + 0.6667 Y2O3 -> 3 YMnO3 + 0.3333 Y,\n",
       " 1.211 YMn2O5 + 0.8684 Mn5O8 -> YMnO3 + O2 + 0.1053 Y2O3 + 1.921 Mn3O4,\n",
       " O2 + 1.694 Y + Mn2O3 -> 1.667 YMnO3 + 0.02778 YMn12,\n",
       " 15 Y2Mn2O7 + YMn12 + Y2O3 -> 33 YMnO3 + 9 MnO,\n",
       " YMn2O5 + O2 + 0.1282 YMn12 + Y2O3 -> 3.128 YMnO3 + 0.2051 Mn2O3,\n",
       " Mn + Y2Mn2O7 + 0.359 Y2O3 -> 2.692 YMnO3 + 0.02564 YMn12,\n",
       " O2 + Y2Mn2O7 + 4 MnO + Y2O3 -> 2 YMnO3 + 2 YMn2O5,\n",
       " O2 + Y2Mn2O7 + 4 MnO + Y2O3 -> 4 YMnO3 + 2 MnO2,\n",
       " O2 + 1.143 MnO + 0.8571 Y -> 0.8571 YMnO3 + 0.2857 MnO2,\n",
       " Mn + Y2Mn2O7 + 0.5 O2 -> YMnO3 + YMn2O5,\n",
       " 1.75 YMn2O5 + 0.25 MnO + Y2O3 -> 2.25 YMnO3 + 0.75 Y2Mn2O7,\n",
       " YMn2O5 + O2 + 2 Y2O3 + Mn3O4 -> YMnO3 + 2 Y2Mn2O7,\n",
       " YMn2O5 + 3 MnO2 -> YMnO3 + O2 + 2 Mn2O3,\n",
       " 0.551 YMn2O5 + 0.1224 O2 + 0.449 Y -> YMnO3 + 0.102 Mn,\n",
       " 1.483 Y2Mn2O7 + 0.03448 YMn12 -> YMnO3 + O2 + 2.379 MnO + Y2O3,\n",
       " 0.5455 YMn2O5 + 0.1818 O2 + 0.4545 Y -> YMnO3 + 0.09091 MnO,\n",
       " 1.147 Y2Mn2O7 + 0.05882 YMn12 -> YMnO3 + Mn2O3 + 0.6765 Y2O3,\n",
       " YMn2O5 + 1.5 Mn + O2 + Y2O3 -> 3 YMnO3 + 0.5 MnO2,\n",
       " 0.5766 YMn2O5 + 0.1606 O2 + 0.4234 Y -> YMnO3 + 0.05109 Mn3O4,\n",
       " O2 + Mn5O8 + 0.01162 YMn12 + 2.564 Y2O3 -> 0.5925 YMnO3 + 2.273 Y2Mn2O7,\n",
       " 0.5 Y2Mn2O7 + 3.75 MnO2 -> YMnO3 + O2 + 0.75 Mn5O8,\n",
       " O2 + MnO + 0.06796 YMn12 -> 0.06796 YMnO3 + 0.3495 Mn5O8,\n",
       " 0.1429 YMn2O5 + Y2O3 + 0.8571 Mn3O4 -> 2.143 YMnO3 + 0.7143 MnO,\n",
       " 3.5 Y2Mn2O7 -> YMnO3 + O2 + 3 YMn2O5 + 1.5 Y2O3,\n",
       " O2 + 4 Y2Mn2O7 + YMn12 + Y2O3 -> 11 YMnO3 + 9 Mn,\n",
       " O2 + 0.09434 YMn12 + Y2O3 + 0.3208 Mn3O4 -> 2.094 YMnO3,\n",
       " O2 + 17.5 Y2Mn2O7 + YMn12 + Y2O3 -> 38 YMnO3 + 4.5 Mn2O3,\n",
       " O2 + Mn5O8 + 3.333 YMn12 -> 3.333 YMnO3 + 41.67 Mn,\n",
       " O2 + MnO + 0.04 YMn12 -> 0.04 YMnO3 + 1.44 MnO2,\n",
       " YMn12 + Mn2O3 + 13 Y2O3 -> 14 YMnO3 + 13 Y,\n",
       " O2 + MnO2 + 1.333 YMn12 -> 1.333 YMnO3 + 15.67 Mn,\n",
       " YMn12 + 15 Mn2O3 + Y2O3 -> 3 YMnO3 + 39 MnO,\n",
       " 4.273 Y2Mn2O7 + 0.09091 YMn12 -> 7.636 YMnO3 + O2 + YMn2O5,\n",
       " 2 Y2Mn2O7 + 4.5 Mn2O3 -> YMnO3 + 10.75 O2 + YMn12 + Y2O3,\n",
       " 0.5 Y2Mn2O7 + 0.3333 Y -> YMnO3 + 0.1667 Y2O3,\n",
       " 3 YMn2O5 + 2.5 MnO2 -> YMnO3 + O2 + 1.5 Mn5O8 + Y2O3,\n",
       " 0.5 Y2Mn2O7 + 1.5 Mn2O3 -> YMnO3 + O2 + 3 MnO,\n",
       " 0.2031 YMn2O5 + 0.3985 Y2Mn2O7 -> YMnO3 + 0.2398 O2 + 0.04062 Mn5O8,\n",
       " 2.733 YMn2O5 + 0.2667 YMn12 -> YMnO3 + 7.667 MnO + Y2O3,\n",
       " 0.75 Y2Mn2O7 + 0.5 MnO -> YMnO3 + MnO2 + 0.25 Y2O3,\n",
       " O2 + Y + 2 Mn2O3 + Y2O3 -> 2 YMnO3 + YMn2O5,\n",
       " Mn5O8 + 3 YMn12 -> YMnO3 + 40 Mn + O2 + Y2O3,\n",
       " 41 Mn5O8 + 3 YMn12 -> YMnO3 + O2 + Y2O3 + 80 Mn3O4,\n",
       " YMn12 + 2 Mn2O3 + Y2O3 -> 3 YMnO3 + 13 Mn,\n",
       " 1.432 YMn2O5 + 1.568 Mn2O3 -> YMnO3 + 0.1081 O2 + Mn5O8 + 0.2162 Y2O3,\n",
       " 4 YMn2O5 + 5 MnO -> YMnO3 + 9.5 O2 + YMn12 + Y2O3,\n",
       " O2 + MnO2 + 0.1282 YMn12 + Y2O3 -> 2.128 YMnO3 + 0.2051 Mn2O3,\n",
       " YMn2O5 + Mn2O3 + 1.5 Y2O3 -> 3 YMnO3 + 0.5 Y2Mn2O7,\n",
       " 13 MnO2 + 3 Y -> YMnO3 + O2 + 6 Mn2O3 + Y2O3,\n",
       " YMn2O5 + O2 + 3 Mn2O3 + Y2O3 -> 3 YMnO3 + 5 MnO2,\n",
       " O2 + 3.786 MnO + Y + Y2O3 -> 2.929 YMnO3 + 0.07143 YMn12,\n",
       " 3 YMn2O5 + 3 Mn3O4 -> YMnO3 + 7 Mn2O3 + Y2O3,\n",
       " O2 + 1.333 Y + 0.6667 Mn2O3 -> 1.333 YMnO3,\n",
       " 15 YMn2O5 + YMn12 + Y2O3 -> 18 YMnO3 + 24 MnO,\n",
       " 0.459 YMn2O5 + 0.1475 Mn2O3 -> 0.03279 YMnO3 + 1.18 Mn + O2 + 0.2131 Y2O3,\n",
       " 9.167 O2 + MnO + YMn12 + Y2O3 -> 3 YMnO3 + 3.333 Mn3O4,\n",
       " 3 YMn12 + 41 Mn2O3 -> YMnO3 + 117 MnO + Y2O3,\n",
       " YMn2O5 + 0.07143 Mn -> YMnO3 + 0.1429 O2 + 0.2143 Mn5O8,\n",
       " 2.467 Mn + Y2Mn2O7 + O2 + 0.5333 Y2O3 -> 3.067 YMnO3 + 1.4 MnO,\n",
       " O2 + 1.2 Y + 0.4 Mn3O4 -> 1.2 YMnO3,\n",
       " 0.8824 Y2Mn2O7 + 0.01961 YMn12 -> YMnO3 + Mn + O2 + 0.3922 Y2O3,\n",
       " 2.333 YMn2O5 + 1.333 MnO -> YMnO3 + Mn5O8 + 0.6667 Y2O3,\n",
       " Mn5O8 + 0.02564 YMn12 + Y2O3 -> 2.026 YMnO3 + 1.641 Mn2O3,\n",
       " 8.5 MnO2 + Y -> YMnO3 + O2 + 1.5 Mn5O8,\n",
       " 0.4 Mn5O8 + 1.133 Y -> YMnO3 + Mn + 0.06667 Y2O3,\n",
       " O2 + 0.04 YMn12 + Y2O3 + Mn3O4 -> 2.04 YMnO3 + 1.44 MnO2,\n",
       " Mn + Y2Mn2O7 + 0.1667 O2 -> 2 YMnO3 + 0.3333 Mn3O4,\n",
       " 0.03448 Mn + 1.5 Y2Mn2O7 -> YMnO3 + 0.7241 O2 + 1.017 Mn2O3 + Y2O3,\n",
       " YMn2O5 + Mn + 0.5 O2 -> YMnO3 + Mn2O3,\n",
       " 82 MnO2 + 3 YMn12 -> YMnO3 + O2 + Y2O3 + 39 Mn3O4,\n",
       " 6 MnO + Y + Y2O3 -> 3 YMnO3 + 3 Mn,\n",
       " YMn2O5 + O2 + Mn5O8 + 3 Y2O3 -> YMnO3 + 3 Y2Mn2O7,\n",
       " YMn2O5 + O2 + 8 Y2O3 + 5 Mn3O4 -> 17 YMnO3,\n",
       " 2 Y2Mn2O7 -> YMnO3 + O2 + 1.5 Mn2O3 + 1.5 Y2O3,\n",
       " 3 YMn12 + 2 Mn2O3 -> YMnO3 + 39 Mn + Y2O3,\n",
       " 2 YMn2O5 + 9 MnO -> YMnO3 + 8 O2 + YMn12,\n",
       " 1.435 YMn2O5 + 1.457 MnO2 -> YMnO3 + O2 + 0.2174 Y2O3 + 1.109 Mn3O4,\n",
       " 1.286 YMn2O5 + 0.1905 Mn5O8 -> YMnO3 + O2 + 2.524 MnO + 0.1429 Y2O3,\n",
       " Mn + 3 Y2Mn2O7 -> 6 YMnO3 + O2 + MnO,\n",
       " YMn2O5 + Y2Mn2O7 -> YMnO3 + 3 MnO2 + Y2O3,\n",
       " 2.5 YMn2O5 + Mn + Y2O3 -> 4.5 YMnO3 + 0.5 Mn3O4,\n",
       " 0.2667 O2 + MnO + 0.02222 Y -> 0.02222 YMnO3 + 0.4889 Mn2O3,\n",
       " O2 + Y2Mn2O7 + 5 MnO -> 2 YMnO3 + Mn5O8,\n",
       " Mn + Y2Mn2O7 + 0.3 O2 -> 2 YMnO3 + 0.2 Mn5O8,\n",
       " 0.3333 YMn2O5 + 0.6667 MnO2 -> 0.3333 YMnO3 + Mn + O2,\n",
       " 3 YMn2O5 + 1.75 Mn -> YMnO3 + Y2O3 + 2.25 Mn3O4,\n",
       " 1.625 Y2Mn2O7 -> YMnO3 + O2 + 1.125 Y2O3 + 0.75 Mn3O4,\n",
       " Mn5O8 + 0.02564 YMn12 + 2.641 Y2O3 -> 5.308 YMnO3,\n",
       " 10.22 Y + 4.333 Mn3O4 -> YMnO3 + O2 + YMn12 + 4.111 Y2O3,\n",
       " 0.4 Mn5O8 + Y -> YMnO3 + Mn + 0.1 O2,\n",
       " 4 YMn2O5 + 5 Mn -> YMnO3 + 7 O2 + YMn12 + Y2O3,\n",
       " Y2Mn2O7 + YMn12 + 11.67 Y2O3 -> 14 YMnO3 + 12.33 Y,\n",
       " 13 MnO + 8.667 Y -> YMnO3 + YMn12 + 3.333 Y2O3,\n",
       " 24 Y2Mn2O7 + YMn12 + Y2O3 -> 51 YMnO3 + 9 MnO2,\n",
       " Y + 11 Mn2O3 -> YMnO3 + O2 + 7 Mn3O4,\n",
       " 3 Mn + Y2Mn2O7 + O2 -> 2 YMnO3 + 3 MnO,\n",
       " 2.867 YMn2O5 + 0.1333 YMn12 -> YMnO3 + O2 + 6.333 MnO + Y2O3,\n",
       " 121 Mn5O8 + 3 YMn12 -> YMnO3 + O2 + 320 Mn2O3 + Y2O3,\n",
       " 0.5676 YMn2O5 + 0.4324 Y2Mn2O7 -> YMnO3 + MnO2 + 0.1081 O2 + 0.2162 Y2O3,\n",
       " 1.75 Y2Mn2O7 + 0.5 MnO -> YMnO3 + O2 + 1.25 Y2O3 + Mn3O4,\n",
       " 7 MnO2 + 3 Y -> YMnO3 + Y2O3 + 2 Mn3O4,\n",
       " 1.45 Y2Mn2O7 + 0.1009 YMn12 -> YMnO3 + Y2O3 + 1.037 Mn3O4,\n",
       " YMn2O5 + Y2Mn2O7 -> YMnO3 + O2 + Y2O3 + Mn3O4,\n",
       " YMn2O5 + MnO2 -> YMnO3 + O2 + 2 MnO,\n",
       " 6.5 Y2Mn2O7 + 16 Y -> YMnO3 + O2 + YMn12 + 13.5 Y2O3,\n",
       " O2 + Y2Mn2O7 + 3 Mn2O3 -> 2 YMnO3 + 6 MnO2,\n",
       " YMn2O5 + Mn + 1.333 Y2O3 -> 3 YMnO3 + 0.6667 Y,\n",
       " 1.143 Y2Mn2O7 + 0.7143 MnO -> YMnO3 + 0.1429 O2 + YMn2O5 + 0.1429 Y2O3,\n",
       " 11.56 Y + 4.333 Mn3O4 -> YMnO3 + YMn12 + 4.778 Y2O3,\n",
       " 27 YMn2O5 + YMn12 + Y2O3 -> 30 YMnO3 + 12 Mn3O4,\n",
       " 3 YMn12 + 2 Mn3O4 -> YMnO3 + 41 Mn + O2 + Y2O3,\n",
       " 43 MnO2 + YMn12 -> YMnO3 + O2 + 27 Mn2O3,\n",
       " 155 MnO2 + 3 YMn12 -> YMnO3 + 38 Mn5O8 + Y2O3,\n",
       " Y + Y2O3 + 3 Mn3O4 -> 3 YMnO3 + 6 MnO,\n",
       " Y2Mn2O7 + Mn3O4 -> 1.167 YMnO3 + 0.25 O2 + 1.917 Mn2O3 + 0.4167 Y2O3,\n",
       " 1.524 O2 + Y + Y2O3 + Mn3O4 -> 0.9048 YMnO3 + 1.048 Y2Mn2O7,\n",
       " 0.6471 Y2Mn2O7 + 0.05882 YMn12 -> YMnO3 + MnO + 0.1765 Y2O3,\n",
       " YMn2O5 + O2 + 5 MnO + 3 Y2O3 -> 7 YMnO3,\n",
       " 1.2 YMn2O5 + 1.8 YMn12 -> YMnO3 + 23 Mn + Y2O3,\n",
       " YMn2O5 + O2 + 5 MnO + Y2O3 -> 3 YMnO3 + 2 Mn2O3,\n",
       " O2 + Y + 0.75 Mn3O4 -> YMnO3 + 0.25 Mn5O8,\n",
       " YMn2O5 + Mn2O3 -> YMnO3 + O2 + 3 MnO,\n",
       " 1.333 Mn5O8 + Y -> YMnO3 + O2 + 5.667 MnO,\n",
       " 0.02703 YMn2O5 + 0.4865 Mn2O3 -> 0.02703 YMnO3 + Mn + 0.7568 O2,\n",
       " 0.1667 YMn2O5 + 1.917 Y2Mn2O7 -> YMnO3 + O2 + 1.583 Mn2O3 + 1.5 Y2O3,\n",
       " O2 + 22 Y2Mn2O7 + YMn12 + Y2O3 -> 38 YMnO3 + 9 YMn2O5,\n",
       " Y2Mn2O7 + 0.3333 Y -> YMnO3 + Mn + O2 + 0.6667 Y2O3,\n",
       " O2 + Y2Mn2O7 + 8 MnO + Y2O3 -> 4 YMnO3 + 2 Mn3O4,\n",
       " MnO2 + 0.02564 YMn12 + 0.641 Y2O3 -> 1.308 YMnO3,\n",
       " YMn2O5 + O2 + 0.1282 YMn12 + 1.205 Y2O3 -> 3.538 YMnO3,\n",
       " 1.5 Y2Mn2O7 + 0.25 Mn5O8 -> YMnO3 + 3.25 MnO2 + Y2O3,\n",
       " MnO2 + 0.002324 YMn12 + 0.5128 Y2O3 -> 0.1185 YMnO3 + 0.4547 Y2Mn2O7,\n",
       " 6.5 YMn2O5 + 13.83 Y -> YMnO3 + O2 + YMn12 + 9.167 Y2O3,\n",
       " O2 + Mn5O8 + 0.06295 YMn12 + 1.574 Y2O3 -> 0.6651 YMnO3 + 2.545 YMn2O5,\n",
       " 13 MnO2 + 16 Y -> YMnO3 + O2 + YMn12 + 7 Y2O3,\n",
       " 4 Y2Mn2O7 + 3 MnO -> YMnO3 + 5 YMn2O5 + Y2O3,\n",
       " YMn2O5 + Y2O3 + 0.3333 Mn3O4 -> 2.333 YMnO3 + 0.3333 Y2Mn2O7,\n",
       " O2 + 22 Y2Mn2O7 + YMn12 + Y2O3 -> 47 YMnO3 + 9 MnO2,\n",
       " 2.5 O2 + 6 MnO + Y -> YMnO3 + Mn5O8,\n",
       " 1.5 Y2Mn2O7 + 0.25 MnO2 -> YMnO3 + O2 + Y2O3 + 0.75 Mn3O4,\n",
       " 6 MnO + 3 YMn12 -> YMnO3 + 41 Mn + Y2O3,\n",
       " Y2Mn2O7 + Y2O3 + 2 Mn3O4 -> 4 YMnO3 + 2 Mn2O3,\n",
       " 2 YMn2O5 + 1.8 Mn5O8 -> YMnO3 + 10.7 O2 + YMn12,\n",
       " 4 Y2Mn2O7 + Y -> 7 YMnO3 + MnO2 + O2 + Y2O3,\n",
       " 0.5294 Y2Mn2O7 + 0.6471 MnO2 -> YMnO3 + O2 + 0.05882 YMn12,\n",
       " O2 + 1.2 MnO + 0.8 Y -> 0.4 YMnO3 + 0.4 YMn2O5,\n",
       " O2 + YMn12 + 48 Mn2O3 + Y2O3 -> 3 YMnO3 + 35 Mn3O4,\n",
       " 5.333 Mn5O8 + YMn12 -> YMnO3 + O2 + 37.67 MnO,\n",
       " 3 Mn + 6 Y2Mn2O7 -> 12 YMnO3 + O2 + Mn3O4,\n",
       " O2 + Y2Mn2O7 + 6 Mn3O4 -> 2 YMnO3 + 9 Mn2O3,\n",
       " 3 YMn2O5 + 3 MnO -> YMnO3 + 4 Mn2O3 + Y2O3,\n",
       " 5 Mn5O8 + 3 Y -> YMnO3 + O2 + Y2O3 + 8 Mn3O4,\n",
       " 0.75 Mn + 1.125 Y2Mn2O7 -> YMnO3 + Mn2O3 + 0.625 Y2O3,\n",
       " Y + Mn2O3 + 0.07692 Y2O3 -> 1.077 YMnO3 + 0.07692 YMn12,\n",
       " 5.545 Y2Mn2O7 + 0.1818 YMn12 -> 11.27 YMnO3 + O2 + Mn2O3,\n",
       " YMn2O5 + Mn + O2 -> YMnO3 + 2 MnO2,\n",
       " O2 + YMn12 + 47 Mn2O3 -> YMnO3 + 35 Mn3O4,\n",
       " O2 + YMn12 + Y2O3 + Mn3O4 -> 3 YMnO3 + 12 Mn,\n",
       " YMn2O5 + MnO + Y2O3 -> 3 YMnO3,\n",
       " 12.5 O2 + MnO + YMn12 + Y2O3 -> 3 YMnO3 + 10 MnO2,\n",
       " 1.5 Y2Mn2O7 + 0.5 Mn2O3 -> YMnO3 + O2 + Y2O3 + Mn3O4,\n",
       " O2 + 0.05825 YMn12 + Mn3O4 -> 0.05825 YMnO3 + 0.7282 Mn5O8,\n",
       " 2.333 YMn2O5 + 0.6667 Y -> YMnO3 + O2 + 3.667 MnO + Y2O3,\n",
       " 0.75 Mn5O8 + 3 YMn12 -> YMnO3 + 38.75 Mn + Y2O3,\n",
       " Y + 2 Mn2O3 + Y2O3 -> 3 YMnO3 + Mn,\n",
       " 39 YMn2O5 + YMn12 + Y2O3 -> 42 YMnO3 + 24 Mn2O3,\n",
       " O2 + 1.4 Y + Mn2O3 -> 1.4 YMnO3 + 0.2 Mn3O4,\n",
       " Mn5O8 + YMn12 + 1.667 Y2O3 -> 4.333 YMnO3 + 12.67 Mn,\n",
       " O2 + 2.867 MnO + 0.1333 Y + Y2O3 -> 1.4 YMnO3 + 0.7333 YMn2O5,\n",
       " YMn2O5 + 1.333 Y -> YMnO3 + Mn + 0.6667 Y2O3,\n",
       " 0.5 O2 + 2 MnO + Y -> YMnO3 + Mn,\n",
       " O2 + Y2Mn2O7 + 15 Mn2O3 -> 2 YMnO3 + 6 Mn5O8,\n",
       " YMn2O5 + 4 MnO2 -> YMnO3 + O2 + Mn5O8,\n",
       " 0.625 Y2Mn2O7 + 0.25 Mn3O4 -> YMnO3 + Mn + O2 + 0.125 Y2O3,\n",
       " 0.625 Y2Mn2O7 + 0.25 Mn3O4 -> YMnO3 + MnO2 + 0.125 Y2O3,\n",
       " O2 + MnO + Y -> YMnO3,\n",
       " O2 + Mn5O8 + YMn12 + 2.333 Y2O3 -> 5.667 YMnO3 + 11.33 Mn,\n",
       " O2 + MnO2 + 0.2143 YMn12 -> 0.2143 YMnO3 + 3.357 MnO,\n",
       " 3 YMn2O5 + 4 Mn -> YMnO3 + 9 MnO + Y2O3,\n",
       " O2 + Y2Mn2O7 + 0.1538 YMn12 + 0.8462 Y2O3 -> 3.846 YMnO3,\n",
       " O2 + MnO2 + YMn12 + 0.3333 Y2O3 -> 1.667 YMnO3 + 11.33 Mn,\n",
       " O2 + Y2Mn2O7 + YMn12 -> 3 YMnO3 + 11 Mn,\n",
       " O2 + Y2Mn2O7 + 1.5 Mn5O8 -> 2 YMnO3 + 7.5 MnO2,\n",
       " YMn2O5 + O2 + Y2O3 + 3.25 Mn3O4 -> 3 YMnO3 + 1.75 Mn5O8,\n",
       " 3 Y2Mn2O7 + 2 MnO -> 6 YMnO3 + O2 + Mn2O3,\n",
       " O2 + 3 MnO2 + 2 Y -> YMnO3 + YMn2O5,\n",
       " Y2Mn2O7 + 2 Mn2O3 + Y2O3 -> 2 YMnO3 + 2 YMn2O5,\n",
       " O2 + 1.5 Y + Mn2O3 -> 1.5 YMnO3 + 0.5 MnO,\n",
       " O2 + 0.04879 YMn12 + Y2O3 + 0.4878 Mn3O4 -> 0.4392 YMnO3 + 0.8048 Y2Mn2O7,\n",
       " YMn2O5 + O2 + Mn3O4 -> YMnO3 + 4 MnO2,\n",
       " O2 + Y + Y2O3 + Mn3O4 -> 3 YMnO3,\n",
       " 3 YMn12 + 2.667 Mn2O3 -> YMnO3 + 40.33 Mn + O2 + Y2O3,\n",
       " 3 YMn2O5 + Mn5O8 -> YMnO3 + O2 + 5 Mn2O3 + Y2O3,\n",
       " 2 MnO2 + 1.667 Y -> YMnO3 + Mn + 0.3333 Y2O3,\n",
       " 0.2308 YMn2O5 + 0.7692 MnO -> 0.2308 YMnO3 + Mn + 0.6154 O2,\n",
       " 2.733 YMn2O5 + 0.04444 YMn12 -> YMnO3 + Mn5O8 + 0.8889 Y2O3,\n",
       " Y2Mn2O7 + 0.5 Mn2O3 -> YMnO3 + 0.25 O2 + YMn2O5,\n",
       " 2.55 Mn + 0.85 Y2Mn2O7 + O2 + Y2O3 -> 3.65 YMnO3 + 0.05 YMn12,\n",
       " O2 + YMn12 + Mn2O3 + 0.6667 Y2O3 -> 2.333 YMnO3 + 11.67 Mn,\n",
       " 2.5 Y2Mn2O7 + 0.5 Mn2O3 -> YMnO3 + O2 + Mn5O8 + 2 Y2O3,\n",
       " YMn2O5 -> YMnO3 + 0.3333 O2 + 0.3333 Mn3O4,\n",
       " YMn2O5 + 3 Mn2O3 + Y2O3 -> 3 YMnO3 + Mn5O8,\n",
       " YMn2O5 + 2 Y2Mn2O7 -> YMnO3 + O2 + Mn5O8 + 2 Y2O3,\n",
       " 1.5 Y2Mn2O7 + 5.5 MnO -> YMnO3 + Y2O3 + 2.5 Mn3O4,\n",
       " 1.882 Y2Mn2O7 + 0.01961 YMn12 -> YMnO3 + O2 + 1.392 Y2O3 + Mn3O4,\n",
       " YMn2O5 + 3 Mn + O2 -> YMnO3 + 4 MnO,\n",
       " 1.5 Y2Mn2O7 + 6.5 Mn2O3 -> YMnO3 + 3 Mn5O8 + Y2O3,\n",
       " O2 + Y2Mn2O7 + 9 Y2O3 + 6 Mn3O4 -> 20 YMnO3,\n",
       " O2 + Mn5O8 + 3.333 Y -> 3.333 YMnO3 + 1.667 Mn,\n",
       " 1.8 YMn2O5 + 0.8 Mn3O4 -> YMnO3 + Mn5O8 + 0.4 Y2O3,\n",
       " 3 YMn2O5 + 0.119 Mn -> YMnO3 + 0.4048 O2 + 1.024 Mn5O8 + Y2O3,\n",
       " 2.412 Y2Mn2O7 + 0.09804 YMn12 -> YMnO3 + Mn5O8 + 1.961 Y2O3,\n",
       " MnO2 + YMn12 + 12.33 Y2O3 -> 13 YMnO3 + 12.67 Y,\n",
       " 29.5 MnO2 + YMn12 -> YMnO3 + O2 + 13.5 Mn3O4,\n",
       " MnO2 + 0.5833 Y + 0.08333 Y2O3 -> 0.75 YMnO3 + 0.25 Mn,\n",
       " O2 + MnO + 0.68 Y + 0.16 Y2O3 -> 0.04 YMnO3 + 0.48 Y2Mn2O7,\n",
       " 4 YMn2O5 -> YMnO3 + O2 + 3.5 Mn2O3 + 1.5 Y2O3,\n",
       " 11.36 Y2Mn2O7 + 0.4545 YMn12 -> 23.18 YMnO3 + O2 + Mn5O8,\n",
       " Y + Y2O3 + 1.5 Mn3O4 -> 3 YMnO3 + 1.5 Mn,\n",
       " 39.5 Mn5O8 + 3 YMn12 -> YMnO3 + Y2O3 + 77.5 Mn3O4,\n",
       " 24 Y2Mn2O7 + YMn12 + Y2O3 -> 42 YMnO3 + 9 YMn2O5,\n",
       " Y2Mn2O7 + Y -> YMnO3 + MnO + Y2O3,\n",
       " 1.667 Mn5O8 + 3 Y -> YMnO3 + 7.333 MnO + Y2O3,\n",
       " 2.714 YMn2O5 + 0.5714 Mn -> YMnO3 + Mn5O8 + 0.8571 Y2O3,\n",
       " Y2Mn2O7 + Y2O3 + Mn3O4 -> 3 YMnO3 + YMn2O5,\n",
       " 15 MnO2 + YMn12 + Y2O3 -> 3 YMnO3 + 24 MnO,\n",
       " 0.5 Y2Mn2O7 + 0.3333 Mn3O4 -> YMnO3 + Mn + 0.9167 O2,\n",
       " YMn2O5 + O2 + 4 MnO -> YMnO3 + Mn5O8,\n",
       " O2 + 2 Y + Mn3O4 -> 2 YMnO3 + Mn,\n",
       " O2 + 1.333 Y + Mn2O3 + 0.3333 Y2O3 -> 2 YMnO3,\n",
       " Mn + 4 Y2Mn2O7 -> 8 YMnO3 + MnO2 + O2,\n",
       " O2 + Mn5O8 + 2 Y + Y2O3 -> 4 YMnO3 + MnO,\n",
       " Mn5O8 + 0.6 Y + Y2O3 -> 2.6 YMnO3 + 0.8 Mn3O4,\n",
       " 0.5 Y2Mn2O7 + 1.125 Mn5O8 -> YMnO3 + O2 + 1.875 Mn3O4,\n",
       " Y2Mn2O7 + Y2O3 + 1.5 Mn3O4 -> 4 YMnO3 + 0.5 Mn5O8,\n",
       " O2 + Y2Mn2O7 + 6 MnO + 3 Y2O3 -> 8 YMnO3,\n",
       " O2 + 0.08 YMn12 + Mn2O3 + Y2O3 -> 2.08 YMnO3 + 0.88 MnO2,\n",
       " 1.5 Y2Mn2O7 + 0.6667 Y -> YMnO3 + YMn2O5 + 0.8333 Y2O3,\n",
       " O2 + 0.5 Mn5O8 + Y -> YMnO3 + 1.5 MnO2,\n",
       " O2 + 0.1026 YMn12 + Mn2O3 + 1.564 Y2O3 -> 3.231 YMnO3,\n",
       " O2 + Mn5O8 + 1.8 Y + Y2O3 -> 3.8 YMnO3 + 0.4 Mn3O4,\n",
       " YMn12 + 1.667 Mn2O3 -> YMnO3 + 14.33 Mn + O2,\n",
       " Mn5O8 + Y + 1.718 Y2O3 -> 4.385 YMnO3 + 0.05128 YMn12,\n",
       " 0.5679 YMn2O5 + 0.08014 O2 + 0.4434 Y -> YMnO3 + 0.01132 YMn12,\n",
       " O2 + Mn5O8 + 3.472 Y -> 3.333 YMnO3 + 0.1389 YMn12,\n",
       " YMn2O5 + MnO2 + Y2O3 -> YMnO3 + Y2Mn2O7,\n",
       " 3 YMn12 + 1.5 Mn3O4 -> YMnO3 + 39.5 Mn + Y2O3,\n",
       " 5 Y2Mn2O7 + Mn5O8 -> YMnO3 + O2 + 7 YMn2O5 + Y2O3,\n",
       " 13.5 O2 + YMn12 + Mn3O4 -> YMnO3 + 14 MnO2,\n",
       " 4 MnO2 + Y -> YMnO3 + O2 + 3 MnO,\n",
       " 14.75 Mn5O8 + YMn12 -> YMnO3 + O2 + 28.25 Mn3O4,\n",
       " O2 + 1.667 Y + Mn2O3 -> 1.667 YMnO3 + 0.3333 Mn,\n",
       " 0.1675 YMn2O5 + 0.4162 Y2Mn2O7 -> YMnO3 + 0.264 O2 + 0.05584 Mn3O4,\n",
       " Mn5O8 + 0.3333 Y + Y2O3 -> 2.333 YMnO3 + 1.333 Mn2O3,\n",
       " 0.9 Y2Mn2O7 + MnO + 0.1 Y2O3 -> 1.2 YMnO3 + 0.8 YMn2O5,\n",
       " O2 + 0.5882 Y + Y2O3 + 1.206 Mn3O4 -> 2.588 YMnO3 + 1.029 MnO2,\n",
       " YMn2O5 + 0.125 Y -> 1.125 YMnO3 + 0.375 O2 + 0.875 MnO,\n",
       " 3 Y + 1.5 Mn3O4 -> YMnO3 + 3.5 Mn + Y2O3,\n",
       " Mn + Y2Mn2O7 + 0.25 O2 + 0.5 Y2O3 -> 3 YMnO3,\n",
       " 0.5 Y2Mn2O7 + 4.5 Mn2O3 -> YMnO3 + O2 + 3 Mn3O4,\n",
       " Y2Mn2O7 + Y2O3 + Mn3O4 -> 4 YMnO3 + MnO2,\n",
       " 0.5 Y2Mn2O7 + 1.5 Mn3O4 -> YMnO3 + O2 + 4.5 MnO,\n",
       " O2 + 0.4 Mn5O8 + 1.2 Y -> 0.4 YMnO3 + 0.8 YMn2O5,\n",
       " 5 MnO + 1.333 Y -> YMnO3 + O2 + 0.3333 YMn12,\n",
       " 0.2516 YMn2O5 + 0.1562 Mn5O8 -> 0.08677 YMnO3 + 1.197 Mn + O2 + 0.08243 Y2O3,\n",
       " O2 + 0.443 Y + Y2O3 + 1.278 Mn3O4 -> 1.051 YMnO3 + 1.392 YMn2O5,\n",
       " 0.5 Y2Mn2O7 + MnO -> YMnO3 + Mn + 0.75 O2,\n",
       " YMn2O5 + O2 + 8 MnO -> YMnO3 + 3 Mn3O4,\n",
       " Y + 4 Mn2O3 -> YMnO3 + O2 + 7 MnO,\n",
       " O2 + 2.571 MnO + 0.4286 Y + Y2O3 -> 2.429 YMnO3 + 0.1429 MnO2,\n",
       " 3.273 Y2Mn2O7 + 0.09091 YMn12 -> 6.636 YMnO3 + O2 + MnO,\n",
       " 117 Mn5O8 + 3 YMn12 -> YMnO3 + 310 Mn2O3 + Y2O3,\n",
       " 2 YMn2O5 + 9 MnO2 -> YMnO3 + 12.5 O2 + YMn12,\n",
       " 1.5 Y2Mn2O7 + Y -> YMnO3 + Mn2O3 + 1.5 Y2O3,\n",
       " 0.9167 Y2Mn2O7 + 0.6667 MnO2 -> YMnO3 + O2 + 1.5 MnO + 0.4167 Y2O3,\n",
       " O2 + Y2Mn2O7 + 5.333 MnO + Y2O3 -> 4 YMnO3 + 0.6667 Mn5O8,\n",
       " 2 YMn2O5 + 9 Mn -> YMnO3 + 3.5 O2 + YMn12,\n",
       " 43 Mn5O8 + YMn12 -> YMnO3 + O2 + 113 Mn2O3,\n",
       " O2 + YMn12 + Y2O3 + 13 Mn3O4 -> 3 YMnO3 + 48 MnO,\n",
       " O2 + MnO2 + 0.1429 YMn12 + Y2O3 -> 2.143 YMnO3 + 0.5714 MnO,\n",
       " O2 + 1.636 Y + Mn2O3 + 0.05386 Y2O3 -> 1.721 YMnO3 + 0.02329 YMn12,\n",
       " YMn2O5 + 2 MnO2 -> YMnO3 + O2 + Mn3O4,\n",
       " 16 MnO2 + YMn12 -> YMnO3 + O2 + 27 MnO,\n",
       " 2 YMn2O5 + 4.5 Mn2O3 -> YMnO3 + 10.25 O2 + YMn12,\n",
       " O2 + Y2Mn2O7 + 3 MnO -> 2 YMnO3 + 3 MnO2,\n",
       " 0.4 YMn2O5 + 0.3 Mn3O4 -> 0.4 YMnO3 + 1.3 Mn + O2,\n",
       " 16 MnO2 + 3 Y -> YMnO3 + O2 + 3 Mn5O8 + Y2O3,\n",
       " YMn2O5 + Mn5O8 + 2 Y2O3 -> 5 YMnO3 + 2 MnO2,\n",
       " 0.9697 YMn2O5 + 0.03031 YMn12 -> YMnO3 + 0.05548 O2 + 0.4344 Mn3O4,\n",
       " 2 Y2Mn2O7 + 9 MnO -> YMnO3 + 8.5 O2 + YMn12 + Y2O3,\n",
       " Mn + Y2Mn2O7 + 0.25 O2 -> 2 YMnO3 + 0.5 Mn2O3,\n",
       " 1.49 Y2Mn2O7 + 0.02091 YMn12 -> YMnO3 + 0.5409 O2 + 1.115 Mn2O3 + Y2O3,\n",
       " O2 + 0.04 YMn12 + Y2O3 + Mn3O4 -> 0.6 YMnO3 + 1.44 YMn2O5,\n",
       " 0.02222 YMn2O5 + 0.4889 Y2Mn2O7 -> YMnO3 + 0.02222 Mn + 0.2667 O2,\n",
       " MnO2 + 0.1915 Y + 0.1915 Y2O3 -> 0.1489 YMnO3 + 0.4255 YMn2O5,\n",
       " 2 Y2Mn2O7 + 3 Mn3O4 -> YMnO3 + 10 O2 + YMn12 + Y2O3,\n",
       " Y2Mn2O7 + 3 Y2O3 + 2 Mn3O4 -> 8 YMnO3,\n",
       " 1.5 Y2Mn2O7 + 0.03448 Y -> YMnO3 + 0.7241 O2 + Mn2O3 + 1.017 Y2O3,\n",
       " 7 MnO2 + 3 Y -> YMnO3 + O2 + 6 MnO + Y2O3,\n",
       " 19.5 Y2Mn2O7 + YMn12 + Y2O3 -> 42 YMnO3 + 4.5 Mn2O3,\n",
       " 3 Y + 14 Mn2O3 -> YMnO3 + Y2O3 + 9 Mn3O4]"
      ]
     },
     "execution_count": 57,
     "metadata": {},
     "output_type": "execute_result"
    }
   ],
   "source": [
    "ymno3_rxns_open2"
   ]
  },
  {
   "cell_type": "markdown",
   "id": "48507bd1",
   "metadata": {},
   "source": [
    "This may be useful for systems where more than 1 gaseous, liquid, or molten phases are available to the reacting system, such as $O_2$ and a molten salt (e.g. $LiCl$)"
   ]
  },
  {
   "cell_type": "markdown",
   "id": "677201f1",
   "metadata": {},
   "source": [
    "### Minimize Enumerators\n",
    "\n",
    "The \"minimize\" enumerators produce reactions via a thermodynamic approach, rather than a purely combinatorial one. This means that reactions are produced from a phase diagram approach, where a new convex hull is drawn connecting two compositions within a closed (Gibbs) or open (Grand Potential) system. See the `InterfacialReactivity` class within the _pymatgen_ package for more information.\n",
    "\n",
    "It is **important to note** that reactions produced with the minimize enumerators may overlap some with the basic enumerators, but the minimize enumerators have the restriction that all original reactions produced must have a negative reaction energy and result in a set of product phases which are stable with respect to each other (i.e. they share a facet of the phase diagram).\n",
    "\n",
    "Even though these enumerators also yield the reverse reactions to those described above, it is impossible for them to identify a reaction where both sides of the reaction contain phases that are unstable with respect to each other. In other words, every reaction proudced has either reactants that share a phase diagram facet or products that share a phase diagram facet).\n",
    "\n",
    "The `MinimizeGibbsEnumerator` contains similar arguments as the basic enumerators. See the docstrings for updated information:\n",
    "- **precursors**: Optional formulas of precursors.\n",
    "- **targets**: Optional formulas of targets; only reactions which make these targets\n",
    "    will be enumerated.\n",
    "- **calculators**: Optional list of Calculator object names; see calculators\n",
    "    module for options (e.g., [\"ChempotDistanceCalculator\"])\n",
    "- **exclusive_precursors**: Whether to consider only reactions that have\n",
    "    reactants which are a subset of the provided list of precursors.\n",
    "    Defaults to True.\n",
    "- **exclusive_targets**: Whether to consider only reactions that make the\n",
    "    provided target directly (i.e. with no byproducts). Defualts to False."
   ]
  },
  {
   "cell_type": "code",
   "execution_count": 58,
   "id": "11a5f33d",
   "metadata": {},
   "outputs": [],
   "source": [
    "mge = MinimizeGibbsEnumerator()"
   ]
  },
  {
   "cell_type": "markdown",
   "id": "4d3aa769",
   "metadata": {},
   "source": [
    "The default arguments, as before, help produce all reactions in a set of entries, given minimal constraints."
   ]
  },
  {
   "cell_type": "code",
   "execution_count": 59,
   "id": "194c29f1",
   "metadata": {},
   "outputs": [
    {
     "name": "stderr",
     "output_type": "stream",
     "text": [
      "Mn-Y: 100%|████████████████████████████████████████████████████████████████████████████████████████████████████████████████████████████████████████| 4/4 [00:00<00:00,  6.68it/s]\n"
     ]
    }
   ],
   "source": [
    "rxns = mge.enumerate(filtered_entries)"
   ]
  },
  {
   "cell_type": "code",
   "execution_count": 60,
   "id": "3cb8c511",
   "metadata": {},
   "outputs": [
    {
     "name": "stdout",
     "output_type": "stream",
     "text": [
      "[MnO2 + 0.5 Y2Mn2O7 -> YMn2O5 + 0.25 O2,\n",
      " 0.5 Y + 0.5 YMn2O5 -> MnO + 0.5 Y2O3,\n",
      " 0.5 Mn2O3 + 0.3333 Y -> MnO + 0.1667 Y2O3,\n",
      " 0.3333 Mn3O4 + 0.8889 Y -> Mn + 0.4444 Y2O3,\n",
      " 0.1304 Mn5O8 + 0.02899 YMn12 -> MnO + 0.01449 Y2O3,\n",
      " 0.3333 Y + YMnO3 -> MnO + 0.6667 Y2O3,\n",
      " 2 MnO2 + 0.5 Y2O3 -> YMn2O5 + 0.25 O2,\n",
      " 0.02564 YMn12 + 0.3462 Mn2O3 -> MnO + 0.01282 Y2O3,\n",
      " 0.2857 Y + 0.7143 YMn2O5 -> YMnO3 + 0.1429 Mn3O4,\n",
      " Mn5O8 + 2 Y2Mn2O7 -> MnO2 + 4 YMn2O5]\n"
     ]
    }
   ],
   "source": [
    "pprint(rxns[0:10])"
   ]
  },
  {
   "cell_type": "markdown",
   "id": "889437d2",
   "metadata": {},
   "source": [
    "And as before, we can specify various combinations of precursors and targets, as well as whether or not they should be \"exclusive\"."
   ]
  },
  {
   "cell_type": "code",
   "execution_count": 61,
   "id": "aee5a933",
   "metadata": {},
   "outputs": [
    {
     "name": "stderr",
     "output_type": "stream",
     "text": [
      "O-Y: 100%|█████████████████████████████████████████████████████████████████████████████████████████████████████████████████████████████████████████| 2/2 [00:00<00:00, 21.50it/s]\n"
     ]
    },
    {
     "data": {
      "text/plain": [
       "[2.5 Mn2O3 + 0.5 Y2O3 -> YMn2O5 + Mn3O4,\n",
       " 0.5 Mn2O3 + 0.5 Y2O3 -> YMnO3,\n",
       " 0.625 Mn5O8 + 0.5 Y2O3 -> YMn2O5 + 0.375 Mn3O4,\n",
       " 0.5 Mn3O4 + 0.5 Y2O3 -> YMnO3 + 0.5 MnO,\n",
       " 0.6667 Mn5O8 + 0.3333 Y2O3 -> Mn2O3 + 0.6667 YMn2O5,\n",
       " 2 MnO2 + Y2O3 -> Y2Mn2O7,\n",
       " 2 MnO2 + 0.5 Y2O3 -> YMn2O5 + 0.25 O2,\n",
       " 0.3333 Mn5O8 + 0.6667 Y2O3 -> YMnO3 + 0.3333 YMn2O5]"
      ]
     },
     "execution_count": 61,
     "metadata": {},
     "output_type": "execute_result"
    }
   ],
   "source": [
    "mge_precursors = MinimizeGibbsEnumerator(precursors=[\"Y2O3\"], exclusive_precursors=False)\n",
    "rxns = mge_precursors.enumerate(filtered_entries)\n",
    "rxns"
   ]
  },
  {
   "cell_type": "code",
   "execution_count": 62,
   "id": "c1e26790",
   "metadata": {},
   "outputs": [
    {
     "name": "stderr",
     "output_type": "stream",
     "text": [
      "Mn-O-Y: 100%|██████████████████████████████████████████████████████████████████████████████████████████████████████████████████████████████████████| 1/1 [00:00<00:00, 43.90it/s]\n"
     ]
    },
    {
     "data": {
      "text/plain": [
       "[0.5 Mn2O3 + 0.5 Y2O3 -> YMnO3, 2.5 Mn2O3 + 0.5 Y2O3 -> YMn2O5 + Mn3O4]"
      ]
     },
     "execution_count": 62,
     "metadata": {},
     "output_type": "execute_result"
    }
   ],
   "source": [
    "mge_precursors = MinimizeGibbsEnumerator(precursors=[\"Y2O3\", \"Mn2O3\"])\n",
    "rxns = mge_precursors.enumerate(filtered_entries)\n",
    "rxns"
   ]
  },
  {
   "cell_type": "code",
   "execution_count": 63,
   "id": "b61398c4",
   "metadata": {},
   "outputs": [
    {
     "name": "stderr",
     "output_type": "stream",
     "text": [
      "Mn-O-Y: 100%|██████████████████████████████████████████████████████████████████████████████████████████████████████████████████████████████████████| 1/1 [00:00<00:00,  2.37it/s]\n"
     ]
    },
    {
     "data": {
      "text/plain": [
       "[0.5 Mn2O3 + 0.5 Y2O3 -> YMnO3]"
      ]
     },
     "execution_count": 63,
     "metadata": {},
     "output_type": "execute_result"
    }
   ],
   "source": [
    "mge_targets = MinimizeGibbsEnumerator(targets=[\"YMnO3\"], exclusive_targets=True)\n",
    "rxns = mge_targets.enumerate(filtered_entries)\n",
    "rxns"
   ]
  },
  {
   "cell_type": "code",
   "execution_count": 64,
   "id": "50cab6a4",
   "metadata": {},
   "outputs": [
    {
     "name": "stderr",
     "output_type": "stream",
     "text": [
      "Mn-O-Y: 100%|██████████████████████████████████████████████████████████████████████████████████████████████████████████████████████████████████████| 1/1 [00:00<00:00,  2.53it/s]\n"
     ]
    },
    {
     "data": {
      "text/plain": [
       "[0.5 Mn + 0.5 Y2Mn2O7 -> YMnO3 + 0.5 MnO,\n",
       " MnO + Y2Mn2O7 -> YMnO3 + YMn2O5,\n",
       " YMn12 + 7 O2 -> YMnO3 + 11 MnO,\n",
       " Mn + YMn2O5 -> YMnO3 + 2 MnO,\n",
       " 5 Mn2O3 + Y -> YMnO3 + 3 Mn3O4,\n",
       " 14 MnO2 + YMn12 -> YMnO3 + 25 MnO,\n",
       " 0.3333 Mn + 0.6667 Y2Mn2O7 -> YMnO3 + 0.3333 YMn2O5,\n",
       " 0.2857 Y + 0.7143 YMn2O5 -> YMnO3 + 0.1429 Mn3O4,\n",
       " 0.375 Mn + 0.5 Y2Mn2O7 -> YMnO3 + 0.125 Mn3O4,\n",
       " YMn12 + 14 Mn2O3 -> YMnO3 + 39 MnO,\n",
       " 1.25 Mn5O8 + Y -> YMnO3 + 1.75 Mn3O4,\n",
       " YMn12 + 14 Mn3O4 -> YMnO3 + 53 MnO,\n",
       " 1.5 MnO + 0.5 Y2Mn2O7 -> YMnO3 + 0.5 Mn3O4,\n",
       " 0.06667 YMn12 + 0.9333 YMn2O5 -> YMnO3 + 1.667 MnO,\n",
       " 2 MnO2 + Y -> YMnO3 + MnO,\n",
       " 0.3333 Mn5O8 + 0.6667 Y2O3 -> YMnO3 + 0.3333 YMn2O5,\n",
       " 0.5 Mn3O4 + 0.5 Y2O3 -> YMnO3 + 0.5 MnO,\n",
       " 0.3333 Y + 0.6667 YMn2O5 -> YMnO3 + 0.3333 MnO,\n",
       " 0.03448 YMn12 + 0.4828 Y2Mn2O7 -> YMnO3 + 0.3793 MnO,\n",
       " 2 MnO + YMn2O5 -> YMnO3 + Mn3O4,\n",
       " 2 Mn2O3 + Y -> YMnO3 + 3 MnO,\n",
       " 2 Mn3O4 + Y -> YMnO3 + 5 MnO,\n",
       " 26.5 MnO2 + YMn12 -> YMnO3 + 12.5 Mn3O4,\n",
       " 0.5 Mn + YMn2O5 -> YMnO3 + 0.5 Mn3O4,\n",
       " 0.025 YMn12 + 0.625 Y2Mn2O7 -> YMnO3 + 0.275 YMn2O5,\n",
       " 13.25 Mn5O8 + YMn12 -> YMnO3 + 25.75 Mn3O4,\n",
       " Mn3O4 + 2 Y2Mn2O7 -> YMnO3 + 3 YMn2O5,\n",
       " 0.5 Mn2O3 + 0.5 Y2O3 -> YMnO3,\n",
       " YMn12 + 53 Mn2O3 -> YMnO3 + 39 Mn3O4,\n",
       " YMn12 + 8.833 O2 -> YMnO3 + 3.667 Mn3O4,\n",
       " 0.6667 Mn5O8 + Y -> YMnO3 + 2.333 MnO,\n",
       " 0.3333 Y + 0.5 Y2Mn2O7 -> YMnO3 + 0.1667 Y2O3,\n",
       " 0.03636 YMn12 + 0.9636 YMn2O5 -> YMnO3 + 0.4545 Mn3O4,\n",
       " 2.5 MnO2 + Y -> YMnO3 + 0.5 Mn3O4,\n",
       " 4.667 Mn5O8 + YMn12 -> YMnO3 + 34.33 MnO,\n",
       " 0.02752 YMn12 + 0.4862 Y2Mn2O7 -> YMnO3 + 0.1009 Mn3O4]"
      ]
     },
     "execution_count": 64,
     "metadata": {},
     "output_type": "execute_result"
    }
   ],
   "source": [
    "mge_targets = MinimizeGibbsEnumerator(targets=[\"YMnO3\"], exclusive_targets=False)\n",
    "rxns = mge_targets.enumerate(filtered_entries)\n",
    "rxns"
   ]
  },
  {
   "cell_type": "markdown",
   "id": "c8d2739f",
   "metadata": {},
   "source": [
    "#### Open entries\n",
    "\n",
    "And once again, as before, we can do all the same analysis with open entries. This time, the grand potential is used as the thermodynamic free energy which is minimized:\n",
    "\n",
    "$$ \\Phi = G - \\mu_iN_i $$\n",
    "\n",
    "Where $i$ is the open species with chemical potential $\\mu_i$ with a molar amount $N_i$."
   ]
  },
  {
   "cell_type": "code",
   "execution_count": 65,
   "id": "ed9d72f2",
   "metadata": {},
   "outputs": [
    {
     "name": "stderr",
     "output_type": "stream",
     "text": [
      "O-Y: 100%|█████████████████████████████████████████████████████████████████████████████████████████████████████████████████████████████████████████| 3/3 [00:00<00:00,  7.45it/s]\n"
     ]
    },
    {
     "data": {
      "text/plain": [
       "[4 MnO2 + 2 Y2Mn2O7 -> O2 + 4 YMn2O5 (mu_O=0),\n",
       " 2 MnO + Y2O3 + O2 -> Y2Mn2O7 (mu_O=0),\n",
       " 0.5 Mn2O3 + 0.25 O2 -> MnO2 (mu_O=0),\n",
       " 2 Mn + Y2O3 + 2 O2 -> Y2Mn2O7 (mu_O=0),\n",
       " 2 MnO2 + 2 Y + 1.5 O2 -> Y2Mn2O7 (mu_O=0),\n",
       " Mn + 0.5 Y2Mn2O7 + 0.75 O2 -> YMn2O5 (mu_O=0),\n",
       " 2 MnO + 2 Y + 2.5 O2 -> Y2Mn2O7 (mu_O=0),\n",
       " 0.6667 Mn3O4 + Y2O3 + 0.6667 O2 -> Y2Mn2O7 (mu_O=0),\n",
       " 0.5 Y2O3 + YMn2O5 + 0.25 O2 -> Y2Mn2O7 (mu_O=0),\n",
       " 0.6667 Mn3O4 + 2 Y + 2.167 O2 -> Y2Mn2O7 (mu_O=0),\n",
       " 0.3333 Mn3O4 + 0.5 Y2Mn2O7 + 0.08333 O2 -> YMn2O5 (mu_O=0),\n",
       " 0.3333 Mn3O4 + YMnO3 + 0.3333 O2 -> YMn2O5 (mu_O=0),\n",
       " 0.4 Mn5O8 + 2 Y + 1.9 O2 -> Y2Mn2O7 (mu_O=0),\n",
       " 8 MnO2 + 2 Y2O3 -> O2 + 4 YMn2O5 (mu_O=0),\n",
       " 0.09091 YMn12 + 0.9091 YMnO3 + 1.136 O2 -> YMn2O5 (mu_O=0),\n",
       " 0.1667 YMn12 + 0.9167 Y2O3 + 2.125 O2 -> Y2Mn2O7 (mu_O=0),\n",
       " 0.4 Mn5O8 + Y + 0.9 O2 -> YMn2O5 (mu_O=0),\n",
       " MnO + 0.5 O2 -> MnO2 (mu_O=0),\n",
       " 0.4 Mn5O8 + 0.5 Y2O3 + 0.15 O2 -> YMn2O5 (mu_O=0),\n",
       " 0.2 Mn5O8 + YMnO3 + 0.2 O2 -> YMn2O5 (mu_O=0),\n",
       " 2 MnO2 + Y + 0.5 O2 -> YMn2O5 (mu_O=0),\n",
       " YMn12 + 12.5 O2 -> YMn2O5 + 10 MnO2 (mu_O=0),\n",
       " Mn2O3 + Y + O2 -> YMn2O5 (mu_O=0),\n",
       " 0.6667 Mn3O4 + 0.5 Y2O3 + 0.4167 O2 -> YMn2O5 (mu_O=0),\n",
       " Mn + YMnO3 + O2 -> YMn2O5 (mu_O=0),\n",
       " 0.1667 YMn12 + 0.4167 Y2O3 + 1.875 O2 -> YMn2O5 (mu_O=0),\n",
       " 0.3333 Mn3O4 + 0.3333 O2 -> MnO2 (mu_O=0),\n",
       " Mn2O3 + 0.5 Y2O3 + 0.25 O2 -> YMn2O5 (mu_O=0),\n",
       " 0.09091 YMn12 + 0.4545 Y2Mn2O7 + 0.9091 O2 -> YMn2O5 (mu_O=0),\n",
       " 2 Y + 1.5 O2 -> Y2O3 (mu_O=0),\n",
       " 0.4 Mn5O8 + Y2O3 + 0.4 O2 -> Y2Mn2O7 (mu_O=0),\n",
       " 2 MnO + 0.5 Y2O3 + 0.75 O2 -> YMn2O5 (mu_O=0),\n",
       " Y + YMn2O5 + O2 -> Y2Mn2O7 (mu_O=0),\n",
       " 4 Mn5O8 + 10 Y2Mn2O7 -> O2 + 20 YMn2O5 (mu_O=0),\n",
       " 0.6667 Mn3O4 + Y + 1.167 O2 -> YMn2O5 (mu_O=0),\n",
       " 0.5 Mn2O3 + YMnO3 + 0.25 O2 -> YMn2O5 (mu_O=0),\n",
       " 2 YMnO3 + 0.5 O2 -> Y2Mn2O7 (mu_O=0),\n",
       " Mn + O2 -> MnO2 (mu_O=0),\n",
       " 0.2 Mn5O8 + 0.2 O2 -> MnO2 (mu_O=0),\n",
       " Mn2O3 + Y2O3 + 0.5 O2 -> Y2Mn2O7 (mu_O=0),\n",
       " 2 Mn + 0.5 Y2O3 + 1.75 O2 -> YMn2O5 (mu_O=0),\n",
       " 2 MnO + Y + 1.5 O2 -> YMn2O5 (mu_O=0),\n",
       " Mn2O3 + 2 Y + 2 O2 -> Y2Mn2O7 (mu_O=0),\n",
       " MnO + 0.5 Y2Mn2O7 + 0.25 O2 -> YMn2O5 (mu_O=0),\n",
       " MnO + YMnO3 + 0.5 O2 -> YMn2O5 (mu_O=0)]"
      ]
     },
     "execution_count": 65,
     "metadata": {},
     "output_type": "execute_result"
    }
   ],
   "source": [
    "mgpe = MinimizeGrandPotentialEnumerator(open_elem=Element(\"O\"), mu=0)\n",
    "open_rxns = mgpe.enumerate(filtered_entries)\n",
    "open_rxns"
   ]
  },
  {
   "cell_type": "markdown",
   "id": "3a487f9d",
   "metadata": {},
   "source": [
    "Note that the reaction objects returned are now of a different type: `OpenComputedReaction`. This class allows for easy specification of reactions where one of the elements is assigned a chemical potential."
   ]
  },
  {
   "cell_type": "code",
   "execution_count": 66,
   "id": "cc8c2fc0",
   "metadata": {},
   "outputs": [
    {
     "name": "stdout",
     "output_type": "stream",
     "text": [
      "OpenComputedReaction\n"
     ]
    }
   ],
   "source": [
    "r = open_rxns[0]\n",
    "print(r.__class__.__name__)"
   ]
  },
  {
   "cell_type": "markdown",
   "id": "8f6ff7b4",
   "metadata": {},
   "source": [
    "We can also, as before, customize which precursors and targets are specified:"
   ]
  },
  {
   "cell_type": "code",
   "execution_count": 67,
   "id": "d28a8606",
   "metadata": {},
   "outputs": [
    {
     "name": "stderr",
     "output_type": "stream",
     "text": [
      "O-Y: 100%|█████████████████████████████████████████████████████████████████████████████████████████████████████████████████████████████████████████| 2/2 [00:00<00:00, 16.24it/s]\n"
     ]
    },
    {
     "data": {
      "text/plain": [
       "[0.4 Mn5O8 + Y2O3 + 0.4 O2 -> Y2Mn2O7 (mu_O=0),\n",
       " 0.4 Mn5O8 + 0.5 Y2O3 + 0.15 O2 -> YMn2O5 (mu_O=0),\n",
       " 2 MnO + 0.5 Y2O3 + 0.75 O2 -> YMn2O5 (mu_O=0),\n",
       " 2 MnO + Y2O3 + O2 -> Y2Mn2O7 (mu_O=0),\n",
       " 2 Mn + Y2O3 + 2 O2 -> Y2Mn2O7 (mu_O=0),\n",
       " 0.6667 Mn3O4 + 0.5 Y2O3 + 0.4167 O2 -> YMn2O5 (mu_O=0),\n",
       " 0.6667 Mn3O4 + Y2O3 + 0.6667 O2 -> Y2Mn2O7 (mu_O=0),\n",
       " Mn2O3 + Y2O3 + 0.5 O2 -> Y2Mn2O7 (mu_O=0),\n",
       " 0.5 Y2O3 + YMn2O5 + 0.25 O2 -> Y2Mn2O7 (mu_O=0),\n",
       " 0.1667 YMn12 + 0.4167 Y2O3 + 1.875 O2 -> YMn2O5 (mu_O=0),\n",
       " 2 Mn + 0.5 Y2O3 + 1.75 O2 -> YMn2O5 (mu_O=0),\n",
       " Mn2O3 + 0.5 Y2O3 + 0.25 O2 -> YMn2O5 (mu_O=0),\n",
       " 8 MnO2 + 2 Y2O3 -> O2 + 4 YMn2O5 (mu_O=0),\n",
       " 0.1667 YMn12 + 0.9167 Y2O3 + 2.125 O2 -> Y2Mn2O7 (mu_O=0)]"
      ]
     },
     "execution_count": 67,
     "metadata": {},
     "output_type": "execute_result"
    }
   ],
   "source": [
    "mgpe_precursors = MinimizeGrandPotentialEnumerator(open_elem=Element(\"O\"), mu=0,\n",
    "                                                   precursors=[\"Y2O3\"], exclusive_precursors=False)\n",
    "open_rxns_precursors = mgpe_precursors.enumerate(filtered_entries)\n",
    "open_rxns_precursors"
   ]
  },
  {
   "cell_type": "code",
   "execution_count": 68,
   "id": "f859e421",
   "metadata": {},
   "outputs": [
    {
     "name": "stderr",
     "output_type": "stream",
     "text": [
      "Mn-O-Y: 100%|██████████████████████████████████████████████████████████████████████████████████████████████████████████████████████████████████████| 1/1 [00:00<00:00,  3.07it/s]\n"
     ]
    },
    {
     "data": {
      "text/plain": [
       "[0.4 Mn5O8 + Y2O3 + 0.4 O2 -> Y2Mn2O7 (mu_O=0),\n",
       " 2 MnO + Y2O3 + O2 -> Y2Mn2O7 (mu_O=0),\n",
       " 2 Mn + Y2O3 + 2 O2 -> Y2Mn2O7 (mu_O=0),\n",
       " 2 MnO2 + 2 Y + 1.5 O2 -> Y2Mn2O7 (mu_O=0),\n",
       " 0.6667 Mn3O4 + 2 Y + 2.167 O2 -> Y2Mn2O7 (mu_O=0),\n",
       " 2 MnO + 2 Y + 2.5 O2 -> Y2Mn2O7 (mu_O=0),\n",
       " 0.6667 Mn3O4 + Y2O3 + 0.6667 O2 -> Y2Mn2O7 (mu_O=0),\n",
       " Mn2O3 + Y2O3 + 0.5 O2 -> Y2Mn2O7 (mu_O=0),\n",
       " 0.5 Y2O3 + YMn2O5 + 0.25 O2 -> Y2Mn2O7 (mu_O=0),\n",
       " Y + YMn2O5 + O2 -> Y2Mn2O7 (mu_O=0),\n",
       " 0.4 Mn5O8 + 2 Y + 1.9 O2 -> Y2Mn2O7 (mu_O=0),\n",
       " Mn2O3 + 2 Y + 2 O2 -> Y2Mn2O7 (mu_O=0),\n",
       " 2 YMnO3 + 0.5 O2 -> Y2Mn2O7 (mu_O=0),\n",
       " 0.1667 YMn12 + 0.9167 Y2O3 + 2.125 O2 -> Y2Mn2O7 (mu_O=0)]"
      ]
     },
     "execution_count": 68,
     "metadata": {},
     "output_type": "execute_result"
    }
   ],
   "source": [
    "mgpe_precursors = MinimizeGrandPotentialEnumerator(open_elem=Element(\"O\"), mu=0,\n",
    "                                                   targets=[\"Y2Mn2O7\"])\n",
    "open_rxns_targets = mgpe_precursors.enumerate(filtered_entries)\n",
    "open_rxns_targets"
   ]
  },
  {
   "cell_type": "markdown",
   "id": "a89b08c0",
   "metadata": {},
   "source": [
    "Note that setting the chemical potential to a value outside of the range of stability of the target causes the enumerator to yield no reactions:"
   ]
  },
  {
   "cell_type": "code",
   "execution_count": 69,
   "id": "6faafecf",
   "metadata": {},
   "outputs": [
    {
     "name": "stderr",
     "output_type": "stream",
     "text": [
      "Mn-O-Y: 100%|██████████████████████████████████████████████████████████████████████████████████████████████████████████████████████████████████████| 1/1 [00:00<00:00,  4.03it/s]\n"
     ]
    },
    {
     "data": {
      "text/plain": [
       "[]"
      ]
     },
     "execution_count": 69,
     "metadata": {},
     "output_type": "execute_result"
    }
   ],
   "source": [
    "mgpe_precursors = MinimizeGrandPotentialEnumerator(open_elem=Element(\"O\"), mu=-3,\n",
    "                                                   targets=[\"Y2Mn2O7\"])\n",
    "open_rxns_targets = mgpe_precursors.enumerate(filtered_entries)\n",
    "open_rxns_targets"
   ]
  },
  {
   "cell_type": "markdown",
   "id": "f04bd0fe",
   "metadata": {},
   "source": [
    "## Running enumerators with the Fireworks package\n",
    "\n",
    "A convenient way to run one or more enumerators is to use the `EnumeratorFW`, a wrapper for running enumerators that is written as a `Firework` within the _fireworks_ package. This allows for easy workflow management, such as queue submissions, I/O serialization, tracking of calculations, etc.\n",
    "\n",
    "The `EnumeratorFW` has support for acquiring entries either from a custom entry database (MongoDB), or from the Materials Project using `MPRester` API. To set up the firework, we simply provide a list of enumerators, and any of the optional parameters. If a chemical system is provided, entires for that system will be acquired before running the enumerator(s)."
   ]
  },
  {
   "cell_type": "code",
   "execution_count": 70,
   "id": "eb27b96a",
   "metadata": {},
   "outputs": [],
   "source": [
    "from rxn_network.fireworks import EnumeratorFW\n",
    "from fireworks import Workflow, LaunchPad"
   ]
  },
  {
   "cell_type": "code",
   "execution_count": 71,
   "id": "ba4c338f",
   "metadata": {},
   "outputs": [],
   "source": [
    "be = BasicEnumerator()\n",
    "fw = EnumeratorFW([be], chemsys=\"Y-Mn-O\", entry_set_params={\"e_above_hull\":0})"
   ]
  },
  {
   "cell_type": "markdown",
   "id": "bdb70fc5",
   "metadata": {},
   "source": [
    "The firework is simply a dictionary with a list of FireTasks where 1) entries are acquired, 2) enumerators are run, and 3) reactions are stored in a specified database"
   ]
  },
  {
   "cell_type": "markdown",
   "id": "20c7c143",
   "metadata": {},
   "source": [
    "We then place the firework by itself into a `Workflow` so that it can be added to our fireworks `LaunchPad` (see the fireworks documentation for more info on setting this up):"
   ]
  },
  {
   "cell_type": "code",
   "execution_count": 77,
   "id": "2775e073",
   "metadata": {},
   "outputs": [],
   "source": [
    "wf = Workflow([fw], name=\"Y-Mn-O Enumerator\")"
   ]
  },
  {
   "cell_type": "code",
   "execution_count": 78,
   "id": "a1cc7812",
   "metadata": {},
   "outputs": [
    {
     "name": "stdout",
     "output_type": "stream",
     "text": [
      "2022-02-16 13:08:19,023 INFO Added a workflow. id_map: {4617: 4618}\n"
     ]
    },
    {
     "data": {
      "text/plain": [
       "{4617: 4618}"
      ]
     },
     "execution_count": 78,
     "metadata": {},
     "output_type": "execute_result"
    }
   ],
   "source": [
    "lpad = LaunchPad.auto_load()\n",
    "lpad.add_wf(wf)"
   ]
  },
  {
   "cell_type": "markdown",
   "id": "3b67573a",
   "metadata": {},
   "source": [
    "The workflow can now either be launched through a queue submission (i.e. for supercomputer use) or simply on your local machine, by running `rlaunch singleshot` in your terminal as below. **Note**: this will launch in whatever folder this notebook is in!"
   ]
  },
  {
   "cell_type": "code",
   "execution_count": 79,
   "id": "470d992a",
   "metadata": {},
   "outputs": [
    {
     "name": "stdout",
     "output_type": "stream",
     "text": [
      "2022-02-16 13:08:22,493 INFO Hostname/IP lookup (this will take a few seconds)\n",
      "2022-02-16 13:08:22,496 INFO Launching Rocket\n",
      "2022-02-16 13:08:26,918 INFO RUNNING fw_id: 4618 in directory: /Users/mcdermott/PycharmProjects/reaction-network/notebooks\n",
      "2022-02-16 13:08:27,164 INFO Task started: {{rxn_network.firetasks.build_inputs.EntriesFromDb}}.\n",
      "2022-02-16 13:08:28,412 INFO Task completed: {{rxn_network.firetasks.build_inputs.EntriesFromDb}} \n",
      "2022-02-16 13:08:28,474 INFO Task started: {{rxn_network.firetasks.run_calc.RunEnumerators}}.\n",
      "O-Y: 100%|████████████████████████████████████████| 4/4 [00:01<00:00,  3.56it/s]\n",
      "2022-02-16 13:08:29,734 INFO Task completed: {{rxn_network.firetasks.run_calc.RunEnumerators}} \n",
      "2022-02-16 13:08:29,830 INFO Task started: {{rxn_network.firetasks.parse_outputs.ReactionsToDb}}.\n",
      "2022-02-16 13:08:30,169 INFO rxn_network.utils.database Updating /Users/mcdermott/PycharmProjects/reaction-network/notebooks with taskid = 82\n",
      "2022-02-16 13:08:30,291 INFO Task completed: {{rxn_network.firetasks.parse_outputs.ReactionsToDb}} \n",
      "2022-02-16 13:08:30,920 INFO Rocket finished\n"
     ]
    }
   ],
   "source": [
    "!rlaunch singleshot"
   ]
  },
  {
   "cell_type": "markdown",
   "id": "aa8a228a",
   "metadata": {},
   "source": [
    "If any errors are encountered, please double-check that your Fireworks settings are configured properly. If the error persists, please raise an Issue here: https://github.com/GENESIS-EFRC/reaction-network/issues"
   ]
  }
 ],
 "metadata": {
  "kernelspec": {
   "display_name": "Python 3 (ipykernel)",
   "language": "python",
   "name": "python3"
  },
  "language_info": {
   "codemirror_mode": {
    "name": "ipython",
    "version": 3
   },
   "file_extension": ".py",
   "mimetype": "text/x-python",
   "name": "python",
   "nbconvert_exporter": "python",
   "pygments_lexer": "ipython3",
   "version": "3.9.10"
  }
 },
 "nbformat": 4,
 "nbformat_minor": 5
}
