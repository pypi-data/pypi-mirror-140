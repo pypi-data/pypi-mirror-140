{
 "cells": [
  {
   "cell_type": "markdown",
   "id": "e0d32be5",
   "metadata": {},
   "source": [
    "# Advanced Bayes Search CV Example"
   ]
  },
  {
   "cell_type": "markdown",
   "id": "38d3390d",
   "metadata": {},
   "source": [
    "This is a more advanced example of how the `BayesSearchCV` class can be applied - it's recommended that you first read through the simpler `bayes_search_cv_example`."
   ]
  },
  {
   "cell_type": "markdown",
   "id": "be487a30",
   "metadata": {},
   "source": [
    "The `BayesSearchCV` class is used to search for the set of hyperparameters that produce the best decision engine performance for a given Iguanas Pipeline, whilst also reducing the likelihood of overfitting.\n",
    "\n",
    "The process is as follows:\n",
    "\n",
    "* Generate k-fold stratified cross validation datasets. \n",
    "* For each of the training and validation datasets:\n",
    "    * Fit the pipeline on the training set using a set of parameters chosen by the Bayesian Optimiser from a given set of ranges.\n",
    "    * Apply the pipeline to the validation set to return a prediction.\n",
    "    * Use the provided `scorer` to calculate the score of the prediction.\n",
    "* Return the parameter set which generated the highest mean overall score across the validation datasets.\n",
    "\n",
    "In this example, we'll consider the following more advanced workflow (compared to the standard `bayes_search_cv_example` notebook), which considers the generation of a Rules-Based System for a credit card fraud transaction use case:"
   ]
  },
  {
   "cell_type": "markdown",
   "id": "accdca31",
   "metadata": {},
   "source": [
    "<center><img src=\"images/complex_example.png\"/></center>"
   ]
  },
  {
   "cell_type": "markdown",
   "id": "e25f0c9f",
   "metadata": {},
   "source": [
    "Here, we have a fraud detection use case, and we're aiming to create two distinct rule sets - one for flagging fraudulent behaviour; one for flagging good behaviour. Each of these rule sets will be comprised of a generated rule set and an existing rule set. We'll optimise and filter these two rule sets separately, then combine and feed them into the decision engine optimiser. **Note:** we optimise the generated rules as they'll be created using the `RuleGeneratorDT` class, which generates rules from the branches of decision trees - these split based on gini or entropy - so we can further optimise them for a specific metric. \n",
    "\n",
    "**The decision engine will have the following constraint:** for a given transaction, if any approve rules fire it will be approved; else, if any reject rules fire it will be rejected; else, it will be approved."
   ]
  },
  {
   "cell_type": "markdown",
   "id": "5f2b9f4d",
   "metadata": {},
   "source": [
    "We'll use the `BayesSearchCV` class to optimise the hyperparameters of the steps in this workflow, **ensuring that we maximise the revenue for our decision engine.**"
   ]
  },
  {
   "cell_type": "markdown",
   "id": "c0aba9dc",
   "metadata": {},
   "source": [
    "---"
   ]
  },
  {
   "cell_type": "markdown",
   "id": "b438fcc3",
   "metadata": {},
   "source": [
    "## Import packages"
   ]
  },
  {
   "cell_type": "code",
   "execution_count": 1,
   "id": "250846dc",
   "metadata": {},
   "outputs": [],
   "source": [
    "from iguanas.rule_generation import RuleGeneratorDT\n",
    "from iguanas.rule_selection import SimpleFilter, CorrelatedFilter, GreedyFilter, BayesSearchCV\n",
    "from iguanas.metrics import FScore, Precision, Revenue, JaccardSimilarity\n",
    "from iguanas.rbs import RBSOptimiser, RBSPipeline\n",
    "from iguanas.correlation_reduction import AgglomerativeClusteringReducer\n",
    "from iguanas.pipeline import LinearPipeline, ParallelPipeline\n",
    "from iguanas.pipeline.class_accessor import ClassAccessor\n",
    "from iguanas.space import UniformFloat, UniformInteger, Choice\n",
    "from iguanas.rules import Rules\n",
    "from iguanas.rule_optimisation import BayesianOptimiser\n",
    "\n",
    "import pandas as pd\n",
    "import numpy as np\n",
    "from sklearn.model_selection import train_test_split\n",
    "from category_encoders.one_hot import OneHotEncoder\n",
    "from sklearn.ensemble import RandomForestClassifier\n",
    "from sklearn.impute import SimpleImputer"
   ]
  },
  {
   "cell_type": "markdown",
   "id": "6fce42ec",
   "metadata": {},
   "source": [
    "## Read in data"
   ]
  },
  {
   "cell_type": "markdown",
   "id": "e0492642",
   "metadata": {},
   "source": [
    "Let's read in the [credit card fraud dataset](https://www.kaggle.com/mlg-ulb/creditcardfraud) from Kaggle.\n",
    "\n",
    "**Note:** this data has been altered to include some null values in the `V1` column. This is to simulate unprocessed data (the dataset on Kaggle has been processed using PCA, so there are no null values). It has also been randomly sampled to 10% of its original number of records, to reduce the file size."
   ]
  },
  {
   "cell_type": "code",
   "execution_count": 2,
   "id": "a3cba0d0",
   "metadata": {},
   "outputs": [],
   "source": [
    "target_col = 'Class'\n",
    "time_col = 'Time'\n",
    "amt_col = 'Amount'\n",
    "# Ready in data\n",
    "df = pd.read_csv('dummy_data/creditcard.csv')\n",
    "# Sort data by time ascending\n",
    "df.sort_values(time_col, ascending=True)\n",
    "# Create X and y dataframes\n",
    "X = df.drop([target_col, time_col], axis=1)\n",
    "y = df[target_col]"
   ]
  },
  {
   "cell_type": "code",
   "execution_count": 3,
   "id": "d7bdbd3b",
   "metadata": {},
   "outputs": [],
   "source": [
    "X_train_raw, X_test_raw, y_train, y_test = train_test_split(\n",
    "    X,\n",
    "    y,\n",
    "    test_size=0.33,\n",
    "    random_state=42\n",
    ")"
   ]
  },
  {
   "cell_type": "markdown",
   "id": "b87b45f8",
   "metadata": {},
   "source": [
    "To calculate the **Revenue**, we need the monetary amount of each transaction - we'll use these later:"
   ]
  },
  {
   "cell_type": "code",
   "execution_count": 4,
   "id": "e6f1b6aa",
   "metadata": {},
   "outputs": [],
   "source": [
    "amts_train = X_train_raw[amt_col]\n",
    "amts_test = X_test_raw[amt_col]"
   ]
  },
  {
   "cell_type": "markdown",
   "id": "7e333328",
   "metadata": {},
   "source": [
    "### Process data"
   ]
  },
  {
   "cell_type": "markdown",
   "id": "d0f247ba",
   "metadata": {},
   "source": [
    "Let's impute the null values with the mean:"
   ]
  },
  {
   "cell_type": "code",
   "execution_count": 5,
   "id": "7c2847fe",
   "metadata": {},
   "outputs": [],
   "source": [
    "imputer = SimpleImputer(strategy='mean')\n",
    "X_train = pd.DataFrame(\n",
    "    imputer.fit_transform(X_train_raw),\n",
    "    columns=X_train_raw.columns,\n",
    "    index=X_train_raw.index\n",
    ")\n",
    "X_test = pd.DataFrame(\n",
    "    imputer.transform(X_test_raw),\n",
    "    columns=X_test_raw.columns,\n",
    "    index=X_test_raw.index\n",
    ")"
   ]
  },
  {
   "cell_type": "code",
   "execution_count": 6,
   "id": "59542978",
   "metadata": {},
   "outputs": [
    {
     "data": {
      "text/plain": [
       "(0, 0)"
      ]
     },
     "execution_count": 6,
     "metadata": {},
     "output_type": "execute_result"
    }
   ],
   "source": [
    "# Check nulls have been imputed\n",
    "X_train.isna().sum().sum(), X_test.isna().sum().sum()"
   ]
  },
  {
   "cell_type": "markdown",
   "id": "264db228",
   "metadata": {},
   "source": [
    "### Existing rules"
   ]
  },
  {
   "cell_type": "markdown",
   "id": "8a962c1a",
   "metadata": {},
   "source": [
    "Let's also assume we have the following existing rules, stored in the standard Iguanas string format:"
   ]
  },
  {
   "cell_type": "code",
   "execution_count": 7,
   "id": "aa27c75c",
   "metadata": {},
   "outputs": [],
   "source": [
    "fraud_rule_strings = {\n",
    "    \"ExistingReject1\": \"((X['V1']<0)|(X['V1'].isna()))&(X['V3']<1)\",\n",
    "    \"ExistingReject2\": \"(X['V2']>3)\",\n",
    "}\n",
    "good_rule_strings = {\n",
    "    \"ExistingApprove1\": \"(X['V1']>0)&(X['V3']>1)\",\n",
    "    \"ExistingApprove2\": \"(X['V2']<3)\",\n",
    "    \"ExistingApprove3\": \"(X['V4']<3)\"\n",
    "}"
   ]
  },
  {
   "cell_type": "markdown",
   "id": "b968b864",
   "metadata": {},
   "source": [
    "We can create a `Rules` class for each of these:"
   ]
  },
  {
   "cell_type": "code",
   "execution_count": 8,
   "id": "efebadf2",
   "metadata": {},
   "outputs": [],
   "source": [
    "fraud_rules = Rules(rule_strings=fraud_rule_strings)\n",
    "good_rules = Rules(rule_strings=good_rule_strings)"
   ]
  },
  {
   "cell_type": "markdown",
   "id": "2d7c285c",
   "metadata": {},
   "source": [
    "Then convert them to the standard Iguanas lambda expression format (we'll need this for the optimisation step):"
   ]
  },
  {
   "cell_type": "code",
   "execution_count": 9,
   "id": "5fe88107",
   "metadata": {},
   "outputs": [],
   "source": [
    "fraud_rule_lambdas = fraud_rules.as_rule_lambdas(\n",
    "    as_numpy=False, \n",
    "    with_kwargs=True\n",
    ")\n",
    "good_rule_lambdas = good_rules.as_rule_lambdas(\n",
    "    as_numpy=False, \n",
    "    with_kwargs=True\n",
    ")"
   ]
  },
  {
   "cell_type": "markdown",
   "id": "225e38dd",
   "metadata": {},
   "source": [
    "----"
   ]
  },
  {
   "cell_type": "markdown",
   "id": "35bc7364",
   "metadata": {},
   "source": [
    "## Set up pipeline"
   ]
  },
  {
   "cell_type": "markdown",
   "id": "fc67c9cc",
   "metadata": {},
   "source": [
    "Before we can apply the `BayesSearchCV` class, we need to set up our pipeline. To create the workflow shown at the beginning of the notebook, we must use a combination of `LinearPipeline` and `ParallelPipeline` classes as shown below:"
   ]
  },
  {
   "cell_type": "markdown",
   "id": "a7a0c858",
   "metadata": {},
   "source": [
    "![title](images/complex_example_setup.png)"
   ]
  },
  {
   "cell_type": "markdown",
   "id": "63225704",
   "metadata": {},
   "source": [
    "Let's begin building the **Fraud *LinearPipeline***."
   ]
  },
  {
   "cell_type": "markdown",
   "id": "22153af3",
   "metadata": {},
   "source": [
    "### Fraud *LinearPipeline*"
   ]
  },
  {
   "cell_type": "markdown",
   "id": "7e237848",
   "metadata": {},
   "source": [
    "Let's first instantiate the classes that we'll use in the pipeline:"
   ]
  },
  {
   "cell_type": "code",
   "execution_count": 10,
   "id": "11021686",
   "metadata": {},
   "outputs": [],
   "source": [
    "# F1 Score\n",
    "f1 = FScore(beta=1)\n",
    "# Precision\n",
    "p = Precision()\n",
    "    \n",
    "# Rule generation\n",
    "fraud_gen = RuleGeneratorDT(\n",
    "    metric=f1.fit,\n",
    "    n_total_conditions=2,\n",
    "    tree_ensemble=RandomForestClassifier(\n",
    "        n_estimators=10,\n",
    "        random_state=0\n",
    "    ),\n",
    "    target_feat_corr_types='Infer',\n",
    "    rule_name_prefix='Reject' # Set this so generated reject rules distinguishable from approve rules\n",
    ")\n",
    "\n",
    "# Rule optimisation (for generated rules)\n",
    "fraud_gen_opt = BayesianOptimiser(\n",
    "    rule_lambdas=ClassAccessor(\n",
    "        class_tag='fraud_gen',\n",
    "        class_attribute='rule_lambdas'\n",
    "    ),\n",
    "    lambda_kwargs=ClassAccessor(\n",
    "        class_tag='fraud_gen',\n",
    "        class_attribute='lambda_kwargs'\n",
    "    ),\n",
    "    metric=f1.fit,\n",
    "    n_iter=10\n",
    ")\n",
    "\n",
    "# Rule optimisation (for existing rules)\n",
    "fraud_opt = BayesianOptimiser(\n",
    "    rule_lambdas=fraud_rule_lambdas,\n",
    "    lambda_kwargs=fraud_rules.lambda_kwargs,\n",
    "    metric=f1.fit,\n",
    "    n_iter=10\n",
    ")\n",
    "\n",
    "# Rule filter (performance-based)\n",
    "fraud_sf = SimpleFilter(\n",
    "    threshold=0.1, \n",
    "    operator='>=', \n",
    "    metric=f1.fit\n",
    ")\n",
    "\n",
    "# Rule filter (correlation-based)\n",
    "js = JaccardSimilarity()\n",
    "fraud_cf = CorrelatedFilter(\n",
    "    correlation_reduction_class=AgglomerativeClusteringReducer(\n",
    "        threshold=0.9, \n",
    "        strategy='top_down', \n",
    "        similarity_function=js.fit, \n",
    "        metric=f1.fit\n",
    "    ), \n",
    "    rules=ClassAccessor(\n",
    "        class_tag='fraud_gen',\n",
    "        class_attribute='rules'\n",
    "    )\n",
    ")"
   ]
  },
  {
   "cell_type": "markdown",
   "id": "f5446d91",
   "metadata": {},
   "source": [
    "Now we can create our **Fraud Rule Generation *LinearPipeline***. Note that we pass the tag for the optimisation of the generated rules to the `use_init_data` parameter, so that the feature set is passed to the `BayesianOptimiser` class, rather than the output from the `RuleGeneratorDT`:"
   ]
  },
  {
   "cell_type": "code",
   "execution_count": 11,
   "id": "5bb0c41f",
   "metadata": {},
   "outputs": [],
   "source": [
    "fraud_gen_lp = LinearPipeline(\n",
    "    steps = [\n",
    "        ('fraud_gen', fraud_gen),\n",
    "        ('fraud_gen_opt', fraud_gen_opt),\n",
    "    ],\n",
    "    use_init_data=['fraud_gen_opt']\n",
    ")"
   ]
  },
  {
   "cell_type": "markdown",
   "id": "24d73384",
   "metadata": {},
   "source": [
    "And then our **Fraud *ParallelPipeline*** (noting that one of the steps in this pipeline is the **Fraud Rule Generation *LinearPipeline*** created above):"
   ]
  },
  {
   "cell_type": "code",
   "execution_count": 12,
   "id": "ea4a5009",
   "metadata": {},
   "outputs": [],
   "source": [
    "fraud_gen_lp = ParallelPipeline(\n",
    "    steps = [\n",
    "        ('fraud_gen_lp', fraud_gen_lp),\n",
    "        ('fraud_opt', fraud_opt),\n",
    "    ]\n",
    ")"
   ]
  },
  {
   "cell_type": "markdown",
   "id": "2221f1af",
   "metadata": {},
   "source": [
    "And then finally, our **Fraud *LinearPipeline***:"
   ]
  },
  {
   "cell_type": "code",
   "execution_count": 13,
   "id": "32c06d7a",
   "metadata": {},
   "outputs": [],
   "source": [
    "fraud_lp = LinearPipeline(\n",
    "    steps = [\n",
    "        ('fraud_gen_lp', fraud_gen_lp),\n",
    "        ('fraud_sf', fraud_sf),\n",
    "        ('fraud_cf', fraud_cf)\n",
    "    ]\n",
    ")"
   ]
  },
  {
   "cell_type": "markdown",
   "id": "cde2dabb",
   "metadata": {},
   "source": [
    "Now we can do the same for the **Good *LinearPipeline***:"
   ]
  },
  {
   "cell_type": "markdown",
   "id": "9cc04ffd",
   "metadata": {},
   "source": [
    "### Good *LinearPipeline*"
   ]
  },
  {
   "cell_type": "markdown",
   "id": "3e3f0cba",
   "metadata": {},
   "source": [
    "Let's first instantiate the classes that we'll use in the pipeline:"
   ]
  },
  {
   "cell_type": "code",
   "execution_count": 14,
   "id": "ccb4d21b",
   "metadata": {},
   "outputs": [],
   "source": [
    "# Rule generation\n",
    "good_gen = RuleGeneratorDT(\n",
    "    metric=f1.fit,\n",
    "    n_total_conditions=2,\n",
    "    tree_ensemble=RandomForestClassifier(\n",
    "        n_estimators=10,\n",
    "        random_state=0\n",
    "    ),\n",
    "    target_feat_corr_types='Infer',\n",
    "    rule_name_prefix='Approve' # Set this so generated reject rules distinguishable from approve rules\n",
    ")\n",
    "\n",
    "# Rule optimisation (for generated rules)\n",
    "good_gen_opt = BayesianOptimiser(\n",
    "    rule_lambdas=ClassAccessor(\n",
    "        class_tag='good_gen',\n",
    "        class_attribute='rule_lambdas'\n",
    "    ),\n",
    "    lambda_kwargs=ClassAccessor(\n",
    "        class_tag='good_gen',\n",
    "        class_attribute='lambda_kwargs'\n",
    "    ),\n",
    "    metric=f1.fit,\n",
    "    n_iter=10\n",
    ")\n",
    "\n",
    "# Rule optimisation (for existing rules)\n",
    "good_opt = BayesianOptimiser(\n",
    "    rule_lambdas=good_rule_lambdas,\n",
    "    lambda_kwargs=good_rules.lambda_kwargs,\n",
    "    metric=f1.fit,\n",
    "    n_iter=10\n",
    ")\n",
    "\n",
    "# Rule filter (performance-based)\n",
    "good_sf = SimpleFilter(\n",
    "    threshold=0.1, \n",
    "    operator='>=', \n",
    "    metric=f1.fit\n",
    ")\n",
    "\n",
    "# Rule filter (correlation-based)\n",
    "js = JaccardSimilarity()\n",
    "good_cf = CorrelatedFilter(\n",
    "    correlation_reduction_class=AgglomerativeClusteringReducer(\n",
    "        threshold=0.9, \n",
    "        strategy='top_down', \n",
    "        similarity_function=js.fit, \n",
    "        metric=f1.fit\n",
    "    ),\n",
    "    rules=ClassAccessor(\n",
    "        class_tag='good_gen',\n",
    "        class_attribute='rules'\n",
    "    )\n",
    ")"
   ]
  },
  {
   "cell_type": "markdown",
   "id": "94aee9a5",
   "metadata": {},
   "source": [
    "Now we can create our **Good Rule Generation *LinearPipeline***. Note that we pass the tag for the optimisation of the generated rules to the `use_init_data` parameter, so that the feature set is passed to the `BayesianOptimiser` class, rather than the output from the `RuleGeneratorDT`:"
   ]
  },
  {
   "cell_type": "code",
   "execution_count": 15,
   "id": "a974225b",
   "metadata": {},
   "outputs": [],
   "source": [
    "good_gen_lp = LinearPipeline(\n",
    "    steps = [\n",
    "        ('good_gen', good_gen),\n",
    "        ('good_gen_opt', good_gen_opt),\n",
    "    ],\n",
    "    use_init_data=['good_gen_opt']\n",
    ")"
   ]
  },
  {
   "cell_type": "markdown",
   "id": "32018c00",
   "metadata": {},
   "source": [
    "And then our **Good *ParallelPipeline*** (noting that one of the steps in this pipeline is the **Good Rule Generation *LinearPipeline*** created above):"
   ]
  },
  {
   "cell_type": "code",
   "execution_count": 16,
   "id": "00b426fc",
   "metadata": {},
   "outputs": [],
   "source": [
    "good_gen_lp = ParallelPipeline(\n",
    "    steps = [\n",
    "        ('good_gen_lp', good_gen_lp),\n",
    "        ('good_opt', good_opt),\n",
    "    ]\n",
    ")"
   ]
  },
  {
   "cell_type": "markdown",
   "id": "89812a67",
   "metadata": {},
   "source": [
    "And then finally, our **Good *LinearPipeline***:"
   ]
  },
  {
   "cell_type": "code",
   "execution_count": 17,
   "id": "b36294c1",
   "metadata": {},
   "outputs": [],
   "source": [
    "good_lp = LinearPipeline(\n",
    "    steps = [\n",
    "        ('good_gen_lp', good_gen_lp),\n",
    "        ('good_sf', good_sf),\n",
    "        ('good_cf', good_cf)\n",
    "    ]\n",
    ")"
   ]
  },
  {
   "cell_type": "markdown",
   "id": "09665388",
   "metadata": {},
   "source": [
    "Now we can move on to constructing the **Overall Pipelines:**"
   ]
  },
  {
   "cell_type": "markdown",
   "id": "efdb6dae",
   "metadata": {},
   "source": [
    "### Overall Pipelines"
   ]
  },
  {
   "cell_type": "markdown",
   "id": "58f13ca2",
   "metadata": {},
   "source": [
    "First, we'll construct our **Overall *ParallelPipeline*** using the **Fraud *LinearPipeline*** and **Good *LinearPipeline***:"
   ]
  },
  {
   "cell_type": "code",
   "execution_count": 18,
   "id": "93b9db14",
   "metadata": {},
   "outputs": [],
   "source": [
    "overall_pp = ParallelPipeline(\n",
    "    steps = [\n",
    "        ('fraud_lp', fraud_lp),\n",
    "        ('good_lp', good_lp)\n",
    "    ]\n",
    ")"
   ]
  },
  {
   "cell_type": "markdown",
   "id": "a79c1380",
   "metadata": {},
   "source": [
    "Now we can instantiate the decision engine optimiser. Since we have a constraint on the decision engine (if any approve rules fire, approve the transaction; else if any reject rules fire, reject the transaction; else approve the transaction), we pass the rules remaining after the filtering stages to the relevant elements in the `config` parameter of the `RBSPipeline` class, using the `ClassAccessor` class:"
   ]
  },
  {
   "cell_type": "code",
   "execution_count": 19,
   "id": "a6ab7f44",
   "metadata": {},
   "outputs": [],
   "source": [
    "# Decision engine optimisation metric\n",
    "opt_metric = Revenue(\n",
    "    y_type='Fraud',\n",
    "    chargeback_multiplier=3\n",
    ")\n",
    "\n",
    "# Decision engine (to be optimised)\n",
    "rbs_pipeline = RBSPipeline(\n",
    "    config=[\n",
    "        [\n",
    "            0, ClassAccessor( # If any approve rules fire, approve\n",
    "                class_tag='good_cf', \n",
    "                class_attribute='rules_to_keep'\n",
    "            ),\n",
    "        ],\n",
    "        [\n",
    "            1, ClassAccessor( # Else if any reject rules fire, reject\n",
    "                class_tag='fraud_cf', \n",
    "                class_attribute='rules_to_keep'\n",
    "            )\n",
    "        ],        \n",
    "    ],\n",
    "    final_decision=0 # Else approve\n",
    ")\n",
    "\n",
    "# Decision engine optimiser\n",
    "rbs_optimiser = RBSOptimiser(\n",
    "    pipeline=rbs_pipeline,\n",
    "    metric=opt_metric.fit,     \n",
    "    rules=ClassAccessor(\n",
    "        class_tag='overall_pp',\n",
    "        class_attribute='rules'\n",
    "    ),\n",
    "    n_iter=10\n",
    ")"
   ]
  },
  {
   "cell_type": "markdown",
   "id": "463a3521",
   "metadata": {},
   "source": [
    "Finally, we can instantiate our **Overall *LinearPipeline***:"
   ]
  },
  {
   "cell_type": "code",
   "execution_count": 20,
   "id": "a8a08b14",
   "metadata": {},
   "outputs": [],
   "source": [
    "overall_lp = LinearPipeline(\n",
    "    steps=[\n",
    "        ('overall_pp', overall_pp),\n",
    "        ('rbs_optimiser', rbs_optimiser)\n",
    "    ]\n",
    ")"
   ]
  },
  {
   "cell_type": "markdown",
   "id": "101b040d",
   "metadata": {},
   "source": [
    "## Define the search space"
   ]
  },
  {
   "cell_type": "markdown",
   "id": "3ed60794",
   "metadata": {},
   "source": [
    "Now we need to define the search space for each of the relevant parameters of our pipeline. **Note:** this example does not search across all hyperparameters - you should define your own search spaces based on your use case.\n",
    "\n",
    "To do this, we create a dictionary, where each key corresponds to the tag used for the relevant pipeline step. Each value should be a dictionary of the parameters (keys) and their search spaces (values). Search spaces should be defined using the classes in the `iguanas.space` module:"
   ]
  },
  {
   "cell_type": "code",
   "execution_count": 21,
   "id": "34febc0f",
   "metadata": {},
   "outputs": [],
   "source": [
    "# Define additional FScores\n",
    "f0dot5 = FScore(beta=0.5)\n",
    "f0dot25 = FScore(beta=0.25)"
   ]
  },
  {
   "cell_type": "code",
   "execution_count": 22,
   "id": "218a3ec1",
   "metadata": {},
   "outputs": [],
   "source": [
    "search_spaces = {\n",
    "    'fraud_gen': {\n",
    "        'n_total_conditions': UniformInteger(2, 7),\n",
    "    },\n",
    "    'fraud_gen_opt': {\n",
    "        'metric': Choice([f0dot25.fit, f0dot5.fit, f1.fit]),\n",
    "    },\n",
    "    'fraud_sf': {\n",
    "        'threshold': UniformFloat(0, 1),\n",
    "    },\n",
    "    'fraud_cf': {\n",
    "        'correlation_reduction_class': Choice(\n",
    "            [\n",
    "                AgglomerativeClusteringReducer(\n",
    "                    threshold=0.9, \n",
    "                    strategy='top_down', \n",
    "                    similarity_function=js.fit, \n",
    "                    metric=f1.fit                    \n",
    "                ),\n",
    "                AgglomerativeClusteringReducer(\n",
    "                    threshold=0.95, \n",
    "                    strategy='top_down', \n",
    "                    similarity_function=js.fit, \n",
    "                    metric=f1.fit                    \n",
    "                )\n",
    "            ]\n",
    "        )\n",
    "    },    \n",
    "    'good_gen': {\n",
    "        'n_total_conditions': UniformInteger(2, 7),\n",
    "    },\n",
    "    'good_gen_opt': {\n",
    "        'metric': Choice([f0dot25.fit, f0dot5.fit, f1.fit]),\n",
    "    },\n",
    "    'good_sf': {\n",
    "        'threshold': UniformFloat(0, 1),\n",
    "    },\n",
    "    'good_cf': {\n",
    "        'correlation_reduction_class': Choice(\n",
    "            [\n",
    "                AgglomerativeClusteringReducer(\n",
    "                    threshold=0.9, \n",
    "                    strategy='top_down', \n",
    "                    similarity_function=js.fit, \n",
    "                    metric=f1.fit                    \n",
    "                ),\n",
    "                AgglomerativeClusteringReducer(\n",
    "                    threshold=0.95, \n",
    "                    strategy='top_down', \n",
    "                    similarity_function=js.fit, \n",
    "                    metric=f1.fit                    \n",
    "                )\n",
    "            ]\n",
    "        )\n",
    "    }\n",
    "}"
   ]
  },
  {
   "cell_type": "markdown",
   "id": "e63e6476",
   "metadata": {},
   "source": [
    "## Optimise the pipeline hyperparameters"
   ]
  },
  {
   "cell_type": "markdown",
   "id": "80181bf4",
   "metadata": {},
   "source": [
    "Now that we have our pipeline and search spaces defined, we can instantiate the `BayesSearchCV` class. We'll split our data into 3 cross-validation datasets and try 10 different parameter sets.\n",
    "\n",
    "**Note:** since we're using the `Revenue` as the scoring metric for the `BayesSearchCV` class, we need to set the `sample_weight_in_val` parameter to `True`. This ensures that the `sample_weight` passed to the final step in the pipeline is used when applying the `metric` function to the prediction of each validation set (for `Revenue`, the `sample_weight` corresponds to the monetary amount of each transaction, which is required)."
   ]
  },
  {
   "cell_type": "code",
   "execution_count": 23,
   "id": "2060a0c8",
   "metadata": {},
   "outputs": [],
   "source": [
    "bs = BayesSearchCV(\n",
    "    pipeline=overall_lp, \n",
    "    search_spaces=search_spaces, \n",
    "    metric=opt_metric.fit, # Use the same metric as the RBSOptimiser\n",
    "    cv=3, \n",
    "    n_iter=10,\n",
    "    num_cores=3,\n",
    "    error_score=0,\n",
    "    verbose=1,\n",
    "    sample_weight_in_val=True # Set to True\n",
    ")"
   ]
  },
  {
   "cell_type": "markdown",
   "id": "cee3ff2a",
   "metadata": {},
   "source": [
    "Finally, we can run the `fit` method to optimise the hyperparameters of the pipeline. \n",
    "\n",
    "**Note the following:** \n",
    "\n",
    "* The existing rules contain conditions that rely on unprocessed data (in this case, there are conditions that check for nulls). So for the rule optimisation steps, we must use the unprocessed training data `X_train_raw`; for the rule generation steps, we must use the processed training data `X_train`.\n",
    "* Since we're generating and optimising rules that flag both positive and negative cases (i.e. reject and approve rules in this example), we need to specify what the target is in each case. For the reject rules, we can just use `y_train`, however for the approve rules, we need to flip `y_train` (so that the rule generator and rule optimisers target the negative cases).\n",
    "* We need the `amts_train` to be passed to the `sample_weight` parameter of the `RBSOptimiser`, as we're optimising the decision engine for the `Revenue`."
   ]
  },
  {
   "cell_type": "code",
   "execution_count": 24,
   "id": "af7f1e91",
   "metadata": {},
   "outputs": [
    {
     "name": "stdout",
     "output_type": "stream",
     "text": [
      "--- Optimising pipeline parameters ---\n",
      "100%|███████████████████████████████████████████████████████████████████████████████████████████████████████████████████████████████████████████████████████████████████████████████████████████████████████████████████████████████████████████| 10/10 [01:04<00:00,  6.43s/trial, best loss: -560248.5233333333]\n",
      "--- Refitting on entire dataset with best pipeline ---\n"
     ]
    }
   ],
   "source": [
    "bs.fit(\n",
    "    X={\n",
    "        'fraud_gen_lp': X_train, # Use processed features for rule generation\n",
    "        'fraud_opt': X_train_raw, # Use raw features for optimising existing rules\n",
    "        'good_gen_lp': X_train, # Use processed features for rule generation\n",
    "        'good_opt': X_train_raw # Use raw features for optimising existing rules\n",
    "    }, \n",
    "    y={\n",
    "        'fraud_lp': y_train, # Use target for Fraud LinearPipeline\n",
    "        'good_lp': 1-y_train, # Flip target for Good LinearPipeline\n",
    "        'rbs_optimiser': y_train # Use target for RBSOptimiser\n",
    "    },\n",
    "    sample_weight={\n",
    "        'fraud_lp': None, # No sample_weight for Fraud LinearPipeline\n",
    "        'good_lp': None, # No sample_weight for Good LinearPipeline\n",
    "        'rbs_optimiser': amts_train # sample_weight for RBSOptimiser\n",
    "    }\n",
    ")"
   ]
  },
  {
   "cell_type": "markdown",
   "id": "2486b3a4",
   "metadata": {},
   "source": [
    "### Outputs"
   ]
  },
  {
   "cell_type": "markdown",
   "id": "7c3ad83c",
   "metadata": {},
   "source": [
    "The `fit` method doesn't return anything. See the `Attributes` section in the class docstring for a description of each attribute generated:"
   ]
  },
  {
   "cell_type": "code",
   "execution_count": 25,
   "id": "b22e783f",
   "metadata": {},
   "outputs": [
    {
     "data": {
      "text/plain": [
       "560248.5233333333"
      ]
     },
     "execution_count": 25,
     "metadata": {},
     "output_type": "execute_result"
    }
   ],
   "source": [
    "bs.best_score"
   ]
  },
  {
   "cell_type": "code",
   "execution_count": 26,
   "id": "137d6bc7",
   "metadata": {},
   "outputs": [
    {
     "data": {
      "text/plain": [
       "{'fraud_cf': {'correlation_reduction_class': AgglomerativeClusteringReducer(threshold=0.9, strategy=top_down, similarity_function=<bound method JaccardSimilarity.fit of JaccardSimilarity>, metric=<bound method FScore.fit of FScore with beta=1>, print_clustermap=False)},\n",
       " 'fraud_gen': {'n_total_conditions': 7.0},\n",
       " 'fraud_gen_opt': {'metric': <bound method FScore.fit of FScore with beta=0.5>},\n",
       " 'fraud_sf': {'threshold': 0.43381170823234194},\n",
       " 'good_cf': {'correlation_reduction_class': AgglomerativeClusteringReducer(threshold=0.95, strategy=top_down, similarity_function=<bound method JaccardSimilarity.fit of JaccardSimilarity>, metric=<bound method FScore.fit of FScore with beta=1>, print_clustermap=False)},\n",
       " 'good_gen': {'n_total_conditions': 5.0},\n",
       " 'good_gen_opt': {'metric': <bound method FScore.fit of FScore with beta=0.25>},\n",
       " 'good_sf': {'threshold': 0.5309641649521473}}"
      ]
     },
     "execution_count": 26,
     "metadata": {},
     "output_type": "execute_result"
    }
   ],
   "source": [
    "bs.best_params"
   ]
  },
  {
   "cell_type": "code",
   "execution_count": 27,
   "id": "5b4df48b",
   "metadata": {},
   "outputs": [
    {
     "data": {
      "text/plain": [
       "1"
      ]
     },
     "execution_count": 27,
     "metadata": {},
     "output_type": "execute_result"
    }
   ],
   "source": [
    "bs.best_index"
   ]
  },
  {
   "cell_type": "code",
   "execution_count": 28,
   "id": "49e61e98",
   "metadata": {},
   "outputs": [
    {
     "data": {
      "text/html": [
       "<div>\n",
       "<style scoped>\n",
       "    .dataframe tbody tr th:only-of-type {\n",
       "        vertical-align: middle;\n",
       "    }\n",
       "\n",
       "    .dataframe tbody tr th {\n",
       "        vertical-align: top;\n",
       "    }\n",
       "\n",
       "    .dataframe thead th {\n",
       "        text-align: right;\n",
       "    }\n",
       "</style>\n",
       "<table border=\"1\" class=\"dataframe\">\n",
       "  <thead>\n",
       "    <tr style=\"text-align: right;\">\n",
       "      <th></th>\n",
       "      <th>Params</th>\n",
       "      <th>fraud_cf__correlation_reduction_class</th>\n",
       "      <th>fraud_gen__n_total_conditions</th>\n",
       "      <th>fraud_gen_opt__metric</th>\n",
       "      <th>fraud_sf__threshold</th>\n",
       "      <th>good_cf__correlation_reduction_class</th>\n",
       "      <th>good_gen__n_total_conditions</th>\n",
       "      <th>good_gen_opt__metric</th>\n",
       "      <th>good_sf__threshold</th>\n",
       "      <th>FoldIdx</th>\n",
       "      <th>Scores</th>\n",
       "      <th>MeanScore</th>\n",
       "      <th>StdDevScore</th>\n",
       "    </tr>\n",
       "  </thead>\n",
       "  <tbody>\n",
       "    <tr>\n",
       "      <th>1</th>\n",
       "      <td>{'fraud_cf': {'correlation_reduction_class': A...</td>\n",
       "      <td>AgglomerativeClusteringReducer(threshold=0.9, ...</td>\n",
       "      <td>7.0</td>\n",
       "      <td>&lt;bound method FScore.fit of FScore with beta=0.5&gt;</td>\n",
       "      <td>0.433812</td>\n",
       "      <td>AgglomerativeClusteringReducer(threshold=0.95,...</td>\n",
       "      <td>5.0</td>\n",
       "      <td>&lt;bound method FScore.fit of FScore with beta=0...</td>\n",
       "      <td>0.530964</td>\n",
       "      <td>[0, 1, 2]</td>\n",
       "      <td>[572899.38, 572468.7999999999, 535377.39]</td>\n",
       "      <td>560248.523333</td>\n",
       "      <td>17587.425522</td>\n",
       "    </tr>\n",
       "    <tr>\n",
       "      <th>4</th>\n",
       "      <td>{'fraud_cf': {'correlation_reduction_class': A...</td>\n",
       "      <td>AgglomerativeClusteringReducer(threshold=0.95,...</td>\n",
       "      <td>3.0</td>\n",
       "      <td>&lt;bound method FScore.fit of FScore with beta=1&gt;</td>\n",
       "      <td>0.455055</td>\n",
       "      <td>AgglomerativeClusteringReducer(threshold=0.95,...</td>\n",
       "      <td>3.0</td>\n",
       "      <td>&lt;bound method FScore.fit of FScore with beta=0.5&gt;</td>\n",
       "      <td>0.147420</td>\n",
       "      <td>[0, 1, 2]</td>\n",
       "      <td>[571558.6399999999, 573567.72, 535370.05]</td>\n",
       "      <td>560165.470000</td>\n",
       "      <td>17552.183916</td>\n",
       "    </tr>\n",
       "    <tr>\n",
       "      <th>8</th>\n",
       "      <td>{'fraud_cf': {'correlation_reduction_class': A...</td>\n",
       "      <td>AgglomerativeClusteringReducer(threshold=0.95,...</td>\n",
       "      <td>7.0</td>\n",
       "      <td>&lt;bound method FScore.fit of FScore with beta=0...</td>\n",
       "      <td>0.027295</td>\n",
       "      <td>AgglomerativeClusteringReducer(threshold=0.95,...</td>\n",
       "      <td>3.0</td>\n",
       "      <td>&lt;bound method FScore.fit of FScore with beta=1&gt;</td>\n",
       "      <td>0.510489</td>\n",
       "      <td>[0, 1, 2]</td>\n",
       "      <td>[573019.7, 570521.4199999999, 535370.05]</td>\n",
       "      <td>559637.056667</td>\n",
       "      <td>17189.649214</td>\n",
       "    </tr>\n",
       "    <tr>\n",
       "      <th>7</th>\n",
       "      <td>{'fraud_cf': {'correlation_reduction_class': A...</td>\n",
       "      <td>AgglomerativeClusteringReducer(threshold=0.9, ...</td>\n",
       "      <td>6.0</td>\n",
       "      <td>&lt;bound method FScore.fit of FScore with beta=0...</td>\n",
       "      <td>0.184279</td>\n",
       "      <td>AgglomerativeClusteringReducer(threshold=0.9, ...</td>\n",
       "      <td>3.0</td>\n",
       "      <td>&lt;bound method FScore.fit of FScore with beta=0.5&gt;</td>\n",
       "      <td>0.967131</td>\n",
       "      <td>[0, 1, 2]</td>\n",
       "      <td>[572826.1399999999, 573582.58, 519611.77]</td>\n",
       "      <td>555340.163333</td>\n",
       "      <td>25265.676559</td>\n",
       "    </tr>\n",
       "    <tr>\n",
       "      <th>2</th>\n",
       "      <td>{'fraud_cf': {'correlation_reduction_class': A...</td>\n",
       "      <td>AgglomerativeClusteringReducer(threshold=0.95,...</td>\n",
       "      <td>3.0</td>\n",
       "      <td>&lt;bound method FScore.fit of FScore with beta=0.5&gt;</td>\n",
       "      <td>0.599342</td>\n",
       "      <td>AgglomerativeClusteringReducer(threshold=0.9, ...</td>\n",
       "      <td>7.0</td>\n",
       "      <td>&lt;bound method FScore.fit of FScore with beta=1&gt;</td>\n",
       "      <td>0.258372</td>\n",
       "      <td>[0, 1, 2]</td>\n",
       "      <td>[573231.7, 570532.0399999999, 521590.14999999997]</td>\n",
       "      <td>555117.963333</td>\n",
       "      <td>23733.348425</td>\n",
       "    </tr>\n",
       "  </tbody>\n",
       "</table>\n",
       "</div>"
      ],
      "text/plain": [
       "                                              Params  \\\n",
       "1  {'fraud_cf': {'correlation_reduction_class': A...   \n",
       "4  {'fraud_cf': {'correlation_reduction_class': A...   \n",
       "8  {'fraud_cf': {'correlation_reduction_class': A...   \n",
       "7  {'fraud_cf': {'correlation_reduction_class': A...   \n",
       "2  {'fraud_cf': {'correlation_reduction_class': A...   \n",
       "\n",
       "               fraud_cf__correlation_reduction_class  \\\n",
       "1  AgglomerativeClusteringReducer(threshold=0.9, ...   \n",
       "4  AgglomerativeClusteringReducer(threshold=0.95,...   \n",
       "8  AgglomerativeClusteringReducer(threshold=0.95,...   \n",
       "7  AgglomerativeClusteringReducer(threshold=0.9, ...   \n",
       "2  AgglomerativeClusteringReducer(threshold=0.95,...   \n",
       "\n",
       "   fraud_gen__n_total_conditions  \\\n",
       "1                            7.0   \n",
       "4                            3.0   \n",
       "8                            7.0   \n",
       "7                            6.0   \n",
       "2                            3.0   \n",
       "\n",
       "                               fraud_gen_opt__metric  fraud_sf__threshold  \\\n",
       "1  <bound method FScore.fit of FScore with beta=0.5>             0.433812   \n",
       "4    <bound method FScore.fit of FScore with beta=1>             0.455055   \n",
       "8  <bound method FScore.fit of FScore with beta=0...             0.027295   \n",
       "7  <bound method FScore.fit of FScore with beta=0...             0.184279   \n",
       "2  <bound method FScore.fit of FScore with beta=0.5>             0.599342   \n",
       "\n",
       "                good_cf__correlation_reduction_class  \\\n",
       "1  AgglomerativeClusteringReducer(threshold=0.95,...   \n",
       "4  AgglomerativeClusteringReducer(threshold=0.95,...   \n",
       "8  AgglomerativeClusteringReducer(threshold=0.95,...   \n",
       "7  AgglomerativeClusteringReducer(threshold=0.9, ...   \n",
       "2  AgglomerativeClusteringReducer(threshold=0.9, ...   \n",
       "\n",
       "   good_gen__n_total_conditions  \\\n",
       "1                           5.0   \n",
       "4                           3.0   \n",
       "8                           3.0   \n",
       "7                           3.0   \n",
       "2                           7.0   \n",
       "\n",
       "                                good_gen_opt__metric  good_sf__threshold  \\\n",
       "1  <bound method FScore.fit of FScore with beta=0...            0.530964   \n",
       "4  <bound method FScore.fit of FScore with beta=0.5>            0.147420   \n",
       "8    <bound method FScore.fit of FScore with beta=1>            0.510489   \n",
       "7  <bound method FScore.fit of FScore with beta=0.5>            0.967131   \n",
       "2    <bound method FScore.fit of FScore with beta=1>            0.258372   \n",
       "\n",
       "     FoldIdx                                             Scores  \\\n",
       "1  [0, 1, 2]          [572899.38, 572468.7999999999, 535377.39]   \n",
       "4  [0, 1, 2]          [571558.6399999999, 573567.72, 535370.05]   \n",
       "8  [0, 1, 2]           [573019.7, 570521.4199999999, 535370.05]   \n",
       "7  [0, 1, 2]          [572826.1399999999, 573582.58, 519611.77]   \n",
       "2  [0, 1, 2]  [573231.7, 570532.0399999999, 521590.14999999997]   \n",
       "\n",
       "       MeanScore   StdDevScore  \n",
       "1  560248.523333  17587.425522  \n",
       "4  560165.470000  17552.183916  \n",
       "8  559637.056667  17189.649214  \n",
       "7  555340.163333  25265.676559  \n",
       "2  555117.963333  23733.348425  "
      ]
     },
     "execution_count": 28,
     "metadata": {},
     "output_type": "execute_result"
    }
   ],
   "source": [
    "bs.cv_results.head()"
   ]
  },
  {
   "cell_type": "markdown",
   "id": "4f75c2a4",
   "metadata": {},
   "source": [
    "To see the final optimised decision engine configuration and rule set, we first return the parameters of the trained pipeline (stored in the attribute `pipeline_`):"
   ]
  },
  {
   "cell_type": "code",
   "execution_count": 29,
   "id": "58f829cc",
   "metadata": {},
   "outputs": [],
   "source": [
    "pipeline_params = bs.pipeline_.get_params()"
   ]
  },
  {
   "cell_type": "markdown",
   "id": "834f0659",
   "metadata": {},
   "source": [
    "Then, to see the final optimised decision engine configuration, we filter to the `config` parameter of the `rbs_optimiser` step:"
   ]
  },
  {
   "cell_type": "code",
   "execution_count": 30,
   "id": "e6c6e973",
   "metadata": {},
   "outputs": [
    {
     "data": {
      "text/plain": [
       "[[0, ['Approve_30', 'Approve_41']],\n",
       " [1,\n",
       "  ['Reject_31',\n",
       "   'Reject_54',\n",
       "   'Reject_39',\n",
       "   'Reject_25',\n",
       "   'Reject_40',\n",
       "   'Reject_47',\n",
       "   'Reject_16',\n",
       "   'Reject_27',\n",
       "   'Reject_37',\n",
       "   'Reject_34',\n",
       "   'Reject_13']]]"
      ]
     },
     "execution_count": 30,
     "metadata": {},
     "output_type": "execute_result"
    }
   ],
   "source": [
    "final_config = pipeline_params['rbs_optimiser']['config']\n",
    "final_config"
   ]
  },
  {
   "cell_type": "markdown",
   "id": "6b82e114",
   "metadata": {},
   "source": [
    "This shows us which rules should be used for the approval step (decision `0`) and which rules should be used for the rejection step (decision `1`)."
   ]
  },
  {
   "cell_type": "markdown",
   "id": "02a2c23e",
   "metadata": {},
   "source": [
    "To see the logic of our final set of rules, we filter to the `rules` parameter of the `rbs_optimiser` step:"
   ]
  },
  {
   "cell_type": "code",
   "execution_count": 31,
   "id": "6cb9426b",
   "metadata": {},
   "outputs": [],
   "source": [
    "final_rules = bs.pipeline_.get_params()['rbs_optimiser']['rules']"
   ]
  },
  {
   "cell_type": "markdown",
   "id": "0acd85bc",
   "metadata": {},
   "source": [
    "Then extract the `rule_strings` attribute:"
   ]
  },
  {
   "cell_type": "code",
   "execution_count": 32,
   "id": "5bb0b74c",
   "metadata": {},
   "outputs": [
    {
     "data": {
      "text/plain": [
       "{'Reject_13': \"(X['V10']<=-5.57875)&(X['V19']>-3.52538)\",\n",
       " 'Reject_16': \"(X['V11']>2.35088)&(X['V17']<=-3.60923)&(X['V19']>-3.50737)\",\n",
       " 'Reject_25': \"(X['V12']<=-3.67614)&(X['V16']<=-2.1745)&(X['V2']>-7.3523)\",\n",
       " 'Reject_27': \"(X['V12']<=-3.74057)&(X['V2']>1.27989)\",\n",
       " 'Reject_31': \"(X['V12']<=-4.43715)\",\n",
       " 'Reject_34': \"(X['V12']<=-5.63079)\",\n",
       " 'Reject_37': \"(X['V14']<=-11.33548)&(X['V17']<=-2.69333)&(X['V27']>1.1957)\",\n",
       " 'Reject_39': \"(X['V14']<=-4.64098)\",\n",
       " 'Reject_40': \"(X['V14']<=-4.72102)\",\n",
       " 'Reject_47': \"(X['V17']<=-2.18248)&(X['V27']>-4.29354)\",\n",
       " 'Reject_54': \"(X['V17']<=6.28023)&(X['V19']>1.78579)\",\n",
       " 'Approve_30': \"(X['V12']>-4.43659)&(X['V16']>-4.28659)&(X['V18']>-4.172)&(X['V9']>-3.86694)\",\n",
       " 'Approve_41': \"(X['V17']>-2.18248)&(X['V19']<=-3.52538)\"}"
      ]
     },
     "execution_count": 32,
     "metadata": {},
     "output_type": "execute_result"
    }
   ],
   "source": [
    "final_rules.rule_strings"
   ]
  },
  {
   "cell_type": "markdown",
   "id": "b795ebe8",
   "metadata": {},
   "source": [
    "## Apply the optimised pipeline"
   ]
  },
  {
   "cell_type": "markdown",
   "id": "ce5d86d2",
   "metadata": {},
   "source": [
    "We can apply our optimised pipeline to a new data set and make a prediction using the `predict` method:"
   ]
  },
  {
   "cell_type": "code",
   "execution_count": 33,
   "id": "4f448c62",
   "metadata": {},
   "outputs": [],
   "source": [
    "y_pred_test = bs.predict(X_test)"
   ]
  },
  {
   "cell_type": "markdown",
   "id": "250f9302",
   "metadata": {},
   "source": [
    "### Outputs"
   ]
  },
  {
   "cell_type": "markdown",
   "id": "f23adbb1",
   "metadata": {},
   "source": [
    "The `predict` method returns the prediction generated by class in the final step of the pipeline - in this case, the `RBSOptimiser`:"
   ]
  },
  {
   "cell_type": "code",
   "execution_count": 34,
   "id": "fe02d803",
   "metadata": {},
   "outputs": [
    {
     "data": {
      "text/plain": [
       "17855    0\n",
       "23775    0\n",
       "18629    0\n",
       "12843    0\n",
       "18084    0\n",
       "        ..\n",
       "2223     0\n",
       "10168    0\n",
       "23823    0\n",
       "16583    0\n",
       "22478    0\n",
       "Length: 9399, dtype: int64"
      ]
     },
     "execution_count": 34,
     "metadata": {},
     "output_type": "execute_result"
    }
   ],
   "source": [
    "y_pred_test"
   ]
  },
  {
   "cell_type": "markdown",
   "id": "9491f459",
   "metadata": {},
   "source": [
    "We can now calculate the **Revenue** of our optimised pipeline using the test data:"
   ]
  },
  {
   "cell_type": "code",
   "execution_count": 35,
   "id": "6e3fa768",
   "metadata": {},
   "outputs": [],
   "source": [
    "rev_opt = opt_metric.fit(\n",
    "    y_preds=y_pred_test,\n",
    "    y_true=y_test,\n",
    "    sample_weight=amts_test\n",
    ")"
   ]
  },
  {
   "cell_type": "markdown",
   "id": "cb4e4e70",
   "metadata": {},
   "source": [
    "Comparing this to our original, unoptimised pipeline:"
   ]
  },
  {
   "cell_type": "code",
   "execution_count": 36,
   "id": "7a948cc4",
   "metadata": {},
   "outputs": [],
   "source": [
    "overall_lp.fit(\n",
    "    X={\n",
    "        'fraud_gen_lp': X_train,\n",
    "        'fraud_opt': X_train_raw,\n",
    "        'good_gen_lp': X_train,\n",
    "        'good_opt': X_train_raw    \n",
    "    }, \n",
    "    y={\n",
    "        'fraud_lp': y_train,\n",
    "        'good_lp': 1-y_train,\n",
    "        'rbs_optimiser': y_train\n",
    "    },\n",
    "    sample_weight={\n",
    "        'fraud_lp': None,\n",
    "        'good_lp': None,\n",
    "        'rbs_optimiser': y_train        \n",
    "    }\n",
    ")"
   ]
  },
  {
   "cell_type": "code",
   "execution_count": 37,
   "id": "dc03b5af",
   "metadata": {},
   "outputs": [],
   "source": [
    "y_pred_test_init = overall_lp.predict(X_test)"
   ]
  },
  {
   "cell_type": "code",
   "execution_count": 38,
   "id": "a5d0a421",
   "metadata": {},
   "outputs": [],
   "source": [
    "rev_init = opt_metric.fit(\n",
    "    y_preds=y_pred_test_init,\n",
    "    y_true=y_test,\n",
    "    sample_weight=amts_test\n",
    ")"
   ]
  },
  {
   "cell_type": "code",
   "execution_count": 39,
   "id": "54f80c16",
   "metadata": {},
   "outputs": [
    {
     "name": "stdout",
     "output_type": "stream",
     "text": [
      "Revenue of original, unoptimised pipeline: $775698\n",
      "Revenue of optimised pipeline: $857669\n",
      "Absolute improvement in Revenue: $81972\n",
      "Percentage improvement in Revenue: 10.57%\n"
     ]
    },
    {
     "name": "stderr",
     "output_type": "stream",
     "text": [
      "/Users/jlaidler/Documents/Iguanas/iguanas/rule_selection/bayes_search_cv.py:410: UserWarning: No rules remaining for: Pipeline parameter set = {'fraud_cf': {'correlation_reduction_class': AgglomerativeClusteringReducer(threshold=0.95, strategy=top_down, similarity_function=<bound method JaccardSimilarity.fit of JaccardSimilarity>, metric=<bound method FScore.fit of FScore with beta=1>, print_clustermap=False)}, 'fraud_gen': {'n_total_conditions': 6.0}, 'fraud_gen_opt': {'metric': <bound method FScore.fit of FScore with beta=0.25>}, 'fraud_sf': {'threshold': 0.933434993006217}, 'good_cf': {'correlation_reduction_class': AgglomerativeClusteringReducer(threshold=0.95, strategy=top_down, similarity_function=<bound method JaccardSimilarity.fit of JaccardSimilarity>, metric=<bound method FScore.fit of FScore with beta=1>, print_clustermap=False)}, 'good_gen': {'n_total_conditions': 5.0}, 'good_gen_opt': {'metric': <bound method FScore.fit of FScore with beta=1>}, 'good_sf': {'threshold': 0.09205449690521583}}; Fold index = 0. The metric score for this parameter set & fold will be set to 0\n",
      "  warnings.warn(\n",
      "/Users/jlaidler/Documents/Iguanas/iguanas/rule_selection/bayes_search_cv.py:410: UserWarning: No rules remaining for: Pipeline parameter set = {'fraud_cf': {'correlation_reduction_class': AgglomerativeClusteringReducer(threshold=0.95, strategy=top_down, similarity_function=<bound method JaccardSimilarity.fit of JaccardSimilarity>, metric=<bound method FScore.fit of FScore with beta=1>, print_clustermap=False)}, 'fraud_gen': {'n_total_conditions': 6.0}, 'fraud_gen_opt': {'metric': <bound method FScore.fit of FScore with beta=0.25>}, 'fraud_sf': {'threshold': 0.933434993006217}, 'good_cf': {'correlation_reduction_class': AgglomerativeClusteringReducer(threshold=0.95, strategy=top_down, similarity_function=<bound method JaccardSimilarity.fit of JaccardSimilarity>, metric=<bound method FScore.fit of FScore with beta=1>, print_clustermap=False)}, 'good_gen': {'n_total_conditions': 5.0}, 'good_gen_opt': {'metric': <bound method FScore.fit of FScore with beta=1>}, 'good_sf': {'threshold': 0.09205449690521583}}; Fold index = 1. The metric score for this parameter set & fold will be set to 0\n",
      "  warnings.warn(\n",
      "/Users/jlaidler/Documents/Iguanas/iguanas/rule_selection/bayes_search_cv.py:410: UserWarning: No rules remaining for: Pipeline parameter set = {'fraud_cf': {'correlation_reduction_class': AgglomerativeClusteringReducer(threshold=0.95, strategy=top_down, similarity_function=<bound method JaccardSimilarity.fit of JaccardSimilarity>, metric=<bound method FScore.fit of FScore with beta=1>, print_clustermap=False)}, 'fraud_gen': {'n_total_conditions': 6.0}, 'fraud_gen_opt': {'metric': <bound method FScore.fit of FScore with beta=0.25>}, 'fraud_sf': {'threshold': 0.933434993006217}, 'good_cf': {'correlation_reduction_class': AgglomerativeClusteringReducer(threshold=0.95, strategy=top_down, similarity_function=<bound method JaccardSimilarity.fit of JaccardSimilarity>, metric=<bound method FScore.fit of FScore with beta=1>, print_clustermap=False)}, 'good_gen': {'n_total_conditions': 5.0}, 'good_gen_opt': {'metric': <bound method FScore.fit of FScore with beta=1>}, 'good_sf': {'threshold': 0.09205449690521583}}; Fold index = 2. The metric score for this parameter set & fold will be set to 0\n",
      "  warnings.warn(\n"
     ]
    }
   ],
   "source": [
    "print(f'Revenue of original, unoptimised pipeline: ${round(rev_init)}')\n",
    "print(f'Revenue of optimised pipeline: ${round(rev_opt)}')\n",
    "print(f'Absolute improvement in Revenue: ${round(rev_opt-rev_init)}')\n",
    "print(f'Percentage improvement in Revenue: {round(100*(rev_opt-rev_init)/rev_init, 2)}%')"
   ]
  },
  {
   "cell_type": "markdown",
   "id": "f440a43f",
   "metadata": {},
   "source": [
    "---"
   ]
  }
 ],
 "metadata": {
  "interpreter": {
   "hash": "6a5a22224d030f6805b27da964f50b3905be89918ca593f843e32c3b2a80fa84"
  },
  "kernelspec": {
   "display_name": "iguanas_dev",
   "language": "python",
   "name": "iguanas_dev"
  },
  "language_info": {
   "codemirror_mode": {
    "name": "ipython",
    "version": 3
   },
   "file_extension": ".py",
   "mimetype": "text/x-python",
   "name": "python",
   "nbconvert_exporter": "python",
   "pygments_lexer": "ipython3",
   "version": "3.8.9"
  }
 },
 "nbformat": 4,
 "nbformat_minor": 5
}
