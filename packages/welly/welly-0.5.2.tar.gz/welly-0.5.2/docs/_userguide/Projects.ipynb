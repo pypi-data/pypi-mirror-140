{
 "cells": [
  {
   "cell_type": "markdown",
   "metadata": {},
   "source": [
    "# Projects\n",
    "\n",
    "Wells are one of the fundamental objects in welly.\n",
    "\n",
    "Well objects include collections of Curve objects. Multiple Well objects can be stored in a Project.\n",
    "\n",
    "On this page, we take a closer look at the `Project` class. It lets us handle groups of wells. It is really just a list of `Well` objects, with a few extra powers.\n",
    "\n",
    "First, some preliminaries…"
   ]
  },
  {
   "cell_type": "code",
   "execution_count": 1,
   "metadata": {},
   "outputs": [
    {
     "data": {
      "text/plain": [
       "'0.5.1.dev15+gbf10f3b.d20220223'"
      ]
     },
     "execution_count": 1,
     "metadata": {},
     "output_type": "execute_result"
    }
   ],
   "source": [
    "import welly\n",
    "\n",
    "welly.__version__"
   ]
  },
  {
   "cell_type": "markdown",
   "metadata": {},
   "source": [
    "---\n",
    "\n",
    "## Make a project\n",
    "\n",
    "We have a few LAS files in a folder; we can load them all at once with standard POSIX file globbing syntax:"
   ]
  },
  {
   "cell_type": "code",
   "execution_count": 2,
   "metadata": {},
   "outputs": [
    {
     "name": "stderr",
     "output_type": "stream",
     "text": [
      "2it [00:00, 19.00it/s]\n"
     ]
    }
   ],
   "source": [
    "p = welly.read_las(\"../../tests/assets/example_*.las\")"
   ]
  },
  {
   "cell_type": "markdown",
   "metadata": {},
   "source": [
    "Now we have a project, containing two files:"
   ]
  },
  {
   "cell_type": "code",
   "execution_count": 3,
   "metadata": {},
   "outputs": [
    {
     "data": {
      "text/html": [
       "<table><tr><th>Index</th><th>UWI</th><th>Data</th><th>Curves</th></tr><tr><td>0</td><td><strong>3-2-B</strong></td><td>12&nbsp;curves</td><td>SP, SN, ILD, LLS, LLD, MLL, NPHI, RHOZ, CAL1, GRC, DTP, CAL2</td></tr><tr><td>1</td><td><strong>3-2-A</strong></td><td>12&nbsp;curves</td><td>SP, SN, ILD, LLS, LLD, MLL, NPHI, RHOB, CAL1, GR, DT, CAL2</td></tr></table>"
      ],
      "text/plain": [
       "Project(2 wells: 3-2-B, 3-2-A)"
      ]
     },
     "execution_count": 3,
     "metadata": {},
     "output_type": "execute_result"
    }
   ],
   "source": [
    "p"
   ]
  },
  {
   "cell_type": "markdown",
   "metadata": {},
   "source": [
    "You can pass in a list of files or URLs:"
   ]
  },
  {
   "cell_type": "code",
   "execution_count": 4,
   "metadata": {},
   "outputs": [
    {
     "name": "stderr",
     "output_type": "stream",
     "text": [
      "0it [00:00, ?it/s]Only engine='normal' can read wrapped files\n",
      "3it [00:06,  2.09s/it]\n"
     ]
    }
   ],
   "source": [
    "p = welly.read_las(['../../tests/assets/P-129_out.LAS',\n",
    "                    'https://geocomp.s3.amazonaws.com/data/P-130.LAS',\n",
    "                    'https://geocomp.s3.amazonaws.com/data/R-39.las',\n",
    "                   ])"
   ]
  },
  {
   "cell_type": "markdown",
   "metadata": {},
   "source": [
    "This project has three wells:"
   ]
  },
  {
   "cell_type": "code",
   "execution_count": 5,
   "metadata": {},
   "outputs": [
    {
     "data": {
      "text/html": [
       "<table><tr><th>Index</th><th>UWI</th><th>Data</th><th>Curves</th></tr><tr><td>0</td><td><strong>Long = 63* 45'24.460  W</strong></td><td>24&nbsp;curves</td><td>CALI, HCAL, PEF, DT, DTS, DPHI_SAN, DPHI_LIM, DPHI_DOL, NPHI_SAN, NPHI_LIM, NPHI_DOL, RLA5, RLA3, RLA4, RLA1, RLA2, RXOZ, RXO_HRLT, RT_HRLT, RM_HRLT, DRHO, RHOB, GR, SP</td></tr><tr><td>1</td><td><strong>100/N14A/11E05</strong></td><td>18&nbsp;curves</td><td>CALI, DT, NPHI_SAN, NPHI_LIM, NPHI_DOL, DPHI_LIM, DPHI_SAN, DPHI_DOL, M2R9, M2R6, M2R3, M2R2, M2R1, GR, SP, PEF, DRHO, RHOB</td></tr><tr><td>2</td><td><strong>303N764340060300</strong></td><td>22&nbsp;curves</td><td>BS, CALI, CHR1, CHR2, CHRP, CHRS, DRHO, DT1R, DT2, DT2R, DT4P, DT4S, GR, HD1, HD2, HD3, NPOR, PEF, RHOB, SPR1, TENS, VPVS</td></tr></table>"
      ],
      "text/plain": [
       "Project(3 wells: Long = 63* 45'24.460  W, 100/N14A/11E05, 303N764340060300)"
      ]
     },
     "execution_count": 5,
     "metadata": {},
     "output_type": "execute_result"
    }
   ],
   "source": [
    "p"
   ]
  },
  {
   "cell_type": "markdown",
   "metadata": {},
   "source": [
    "Typical, the UWIs are a disaster. Let's ignore this for now.\n",
    "\n",
    "The `Project` is really just a list-like thing, so you can index into it to get at a single well. Each well is represented by a `welly.Well` object."
   ]
  },
  {
   "cell_type": "code",
   "execution_count": 6,
   "metadata": {},
   "outputs": [
    {
     "data": {
      "text/html": [
       "<table><tr><th style=\"text-align:center;\" colspan=\"2\">Kennetcook #2<br><small>Long = 63* 45'24.460  W</small></th></tr><tr><td><strong>crs</strong></td><td>CRS({})</td></tr><tr><td><strong>location</strong></td><td>Lat = 45* 12' 34.237\" N</td></tr><tr><td><strong>country</strong></td><td>CA</td></tr><tr><td><strong>province</strong></td><td>Nova Scotia</td></tr><tr><td><strong>latitude</strong></td><td></td></tr><tr><td><strong>longitude</strong></td><td></td></tr><tr><td><strong>datum</strong></td><td></td></tr><tr><td><strong>section</strong></td><td>45.20 Deg N</td></tr><tr><td><strong>range</strong></td><td>PD 176</td></tr><tr><td><strong>township</strong></td><td>63.75 Deg W</td></tr><tr><td><strong>ekb</strong></td><td>94.8</td></tr><tr><td><strong>egl</strong></td><td>90.3</td></tr><tr><td><strong>gl</strong></td><td>90.3</td></tr><tr><td><strong>tdd</strong></td><td>1935.0</td></tr><tr><td><strong>tdl</strong></td><td>1935.0</td></tr><tr><td><strong>td</strong></td><td>None</td></tr><tr><td><strong>data</strong></td><td>CALI, DPHI_DOL, DPHI_LIM, DPHI_SAN, DRHO, DT, DTS, GR, HCAL, NPHI_DOL, NPHI_LIM, NPHI_SAN, PEF, RHOB, RLA1, RLA2, RLA3, RLA4, RLA5, RM_HRLT, RT_HRLT, RXOZ, RXO_HRLT, SP</td></tr></table>"
      ],
      "text/plain": [
       "Well(uwi: 'Long = 63* 45'24.460  W', name: 'Kennetcook #2', 24 curves: ['CALI', 'HCAL', 'PEF', 'DT', 'DTS', 'DPHI_SAN', 'DPHI_LIM', 'DPHI_DOL', 'NPHI_SAN', 'NPHI_LIM', 'NPHI_DOL', 'RLA5', 'RLA3', 'RLA4', 'RLA1', 'RLA2', 'RXOZ', 'RXO_HRLT', 'RT_HRLT', 'RM_HRLT', 'DRHO', 'RHOB', 'GR', 'SP'])"
      ]
     },
     "execution_count": 6,
     "metadata": {},
     "output_type": "execute_result"
    }
   ],
   "source": [
    "p[0]"
   ]
  },
  {
   "cell_type": "markdown",
   "metadata": {},
   "source": [
    "Some of the fields of this LAS file are messed up; see the [Well notebook](Wells.ipynb) for more on how to fix this. "
   ]
  },
  {
   "cell_type": "markdown",
   "metadata": {},
   "source": [
    "## Plot curves from several wells\n",
    "\n",
    "The DT log is called DT4P in one of the wells. We can deal with this sort of issue with aliases. Let's set up an alias dictionary, then plot the DT log from each well:"
   ]
  },
  {
   "cell_type": "code",
   "execution_count": 7,
   "metadata": {},
   "outputs": [],
   "source": [
    "alias = {'Sonic': ['DT', 'DT4P'],\n",
    "         'Caliper': ['HCAL', 'CALI'],\n",
    "        }"
   ]
  },
  {
   "cell_type": "code",
   "execution_count": 10,
   "metadata": {},
   "outputs": [
    {
     "data": {
      "image/png": "[encoded data removed]",
      "text/plain": [
       "<Figure size 504x1008 with 3 Axes>"
      ]
     },
     "metadata": {
      "needs_background": "light"
     },
     "output_type": "display_data"
    }
   ],
   "source": [
    "import matplotlib.pyplot as plt\n",
    "\n",
    "fig, axs = plt.subplots(figsize=(7, 14),\n",
    "                        ncols=len(p),\n",
    "                        sharey=True,\n",
    "                        )\n",
    "\n",
    "for i, (ax, w) in enumerate(zip(axs, p)):\n",
    "    log = w.get_curve('Sonic', alias=alias)\n",
    "    if log is not None:\n",
    "        ax = log.plot(ax=ax)\n",
    "    ax.set_title(\"Sonic log for\\n{}\".format(w.uwi))\n",
    "\n",
    "min_z, max_z = p.basis_range\n",
    "    \n",
    "plt.ylim(max_z, min_z)\n",
    "plt.show()"
   ]
  },
  {
   "cell_type": "markdown",
   "metadata": {},
   "source": [
    "## Get a `pandas.DataFrame`\n",
    "\n",
    "The `df()` method makes a DataFrame using a dual index of UWI and Depth.\n",
    "\n",
    "Before we export our wells, let's give Kennetcook #2 a better UWI:"
   ]
  },
  {
   "cell_type": "code",
   "execution_count": 11,
   "metadata": {
    "scrolled": false
   },
   "outputs": [
    {
     "data": {
      "text/html": [
       "<table><tr><th style=\"text-align:center;\" colspan=\"2\">Kennetcook #2<br><small>Kennetcook #2</small></th></tr><tr><td><strong>crs</strong></td><td>CRS({})</td></tr><tr><td><strong>location</strong></td><td>Lat = 45* 12' 34.237\" N</td></tr><tr><td><strong>country</strong></td><td>CA</td></tr><tr><td><strong>province</strong></td><td>Nova Scotia</td></tr><tr><td><strong>latitude</strong></td><td></td></tr><tr><td><strong>longitude</strong></td><td></td></tr><tr><td><strong>datum</strong></td><td></td></tr><tr><td><strong>section</strong></td><td>45.20 Deg N</td></tr><tr><td><strong>range</strong></td><td>PD 176</td></tr><tr><td><strong>township</strong></td><td>63.75 Deg W</td></tr><tr><td><strong>ekb</strong></td><td>94.8</td></tr><tr><td><strong>egl</strong></td><td>90.3</td></tr><tr><td><strong>gl</strong></td><td>90.3</td></tr><tr><td><strong>tdd</strong></td><td>1935.0</td></tr><tr><td><strong>tdl</strong></td><td>1935.0</td></tr><tr><td><strong>td</strong></td><td>None</td></tr><tr><td><strong>data</strong></td><td>CALI, DPHI_DOL, DPHI_LIM, DPHI_SAN, DRHO, DT, DTS, GR, HCAL, NPHI_DOL, NPHI_LIM, NPHI_SAN, PEF, RHOB, RLA1, RLA2, RLA3, RLA4, RLA5, RM_HRLT, RT_HRLT, RXOZ, RXO_HRLT, SP</td></tr></table>"
      ],
      "text/plain": [
       "Well(uwi: 'Kennetcook #2', name: 'Kennetcook #2', 24 curves: ['CALI', 'HCAL', 'PEF', 'DT', 'DTS', 'DPHI_SAN', 'DPHI_LIM', 'DPHI_DOL', 'NPHI_SAN', 'NPHI_LIM', 'NPHI_DOL', 'RLA5', 'RLA3', 'RLA4', 'RLA1', 'RLA2', 'RXOZ', 'RXO_HRLT', 'RT_HRLT', 'RM_HRLT', 'DRHO', 'RHOB', 'GR', 'SP'])"
      ]
     },
     "execution_count": 11,
     "metadata": {},
     "output_type": "execute_result"
    }
   ],
   "source": [
    "p[0].uwi = p[0].name\n",
    "p[0]"
   ]
  },
  {
   "cell_type": "markdown",
   "metadata": {},
   "source": [
    "That's better.\n",
    "\n",
    "When creating the DataFrame, you can pass a list of the keys (mnemonics) you want, and use aliases as usual."
   ]
  },
  {
   "cell_type": "code",
   "execution_count": 12,
   "metadata": {},
   "outputs": [
    {
     "data": {
      "text/plain": [
       "{'Sonic': ['DT', 'DT4P'], 'Caliper': ['HCAL', 'CALI']}"
      ]
     },
     "execution_count": 12,
     "metadata": {},
     "output_type": "execute_result"
    }
   ],
   "source": [
    "alias"
   ]
  },
  {
   "cell_type": "code",
   "execution_count": 16,
   "metadata": {},
   "outputs": [
    {
     "data": {
      "text/html": [
       "<div>\n",
       "<style scoped>\n",
       "    .dataframe tbody tr th:only-of-type {\n",
       "        vertical-align: middle;\n",
       "    }\n",
       "\n",
       "    .dataframe tbody tr th {\n",
       "        vertical-align: top;\n",
       "    }\n",
       "\n",
       "    .dataframe thead th {\n",
       "        text-align: right;\n",
       "    }\n",
       "</style>\n",
       "<table border=\"1\" class=\"dataframe\">\n",
       "  <thead>\n",
       "    <tr style=\"text-align: right;\">\n",
       "      <th></th>\n",
       "      <th></th>\n",
       "      <th>Caliper</th>\n",
       "      <th>GR</th>\n",
       "      <th>Sonic</th>\n",
       "    </tr>\n",
       "    <tr>\n",
       "      <th>UWI</th>\n",
       "      <th>DEPT</th>\n",
       "      <th></th>\n",
       "      <th></th>\n",
       "      <th></th>\n",
       "    </tr>\n",
       "  </thead>\n",
       "  <tbody>\n",
       "    <tr>\n",
       "      <th rowspan=\"5\" valign=\"top\">Kennetcook #2</th>\n",
       "      <th>1.0668000000</th>\n",
       "      <td>4.3912849426</td>\n",
       "      <td>46.6986503600</td>\n",
       "      <td>NaN</td>\n",
       "    </tr>\n",
       "    <tr>\n",
       "      <th>1.2192000000</th>\n",
       "      <td>4.3912849426</td>\n",
       "      <td>46.6986503600</td>\n",
       "      <td>NaN</td>\n",
       "    </tr>\n",
       "    <tr>\n",
       "      <th>1.3716000000</th>\n",
       "      <td>4.3912849426</td>\n",
       "      <td>46.6986503600</td>\n",
       "      <td>NaN</td>\n",
       "    </tr>\n",
       "    <tr>\n",
       "      <th>1.5240000000</th>\n",
       "      <td>4.3912849426</td>\n",
       "      <td>46.6986503600</td>\n",
       "      <td>NaN</td>\n",
       "    </tr>\n",
       "    <tr>\n",
       "      <th>1.6764000000</th>\n",
       "      <td>4.3912849426</td>\n",
       "      <td>46.6986503600</td>\n",
       "      <td>NaN</td>\n",
       "    </tr>\n",
       "    <tr>\n",
       "      <th>...</th>\n",
       "      <th>...</th>\n",
       "      <td>...</td>\n",
       "      <td>...</td>\n",
       "      <td>...</td>\n",
       "    </tr>\n",
       "    <tr>\n",
       "      <th rowspan=\"5\" valign=\"top\">303N764340060300</th>\n",
       "      <th>3387.5471999996</th>\n",
       "      <td>303.7090000000</td>\n",
       "      <td>32.0276000039</td>\n",
       "      <td>252.4951</td>\n",
       "    </tr>\n",
       "    <tr>\n",
       "      <th>3387.6995999996</th>\n",
       "      <td>303.7090000000</td>\n",
       "      <td>32.0276000000</td>\n",
       "      <td>252.4951</td>\n",
       "    </tr>\n",
       "    <tr>\n",
       "      <th>3387.8519999996</th>\n",
       "      <td>303.7090000000</td>\n",
       "      <td>32.0276000000</td>\n",
       "      <td>252.4951</td>\n",
       "    </tr>\n",
       "    <tr>\n",
       "      <th>3388.0043999996</th>\n",
       "      <td>303.7090000000</td>\n",
       "      <td>32.0276000000</td>\n",
       "      <td>252.4951</td>\n",
       "    </tr>\n",
       "    <tr>\n",
       "      <th>3388.1567999996</th>\n",
       "      <td>303.7090000000</td>\n",
       "      <td>32.0276000000</td>\n",
       "      <td>252.4951</td>\n",
       "    </tr>\n",
       "  </tbody>\n",
       "</table>\n",
       "<p>46594 rows × 3 columns</p>\n",
       "</div>"
      ],
      "text/plain": [
       "                                         Caliper             GR     Sonic\n",
       "UWI              DEPT                                                    \n",
       "Kennetcook #2    1.0668000000       4.3912849426  46.6986503600       NaN\n",
       "                 1.2192000000       4.3912849426  46.6986503600       NaN\n",
       "                 1.3716000000       4.3912849426  46.6986503600       NaN\n",
       "                 1.5240000000       4.3912849426  46.6986503600       NaN\n",
       "                 1.6764000000       4.3912849426  46.6986503600       NaN\n",
       "...                                          ...            ...       ...\n",
       "303N764340060300 3387.5471999996  303.7090000000  32.0276000039  252.4951\n",
       "                 3387.6995999996  303.7090000000  32.0276000000  252.4951\n",
       "                 3387.8519999996  303.7090000000  32.0276000000  252.4951\n",
       "                 3388.0043999996  303.7090000000  32.0276000000  252.4951\n",
       "                 3388.1567999996  303.7090000000  32.0276000000  252.4951\n",
       "\n",
       "[46594 rows x 3 columns]"
      ]
     },
     "execution_count": 16,
     "metadata": {},
     "output_type": "execute_result"
    }
   ],
   "source": [
    "keys = ['Caliper', 'GR', 'Sonic']\n",
    "\n",
    "df = p.df(keys=keys, alias=alias, rename_aliased=True)\n",
    "df"
   ]
  },
  {
   "cell_type": "markdown",
   "metadata": {},
   "source": [
    "## Quality\n",
    "\n",
    "Welly can run quality tests on the curves in your project. Some of the tests take arguments. You can test for things like this:\n",
    "\n",
    "- `all_positive`: Passes if all the values are greater than zero.\n",
    "- `all_above(50)`: Passes if all the values are greater than 50.\n",
    "- `mean_below(100)`: Passes if the mean of the log is less than 100.\n",
    "- `no_nans`: Passes if there are no NaNs in the log.\n",
    "- `no_flat`: Passes if there are no sections of well log with the same values (e.g. because a gap was interpolated across with a constant value).\n",
    "- `no_monotonic`: Passes if there are no monotonic ramps in the log (e.g. because a gap was linearly interpolated across).\n",
    "\n",
    "Insert lists of tests into a dictionary with any of the following key examples:\n",
    "\n",
    "- `'GR'`: The test(s) will run against the GR log.\n",
    "- `'Gamma'`: The test(s) will run against the log matching according to the alias dictionary.\n",
    "- `'Each'`: The test(s) will run against *every log* in a well.\n",
    "- `'All'`: Some tests take multiple logs as input, for example `quality.no_similarities`. These test(s) will run against all the logs as a group. Could be quite slow, because there may be a lot of pairwise comparisons to do.\n",
    "\n",
    "The tests are run against all wells in the project. If you only want to run against a subset of the wells, make a new project for them."
   ]
  },
  {
   "cell_type": "code",
   "execution_count": 11,
   "metadata": {},
   "outputs": [],
   "source": [
    "import welly.quality as q\n",
    "\n",
    "tests = {\n",
    "    'All': [q.no_similarities],\n",
    "    'Each': [q.no_gaps, q.no_monotonic, q.no_flat],\n",
    "    'GR': [q.all_positive],\n",
    "    'Sonic': [q.all_positive, q.all_between(50, 200)],\n",
    "}"
   ]
  },
  {
   "cell_type": "markdown",
   "metadata": {},
   "source": [
    "Let's add our own test for units:"
   ]
  },
  {
   "cell_type": "code",
   "execution_count": 12,
   "metadata": {},
   "outputs": [],
   "source": [
    "def has_si_units(curve):\n",
    "    return curve.units.lower() in ['mm', 'gapi', 'us/m', 'k/m3']\n",
    "\n",
    "tests['Each'].append(has_si_units)"
   ]
  },
  {
   "cell_type": "markdown",
   "metadata": {},
   "source": [
    "We'll use the same alias dictionary as before:"
   ]
  },
  {
   "cell_type": "code",
   "execution_count": 13,
   "metadata": {},
   "outputs": [
    {
     "data": {
      "text/plain": [
       "{'Sonic': ['DT', 'DT4P'], 'Caliper': ['HCAL', 'CALI']}"
      ]
     },
     "execution_count": 13,
     "metadata": {},
     "output_type": "execute_result"
    }
   ],
   "source": [
    "alias"
   ]
  },
  {
   "cell_type": "markdown",
   "metadata": {},
   "source": [
    "Now we can run the tests and look at the results, which are in an HTML table:"
   ]
  },
  {
   "cell_type": "code",
   "execution_count": 14,
   "metadata": {},
   "outputs": [
    {
     "data": {
      "text/html": [
       "<table><tr><th>Idx</th><th>UWI</th><th>Data</th><th>Passing</th><th>Caliper*</th><th>GR</th><th>Sonic*</th><th>SP</th><th>RHOB</th></tr><tr><td></td><td></td><td></td><td>%</td><td>3/3&nbsp;wells</td><td>3/3&nbsp;wells</td><td>3/3&nbsp;wells</td><td>2/3&nbsp;wells</td><td>3/3&nbsp;wells</td></tr><tr><td>0</td><td><span style=\"font-weight:bold;\">Kennetcook #2</span></td><td>5/24&nbsp;curves</td><td>54</td><td style=\"background-color:#CCEECC; line-height:80%; padding:5px 4px 2px 4px;\">HCAL<div title=\"2/5\" style=\"font-size:80%; float:right; cursor: default; padding:4px 0px 4px 6px; color:#FFCC33;\">&#x2b24;</div><br /><span style=\"font-size:70%; color:#33AA33\">4.39 in</span></td><td style=\"background-color:#CCEECC; line-height:80%; padding:5px 4px 2px 4px;\">GR<div title=\"4/6\" style=\"font-size:80%; float:right; cursor: default; padding:4px 0px 4px 6px; color:#FFCC33;\">&#x2b24;</div><br /><span style=\"font-size:70%; color:#33AA33\">78.99 gAPI</span></td><td style=\"background-color:#CCEECC; line-height:80%; padding:5px 4px 2px 4px;\">DT<div title=\"5/7\" style=\"font-size:80%; float:right; cursor: default; padding:4px 0px 4px 6px; color:#FFCC33;\">&#x2b24;</div><br /><span style=\"font-size:70%; color:#33AA33\">63.08 us/ft</span></td><td style=\"background-color:#CCEECC; line-height:80%; padding:5px 4px 2px 4px;\">SP<div title=\"2/5\" style=\"font-size:80%; float:right; cursor: default; padding:4px 0px 4px 6px; color:#FFCC33;\">&#x2b24;</div><br /><span style=\"font-size:70%; color:#33AA33\">52.47 mV</span></td><td style=\"background-color:#CCEECC; line-height:80%; padding:5px 4px 2px 4px;\">RHOB<div title=\"2/5\" style=\"font-size:80%; float:right; cursor: default; padding:4px 0px 4px 6px; color:#FFCC33;\">&#x2b24;</div><br /><span style=\"font-size:70%; color:#33AA33\">2.61 g/cm3</span></td></tr><tr><td>1</td><td><span style=\"font-weight:bold;\">100/N14A/11E05</span></td><td>5/18&nbsp;curves</td><td>79</td><td style=\"background-color:#CCEECC; line-height:80%; padding:5px 4px 2px 4px;\">CALI<div title=\"2/5\" style=\"font-size:80%; float:right; cursor: default; padding:4px 0px 4px 6px; color:#FFCC33;\">&#x2b24;</div><br /><span style=\"font-size:70%; color:#33AA33\">8.90 in</span></td><td style=\"background-color:#CCEECC; line-height:80%; padding:5px 4px 2px 4px;\">GR<div title=\"6/6\" style=\"font-size:80%; float:right; cursor: default; padding:4px 0px 4px 6px; color:#33EE33;\">&#x2b24;</div><br /><span style=\"font-size:70%; color:#33AA33\">103.74 gAPI</span></td><td style=\"background-color:#CCEECC; line-height:80%; padding:5px 4px 2px 4px;\">DT<div title=\"6/7\" style=\"font-size:80%; float:right; cursor: default; padding:4px 0px 4px 6px; color:#FFCC33;\">&#x2b24;</div><br /><span style=\"font-size:70%; color:#33AA33\">74.90 us/ft</span></td><td style=\"background-color:#CCEECC; line-height:80%; padding:5px 4px 2px 4px;\">SP<div title=\"4/5\" style=\"font-size:80%; float:right; cursor: default; padding:4px 0px 4px 6px; color:#FFCC33;\">&#x2b24;</div><br /><span style=\"font-size:70%; color:#33AA33\">101.60 mV</span></td><td style=\"background-color:#CCEECC; line-height:80%; padding:5px 4px 2px 4px;\">RHOB<div title=\"4/5\" style=\"font-size:80%; float:right; cursor: default; padding:4px 0px 4px 6px; color:#FFCC33;\">&#x2b24;</div><br /><span style=\"font-size:70%; color:#33AA33\">2.62 g/cm3</span></td></tr><tr><td>2</td><td><span style=\"font-weight:bold;\">303N764340060300</span></td><td>4/22&nbsp;curves</td><td>78</td><td style=\"background-color:#CCEECC; line-height:80%; padding:5px 4px 2px 4px;\">CALI<div title=\"3/5\" style=\"font-size:80%; float:right; cursor: default; padding:4px 0px 4px 6px; color:#FFCC33;\">&#x2b24;</div><br /><span style=\"font-size:70%; color:#33AA33\">311.97 MM</span></td><td style=\"background-color:#CCEECC; line-height:80%; padding:5px 4px 2px 4px;\">GR<div title=\"6/6\" style=\"font-size:80%; float:right; cursor: default; padding:4px 0px 4px 6px; color:#33EE33;\">&#x2b24;</div><br /><span style=\"font-size:70%; color:#33AA33\">67.49 GAPI</span></td><td style=\"background-color:#CCEECC; line-height:80%; padding:5px 4px 2px 4px;\">DT4P<div title=\"6/7\" style=\"font-size:80%; float:right; cursor: default; padding:4px 0px 4px 6px; color:#FFCC33;\">&#x2b24;</div><br /><span style=\"font-size:70%; color:#33AA33\">279.84 US/M</span></td><td style=\"background-color:#CCCCCC; line-height:80%; padding:5px 4px 2px 4px;\"><div title=\"\" style=\"font-size:80%; float:right; cursor: default; padding:4px 0px 4px 6px; color:#CCCCCC;\">&#x2b24;</div><br /><span style=\"font-size:70%; color:#33AA33\"> </span></td><td style=\"background-color:#CCEECC; line-height:80%; padding:5px 4px 2px 4px;\">RHOB<div title=\"3/5\" style=\"font-size:80%; float:right; cursor: default; padding:4px 0px 4px 6px; color:#FFCC33;\">&#x2b24;</div><br /><span style=\"font-size:70%; color:#33AA33\">2493.56 K/M3</span></td></tr></table>"
      ],
      "text/plain": [
       "<IPython.core.display.HTML object>"
      ]
     },
     "execution_count": 14,
     "metadata": {},
     "output_type": "execute_result"
    }
   ],
   "source": [
    "from IPython.display import HTML\n",
    "\n",
    "HTML(p.curve_table_html(keys=['Caliper', 'GR', 'Sonic', 'SP', 'RHOB'],\n",
    "                        tests=tests, alias=alias)\n",
    "    )"
   ]
  },
  {
   "cell_type": "markdown",
   "metadata": {},
   "source": [
    "Here's how to interpret the result:\n",
    "\n",
    "- Green background: the log is present. You can see the mean value and the units (check them!!).\n",
    "- Grey background: the log is not present.\n",
    "\n",
    "And the traffic light dots (hover to see how many tests passed): \n",
    "\n",
    "- Green dot: all the tests passed.\n",
    "- Orange dot: some tests failed.\n",
    "- Red dot: all tests failed.\n",
    "- Grey dot: no tests ran.\n",
    "\n",
    "The **Passing** percentage shows how many tests passed for that well."
   ]
  },
  {
   "cell_type": "markdown",
   "metadata": {},
   "source": [
    "---\n",
    "\n",
    "&copy; 2022 Agile Scientific, CC BY"
   ]
  }
 ],
 "metadata": {
  "kernelspec": {
   "display_name": "welly",
   "language": "python",
   "name": "welly"
  },
  "language_info": {
   "codemirror_mode": {
    "name": "ipython",
    "version": 3
   },
   "file_extension": ".py",
   "mimetype": "text/x-python",
   "name": "python",
   "nbconvert_exporter": "python",
   "pygments_lexer": "ipython3",
   "version": "3.9.7"
  }
 },
 "nbformat": 4,
 "nbformat_minor": 2
}
