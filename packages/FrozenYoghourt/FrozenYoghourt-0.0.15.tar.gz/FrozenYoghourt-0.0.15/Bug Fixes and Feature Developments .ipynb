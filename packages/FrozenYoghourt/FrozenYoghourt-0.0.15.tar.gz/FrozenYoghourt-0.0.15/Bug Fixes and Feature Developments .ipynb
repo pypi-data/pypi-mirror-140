{
 "cells": [
  {
   "cell_type": "code",
   "execution_count": 950,
   "id": "deaeb508",
   "metadata": {},
   "outputs": [],
   "source": [
    "from FrozenYoghourt import *\n",
    "from FrozenYoghourt.mode import *\n",
    "from FrozenYoghourt.gates import *\n",
    "from FrozenYoghourt.maths import *\n",
    "from FrozenYoghourt.quantum import *\n",
    "from FrozenYoghourt.circuit import *\n",
    "from FrozenYoghourt.visualization import *"
   ]
  },
  {
   "cell_type": "code",
   "execution_count": 1164,
   "id": "66a0c862",
   "metadata": {},
   "outputs": [],
   "source": [
    "def step1(k):\n",
    "    \n",
    "    k1 = np.copy(k)\n",
    "    Pauli = [ID(), X(), Y(), Z()]\n",
    "    shift = k1 // np.pi\n",
    "    \n",
    "    # keep track of whether to add phase to correct for KAK\n",
    "    phase = np.exp(-1j*(np.pi/2)*(np.sum(shift)%2)) \n",
    "\n",
    "    k1 -= np.pi*shift\n",
    "\n",
    "    pauli_shift = (shift %2).astype(int)\n",
    "    L = mm(*[tp(Pauli[pauli_val*(index+1)], Pauli[pauli_val*(index+1)]) \n",
    "                       for index, pauli_val in enumerate(pauli_shift)])\n",
    "\n",
    "    # Fix global phase if different phase is -1\n",
    "    phase *= global_phase(CAN(*k), phase*L@CAN(*k1)) \n",
    "    \n",
    "    return k1, L, phase\n",
    "\n",
    "def step2(k):\n",
    "    \n",
    "    L_list = [np.identity(4)]\n",
    "    R_list = [np.identity(4)]\n",
    "\n",
    "    if k[0] < k[1]:\n",
    "        k[0], k[1] = k[1], k[0]\n",
    "        L1, R1 = tp(Rz(np.pi/2), no_times = 2), tp(Rz(-np.pi/2), no_times = 2)\n",
    "        L_list.append(L1), R_list.append(R1)\n",
    "\n",
    "    if k[1] < k[2]:\n",
    "        k[1], k[2] = k[2], k[1]\n",
    "        L2, R2 = tp(Rx(np.pi/2), no_times = 2), tp(Rx(-np.pi/2), no_times = 2)\n",
    "        L_list.append(L2), R_list.append(R2)\n",
    "        final = True\n",
    "    else:\n",
    "        final = False\n",
    "    \n",
    "    if final:\n",
    "        if k[0] < k[1]:\n",
    "            k[0], k[1] = k[1], k[0]\n",
    "            L3, R3 = tp(Rz(np.pi/2), no_times = 2), tp(Rz(-np.pi/2), no_times = 2)\n",
    "            L_list.append(L3), R_list.append(R3)\n",
    "    else:\n",
    "        if k[0] < k[2]:\n",
    "            k[0], k[2] = k[2], k[0]\n",
    "            L3, R3 = tp(Ry(np.pi/2), no_times = 2), R@tp(Ry(-np.pi/2), no_times = 2)\n",
    "            L_list.append(L3), R_list.append(R3)\n",
    "            \n",
    "    L = mm(*L_list) # The order goes L1 L2 L3 C3 R3 R2 R1\n",
    "    R = mm(*R_list[::-1])\n",
    "    \n",
    "    return k, L, R\n",
    "\n",
    "def step3(k):\n",
    "    L3, R3 = np.eye(4), np.eye(4)\n",
    "    if k[0] + k[1] > np.pi:\n",
    "        L3a = -tp(Y(), Y())@tp(X(), X())@tp(Z(), ID())@tp(Rz(np.pi/2), Rz(np.pi/2))\n",
    "        R3a = tp(Rz(-np.pi/2), Rz(-np.pi/2))@tp(Z(), ID()) # Bring to (pi-ky, pi-kx, kz)\n",
    "\n",
    "        k, L3b, R3b = step2(np.array([np.pi - k[1], np.pi - k[0], k[2]]) ) # Sorting\n",
    "        \n",
    "        L3, R3 = L3a@L3b, R3b@R3a\n",
    "\n",
    "    return k, L3, R3\n",
    "\n",
    "def step4(k):\n",
    "    L4 , R4 = np.eye(4), np.eye(4)\n",
    "    if np.isclose(k[2], 0) and (k[0] > np.pi/2):\n",
    "        L4, R4 = -1j*tp(X(), X())@tp(Y(), ID()), tp(Y(), ID())\n",
    "        k[0] = np.pi - k[0]\n",
    "        \n",
    "    return k, L4, R4"
   ]
  },
  {
   "cell_type": "code",
   "execution_count": 1237,
   "id": "a8b053e2",
   "metadata": {},
   "outputs": [],
   "source": [
    "def KAK(U, return_canonical = False):\n",
    "    M = Magic()\n",
    "\n",
    "    phase1 = global_phase(to_su(U), U)\n",
    "    V = dagger(M)@to_su(U)@M\n",
    "    D_squared, P = np.linalg.eig(V.T@V)\n",
    "\n",
    "    spectrum = np.angle(D_squared) # These steps make sure that D stays unimodular after the square root\n",
    "    spectrum[3] -= np.sum(spectrum)\n",
    "    spectrum = (spectrum/2).reshape(4, )\n",
    "\n",
    "    k_list = Gamma().T@spectrum\n",
    "\n",
    "    # Step 1, bring each kx, ky, kz to [0, pi) (done) (Check 10_000 values)\n",
    "    k, L1, phase2 = step1(k_list[1:])\n",
    "\n",
    "    # Step 2, set kx ≤ ky ≤ kz (done) (Check 20_000 values)\n",
    "    k, L2, R2 = step2(k)\n",
    "\n",
    "    # Step 3, Fix kx + ky > pi (done) (Check 20_000 values)\n",
    "    k, L3, R3 = step3(k)\n",
    "\n",
    "    # Step 4, fix if kz = 0 and kx > pi/4 \n",
    "    k, L4, R4 = step4(k)\n",
    "    \n",
    "    if np.isclose(np.linalg.det(P), -1): # If the determinant of P is -1, turn it to 1\n",
    "        P[:, 0] = -P[:, 0]\n",
    "\n",
    "    K1, K2 = M@P.T@dagger(M), M@V@P@np.diag(np.exp(-1j*spectrum))@dagger(M) # Extract local gates\n",
    "    \n",
    "    phase = phase1*phase2 # Collect Phase\n",
    "    Can = CAN(*k) # Collect Canonical Gate\n",
    "    L, R = K2@L1@L2@L3@L4, R4@R3@R2@R1@K1 # Collect local gates\n",
    "    \n",
    "    if not is_local(L): # Add global phase for factoring\n",
    "        L*=1j\n",
    "        R*=-1j\n",
    "    \n",
    "    if return_canonical:\n",
    "        return phase, L, Can, R, k\n",
    "    else:\n",
    "        return phase, L, Can, R"
   ]
  },
  {
   "cell_type": "code",
   "execution_count": 1249,
   "id": "b95b8066",
   "metadata": {},
   "outputs": [],
   "source": [
    "for i in range(10_000):\n",
    "    U = random_unitary(4).data\n",
    "    phase, L, Can, R = KAK(U)\n",
    "    \n",
    "    A1, A2 = kron_decomp(L)\n",
    "    B1, B2 = kron_decomp(R)\n",
    "    \n",
    "    aae(phase * tp(A1, A2)@Can@tp(B1, B2), U)"
   ]
  },
  {
   "cell_type": "code",
   "execution_count": 1259,
   "id": "ed801489",
   "metadata": {},
   "outputs": [],
   "source": [
    "_, _, _, _, k = KAK(SQiSW(), True)"
   ]
  },
  {
   "cell_type": "code",
   "execution_count": 1262,
   "id": "88cc1906",
   "metadata": {},
   "outputs": [
    {
     "data": {
      "text/plain": [
       "array([0.25, 0.25, 0.  ])"
      ]
     },
     "execution_count": 1262,
     "metadata": {},
     "output_type": "execute_result"
    }
   ],
   "source": [
    "k/np.pi"
   ]
  },
  {
   "cell_type": "code",
   "execution_count": null,
   "id": "d0d40169",
   "metadata": {},
   "outputs": [],
   "source": []
  }
 ],
 "metadata": {
  "kernelspec": {
   "display_name": "Python 3",
   "language": "python",
   "name": "python3"
  },
  "language_info": {
   "codemirror_mode": {
    "name": "ipython",
    "version": 3
   },
   "file_extension": ".py",
   "mimetype": "text/x-python",
   "name": "python",
   "nbconvert_exporter": "python",
   "pygments_lexer": "ipython3",
   "version": "3.8.3"
  }
 },
 "nbformat": 4,
 "nbformat_minor": 5
}
