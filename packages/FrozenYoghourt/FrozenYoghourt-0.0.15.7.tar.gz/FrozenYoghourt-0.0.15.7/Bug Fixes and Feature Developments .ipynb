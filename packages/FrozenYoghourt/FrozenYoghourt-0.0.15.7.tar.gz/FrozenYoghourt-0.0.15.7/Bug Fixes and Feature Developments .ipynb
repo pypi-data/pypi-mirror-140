{
 "cells": [
  {
   "cell_type": "code",
   "execution_count": 1,
   "id": "636fbe27",
   "metadata": {},
   "outputs": [],
   "source": [
    "from FrozenYoghourt import *\n",
    "from FrozenYoghourt.mode import *\n",
    "from FrozenYoghourt.gates import *\n",
    "from FrozenYoghourt.maths import *\n",
    "from FrozenYoghourt.quantum import *"
   ]
  },
  {
   "cell_type": "code",
   "execution_count": 2,
   "id": "ade6cffb",
   "metadata": {},
   "outputs": [],
   "source": [
    "import matplotlib.pyplot as plt"
   ]
  },
  {
   "cell_type": "code",
   "execution_count": 3,
   "id": "a17bf38c",
   "metadata": {},
   "outputs": [],
   "source": [
    "def double_cosets(g, h):\n",
    "     E = Magic()\n",
    "\n",
    "     g, h = to_su(g), to_su(h)\n",
    "\n",
    "     u, v = np.conj(E).T @ g @ E, np.conj(E).T @ h @ E\n",
    "\n",
    "     D1, P1 = np.linalg.eig(u @ u.T)\n",
    "     D2, P2 = np.linalg.eig(v @ v.T)\n",
    "\n",
    "     idx = D1.argsort()[::-1]\n",
    "     D1 = D1[idx]\n",
    "     P1 = P1[:, idx]\n",
    "\n",
    "     idx = D2.argsort()[::-1]\n",
    "     D2 = D2[idx]\n",
    "     P2 = P2[:, idx]\n",
    "\n",
    "     if not np.isclose(D1[0], D2[0]):\n",
    "         D2 = -D2\n",
    "         idx = D2.argsort()[::-1]\n",
    "         D2 = D2[idx]\n",
    "         P2 = P2[:, idx]\n",
    "\n",
    "     a = P1.T\n",
    "     b = P2.T\n",
    "\n",
    "     c = np.conj(v).T @ b.T @ a @ u\n",
    "\n",
    "     left_coset = E @ b.T @ a @ np.conj(E).T\n",
    "     right_coset = E @ c.T @ np.conj(E).T\n",
    "\n",
    "     return left_coset, right_coset"
   ]
  },
  {
   "cell_type": "code",
   "execution_count": 4,
   "id": "c086daea",
   "metadata": {},
   "outputs": [],
   "source": [
    "global_phase??"
   ]
  },
  {
   "cell_type": "code",
   "execution_count": 5,
   "id": "a7f5e51b",
   "metadata": {},
   "outputs": [],
   "source": [
    "def KAK(U:np.ndarray):\n",
    "    \n",
    "    M = Magic()\n",
    "    \n",
    "    phase1 = global_phase(to_su(U), U)\n",
    "    \n",
    "\n",
    "    return K2, A, K1, phase"
   ]
  },
  {
   "cell_type": "code",
   "execution_count": 6,
   "id": "14195ab5",
   "metadata": {},
   "outputs": [],
   "source": [
    "def canonical_class_vector(U, return_phase = True):\n",
    "    \n",
    "    M = Magic()\n",
    "    V = dagger(M)@to_su(U)@M\n",
    "    D_squared, P = np.linalg.eig(V.T@V)\n",
    "\n",
    "    spectrum = np.angle(D_squared) # These steps make sure that D stays unimodular after the square root\n",
    "    spectrum[3] -= np.sum(spectrum)\n",
    "    spectrum = (spectrum/2).reshape(4, )\n",
    "\n",
    "    tx, ty, tz = (Gamma().T@spectrum)[1:]\n",
    "    \n",
    "    # Step 1 and 2\n",
    "    param = np.array([tx, ty, tz])\n",
    "    shift = param // np.pi\n",
    "    phase = np.exp(-1j*(np.pi/2)*(np.sum(shift)%2)) # Keep track of whether to add phase to correct for KAK\n",
    "    k = np.sort(param - np.pi*shift)[::-1]\n",
    "\n",
    "    # Step 3\n",
    "    if k[0] + k[1] > np.pi:\n",
    "        k = np.sort(np.array([np.pi - k[1], np.pi - k[0], k[2]]))[::-1]\n",
    "\n",
    "    # Step 4\n",
    "    if np.isclose(k[2], 0) and (k[0] > np.pi/2):\n",
    "        k[0] = np.pi - k[0]\n",
    "        k = np.sort(k)[::-1]\n",
    "        phase *= 1j\n",
    "    \n",
    "    if return_phase:\n",
    "        return k[0], k[1], k[2], phase\n",
    "    else:\n",
    "        return k[0], k[1], k[2]"
   ]
  },
  {
   "cell_type": "code",
   "execution_count": 7,
   "id": "db095fed",
   "metadata": {},
   "outputs": [],
   "source": [
    "def is_local(U):\n",
    "    M = Magic()\n",
    "    V = dagger(M)@to_su(U)@M\n",
    "    if np.isclose(np.linalg.det(V), 1) and np.all(np.isclose(V@V.T, np.identity(4))):\n",
    "        return True\n",
    "    else:\n",
    "        return False"
   ]
  },
  {
   "cell_type": "code",
   "execution_count": 8,
   "id": "884dc6e3",
   "metadata": {},
   "outputs": [],
   "source": [
    "U = to_su(random_unitary(4).data)"
   ]
  },
  {
   "cell_type": "code",
   "execution_count": 75,
   "id": "1bcfa47e",
   "metadata": {},
   "outputs": [],
   "source": [
    "def KAK(U:np.ndarray):\n",
    "    \n",
    "    phase1 = global_phase(to_su(U), U)\n",
    "    tx, ty, tz, phase2 = canonical_class_vector(U)\n",
    "    \n",
    "    total_phase = phase1*phase2\n",
    "    Can = CAN(tx, ty, tz)\n",
    "    \n",
    "    L, R = double_cosets(phase2*Can, to_su(-1j*U))\n",
    "\n",
    "    return L, Can, R, total_phase"
   ]
  },
  {
   "cell_type": "code",
   "execution_count": 77,
   "id": "6ee423a9",
   "metadata": {},
   "outputs": [
    {
     "data": {
      "text/plain": [
       "array([[-0.27512678+0.14805447j, -0.23023844+0.22473805j,\n",
       "         0.34361378+0.68223311j, -0.00671838+0.46401575j],\n",
       "       [ 0.09279758+0.52471081j,  0.07985559+0.43534232j,\n",
       "        -0.42429982+0.30854319j,  0.2629816 -0.41925979j],\n",
       "       [-0.10731208-0.29925107j, -0.08676609+0.79631563j,\n",
       "         0.07561382-0.23857059j, -0.42769583-0.10829999j],\n",
       "       [ 0.44580103+0.56448796j, -0.2426256 +0.00831291j,\n",
       "        -0.09920046-0.26226745j, -0.41789457+0.41281676j]])"
      ]
     },
     "execution_count": 77,
     "metadata": {},
     "output_type": "execute_result"
    }
   ],
   "source": [
    "U"
   ]
  },
  {
   "cell_type": "code",
   "execution_count": 79,
   "id": "e5575037",
   "metadata": {},
   "outputs": [
    {
     "data": {
      "text/plain": [
       "False"
      ]
     },
     "execution_count": 79,
     "metadata": {},
     "output_type": "execute_result"
    }
   ],
   "source": [
    "U = to_su(random_unitary(4, seed = 1).data)\n",
    "\n",
    "L, A, R, phase = KAK(U)\n",
    "\n",
    "#aae(phase*L@A@R, 1j*U)\n",
    "\n",
    "is_local(L)"
   ]
  },
  {
   "cell_type": "code",
   "execution_count": 10,
   "id": "3d03030f",
   "metadata": {},
   "outputs": [
    {
     "ename": "AssertionError",
     "evalue": "L is not local",
     "output_type": "error",
     "traceback": [
      "\u001b[0;31m---------------------------------------------------------------------------\u001b[0m",
      "\u001b[0;31mAssertionError\u001b[0m                            Traceback (most recent call last)",
      "\u001b[0;32m<ipython-input-10-ea1b8717d39b>\u001b[0m in \u001b[0;36m<module>\u001b[0;34m\u001b[0m\n\u001b[1;32m      6\u001b[0m     \u001b[0maae\u001b[0m\u001b[0;34m(\u001b[0m\u001b[0mphase\u001b[0m\u001b[0;34m*\u001b[0m\u001b[0mL\u001b[0m\u001b[0;34m@\u001b[0m\u001b[0mA\u001b[0m\u001b[0;34m@\u001b[0m\u001b[0mR\u001b[0m\u001b[0;34m,\u001b[0m \u001b[0mU\u001b[0m\u001b[0;34m)\u001b[0m\u001b[0;34m\u001b[0m\u001b[0;34m\u001b[0m\u001b[0m\n\u001b[1;32m      7\u001b[0m \u001b[0;34m\u001b[0m\u001b[0m\n\u001b[0;32m----> 8\u001b[0;31m     \u001b[0;32massert\u001b[0m \u001b[0mis_local\u001b[0m\u001b[0;34m(\u001b[0m\u001b[0mL\u001b[0m\u001b[0;34m)\u001b[0m\u001b[0;34m,\u001b[0m \u001b[0;34m'L is not local'\u001b[0m\u001b[0;34m\u001b[0m\u001b[0;34m\u001b[0m\u001b[0m\n\u001b[0m\u001b[1;32m      9\u001b[0m     \u001b[0;32massert\u001b[0m \u001b[0mis_local\u001b[0m\u001b[0;34m(\u001b[0m\u001b[0mR\u001b[0m\u001b[0;34m)\u001b[0m\u001b[0;34m,\u001b[0m \u001b[0;34m'R is not local'\u001b[0m\u001b[0;34m\u001b[0m\u001b[0;34m\u001b[0m\u001b[0m\n",
      "\u001b[0;31mAssertionError\u001b[0m: L is not local"
     ]
    }
   ],
   "source": [
    "for _ in range(100):\n",
    "    U = to_su(random_unitary(4).data)\n",
    "\n",
    "    L, A, R, phase = KAK(U)\n",
    "\n",
    "    aae(phase*L@A@R, U)\n",
    "\n",
    "    assert is_local(L), 'L is not local'\n",
    "    assert is_local(R), 'R is not local'"
   ]
  },
  {
   "cell_type": "code",
   "execution_count": 235,
   "id": "42eda142",
   "metadata": {},
   "outputs": [
    {
     "data": {
      "text/plain": [
       "False"
      ]
     },
     "execution_count": 235,
     "metadata": {},
     "output_type": "execute_result"
    }
   ],
   "source": [
    "is_local(L)"
   ]
  },
  {
   "cell_type": "code",
   "execution_count": 237,
   "id": "a8b23fc3",
   "metadata": {},
   "outputs": [
    {
     "data": {
      "text/plain": [
       "False"
      ]
     },
     "execution_count": 237,
     "metadata": {},
     "output_type": "execute_result"
    }
   ],
   "source": [
    "is_local(R)"
   ]
  },
  {
   "cell_type": "code",
   "execution_count": 1,
   "id": "48f48a80",
   "metadata": {},
   "outputs": [],
   "source": [
    "f = open(\"CHANGELOG.md\", \"r\")"
   ]
  },
  {
   "cell_type": "code",
   "execution_count": 2,
   "id": "57228e7e",
   "metadata": {},
   "outputs": [
    {
     "name": "stdout",
     "output_type": "stream",
     "text": [
      "# Change Log\n",
      "\n",
      "0.0.1 (10/02/2022)\n",
      "------------------\n",
      "\n",
      "1. Wrote README file\n",
      "2. Add P gates method to gates.py\n",
      "3. Add CU method to gates.py\n",
      "4. Add view method to mode.py\n",
      "5. Add log.txt for keeping track of changes\n",
      "\n",
      "0.0.3 (11/02/2022)\n",
      "------------------\n",
      "\n",
      "1. Move to_su to maths.py\n",
      "2. Move kron_decomp to quantum.py\n",
      "3. Change default variable in the chi method to \"x\"\n",
      "\n",
      "0.0.7 (12/02/2022)\n",
      "------------------\n",
      "\n",
      "1. Import gates.py to quantum.py\n",
      "\n",
      "0.0.8 (12/02/2022)\n",
      "------------------\n",
      "\n",
      "1. Fix Quantum.double_cosets by importing the correct packages\n",
      "2. Add default_import method to allow for faster import prompt\n",
      "3. Change random_local_gates to random_local_ops and allow for creating more operation at the same time.\n",
      "4. Allow for doing to_su on list of matrices.\n",
      "\n",
      "0.0.10.1 (15/02/2022)\n",
      "-------------------\n",
      "\n",
      "1. Add view method to visualize numerical matrices\n",
      "2. Add CAN method\n",
      "3. Add Gamma gates\n",
      "\n",
      "0.0.11 (17/02/2022)\n",
      "-------------------\n",
      "\n",
      "1. Delete Class from files so now g.CAN will just be CAN. Although the Mode class is kept.\n",
      "2. Fix default_import to match the change in 1.\n",
      "\n",
      "0.0.12 (17/02/2022)\n",
      "-------------------\n",
      "\n",
      "1. Allow for custom custom mode toggle\n",
      "2. Add color to toggle / now\n",
      "\n",
      "0.0.12.2 (17/02/2022)\n",
      "---------------------\n",
      "\n",
      "1. Add a dagger function that can operate on multiple matrices input\n",
      "2. Fix the to_su function so that it can operate on multiple matrices input\n",
      "3. Delete double_cosets to be replaced with the KAK\n",
      "4. Add printing parameter to toggle to allow for not printing results\n",
      "\n",
      "0.0.13 (18/02/2022)\n",
      "-------------------\n",
      "\n",
      "1. Change P gate to Phase\n",
      "2. Change chi to include coefficients return of symbolic matrices.\n",
      "3. Change random_local_ops to local_ops\n",
      "4. Replace U function with u2 function which now allows for special unitary gates\n",
      "5. Fix local_ops so that it nows includes a special unitary option\n",
      "6. Add evaluate numerical returns for to_su\n",
      "7. Add canonical_class_vector method\n",
      "\n",
      "0.0.14 (19/02/2022)\n",
      "-------------------\n",
      "\n",
      "1. Write documentation for mode\n",
      "2. Allow single variable input for fast_substitution\n",
      "3. Add angles parameters to u2 function\n",
      "4. Create two new modules circuit and visualization\n",
      "5. Fix the default_import to reflect the above changes.\n",
      "6. Add scatter to visualization\n",
      "7. Fix gamma, implicitly convert matrix to unimodular if numpy and optionally if sympy\n",
      "8. Add close to math.py to compare matrices and get boolean values\n",
      "\n",
      "0.0.15 (22/02/2022)\n",
      "----------------------\n",
      "\n",
      "1. Add huang_invariant to quantum\n",
      "2. Add KAK to quantum!\n",
      "3. Change Id method to ID to avoid collision\n",
      "4. Add a pauli method to gates to compute tensor product of pauli matrices\n",
      "5. Change no_times argument in tp and mm to mult (for multiplicity)\n",
      "6. Change view in __init__ to allow for displaying sympy matrices with rounding\n",
      "7. Change gamma method to ymap and chi method to xmap\n",
      "8. Fix is_local to return boolean value\n",
      "9. Create a new decomposition.py file\n",
      "10. Delete canonical_class_vector for step1-4 in decomposition\n",
      "\n"
     ]
    }
   ],
   "source": [
    "print(f.read())"
   ]
  }
 ],
 "metadata": {
  "kernelspec": {
   "display_name": "Python 3",
   "language": "python",
   "name": "python3"
  },
  "language_info": {
   "codemirror_mode": {
    "name": "ipython",
    "version": 3
   },
   "file_extension": ".py",
   "mimetype": "text/x-python",
   "name": "python",
   "nbconvert_exporter": "python",
   "pygments_lexer": "ipython3",
   "version": "3.8.8"
  }
 },
 "nbformat": 4,
 "nbformat_minor": 5
}
