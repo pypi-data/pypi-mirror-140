{
 "cells": [
  {
   "cell_type": "code",
   "execution_count": 2,
   "id": "636fbe27",
   "metadata": {},
   "outputs": [],
   "source": [
    "from FrozenYoghourt import *\n",
    "from FrozenYoghourt.mode import *\n",
    "from FrozenYoghourt.gates import *\n",
    "from FrozenYoghourt.maths import *\n",
    "from FrozenYoghourt.quantum import *"
   ]
  },
  {
   "cell_type": "code",
   "execution_count": 3,
   "id": "ade6cffb",
   "metadata": {},
   "outputs": [],
   "source": [
    "import matplotlib.pyplot as plt"
   ]
  },
  {
   "cell_type": "code",
   "execution_count": 106,
   "id": "a17bf38c",
   "metadata": {},
   "outputs": [],
   "source": [
    "def double_cosets(g, h):\n",
    "     E = Magic()\n",
    "\n",
    "     g, h = to_su(g), to_su(h)\n",
    "\n",
    "     u, v = np.conj(E).T @ g @ E, np.conj(E).T @ h @ E\n",
    "\n",
    "     D1, P1 = np.linalg.eig(u @ u.T)\n",
    "     D2, P2 = np.linalg.eig(v @ v.T)\n",
    "\n",
    "     idx = D1.argsort()[::-1]\n",
    "     D1 = D1[idx]\n",
    "     P1 = P1[:, idx]\n",
    "\n",
    "     idx = D2.argsort()[::-1]\n",
    "     D2 = D2[idx]\n",
    "     P2 = P2[:, idx]\n",
    "\n",
    "     if not np.isclose(D1[0], D2[0]):\n",
    "         D2 = -D2\n",
    "         idx = D2.argsort()[::-1]\n",
    "         D2 = D2[idx]\n",
    "         P2 = P2[:, idx]\n",
    "\n",
    "     a = P1.T\n",
    "     b = P2.T\n",
    "\n",
    "     c = np.conj(v).T @ b.T @ a @ u\n",
    "\n",
    "     left_coset = E @ b.T @ a @ np.conj(E).T\n",
    "     right_coset = E @ c.T @ np.conj(E).T\n",
    "\n",
    "     return left_coset, right_coset"
   ]
  },
  {
   "cell_type": "code",
   "execution_count": 128,
   "id": "c086daea",
   "metadata": {},
   "outputs": [],
   "source": [
    "global_phase??"
   ]
  },
  {
   "cell_type": "code",
   "execution_count": 126,
   "id": "a7f5e51b",
   "metadata": {},
   "outputs": [],
   "source": [
    "def KAK(U:np.ndarray):\n",
    "    \n",
    "    M = Magic()\n",
    "    \n",
    "    phase1 = global_phase(to_su(U), U)\n",
    "    \n",
    "\n",
    "    return K2, A, K1, phase"
   ]
  },
  {
   "cell_type": "code",
   "execution_count": 129,
   "id": "14195ab5",
   "metadata": {},
   "outputs": [],
   "source": [
    "def canonical_class_vector(U, return_phase = True):\n",
    "    \n",
    "    M = Magic()\n",
    "    V = dagger(M)@to_su(U)@M\n",
    "    D_squared, P = np.linalg.eig(V.T@V)\n",
    "\n",
    "    spectrum = np.angle(D_squared) # These steps make sure that D stays unimodular after the square root\n",
    "    spectrum[3] -= np.sum(spectrum)\n",
    "    spectrum = (spectrum/2).reshape(4, )\n",
    "\n",
    "    tx, ty, tz = (Gamma().T@spectrum)[1:]\n",
    "    \n",
    "    # Step 1 and 2\n",
    "    param = np.array([tx, ty, tz])\n",
    "    shift = param // np.pi\n",
    "    phase = np.exp(-1j*(np.pi/2)*(np.sum(shift)%2)) # Keep track of whether to add phase to correct for KAK\n",
    "    k = np.sort(param - np.pi*shift)[::-1]\n",
    "\n",
    "    # Step 3\n",
    "    if k[0] + k[1] > np.pi:\n",
    "        k = np.sort(np.array([np.pi - k[1], np.pi - k[0], k[2]]))[::-1]\n",
    "\n",
    "    # Step 4\n",
    "    if np.isclose(k[2], 0) and (k[0] > np.pi/2):\n",
    "        k[0] = np.pi - k[0]\n",
    "        k = np.sort(k)[::-1]\n",
    "        phase *= 1j\n",
    "    \n",
    "    if return_phase:\n",
    "        return k[0], k[1], k[2], phase\n",
    "    else:\n",
    "        return k[0], k[1], k[2]"
   ]
  },
  {
   "cell_type": "code",
   "execution_count": 27,
   "id": "db095fed",
   "metadata": {},
   "outputs": [],
   "source": [
    "def is_local(U):\n",
    "    M = Magic()\n",
    "    V = dagger(M)@to_su(U)@M\n",
    "    if np.isclose(np.linalg.det(V), 1) and np.all(np.isclose(V@V.T, np.identity(4))):\n",
    "        return True\n",
    "    else:\n",
    "        return False"
   ]
  },
  {
   "cell_type": "code",
   "execution_count": 133,
   "id": "884dc6e3",
   "metadata": {},
   "outputs": [],
   "source": [
    "U = to_su(random_unitary(4).data)"
   ]
  },
  {
   "cell_type": "code",
   "execution_count": 232,
   "id": "1bcfa47e",
   "metadata": {},
   "outputs": [],
   "source": [
    "def KAK(U:np.ndarray):\n",
    "    \n",
    "    phase1 = global_phase(to_su(U), U)\n",
    "    tx, ty, tz, phase2 = canonical_class_vector(U)\n",
    "    \n",
    "    total_phase = phase1*phase2\n",
    "    Can = CAN(tx, ty, tz)\n",
    "    \n",
    "    L, R = double_cosets(phase2*Can, to_su(U))\n",
    "\n",
    "    return L, Can, R, total_phase"
   ]
  },
  {
   "cell_type": "code",
   "execution_count": 233,
   "id": "3d03030f",
   "metadata": {},
   "outputs": [
    {
     "ename": "AssertionError",
     "evalue": "L is not local",
     "output_type": "error",
     "traceback": [
      "\u001b[0;31m------------------------------------------------\u001b[0m",
      "\u001b[0;31mAssertionError\u001b[0m Traceback (most recent call last)",
      "\u001b[0;32m<ipython-input-233-ea1b8717d39b>\u001b[0m in \u001b[0;36m<module>\u001b[0;34m\u001b[0m\n\u001b[1;32m      6\u001b[0m     \u001b[0maae\u001b[0m\u001b[0;34m(\u001b[0m\u001b[0mphase\u001b[0m\u001b[0;34m*\u001b[0m\u001b[0mL\u001b[0m\u001b[0;34m@\u001b[0m\u001b[0mA\u001b[0m\u001b[0;34m@\u001b[0m\u001b[0mR\u001b[0m\u001b[0;34m,\u001b[0m \u001b[0mU\u001b[0m\u001b[0;34m)\u001b[0m\u001b[0;34m\u001b[0m\u001b[0;34m\u001b[0m\u001b[0m\n\u001b[1;32m      7\u001b[0m \u001b[0;34m\u001b[0m\u001b[0m\n\u001b[0;32m----> 8\u001b[0;31m     \u001b[0;32massert\u001b[0m \u001b[0mis_local\u001b[0m\u001b[0;34m(\u001b[0m\u001b[0mL\u001b[0m\u001b[0;34m)\u001b[0m\u001b[0;34m,\u001b[0m \u001b[0;34m'L is not local'\u001b[0m\u001b[0;34m\u001b[0m\u001b[0;34m\u001b[0m\u001b[0m\n\u001b[0m\u001b[1;32m      9\u001b[0m     \u001b[0;32massert\u001b[0m \u001b[0mis_local\u001b[0m\u001b[0;34m(\u001b[0m\u001b[0mR\u001b[0m\u001b[0;34m)\u001b[0m\u001b[0;34m,\u001b[0m \u001b[0;34m'R is not local'\u001b[0m\u001b[0;34m\u001b[0m\u001b[0;34m\u001b[0m\u001b[0m\n",
      "\u001b[0;31mAssertionError\u001b[0m: L is not local"
     ]
    }
   ],
   "source": [
    "for _ in range(100):\n",
    "    U = to_su(random_unitary(4).data)\n",
    "\n",
    "    L, A, R, phase = KAK(U)\n",
    "\n",
    "    aae(phase*L@A@R, U)\n",
    "\n",
    "    assert is_local(L), 'L is not local'\n",
    "    assert is_local(R), 'R is not local'"
   ]
  },
  {
   "cell_type": "code",
   "execution_count": 235,
   "id": "42eda142",
   "metadata": {},
   "outputs": [
    {
     "data": {
      "text/plain": [
       "False"
      ]
     },
     "execution_count": 235,
     "metadata": {},
     "output_type": "execute_result"
    }
   ],
   "source": [
    "is_local(L)"
   ]
  },
  {
   "cell_type": "code",
   "execution_count": 237,
   "id": "a8b23fc3",
   "metadata": {},
   "outputs": [
    {
     "data": {
      "text/plain": [
       "False"
      ]
     },
     "execution_count": 237,
     "metadata": {},
     "output_type": "execute_result"
    }
   ],
   "source": [
    "is_local(R)"
   ]
  },
  {
   "cell_type": "code",
   "execution_count": null,
   "id": "48f48a80",
   "metadata": {},
   "outputs": [],
   "source": []
  }
 ],
 "metadata": {
  "kernelspec": {
   "display_name": "Python 3",
   "language": "python",
   "name": "python3"
  },
  "language_info": {
   "codemirror_mode": {
    "name": "ipython",
    "version": 3
   },
   "file_extension": ".py",
   "mimetype": "text/x-python",
   "name": "python",
   "nbconvert_exporter": "python",
   "pygments_lexer": "ipython3",
   "version": "3.8.8"
  }
 },
 "nbformat": 4,
 "nbformat_minor": 5
}
