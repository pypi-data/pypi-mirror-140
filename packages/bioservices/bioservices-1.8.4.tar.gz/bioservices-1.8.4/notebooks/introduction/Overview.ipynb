{
 "cells": [
  {
   "cell_type": "markdown",
   "metadata": {},
   "source": [
    "## BioServices introduction"
   ]
  },
  {
   "cell_type": "markdown",
   "metadata": {},
   "source": [
    "**Bioservices** is a Python package that provides access to many Bioinformatices Web Services (e.g.,\n",
    "UniProt) and a framework to easily implement Web Services wrappers (based on \n",
    "WSDL/SOAP or REST protocols).\n"
   ]
  },
  {
   "cell_type": "code",
   "execution_count": 10,
   "metadata": {},
   "outputs": [
    {
     "name": "stdout",
     "output_type": "stream",
     "text": [
      "Populating the interactive namespace from numpy and matplotlib\n"
     ]
    }
   ],
   "source": [
    "from bioservices import *\n",
    "import bioservices\n",
    "%pylab inline"
   ]
  },
  {
   "cell_type": "markdown",
   "metadata": {},
   "source": [
    "### uniprot"
   ]
  },
  {
   "cell_type": "code",
   "execution_count": 11,
   "metadata": {
    "collapsed": true
   },
   "outputs": [],
   "source": [
    "u = UniProt()"
   ]
  },
  {
   "cell_type": "code",
   "execution_count": 12,
   "metadata": {},
   "outputs": [
    {
     "name": "stdout",
     "output_type": "stream",
     "text": [
      "Will be moved to BioKit github.com/biokit\n"
     ]
    },
    {
     "data": {
      "text/plain": [
       "'>sp|P43403|ZAP70_HUMAN Tyrosine-protein kinase ZAP-70 OS=Homo sapiens GN=ZAP70 PE=1 SV=1\\nMPDPAAHLPFFYGSISRAEAEEHLKLAGMADGLFLLRQCLRSLGGYVLSLVHDVRFHHFP\\nIERQLNGTYAIAGGKAHCGPAELCEFYSRDPDGLPCNLRKPCNRPSGLEPQPGVFDCLRD\\nAMVRDYVRQTWKLEGEALEQAIISQAPQVEKLIATTAHERMPWYHSSLTREEAERKLYSG\\nAQTDGKFLLRPRKEQGTYALSLIYGKTVYHYLISQDKAGKYCIPEGTKFDTLWQLVEYLK\\nLKADGLIYCLKEACPNSSASNASGAAAPTLPAHPSTLTHPQRRIDTLNSDGYTPEPARIT\\nSPDKPRPMPMDTSVYESPYSDPEELKDKKLFLKRDNLLIADIELGCGNFGSVRQGVYRMR\\nKKQIDVAIKVLKQGTEKADTEEMMREAQIMHQLDNPYIVRLIGVCQAEALMLVMEMAGGG\\nPLHKFLVGKREEIPVSNVAELLHQVSMGMKYLEEKNFVHRDLAARNVLLVNRHYAKISDF\\nGLSKALGADDSYYTARSAGKWPLKWYAPECINFRKFSSRSDVWSYGVTMWEALSYGQKPY\\nKKMKGPEVMAFIEQGKRMECPPECPPELYALMSDCWIYKWEDRPDFLTVEQRMRACYYSL\\nASKVEGPPGSTQKAEAACA\\n'"
      ]
     },
     "execution_count": 12,
     "metadata": {},
     "output_type": "execute_result"
    }
   ],
   "source": [
    "u.get_fasta(\"P43403\")"
   ]
  },
  {
   "cell_type": "code",
   "execution_count": 13,
   "metadata": {},
   "outputs": [
    {
     "name": "stdout",
     "output_type": "stream",
     "text": [
      "{'format': 'tab', 'sort': 'score', 'query': 'ZAP70 and taxonomy:human', 'limit': 3}\n",
      "Entry\tEntry name\tStatus\tProtein names\tGene names\tOrganism\tLength\n",
      "P43403\tZAP70_HUMAN\treviewed\tTyrosine-protein kinase ZAP-70 (EC 2.7.10.2) (70 kDa zeta-chain associated protein) (Syk-related tyrosine kinase)\tZAP70 SRK\tHomo sapiens (Human)\t619\n",
      "P06239\tLCK_HUMAN\treviewed\tTyrosine-protein kinase Lck (EC 2.7.10.2) (Leukocyte C-terminal Src kinase) (LSK) (Lymphocyte cell-specific protein-tyrosine kinase) (Protein YT16) (Proto-oncogene Lck) (T cell-specific protein-tyrosine kinase) (p56-LCK)\tLCK\tHomo sapiens (Human)\t509\n",
      "P22681\tCBL_HUMAN\treviewed\tE3 ubiquitin-protein ligase CBL (EC 2.3.2.27) (Casitas B-lineage lymphoma proto-oncogene) (Proto-oncogene c-Cbl) (RING finger protein 55) (RING-type E3 ubiquitin transferase CBL) (Signal transduction protein CBL)\tCBL CBL2 RNF55\tHomo sapiens (Human)\t906\n",
      "\n"
     ]
    }
   ],
   "source": [
    "print(u.search(\"ZAP70 and taxonomy:human\", limit=3))"
   ]
  },
  {
   "cell_type": "code",
   "execution_count": 14,
   "metadata": {},
   "outputs": [
    {
     "name": "stdout",
     "output_type": "stream",
     "text": [
      "{'format': 'tab', 'columns': 'id,entry name,genes,genes(PREFERRED),genes(ALTERNATIVE),genes(OLN),genes(ORF),organism,organism-id,protein names,proteome,lineage(ALL),lineage-id,virus hosts,fragement,sequence,length,mass,encodedon,comment(ALTERNATIVE PRODUCTS),comment(ERRONEOUS GENE MODEL PREDICTION),comment(ERRONEOUS INITIATION),comment(ERRONEOUS TERMINATION),comment(ERRONEOUS TRANSLATION),comment(FRAMESHIFT),comment(MASS SPECTROMETRY),comment(POLYMORPHISM),comment(RNA EDITING),comment(SEQUENCE CAUTION),feature(ALTERNATIVE SEQUENCE),feature(NATURAL VARIANT),feature(NON ADJACENT RESIDUES),feature(NON STANDARD RESIDUE),feature(NON TERMINAL RESIDUE),feature(SEQUENCE CONFLICT),feature(SEQUENCE UNCERTAINTY),version(sequence),domains,domain,comment(DOMAIN),comment(SIMILARITY),feature(COILED COIL),feature(COMPOSITIONAL BIAS),feature(DOMAIN EXTENT),feature(MOTIF),feature(REGION),feature(REPEAT),feature(ZINC FINGER),ec,comment(ABSORPTION),comment(CATALYTIC ACTIVITY),comment(COFACTOR),comment(ENZYME REGULATION),comment(FUNCTION),comment(KINETICS),comment(PATHWAY),comment(REDOX POTENTIAL),comment(TEMPERATURE DEPENDENCE),comment(PH DEPENDENCE),feature(ACTIVE SITE),feature(BINDING SITE),feature(DNA BINDING),feature(METAL BINDING),feature(NP BIND),feature(SITE),go,go(biological process),go(molecular function),go(cellular component),go-id,interpro,interactor,comment(SUBUNIT),citation,citationmapping,created,last-modified,sequence-modified,version(entry),3d,feature(BETA STRAND),feature(HELIX),feature(TURN),comment(SUBCELLULAR LOCATION),feature(INTRAMEMBRANE),feature(TOPOLOGICAL DOMAIN),feature(TRANSMEMBRANE),annotation score,score,features,comment(CAUTION),comment(TISSUE SPECIFICITY),comment(GENERAL),keywords,context,existence,tools,reviewed,feature,families,subcellular locations,taxonomy,version,clusters,comments,database,keyword-id,pathway,score,comment(ALLERGEN),comment(BIOTECHNOLOGY),comment(DISRUPTION PHENOTYPE),comment(DISEASE),comment(PHARMACEUTICAL),comment(TOXIC DOSE),comment(PTM),feature(CHAIN),feature(CROSS LINK),feature(DISULFIDE BOND),feature(GLYCOSYLATION),feature(INITIATOR METHIONINE),feature(LIPIDATION),feature(MODIFIED RESIDUE),feature(PEPTIDE),feature(PROPEPTIDE),feature(SIGNAL),feature(TRANSIT),lineage(all),lineage(SUPERKINGDOM),lineage(KINGDOM),lineage(SUBKINGDOM),lineage(SUPERPHYLUM),lineage(PHYLUM),lineage(SUBPHYLUM),lineage(SUPERCLASS),lineage(CLASS),lineage(SUBCLASS),lineage(INFRACLASS),lineage(SUPERORDER),lineage(ORDER),lineage(SUBORDER),lineage(INFRAORDER),lineage(PARVORDER),lineage(SUPERFAMILY),lineage(FAMILY),lineage(SUBFAMILY),lineage(TRIBE),lineage(SUBTRIBE),lineage(GENUS),lineage(SUBGENUS),lineage(SPECIES GROUP),lineage(SPECIES SUBGROUP),lineage(SPECIES),lineage(SUBSPECIES),lineage(VARIETAS),lineage(FORMA),lineage-id(all),lineage-id(SUPERKINGDOM),lineage-id(KINGDOM),lineage-id(SUBKINGDOM),lineage-id(SUPERPHYLUM),lineage-id(PHYLUM),lineage-id(SUBPHYLUM),lineage-id(SUPERCLASS),lineage-id(CLASS),lineage-id(SUBCLASS),lineage-id(INFRACLASS),lineage-id(SUPERORDER),lineage-id(ORDER),lineage-id(SUBORDER),lineage-id(INFRAORDER),lineage-id(PARVORDER),lineage-id(SUPERFAMILY),lineage-id(FAMILY),lineage-id(SUBFAMILY),lineage-id(TRIBE),lineage-id(SUBTRIBE),lineage-id(GENUS),lineage-id(SUBGENUS),lineage-id(SPECIES GROUP),lineage-id(SPECIES SUBGROUP),lineage-id(SPECIES),lineage-id(SUBSPECIES),lineage-id(VARIETAS),lineage-id(FORMA),database(db_abbrev),database(EMBL)', 'sort': 'score', 'query': 'P43403'}\n"
     ]
    }
   ],
   "source": [
    "df = u.get_df(\"P43403\")"
   ]
  },
  {
   "cell_type": "code",
   "execution_count": 15,
   "metadata": {},
   "outputs": [
    {
     "data": {
      "text/html": [
       "<div>\n",
       "<style>\n",
       "    .dataframe thead tr:only-child th {\n",
       "        text-align: right;\n",
       "    }\n",
       "\n",
       "    .dataframe thead th {\n",
       "        text-align: left;\n",
       "    }\n",
       "\n",
       "    .dataframe tbody tr th {\n",
       "        vertical-align: top;\n",
       "    }\n",
       "</style>\n",
       "<table border=\"1\" class=\"dataframe\">\n",
       "  <thead>\n",
       "    <tr style=\"text-align: right;\">\n",
       "      <th></th>\n",
       "      <th>Entry</th>\n",
       "      <th>Entry name</th>\n",
       "      <th>Gene names</th>\n",
       "      <th>Gene names  (primary )</th>\n",
       "      <th>Gene names  (synonym )</th>\n",
       "      <th>Gene names  (ordered locus )</th>\n",
       "      <th>Gene names  (ORF )</th>\n",
       "      <th>Organism</th>\n",
       "      <th>Organism ID</th>\n",
       "      <th>Protein names</th>\n",
       "      <th>...</th>\n",
       "      <th>Taxonomic lineage IDs (GENUS)</th>\n",
       "      <th>Taxonomic lineage IDs (SUBGENUS)</th>\n",
       "      <th>Taxonomic lineage IDs (SPECIES GROUP)</th>\n",
       "      <th>Taxonomic lineage IDs (SPECIES SUBGROUP)</th>\n",
       "      <th>Taxonomic lineage IDs (SPECIES)</th>\n",
       "      <th>Taxonomic lineage IDs (SUBSPECIES)</th>\n",
       "      <th>Taxonomic lineage IDs (VARIETAS)</th>\n",
       "      <th>Taxonomic lineage IDs (FORMA)</th>\n",
       "      <th>Cross-reference (db_abbrev)</th>\n",
       "      <th>Cross-reference (EMBL)</th>\n",
       "    </tr>\n",
       "  </thead>\n",
       "  <tbody>\n",
       "    <tr>\n",
       "      <th>0</th>\n",
       "      <td>P43403</td>\n",
       "      <td>ZAP70_HUMAN</td>\n",
       "      <td>[ZAP70 SRK]</td>\n",
       "      <td>ZAP70</td>\n",
       "      <td>SRK</td>\n",
       "      <td>NaN</td>\n",
       "      <td>NaN</td>\n",
       "      <td>Homo sapiens (Human)</td>\n",
       "      <td>9606</td>\n",
       "      <td>Tyrosine-protein kinase ZAP-70 (EC 2.7.10.2) (...</td>\n",
       "      <td>...</td>\n",
       "      <td>9605</td>\n",
       "      <td>NaN</td>\n",
       "      <td>NaN</td>\n",
       "      <td>NaN</td>\n",
       "      <td>NaN</td>\n",
       "      <td>NaN</td>\n",
       "      <td>NaN</td>\n",
       "      <td>NaN</td>\n",
       "      <td>NaN</td>\n",
       "      <td>AB083211;AC016699;BC039039;BC053878;</td>\n",
       "    </tr>\n",
       "    <tr>\n",
       "      <th>1</th>\n",
       "      <td>P00533</td>\n",
       "      <td>EGFR_HUMAN</td>\n",
       "      <td>[EGFR ERBB ERBB1 HER1]</td>\n",
       "      <td>EGFR</td>\n",
       "      <td>ERBB ERBB1 HER1</td>\n",
       "      <td>NaN</td>\n",
       "      <td>NaN</td>\n",
       "      <td>Homo sapiens (Human)</td>\n",
       "      <td>9606</td>\n",
       "      <td>Epidermal growth factor receptor (EC 2.7.10.1)...</td>\n",
       "      <td>...</td>\n",
       "      <td>9605</td>\n",
       "      <td>NaN</td>\n",
       "      <td>NaN</td>\n",
       "      <td>NaN</td>\n",
       "      <td>NaN</td>\n",
       "      <td>NaN</td>\n",
       "      <td>NaN</td>\n",
       "      <td>NaN</td>\n",
       "      <td>NaN</td>\n",
       "      <td>X00588;U95089;U48722;U48723;U48724;U48725;U487...</td>\n",
       "    </tr>\n",
       "    <tr>\n",
       "      <th>2</th>\n",
       "      <td>P10721</td>\n",
       "      <td>KIT_HUMAN</td>\n",
       "      <td>[KIT SCFR]</td>\n",
       "      <td>KIT</td>\n",
       "      <td>SCFR</td>\n",
       "      <td>NaN</td>\n",
       "      <td>NaN</td>\n",
       "      <td>Homo sapiens (Human)</td>\n",
       "      <td>9606</td>\n",
       "      <td>Mast/stem cell growth factor receptor Kit (SCF...</td>\n",
       "      <td>...</td>\n",
       "      <td>9605</td>\n",
       "      <td>NaN</td>\n",
       "      <td>NaN</td>\n",
       "      <td>NaN</td>\n",
       "      <td>NaN</td>\n",
       "      <td>NaN</td>\n",
       "      <td>NaN</td>\n",
       "      <td>NaN</td>\n",
       "      <td>NaN</td>\n",
       "      <td>X06182;X69301;X69302;X69303;X69304;X69305;X693...</td>\n",
       "    </tr>\n",
       "    <tr>\n",
       "      <th>3</th>\n",
       "      <td>P08581</td>\n",
       "      <td>MET_HUMAN</td>\n",
       "      <td>[MET]</td>\n",
       "      <td>MET</td>\n",
       "      <td>NaN</td>\n",
       "      <td>NaN</td>\n",
       "      <td>NaN</td>\n",
       "      <td>Homo sapiens (Human)</td>\n",
       "      <td>9606</td>\n",
       "      <td>Hepatocyte growth factor receptor (HGF recepto...</td>\n",
       "      <td>...</td>\n",
       "      <td>9605</td>\n",
       "      <td>NaN</td>\n",
       "      <td>NaN</td>\n",
       "      <td>NaN</td>\n",
       "      <td>NaN</td>\n",
       "      <td>NaN</td>\n",
       "      <td>NaN</td>\n",
       "      <td>NaN</td>\n",
       "      <td>NaN</td>\n",
       "      <td>J02958;X54559;EU826570;AC002080;AC002543;AC004...</td>\n",
       "    </tr>\n",
       "    <tr>\n",
       "      <th>4</th>\n",
       "      <td>P06239</td>\n",
       "      <td>LCK_HUMAN</td>\n",
       "      <td>[LCK]</td>\n",
       "      <td>LCK</td>\n",
       "      <td>NaN</td>\n",
       "      <td>NaN</td>\n",
       "      <td>NaN</td>\n",
       "      <td>Homo sapiens (Human)</td>\n",
       "      <td>9606</td>\n",
       "      <td>Tyrosine-protein kinase Lck (EC 2.7.10.2) (Leu...</td>\n",
       "      <td>...</td>\n",
       "      <td>9605</td>\n",
       "      <td>NaN</td>\n",
       "      <td>NaN</td>\n",
       "      <td>NaN</td>\n",
       "      <td>NaN</td>\n",
       "      <td>NaN</td>\n",
       "      <td>NaN</td>\n",
       "      <td>NaN</td>\n",
       "      <td>NaN</td>\n",
       "      <td>X05027;X13529;M36881;X14055;X14053;X14054;U072...</td>\n",
       "    </tr>\n",
       "    <tr>\n",
       "      <th>5</th>\n",
       "      <td>Q9Y2R2</td>\n",
       "      <td>PTN22_HUMAN</td>\n",
       "      <td>[PTPN22 PTPN8]</td>\n",
       "      <td>PTPN22</td>\n",
       "      <td>PTPN8</td>\n",
       "      <td>NaN</td>\n",
       "      <td>NaN</td>\n",
       "      <td>Homo sapiens (Human)</td>\n",
       "      <td>9606</td>\n",
       "      <td>Tyrosine-protein phosphatase non-receptor type...</td>\n",
       "      <td>...</td>\n",
       "      <td>9605</td>\n",
       "      <td>NaN</td>\n",
       "      <td>NaN</td>\n",
       "      <td>NaN</td>\n",
       "      <td>NaN</td>\n",
       "      <td>NaN</td>\n",
       "      <td>NaN</td>\n",
       "      <td>NaN</td>\n",
       "      <td>NaN</td>\n",
       "      <td>AF001846;AF001847;GU479452;AF077031;EF064714;A...</td>\n",
       "    </tr>\n",
       "    <tr>\n",
       "      <th>6</th>\n",
       "      <td>P07766</td>\n",
       "      <td>CD3E_HUMAN</td>\n",
       "      <td>[CD3E T3E]</td>\n",
       "      <td>CD3E</td>\n",
       "      <td>T3E</td>\n",
       "      <td>NaN</td>\n",
       "      <td>NaN</td>\n",
       "      <td>Homo sapiens (Human)</td>\n",
       "      <td>9606</td>\n",
       "      <td>T-cell surface glycoprotein CD3 epsilon chain ...</td>\n",
       "      <td>...</td>\n",
       "      <td>9605</td>\n",
       "      <td>NaN</td>\n",
       "      <td>NaN</td>\n",
       "      <td>NaN</td>\n",
       "      <td>NaN</td>\n",
       "      <td>NaN</td>\n",
       "      <td>NaN</td>\n",
       "      <td>NaN</td>\n",
       "      <td>NaN</td>\n",
       "      <td>X03884;M23323;M23317;M23318;M23319;M23320;M233...</td>\n",
       "    </tr>\n",
       "    <tr>\n",
       "      <th>7</th>\n",
       "      <td>Q8BGG7</td>\n",
       "      <td>UBS3B_MOUSE</td>\n",
       "      <td>[Ubash3b Sts1]</td>\n",
       "      <td>Ubash3b</td>\n",
       "      <td>Sts1</td>\n",
       "      <td>NaN</td>\n",
       "      <td>NaN</td>\n",
       "      <td>Mus musculus (Mouse)</td>\n",
       "      <td>10090</td>\n",
       "      <td>Ubiquitin-associated and SH3 domain-containing...</td>\n",
       "      <td>...</td>\n",
       "      <td>10088</td>\n",
       "      <td>862507.0</td>\n",
       "      <td>NaN</td>\n",
       "      <td>NaN</td>\n",
       "      <td>NaN</td>\n",
       "      <td>NaN</td>\n",
       "      <td>NaN</td>\n",
       "      <td>NaN</td>\n",
       "      <td>NaN</td>\n",
       "      <td>AB075602;AK013361;AK034450;AK035764;AK133948;A...</td>\n",
       "    </tr>\n",
       "    <tr>\n",
       "      <th>8</th>\n",
       "      <td>P20963</td>\n",
       "      <td>CD3Z_HUMAN</td>\n",
       "      <td>[CD247 CD3Z T3Z TCRZ]</td>\n",
       "      <td>CD247</td>\n",
       "      <td>CD3Z T3Z TCRZ</td>\n",
       "      <td>NaN</td>\n",
       "      <td>NaN</td>\n",
       "      <td>Homo sapiens (Human)</td>\n",
       "      <td>9606</td>\n",
       "      <td>T-cell surface glycoprotein CD3 zeta chain (T-...</td>\n",
       "      <td>...</td>\n",
       "      <td>9605</td>\n",
       "      <td>NaN</td>\n",
       "      <td>NaN</td>\n",
       "      <td>NaN</td>\n",
       "      <td>NaN</td>\n",
       "      <td>NaN</td>\n",
       "      <td>NaN</td>\n",
       "      <td>NaN</td>\n",
       "      <td>NaN</td>\n",
       "      <td>J04132;AK313946;DQ072717;AL359962;AL031733;AL3...</td>\n",
       "    </tr>\n",
       "  </tbody>\n",
       "</table>\n",
       "<p>9 rows × 178 columns</p>\n",
       "</div>"
      ],
      "text/plain": [
       "    Entry   Entry name              Gene names Gene names  (primary )  \\\n",
       "0  P43403  ZAP70_HUMAN             [ZAP70 SRK]                  ZAP70   \n",
       "1  P00533   EGFR_HUMAN  [EGFR ERBB ERBB1 HER1]                   EGFR   \n",
       "2  P10721    KIT_HUMAN              [KIT SCFR]                    KIT   \n",
       "3  P08581    MET_HUMAN                   [MET]                    MET   \n",
       "4  P06239    LCK_HUMAN                   [LCK]                    LCK   \n",
       "5  Q9Y2R2  PTN22_HUMAN          [PTPN22 PTPN8]                 PTPN22   \n",
       "6  P07766   CD3E_HUMAN              [CD3E T3E]                   CD3E   \n",
       "7  Q8BGG7  UBS3B_MOUSE          [Ubash3b Sts1]                Ubash3b   \n",
       "8  P20963   CD3Z_HUMAN   [CD247 CD3Z T3Z TCRZ]                  CD247   \n",
       "\n",
       "  Gene names  (synonym )  Gene names  (ordered locus )  Gene names  (ORF )  \\\n",
       "0                    SRK                           NaN                 NaN   \n",
       "1        ERBB ERBB1 HER1                           NaN                 NaN   \n",
       "2                   SCFR                           NaN                 NaN   \n",
       "3                    NaN                           NaN                 NaN   \n",
       "4                    NaN                           NaN                 NaN   \n",
       "5                  PTPN8                           NaN                 NaN   \n",
       "6                    T3E                           NaN                 NaN   \n",
       "7                   Sts1                           NaN                 NaN   \n",
       "8          CD3Z T3Z TCRZ                           NaN                 NaN   \n",
       "\n",
       "               Organism  Organism ID  \\\n",
       "0  Homo sapiens (Human)         9606   \n",
       "1  Homo sapiens (Human)         9606   \n",
       "2  Homo sapiens (Human)         9606   \n",
       "3  Homo sapiens (Human)         9606   \n",
       "4  Homo sapiens (Human)         9606   \n",
       "5  Homo sapiens (Human)         9606   \n",
       "6  Homo sapiens (Human)         9606   \n",
       "7  Mus musculus (Mouse)        10090   \n",
       "8  Homo sapiens (Human)         9606   \n",
       "\n",
       "                                       Protein names  \\\n",
       "0  Tyrosine-protein kinase ZAP-70 (EC 2.7.10.2) (...   \n",
       "1  Epidermal growth factor receptor (EC 2.7.10.1)...   \n",
       "2  Mast/stem cell growth factor receptor Kit (SCF...   \n",
       "3  Hepatocyte growth factor receptor (HGF recepto...   \n",
       "4  Tyrosine-protein kinase Lck (EC 2.7.10.2) (Leu...   \n",
       "5  Tyrosine-protein phosphatase non-receptor type...   \n",
       "6  T-cell surface glycoprotein CD3 epsilon chain ...   \n",
       "7  Ubiquitin-associated and SH3 domain-containing...   \n",
       "8  T-cell surface glycoprotein CD3 zeta chain (T-...   \n",
       "\n",
       "                         ...                          \\\n",
       "0                        ...                           \n",
       "1                        ...                           \n",
       "2                        ...                           \n",
       "3                        ...                           \n",
       "4                        ...                           \n",
       "5                        ...                           \n",
       "6                        ...                           \n",
       "7                        ...                           \n",
       "8                        ...                           \n",
       "\n",
       "  Taxonomic lineage IDs (GENUS) Taxonomic lineage IDs (SUBGENUS)  \\\n",
       "0                          9605                              NaN   \n",
       "1                          9605                              NaN   \n",
       "2                          9605                              NaN   \n",
       "3                          9605                              NaN   \n",
       "4                          9605                              NaN   \n",
       "5                          9605                              NaN   \n",
       "6                          9605                              NaN   \n",
       "7                         10088                         862507.0   \n",
       "8                          9605                              NaN   \n",
       "\n",
       "   Taxonomic lineage IDs (SPECIES GROUP)  \\\n",
       "0                                    NaN   \n",
       "1                                    NaN   \n",
       "2                                    NaN   \n",
       "3                                    NaN   \n",
       "4                                    NaN   \n",
       "5                                    NaN   \n",
       "6                                    NaN   \n",
       "7                                    NaN   \n",
       "8                                    NaN   \n",
       "\n",
       "   Taxonomic lineage IDs (SPECIES SUBGROUP) Taxonomic lineage IDs (SPECIES)  \\\n",
       "0                                       NaN                             NaN   \n",
       "1                                       NaN                             NaN   \n",
       "2                                       NaN                             NaN   \n",
       "3                                       NaN                             NaN   \n",
       "4                                       NaN                             NaN   \n",
       "5                                       NaN                             NaN   \n",
       "6                                       NaN                             NaN   \n",
       "7                                       NaN                             NaN   \n",
       "8                                       NaN                             NaN   \n",
       "\n",
       "   Taxonomic lineage IDs (SUBSPECIES) Taxonomic lineage IDs (VARIETAS)  \\\n",
       "0                                 NaN                              NaN   \n",
       "1                                 NaN                              NaN   \n",
       "2                                 NaN                              NaN   \n",
       "3                                 NaN                              NaN   \n",
       "4                                 NaN                              NaN   \n",
       "5                                 NaN                              NaN   \n",
       "6                                 NaN                              NaN   \n",
       "7                                 NaN                              NaN   \n",
       "8                                 NaN                              NaN   \n",
       "\n",
       "   Taxonomic lineage IDs (FORMA) Cross-reference (db_abbrev)  \\\n",
       "0                            NaN                         NaN   \n",
       "1                            NaN                         NaN   \n",
       "2                            NaN                         NaN   \n",
       "3                            NaN                         NaN   \n",
       "4                            NaN                         NaN   \n",
       "5                            NaN                         NaN   \n",
       "6                            NaN                         NaN   \n",
       "7                            NaN                         NaN   \n",
       "8                            NaN                         NaN   \n",
       "\n",
       "                              Cross-reference (EMBL)  \n",
       "0               AB083211;AC016699;BC039039;BC053878;  \n",
       "1  X00588;U95089;U48722;U48723;U48724;U48725;U487...  \n",
       "2  X06182;X69301;X69302;X69303;X69304;X69305;X693...  \n",
       "3  J02958;X54559;EU826570;AC002080;AC002543;AC004...  \n",
       "4  X05027;X13529;M36881;X14055;X14053;X14054;U072...  \n",
       "5  AF001846;AF001847;GU479452;AF077031;EF064714;A...  \n",
       "6  X03884;M23323;M23317;M23318;M23319;M23320;M233...  \n",
       "7  AB075602;AK013361;AK034450;AK035764;AK133948;A...  \n",
       "8  J04132;AK313946;DQ072717;AL359962;AL031733;AL3...  \n",
       "\n",
       "[9 rows x 178 columns]"
      ]
     },
     "execution_count": 15,
     "metadata": {},
     "output_type": "execute_result"
    }
   ],
   "source": [
    "df"
   ]
  },
  {
   "cell_type": "markdown",
   "metadata": {},
   "source": [
    "### Ensembl"
   ]
  },
  {
   "cell_type": "code",
   "execution_count": 16,
   "metadata": {
    "collapsed": true
   },
   "outputs": [],
   "source": [
    "s = Ensembl()"
   ]
  },
  {
   "cell_type": "code",
   "execution_count": 17,
   "metadata": {},
   "outputs": [
    {
     "data": {
      "text/plain": [
       "dict_keys(['display_name', 'source', 'species', 'end', 'start', 'strand', 'db_type', 'object_type', 'logic_name', 'biotype', 'id', 'description', 'assembly_name', 'seq_region_name', 'Transcript', 'version'])"
      ]
     },
     "execution_count": 17,
     "metadata": {},
     "output_type": "execute_result"
    }
   ],
   "source": [
    "res = s.get_lookup_by_id('ENSG00000157764', expand=True)\n",
    "res.keys()\n"
   ]
  },
  {
   "cell_type": "markdown",
   "metadata": {},
   "source": [
    "### WikiPathway"
   ]
  },
  {
   "cell_type": "code",
   "execution_count": 18,
   "metadata": {},
   "outputs": [
    {
     "name": "stderr",
     "output_type": "stream",
     "text": [
      "INFO:root:Initialising WikiPathways service (REST)\n",
      "INFO:root:Fetching organisms...\n"
     ]
    }
   ],
   "source": [
    "s = WikiPathways()"
   ]
  },
  {
   "cell_type": "code",
   "execution_count": 21,
   "metadata": {},
   "outputs": [],
   "source": [
    "im = s.getColoredPathway(\"WP1471\")"
   ]
  },
  {
   "cell_type": "code",
   "execution_count": 22,
   "metadata": {
    "collapsed": true
   },
   "outputs": [],
   "source": [
    "from IPython.display import SVG"
   ]
  },
  {
   "cell_type": "code",
   "execution_count": 23,
   "metadata": {},
   "outputs": [
    {
     "data": {
      "image/svg+xml": [
       "<svg height=\"783\" style=\"fill-opacity:1; color-rendering:auto; color-interpolation:auto; stroke:black; text-rendering:auto; stroke-linecap:square; stroke-miterlimit:10; stroke-opacity:1; shape-rendering:auto; fill:black; stroke-dasharray:none; font-weight:normal; stroke-width:1; font-family:'Dialog'; font-style:normal; stroke-linejoin:miter; font-size:12; stroke-dashoffset:0; image-rendering:auto;\" width=\"921\" xmlns=\"http://www.w3.org/2000/svg\" xmlns:xlink=\"http://www.w3.org/1999/xlink\"><!--Generated by the Batik Graphics2D SVG Generator--><defs id=\"genericDefs\"/><g><defs id=\"defs1\"><clipPath clipPathUnits=\"userSpaceOnUse\" id=\"clipPath1\"><path d=\"M0 0 L931 0 L931 793 L0 793 L0 0 Z\"/></clipPath><clipPath clipPathUnits=\"userSpaceOnUse\" id=\"clipPath2\"><path d=\"M0 0 L0 200 L200 200 L200 0 Z\"/></clipPath><clipPath clipPathUnits=\"userSpaceOnUse\" id=\"clipPath3\"><path d=\"M206 29.5 L206 50.5 L262 50.5 L262 29.5 Z\"/></clipPath><clipPath clipPathUnits=\"userSpaceOnUse\" id=\"clipPath4\"><path d=\"M213.1914 17.418 L254.8086 17.418 L254.8086 32.7305 L213.1914 32.7305 L213.1914 17.418 Z\"/></clipPath><clipPath clipPathUnits=\"userSpaceOnUse\" id=\"clipPath5\"><path d=\"M53 195 L53 299 L157 299 L157 195 Z\"/></clipPath><clipPath clipPathUnits=\"userSpaceOnUse\" id=\"clipPath6\"><path d=\"M482 265 L482 329 L586 329 L586 265 Z\"/></clipPath><clipPath clipPathUnits=\"userSpaceOnUse\" id=\"clipPath7\"><path d=\"M210.8975 348.8975 L210.8975 412.8975 L314.8975 412.8975 L314.8975 348.8975 Z\"/></clipPath><clipPath clipPathUnits=\"userSpaceOnUse\" id=\"clipPath8\"><path d=\"M569 472 L569 536 L833 536 L833 472 Z\"/></clipPath><clipPath clipPathUnits=\"userSpaceOnUse\" id=\"clipPath9\"><path d=\"M197 470 L197 514 L459 514 L459 470 Z\"/></clipPath><clipPath clipPathUnits=\"userSpaceOnUse\" id=\"clipPath10\"><path d=\"M152 192 L152 213 L163 213 L163 192 Z\"/></clipPath><clipPath clipPathUnits=\"userSpaceOnUse\" id=\"clipPath11\"><path d=\"M151.4551 179.918 L162.5449 179.918 L162.5449 195.2305 L151.4551 195.2305 L151.4551 179.918 Z\"/></clipPath><clipPath clipPathUnits=\"userSpaceOnUse\" id=\"clipPath12\"><path d=\"M417.1 444.5 L417.1 471.8 L437.6 471.8 L437.6 444.5 Z\"/></clipPath><clipPath clipPathUnits=\"userSpaceOnUse\" id=\"clipPath13\"><path d=\"M696.5306 63.5 L696.5306 177.2311 L708.4694 177.2311 L708.4694 63.5 Z\"/></clipPath><clipPath clipPathUnits=\"userSpaceOnUse\" id=\"clipPath14\"><path d=\"M327.5 513.5 L327.5 577.2311 L358.4694 577.2311 L358.4694 513.5 Z\"/></clipPath><clipPath clipPathUnits=\"userSpaceOnUse\" id=\"clipPath15\"><path d=\"M473.2 195.5 L473.2 444.6 L683 444.6 L683 195.5 Z\"/></clipPath><clipPath clipPathUnits=\"userSpaceOnUse\" id=\"clipPath16\"><path d=\"M104.5 298.5 L104.5 497.9694 L210.2311 497.9694 L210.2311 298.5 Z\"/></clipPath><clipPath clipPathUnits=\"userSpaceOnUse\" id=\"clipPath17\"><path d=\"M104.0859 150.3624 L104.0859 195.8247 L154.4001 195.8247 L154.4001 150.3624 Z\"/></clipPath><clipPath clipPathUnits=\"userSpaceOnUse\" id=\"clipPath18\"><path d=\"M327.5 501.5 L327.5 570.8 L449.6 570.8 L449.6 501.5 Z\"/></clipPath><clipPath clipPathUnits=\"userSpaceOnUse\" id=\"clipPath19\"><path d=\"M64.3541 513.5 L64.3541 607.2649 L328.5 607.2649 L328.5 513.5 Z\"/></clipPath><clipPath clipPathUnits=\"userSpaceOnUse\" id=\"clipPath20\"><path d=\"M752.9486 617.4933 L752.9486 698.8976 L764.8862 698.8976 L764.8862 617.4933 Z\"/></clipPath><clipPath clipPathUnits=\"userSpaceOnUse\" id=\"clipPath21\"><path d=\"M742 185.5 L742 658.2311 L853.9694 658.2311 L853.9694 185.5 Z\"/></clipPath><clipPath clipPathUnits=\"userSpaceOnUse\" id=\"clipPath22\"><path d=\"M64.3541 625.5338 L64.3541 653.6784 L76.2929 653.6784 L76.2929 625.5338 Z\"/></clipPath><clipPath clipPathUnits=\"userSpaceOnUse\" id=\"clipPath23\"><path d=\"M322.0306 66.5 L322.0306 157.2311 L333.9694 157.2311 L333.9694 66.5 Z\"/></clipPath><clipPath clipPathUnits=\"userSpaceOnUse\" id=\"clipPath24\"><path d=\"M156.3613 246.3613 L156.3613 375.5351 L515.1599 375.5351 L515.1599 246.3613 Z\"/></clipPath><clipPath clipPathUnits=\"userSpaceOnUse\" id=\"clipPath25\"><path d=\"M317.1 203.5 L317.1 464.8 L337.6 464.8 L337.6 203.5 Z\"/></clipPath><clipPath clipPathUnits=\"userSpaceOnUse\" id=\"clipPath26\"><path d=\"M523.1 328.5 L523.1 368.8 L543.6 368.8 L543.6 328.5 Z\"/></clipPath><clipPath clipPathUnits=\"userSpaceOnUse\" id=\"clipPath27\"><path d=\"M242.0833 513.5 L242.0833 546.2833 L328.5 546.2833 L328.5 513.5 Z\"/></clipPath><clipPath clipPathUnits=\"userSpaceOnUse\" id=\"clipPath28\"><path d=\"M311.955 595.2953 L311.955 643.94 L353.2047 643.94 L353.2047 595.2953 Z\"/></clipPath><clipPath clipPathUnits=\"userSpaceOnUse\" id=\"clipPath29\"><path d=\"M327.3135 203.3135 L327.3135 297.6865 L483.0539 297.6865 L483.0539 203.3135 Z\"/></clipPath><clipPath clipPathUnits=\"userSpaceOnUse\" id=\"clipPath30\"><path d=\"M700.3009 535.3009 L700.3009 578.7303 L758.9911 578.7303 L758.9911 535.3009 Z\"/></clipPath><clipPath clipPathUnits=\"userSpaceOnUse\" id=\"clipPath31\"><path d=\"M428.7686 595.4969 L428.7686 648.8604 L449.2826 648.8604 L449.2826 595.4969 Z\"/></clipPath><clipPath clipPathUnits=\"userSpaceOnUse\" id=\"clipPath32\"><path d=\"M656.1094 535.2931 L656.1094 578.85 L701.7069 578.85 L701.7069 535.2931 Z\"/></clipPath><clipPath clipPathUnits=\"userSpaceOnUse\" id=\"clipPath33\"><path d=\"M696.4644 194.7689 L696.4644 472.5027 L708.403 472.5027 L708.403 194.7689 Z\"/></clipPath><clipPath clipPathUnits=\"userSpaceOnUse\" id=\"clipPath34\"><path d=\"M341.6 595.5 L341.6 686.8 L362.1 686.8 L362.1 595.5 Z\"/></clipPath><clipPath clipPathUnits=\"userSpaceOnUse\" id=\"clipPath35\"><path d=\"M351.7935 595.2935 L351.7935 654.9058 L406.7194 654.9058 L406.7194 595.2935 Z\"/></clipPath><clipPath clipPathUnits=\"userSpaceOnUse\" id=\"clipPath36\"><path d=\"M176.5306 513.5 L176.5306 675.2311 L328.5 675.2311 L328.5 513.5 Z\"/></clipPath><clipPath clipPathUnits=\"userSpaceOnUse\" id=\"clipPath37\"><path d=\"M342.0306 383.5 L342.0306 483.2311 L494.5 483.2311 L494.5 383.5 Z\"/></clipPath><clipPath clipPathUnits=\"userSpaceOnUse\" id=\"clipPath38\"><path d=\"M252.2763 610.7764 L252.2763 643.8845 L284.3564 643.8845 L284.3564 610.7764 Z\"/></clipPath><clipPath clipPathUnits=\"userSpaceOnUse\" id=\"clipPath39\"><path d=\"M251.6365 412.394 L251.6365 464.8669 L272.152 464.8669 L272.152 412.394 Z\"/></clipPath><clipPath clipPathUnits=\"userSpaceOnUse\" id=\"clipPath40\"><path d=\"M591.2 195.5 L591.2 306.6 L683 306.6 L683 195.5 Z\"/></clipPath><clipPath clipPathUnits=\"userSpaceOnUse\" id=\"clipPath41\"><path d=\"M64.3541 693.0443 L64.3541 725.4083 L76.2929 725.4083 L76.2929 693.0443 Z\"/></clipPath><clipPath clipPathUnits=\"userSpaceOnUse\" id=\"clipPath42\"><path d=\"M162.1315 77.1119 L162.1315 139.2908 L174.0702 139.2908 L174.0702 77.1119 Z\"/></clipPath><clipPath clipPathUnits=\"userSpaceOnUse\" id=\"clipPath43\"><path d=\"M528.0306 67.5 L528.0306 175.2311 L539.9694 175.2311 L539.9694 67.5 Z\"/></clipPath><clipPath clipPathUnits=\"userSpaceOnUse\" id=\"clipPath44\"><path d=\"M528.0306 213.5 L528.0306 266.2311 L539.9694 266.2311 L539.9694 213.5 Z\"/></clipPath><clipPath clipPathUnits=\"userSpaceOnUse\" id=\"clipPath45\"><path d=\"M656.2929 597.2929 L656.2929 698.5267 L759.9642 698.5267 L759.9642 597.2929 Z\"/></clipPath><clipPath clipPathUnits=\"userSpaceOnUse\" id=\"clipPath46\"><path d=\"M8.7059 96.9412 L8.7059 769.6555 L907.2605 769.6555 L907.2605 96.9412 Z\"/></clipPath><clipPath clipPathUnits=\"userSpaceOnUse\" id=\"clipPath47\"><path d=\"M807.5 656.5 L807.5 677.5 L888.5 677.5 L888.5 656.5 Z\"/></clipPath><clipPath clipPathUnits=\"userSpaceOnUse\" id=\"clipPath48\"><path d=\"M138.787 65.1284 L138.787 78.1119 L197.4147 78.1119 L197.4147 65.1284 Z\"/></clipPath><clipPath clipPathUnits=\"userSpaceOnUse\" id=\"clipPath49\"><path d=\"M560.166 451.8076 L560.166 472.8076 L641.166 472.8076 L641.166 451.8076 Z\"/></clipPath><clipPath clipPathUnits=\"userSpaceOnUse\" id=\"clipPath50\"><path d=\"M165.8076 450.7051 L165.8076 471.7051 L246.8076 471.7051 L246.8076 450.7051 Z\"/></clipPath><clipPath clipPathUnits=\"userSpaceOnUse\" id=\"clipPath51\"><path d=\"M493.5 47.5 L493.5 68.5 L574.5 68.5 L574.5 47.5 Z\"/></clipPath><clipPath clipPathUnits=\"userSpaceOnUse\" id=\"clipPath52\"><path d=\"M275.5 46.5 L275.5 67.5 L380.5 67.5 L380.5 46.5 Z\"/></clipPath><clipPath clipPathUnits=\"userSpaceOnUse\" id=\"clipPath53\"><path d=\"M245.5 144.5 L245.5 165.5 L326.5 165.5 L326.5 144.5 Z\"/></clipPath><clipPath clipPathUnits=\"userSpaceOnUse\" id=\"clipPath54\"><path d=\"M366.5 481.5 L366.5 502.5 L447.5 502.5 L447.5 481.5 Z\"/></clipPath><clipPath clipPathUnits=\"userSpaceOnUse\" id=\"clipPath55\"><path d=\"M580.5 483.5 L580.5 504.5 L661.5 504.5 L661.5 483.5 Z\"/></clipPath><clipPath clipPathUnits=\"userSpaceOnUse\" id=\"clipPath56\"><path d=\"M64.5 266.5 L64.5 287.5 L145.5 287.5 L145.5 266.5 Z\"/></clipPath><clipPath clipPathUnits=\"userSpaceOnUse\" id=\"clipPath57\"><path d=\"M399.5 575.5 L399.5 596.5 L480.5 596.5 L480.5 575.5 Z\"/></clipPath><clipPath clipPathUnits=\"userSpaceOnUse\" id=\"clipPath58\"><path d=\"M64.5 226.5 L64.5 247.5 L145.5 247.5 L145.5 226.5 Z\"/></clipPath><clipPath clipPathUnits=\"userSpaceOnUse\" id=\"clipPath59\"><path d=\"M212.4833 570.9833 L212.4833 591.9833 L293.4833 591.9833 L293.4833 570.9833 Z\"/></clipPath><clipPath clipPathUnits=\"userSpaceOnUse\" id=\"clipPath60\"><path d=\"M212.4833 590.9833 L212.4833 611.9833 L293.4833 611.9833 L293.4833 590.9833 Z\"/></clipPath><clipPath clipPathUnits=\"userSpaceOnUse\" id=\"clipPath61\"><path d=\"M208.5 481.5 L208.5 502.5 L289.5 502.5 L289.5 481.5 Z\"/></clipPath><clipPath clipPathUnits=\"userSpaceOnUse\" id=\"clipPath62\"><path d=\"M29.8235 651.9473 L29.8235 672.9473 L110.8235 672.9473 L110.8235 651.9473 Z\"/></clipPath><clipPath clipPathUnits=\"userSpaceOnUse\" id=\"clipPath63\"><path d=\"M643.5 43.5 L643.5 64.5 L761.5 64.5 L761.5 43.5 Z\"/></clipPath><clipPath clipPathUnits=\"userSpaceOnUse\" id=\"clipPath64\"><path d=\"M224.5 642.5 L224.5 663.5 L342.5 663.5 L342.5 642.5 Z\"/></clipPath><clipPath clipPathUnits=\"userSpaceOnUse\" id=\"clipPath65\"><path d=\"M105.5 673.5 L105.5 694.5 L259.5 694.5 L259.5 673.5 Z\"/></clipPath><clipPath clipPathUnits=\"userSpaceOnUse\" id=\"clipPath66\"><path d=\"M493.5 193.5 L493.5 214.5 L574.5 214.5 L574.5 193.5 Z\"/></clipPath><clipPath clipPathUnits=\"userSpaceOnUse\" id=\"clipPath67\"><path d=\"M29.8235 605.5338 L29.8235 626.5338 L110.8235 626.5338 L110.8235 605.5338 Z\"/></clipPath><clipPath clipPathUnits=\"userSpaceOnUse\" id=\"clipPath68\"><path d=\"M29.8235 723.6772 L29.8235 744.6772 L110.8235 744.6772 L110.8235 723.6772 Z\"/></clipPath><clipPath clipPathUnits=\"userSpaceOnUse\" id=\"clipPath69\"><path d=\"M493.5 173.5 L493.5 194.5 L574.5 194.5 L574.5 173.5 Z\"/></clipPath><clipPath clipPathUnits=\"userSpaceOnUse\" id=\"clipPath70\"><path d=\"M371.6357 653.5 L371.6357 674.5 L507.6357 674.5 L507.6357 653.5 Z\"/></clipPath><clipPath clipPathUnits=\"userSpaceOnUse\" id=\"clipPath71\"><path d=\"M550.8333 698.1667 L550.8333 719.1667 L694.8333 719.1667 L694.8333 698.1667 Z\"/></clipPath><clipPath clipPathUnits=\"userSpaceOnUse\" id=\"clipPath72\"><path d=\"M312 575.5 L312 596.5 L393 596.5 L393 575.5 Z\"/></clipPath><clipPath clipPathUnits=\"userSpaceOnUse\" id=\"clipPath73\"><path d=\"M717.5 597.5 L717.5 618.5 L798.5 618.5 L798.5 597.5 Z\"/></clipPath><clipPath clipPathUnits=\"userSpaceOnUse\" id=\"clipPath74\"><path d=\"M727.8333 697.1667 L727.8333 718.1667 L851.8333 718.1667 L851.8333 697.1667 Z\"/></clipPath><clipPath clipPathUnits=\"userSpaceOnUse\" id=\"clipPath75\"><path d=\"M64.5 206.5 L64.5 227.5 L145.5 227.5 L145.5 206.5 Z\"/></clipPath><clipPath clipPathUnits=\"userSpaceOnUse\" id=\"clipPath76\"><path d=\"M222.3975 360.3975 L222.3975 381.3975 L303.3975 381.3975 L303.3975 360.3975 Z\"/></clipPath><clipPath clipPathUnits=\"userSpaceOnUse\" id=\"clipPath77\"><path d=\"M740.5 483.5 L740.5 504.5 L821.5 504.5 L821.5 483.5 Z\"/></clipPath><clipPath clipPathUnits=\"userSpaceOnUse\" id=\"clipPath78\"><path d=\"M387.5 424.5 L387.5 445.5 L468.5 445.5 L468.5 424.5 Z\"/></clipPath><clipPath clipPathUnits=\"userSpaceOnUse\" id=\"clipPath79\"><path d=\"M287.5 163.5 L287.5 184.5 L368.5 184.5 L368.5 163.5 Z\"/></clipPath><clipPath clipPathUnits=\"userSpaceOnUse\" id=\"clipPath80\"><path d=\"M580.5 503.5 L580.5 524.5 L661.5 524.5 L661.5 503.5 Z\"/></clipPath><clipPath clipPathUnits=\"userSpaceOnUse\" id=\"clipPath81\"><path d=\"M207.5 183.5 L207.5 204.5 L288.5 204.5 L288.5 183.5 Z\"/></clipPath><clipPath clipPathUnits=\"userSpaceOnUse\" id=\"clipPath82\"><path d=\"M493.5 373.5 L493.5 394.5 L574.5 394.5 L574.5 373.5 Z\"/></clipPath><clipPath clipPathUnits=\"userSpaceOnUse\" id=\"clipPath83\"><path d=\"M367.5 203.5 L367.5 224.5 L448.5 224.5 L448.5 203.5 Z\"/></clipPath><clipPath clipPathUnits=\"userSpaceOnUse\" id=\"clipPath84\"><path d=\"M660.5 503.5 L660.5 524.5 L741.5 524.5 L741.5 503.5 Z\"/></clipPath><clipPath clipPathUnits=\"userSpaceOnUse\" id=\"clipPath85\"><path d=\"M29.8235 673.0443 L29.8235 694.0443 L110.8235 694.0443 L110.8235 673.0443 Z\"/></clipPath><clipPath clipPathUnits=\"userSpaceOnUse\" id=\"clipPath86\"><path d=\"M64.5 246.5 L64.5 267.5 L145.5 267.5 L145.5 246.5 Z\"/></clipPath><clipPath clipPathUnits=\"userSpaceOnUse\" id=\"clipPath87\"><path d=\"M717.5 577.5 L717.5 598.5 L798.5 598.5 L798.5 577.5 Z\"/></clipPath><clipPath clipPathUnits=\"userSpaceOnUse\" id=\"clipPath88\"><path d=\"M212.4833 550.9833 L212.4833 571.9833 L293.4833 571.9833 L293.4833 550.9833 Z\"/></clipPath><clipPath clipPathUnits=\"userSpaceOnUse\" id=\"clipPath89\"><path d=\"M287.5 481.5 L287.5 502.5 L368.5 502.5 L368.5 481.5 Z\"/></clipPath><clipPath clipPathUnits=\"userSpaceOnUse\" id=\"clipPath90\"><path d=\"M662 175.5 L662 196.5 L743 196.5 L743 175.5 Z\"/></clipPath><clipPath clipPathUnits=\"userSpaceOnUse\" id=\"clipPath91\"><path d=\"M493.5 296.5 L493.5 317.5 L574.5 317.5 L574.5 296.5 Z\"/></clipPath><clipPath clipPathUnits=\"userSpaceOnUse\" id=\"clipPath92\"><path d=\"M287.5 183.5 L287.5 204.5 L368.5 204.5 L368.5 183.5 Z\"/></clipPath><clipPath clipPathUnits=\"userSpaceOnUse\" id=\"clipPath93\"><path d=\"M367.5 163.5 L367.5 184.5 L448.5 184.5 L448.5 163.5 Z\"/></clipPath><clipPath clipPathUnits=\"userSpaceOnUse\" id=\"clipPath94\"><path d=\"M207.5 163.5 L207.5 184.5 L288.5 184.5 L288.5 163.5 Z\"/></clipPath><clipPath clipPathUnits=\"userSpaceOnUse\" id=\"clipPath95\"><path d=\"M493.5 276.5 L493.5 297.5 L574.5 297.5 L574.5 276.5 Z\"/></clipPath><clipPath clipPathUnits=\"userSpaceOnUse\" id=\"clipPath96\"><path d=\"M222.3975 380.3975 L222.3975 401.3975 L303.3975 401.3975 L303.3975 380.3975 Z\"/></clipPath><clipPath clipPathUnits=\"userSpaceOnUse\" id=\"clipPath97\"><path d=\"M367.5 183.5 L367.5 204.5 L448.5 204.5 L448.5 183.5 Z\"/></clipPath><clipPath clipPathUnits=\"userSpaceOnUse\" id=\"clipPath98\"><path d=\"M616.5 577.5 L616.5 598.5 L697.5 598.5 L697.5 577.5 Z\"/></clipPath><clipPath clipPathUnits=\"userSpaceOnUse\" id=\"clipPath99\"><path d=\"M293.5 691.5 L293.5 712.5 L411.5 712.5 L411.5 691.5 Z\"/></clipPath><clipPath clipPathUnits=\"userSpaceOnUse\" id=\"clipPath100\"><path d=\"M740.5 503.5 L740.5 524.5 L821.5 524.5 L821.5 503.5 Z\"/></clipPath><clipPath clipPathUnits=\"userSpaceOnUse\" id=\"clipPath101\"><path d=\"M660.5 483.5 L660.5 504.5 L741.5 504.5 L741.5 483.5 Z\"/></clipPath><clipPath clipPathUnits=\"userSpaceOnUse\" id=\"clipPath102\"><path d=\"M105.3235 603.0338 L105.3235 624.0338 L116.3235 624.0338 L116.3235 603.0338 Z\"/></clipPath><clipPath clipPathUnits=\"userSpaceOnUse\" id=\"clipPath103\"><path d=\"M104.7786 590.9517 L115.8684 590.9517 L115.8684 606.2642 L104.7786 606.2642 L104.7786 590.9517 Z\"/></clipPath><clipPath clipPathUnits=\"userSpaceOnUse\" id=\"clipPath104\"><path d=\"M105.3235 721.1772 L105.3235 742.1772 L116.3235 742.1772 L116.3235 721.1772 Z\"/></clipPath><clipPath clipPathUnits=\"userSpaceOnUse\" id=\"clipPath105\"><path d=\"M104.7786 709.0952 L115.8684 709.0952 L115.8684 724.4077 L104.7786 724.4077 L104.7786 709.0952 Z\"/></clipPath><clipPath clipPathUnits=\"userSpaceOnUse\" id=\"clipPath106\"><path d=\"M105.3235 649.4473 L105.3235 670.4473 L116.3235 670.4473 L116.3235 649.4473 Z\"/></clipPath><clipPath clipPathUnits=\"userSpaceOnUse\" id=\"clipPath107\"><path d=\"M104.7786 637.3652 L115.8684 637.3652 L115.8684 652.6777 L104.7786 652.6777 L104.7786 637.3652 Z\"/></clipPath><clipPath clipPathUnits=\"userSpaceOnUse\" id=\"clipPath108\"><path d=\"M657.6273 617.2967 L657.6273 699.4423 L758.7033 699.4423 L758.7033 617.2967 Z\"/></clipPath><clipPath clipPathUnits=\"userSpaceOnUse\" id=\"clipPath109\"><path d=\"M105.3235 670.5443 L105.3235 691.5443 L116.3235 691.5443 L116.3235 670.5443 Z\"/></clipPath><clipPath clipPathUnits=\"userSpaceOnUse\" id=\"clipPath110\"><path d=\"M104.7786 658.4623 L115.8684 658.4623 L115.8684 673.7748 L104.7786 673.7748 L104.7786 658.4623 Z\"/></clipPath><clipPath clipPathUnits=\"userSpaceOnUse\" id=\"clipPath111\"><path d=\"M652.4228 597.4922 L652.4228 699.8976 L664.3601 699.8976 L664.3601 597.4922 Z\"/></clipPath><clipPath clipPathUnits=\"userSpaceOnUse\" id=\"clipPath112\"><path d=\"M138.787 137.5597 L138.787 151.5686 L197.4147 151.5686 L197.4147 137.5597 Z\"/></clipPath><clipPath clipPathUnits=\"userSpaceOnUse\" id=\"clipPath113\"><path d=\"M175.3657 88.4851 L175.3657 116.513 L187.399 116.513 L187.399 88.4851 Z\"/></clipPath><clipPath clipPathUnits=\"userSpaceOnUse\" id=\"clipPath114\"><path d=\"M148.3657 88.4851 L148.3657 116.513 L160.399 116.513 L160.399 88.4851 Z\"/></clipPath></defs><g style=\"fill:white; stroke:white;\"><rect height=\"793\" style=\"stroke:none;\" width=\"931\" x=\"0\" y=\"0\"/></g><g style=\"font-weight:bold; font-size:10; text-rendering:geometricPrecision;\"><path d=\"M0.0469 6.7031 L6.7656 6.7031 L6.7656 8.125 L4.3438 8.125 L4.3438 14 L2.4688 14 L2.4688 8.125 L0.0469 8.125 L0.0469 6.7031 ZM7.665 8.5312 L9.415 8.5312 L9.415 14 L7.665 14 L7.665 8.5312 ZM7.665 6.4062 L9.415 6.4062 L9.415 7.8281 L7.665 7.8281 L7.665 6.4062 ZM12.999 6.9844 L12.999 8.5312 L14.7959 8.5312 L14.7959 9.7812 L12.999 9.7812 L12.999 12.0938 Q12.999 12.4844 13.1475 12.6172 Q13.2959 12.75 13.749 12.75 L14.6553 12.75 L14.6553 14 L13.1553 14 Q12.1084 14 11.6787 13.5703 Q11.249 13.1406 11.249 12.0938 L11.249 9.7812 L10.374 9.7812 L10.374 8.5312 L11.249 8.5312 L11.249 6.9844 L12.999 6.9844 ZM15.873 6.4062 L17.623 6.4062 L17.623 14 L15.873 14 L15.873 6.4062 ZM24.7539 11.25 L24.7539 11.75 L20.6758 11.75 Q20.7383 12.3594 21.1133 12.6719 Q21.4883 12.9844 22.1758 12.9844 Q22.7227 12.9844 23.3086 12.8203 Q23.8945 12.6562 24.5039 12.3125 L24.5039 13.6719 Q23.8789 13.9062 23.2617 14.0234 Q22.6445 14.1406 22.0195 14.1406 Q20.5352 14.1406 19.7148 13.3828 Q18.8945 12.625 18.8945 11.2656 Q18.8945 9.9375 19.6992 9.1719 Q20.5039 8.4062 21.9258 8.4062 Q23.207 8.4062 23.9805 9.1797 Q24.7539 9.9531 24.7539 11.25 ZM22.957 10.6719 Q22.957 10.1719 22.668 9.8672 Q22.3789 9.5625 21.9102 9.5625 Q21.3945 9.5625 21.082 9.8438 Q20.7695 10.125 20.6914 10.6719 L22.957 10.6719 ZM26.3643 8.5312 L28.1143 8.5312 L28.1143 10.4219 L26.3643 10.4219 L26.3643 8.5312 ZM26.3643 12.1094 L28.1143 12.1094 L28.1143 14 L26.3643 14 L26.3643 12.1094 Z\" style=\"clip-path:url(#clipPath2); stroke:none;\"/><path d=\"M37.9688 6.7031 L44.1406 6.7031 L44.1406 7.5469 L41.5469 7.5469 L41.5469 14 L40.5625 14 L40.5625 7.5469 L37.9688 7.5469 L37.9688 6.7031 ZM47.5303 11.25 Q46.4521 11.25 46.0303 11.5 Q45.6084 11.75 45.6084 12.3438 Q45.6084 12.8281 45.9209 13.1094 Q46.2334 13.3906 46.7803 13.3906 Q47.5303 13.3906 47.9834 12.8594 Q48.4365 12.3281 48.4365 11.4531 L48.4365 11.25 L47.5303 11.25 ZM49.3271 10.875 L49.3271 14 L48.4365 14 L48.4365 13.1719 Q48.124 13.6719 47.6631 13.9062 Q47.2021 14.1406 46.5459 14.1406 Q45.7021 14.1406 45.2021 13.6719 Q44.7021 13.2031 44.7021 12.4062 Q44.7021 11.4844 45.3271 11.0156 Q45.9521 10.5469 47.1709 10.5469 L48.4365 10.5469 L48.4365 10.4531 Q48.4365 9.8438 48.0225 9.5 Q47.6084 9.1562 46.874 9.1562 Q46.4053 9.1562 45.96 9.2734 Q45.5146 9.3906 45.1084 9.6094 L45.1084 8.7812 Q45.6084 8.5938 46.0693 8.5 Q46.5303 8.4062 46.9678 8.4062 Q48.1553 8.4062 48.7412 9.0156 Q49.3271 9.625 49.3271 10.875 ZM54.3457 9.375 Q54.1895 9.2812 54.0176 9.2422 Q53.8457 9.2031 53.627 9.2031 Q52.8613 9.2031 52.4551 9.6953 Q52.0488 10.1875 52.0488 11.125 L52.0488 14 L51.1426 14 L51.1426 8.5312 L52.0488 8.5312 L52.0488 9.375 Q52.3301 8.875 52.7832 8.6406 Q53.2363 8.4062 53.8926 8.4062 Q53.9863 8.4062 54.0957 8.4141 Q54.2051 8.4219 54.3457 8.4531 L54.3457 9.375 ZM58.8945 11.2031 Q58.8945 10.2188 58.4883 9.6875 Q58.082 9.1562 57.3633 9.1562 Q56.6289 9.1562 56.2305 9.6875 Q55.832 10.2188 55.832 11.2031 Q55.832 12.1719 56.2305 12.7109 Q56.6289 13.25 57.3633 13.25 Q58.082 13.25 58.4883 12.7109 Q58.8945 12.1719 58.8945 11.2031 ZM59.7852 13.3281 Q59.7852 14.7188 59.168 15.3984 Q58.5508 16.0781 57.2695 16.0781 Q56.8008 16.0781 56.3789 16.0078 Q55.957 15.9375 55.5664 15.7969 L55.5664 14.9219 Q55.957 15.1406 56.3398 15.2422 Q56.7227 15.3438 57.1289 15.3438 Q58.0039 15.3438 58.4492 14.8828 Q58.8945 14.4219 58.8945 13.4844 L58.8945 13.0312 Q58.6133 13.5156 58.1758 13.7578 Q57.7383 14 57.1289 14 Q56.1289 14 55.5117 13.2344 Q54.8945 12.4688 54.8945 11.2031 Q54.8945 9.9375 55.5117 9.1719 Q56.1289 8.4062 57.1289 8.4062 Q57.7383 8.4062 58.1758 8.6406 Q58.6133 8.875 58.8945 9.3594 L58.8945 8.5312 L59.7852 8.5312 L59.7852 13.3281 ZM66.3203 11.0469 L66.3203 11.4844 L62.1797 11.4844 Q62.2422 12.4062 62.7422 12.8906 Q63.2422 13.375 64.1328 13.375 Q64.6484 13.375 65.1406 13.25 Q65.6328 13.125 66.1016 12.875 L66.1016 13.7188 Q65.6172 13.9219 65.1094 14.0312 Q64.6016 14.1406 64.0859 14.1406 Q62.7734 14.1406 62.0078 13.3828 Q61.2422 12.625 61.2422 11.3125 Q61.2422 9.9688 61.9688 9.1875 Q62.6953 8.4062 63.9297 8.4062 Q65.0391 8.4062 65.6797 9.1094 Q66.3203 9.8125 66.3203 11.0469 ZM65.4141 10.7812 Q65.4141 10.0469 65.0078 9.6016 Q64.6016 9.1562 63.9453 9.1562 Q63.1797 9.1562 62.7344 9.5859 Q62.2891 10.0156 62.2109 10.7812 L65.4141 10.7812 ZM68.6758 6.9844 L68.6758 8.5312 L70.5352 8.5312 L70.5352 9.2344 L68.6758 9.2344 L68.6758 12.2031 Q68.6758 12.8594 68.8633 13.0547 Q69.0508 13.25 69.6133 13.25 L70.5352 13.25 L70.5352 14 L69.6133 14 Q68.5664 14 68.168 13.6094 Q67.7695 13.2188 67.7695 12.2031 L67.7695 9.2344 L67.1133 9.2344 L67.1133 8.5312 L67.7695 8.5312 L67.7695 6.9844 L68.6758 6.9844 ZM77.8848 7.375 Q76.8066 7.375 76.1816 8.1797 Q75.5566 8.9844 75.5566 10.3594 Q75.5566 11.7344 76.1816 12.5391 Q76.8066 13.3438 77.8848 13.3438 Q78.9629 13.3438 79.5879 12.5391 Q80.2129 11.7344 80.2129 10.3594 Q80.2129 8.9844 79.5879 8.1797 Q78.9629 7.375 77.8848 7.375 ZM77.8848 6.5781 Q79.416 6.5781 80.3379 7.6094 Q81.2598 8.6406 81.2598 10.3594 Q81.2598 12.0781 80.3379 13.1094 Q79.416 14.1406 77.8848 14.1406 Q76.3535 14.1406 75.4316 13.1172 Q74.5098 12.0938 74.5098 10.3594 Q74.5098 8.6406 75.4316 7.6094 Q76.3535 6.5781 77.8848 6.5781 ZM85.5371 6.4062 L85.5371 7.1562 L84.6777 7.1562 Q84.1934 7.1562 84.0059 7.3516 Q83.8184 7.5469 83.8184 8.0469 L83.8184 8.5312 L85.2871 8.5312 L85.2871 9.2344 L83.8184 9.2344 L83.8184 14 L82.9121 14 L82.9121 9.2344 L82.0527 9.2344 L82.0527 8.5312 L82.9121 8.5312 L82.9121 8.1562 Q82.9121 7.2344 83.334 6.8203 Q83.7559 6.4062 84.6777 6.4062 L85.5371 6.4062 ZM92.9551 10.5781 Q93.2676 10.6875 93.5723 11.0391 Q93.877 11.3906 94.1738 12 L95.1738 14 L94.1113 14 L93.1895 12.125 Q92.8301 11.3906 92.4863 11.1562 Q92.1426 10.9219 91.5645 10.9219 L90.4863 10.9219 L90.4863 14 L89.502 14 L89.502 6.7031 L91.7207 6.7031 Q92.9707 6.7031 93.5879 7.2266 Q94.2051 7.75 94.2051 8.8125 Q94.2051 9.5 93.8848 9.9531 Q93.5645 10.4062 92.9551 10.5781 ZM90.4863 7.5156 L90.4863 10.1094 L91.7207 10.1094 Q92.4395 10.1094 92.8066 9.7812 Q93.1738 9.4531 93.1738 8.8125 Q93.1738 8.1719 92.8066 7.8438 Q92.4395 7.5156 91.7207 7.5156 L90.4863 7.5156 ZM98.8877 11.25 Q97.8096 11.25 97.3877 11.5 Q96.9658 11.75 96.9658 12.3438 Q96.9658 12.8281 97.2783 13.1094 Q97.5908 13.3906 98.1377 13.3906 Q98.8877 13.3906 99.3408 12.8594 Q99.7939 12.3281 99.7939 11.4531 L99.7939 11.25 L98.8877 11.25 ZM100.6846 10.875 L100.6846 14 L99.7939 14 L99.7939 13.1719 Q99.4814 13.6719 99.0205 13.9062 Q98.5596 14.1406 97.9033 14.1406 Q97.0596 14.1406 96.5596 13.6719 Q96.0596 13.2031 96.0596 12.4062 Q96.0596 11.4844 96.6846 11.0156 Q97.3096 10.5469 98.5283 10.5469 L99.7939 10.5469 L99.7939 10.4531 Q99.7939 9.8438 99.3799 9.5 Q98.9658 9.1562 98.2314 9.1562 Q97.7627 9.1562 97.3174 9.2734 Q96.8721 9.3906 96.4658 9.6094 L96.4658 8.7812 Q96.9658 8.5938 97.4268 8.5 Q97.8877 8.4062 98.3252 8.4062 Q99.5127 8.4062 100.0986 9.0156 Q100.6846 9.625 100.6846 10.875 ZM103.4062 13.1719 L103.4062 16.0781 L102.5 16.0781 L102.5 8.5312 L103.4062 8.5312 L103.4062 9.3594 Q103.6875 8.875 104.1172 8.6406 Q104.5469 8.4062 105.1562 8.4062 Q106.1562 8.4062 106.7734 9.1953 Q107.3906 9.9844 107.3906 11.2656 Q107.3906 12.5625 106.7734 13.3516 Q106.1562 14.1406 105.1562 14.1406 Q104.5469 14.1406 104.1172 13.9062 Q103.6875 13.6719 103.4062 13.1719 ZM106.4688 11.2656 Q106.4688 10.2812 106.0547 9.7188 Q105.6406 9.1562 104.9375 9.1562 Q104.2188 9.1562 103.8125 9.7188 Q103.4062 10.2812 103.4062 11.2656 Q103.4062 12.2656 103.8125 12.8281 Q104.2188 13.3906 104.9375 13.3906 Q105.6406 13.3906 106.0547 12.8281 Q106.4688 12.2656 106.4688 11.2656 ZM111.3633 11.25 Q110.2852 11.25 109.8633 11.5 Q109.4414 11.75 109.4414 12.3438 Q109.4414 12.8281 109.7539 13.1094 Q110.0664 13.3906 110.6133 13.3906 Q111.3633 13.3906 111.8164 12.8594 Q112.2695 12.3281 112.2695 11.4531 L112.2695 11.25 L111.3633 11.25 ZM113.1602 10.875 L113.1602 14 L112.2695 14 L112.2695 13.1719 Q111.957 13.6719 111.4961 13.9062 Q111.0352 14.1406 110.3789 14.1406 Q109.5352 14.1406 109.0352 13.6719 Q108.5352 13.2031 108.5352 12.4062 Q108.5352 11.4844 109.1602 11.0156 Q109.7852 10.5469 111.0039 10.5469 L112.2695 10.5469 L112.2695 10.4531 Q112.2695 9.8438 111.8555 9.5 Q111.4414 9.1562 110.707 9.1562 Q110.2383 9.1562 109.793 9.2734 Q109.3477 9.3906 108.9414 9.6094 L108.9414 8.7812 Q109.4414 8.5938 109.9023 8.5 Q110.3633 8.4062 110.8008 8.4062 Q111.9883 8.4062 112.5742 9.0156 Q113.1602 9.625 113.1602 10.875 ZM119.2725 9.5781 Q119.6006 8.9688 120.0693 8.6875 Q120.5381 8.4062 121.1787 8.4062 Q122.0381 8.4062 122.499 9 Q122.96 9.5938 122.96 10.7031 L122.96 14 L122.0537 14 L122.0537 10.7344 Q122.0537 9.9375 121.7803 9.5625 Q121.5068 9.1875 120.9287 9.1875 Q120.2256 9.1875 119.8271 9.6484 Q119.4287 10.1094 119.4287 10.9062 L119.4287 14 L118.5225 14 L118.5225 10.7344 Q118.5225 9.9375 118.2412 9.5625 Q117.96 9.1875 117.3818 9.1875 Q116.6943 9.1875 116.2881 9.6484 Q115.8818 10.1094 115.8818 10.9062 L115.8818 14 L114.9756 14 L114.9756 8.5312 L115.8818 8.5312 L115.8818 9.375 Q116.1943 8.875 116.624 8.6406 Q117.0537 8.4062 117.6318 8.4062 Q118.2412 8.4062 118.6553 8.7031 Q119.0693 9 119.2725 9.5781 ZM127.0293 14.5156 Q126.6543 15.4844 126.2871 15.7812 Q125.9199 16.0781 125.3262 16.0781 L124.6074 16.0781 L124.6074 15.3281 L125.123 15.3281 Q125.498 15.3281 125.7012 15.1562 Q125.9043 14.9844 126.1543 14.3281 L126.3262 13.9062 L124.1074 8.5312 L125.0605 8.5312 L126.7637 12.8125 L128.4824 8.5312 L129.4355 8.5312 L127.0293 14.5156 ZM134.6035 8.7344 L134.6035 9.5781 Q134.2285 9.375 133.8457 9.2656 Q133.4629 9.1562 133.0723 9.1562 Q132.1973 9.1562 131.7129 9.7109 Q131.2285 10.2656 131.2285 11.2656 Q131.2285 12.2656 131.7129 12.8203 Q132.1973 13.375 133.0723 13.375 Q133.4629 13.375 133.8457 13.2734 Q134.2285 13.1719 134.6035 12.9531 L134.6035 13.7969 Q134.2285 13.9688 133.8301 14.0547 Q133.4316 14.1406 132.9785 14.1406 Q131.7285 14.1406 131.002 13.3672 Q130.2754 12.5938 130.2754 11.2656 Q130.2754 9.9375 131.0098 9.1719 Q131.7441 8.4062 133.0254 8.4062 Q133.4473 8.4062 133.8379 8.4844 Q134.2285 8.5625 134.6035 8.7344 ZM136.1641 8.5312 L137.0703 8.5312 L137.0703 14 L136.1641 14 L136.1641 8.5312 ZM136.1641 6.4062 L137.0703 6.4062 L137.0703 7.5469 L136.1641 7.5469 L136.1641 6.4062 ZM143.4893 10.7031 L143.4893 14 L142.5986 14 L142.5986 10.7344 Q142.5986 9.9531 142.2939 9.5703 Q141.9893 9.1875 141.3799 9.1875 Q140.6611 9.1875 140.2393 9.6484 Q139.8174 10.1094 139.8174 10.9062 L139.8174 14 L138.9111 14 L138.9111 8.5312 L139.8174 8.5312 L139.8174 9.375 Q140.1455 8.8906 140.583 8.6484 Q141.0205 8.4062 141.583 8.4062 Q142.5205 8.4062 143.0049 8.9844 Q143.4893 9.5625 143.4893 10.7031 ZM150.6152 6.4062 Q149.9746 7.5312 149.6543 8.6328 Q149.334 9.7344 149.334 10.8594 Q149.334 11.9844 149.6543 13.0938 Q149.9746 14.2031 150.6152 15.3125 L149.834 15.3125 Q149.1152 14.1719 148.748 13.0625 Q148.3809 11.9531 148.3809 10.8594 Q148.3809 9.7656 148.7402 8.6641 Q149.0996 7.5625 149.834 6.4062 L150.6152 6.4062 ZM151.3916 6.7031 L157.5635 6.7031 L157.5635 7.5469 L154.9697 7.5469 L154.9697 14 L153.9854 14 L153.9854 7.5469 L151.3916 7.5469 L151.3916 6.7031 ZM161.4688 7.375 Q160.3906 7.375 159.7656 8.1797 Q159.1406 8.9844 159.1406 10.3594 Q159.1406 11.7344 159.7656 12.5391 Q160.3906 13.3438 161.4688 13.3438 Q162.5469 13.3438 163.1719 12.5391 Q163.7969 11.7344 163.7969 10.3594 Q163.7969 8.9844 163.1719 8.1797 Q162.5469 7.375 161.4688 7.375 ZM161.4688 6.5781 Q163 6.5781 163.9219 7.6094 Q164.8438 8.6406 164.8438 10.3594 Q164.8438 12.0781 163.9219 13.1094 Q163 14.1406 161.4688 14.1406 Q159.9375 14.1406 159.0156 13.1172 Q158.0938 12.0938 158.0938 10.3594 Q158.0938 8.6406 159.0156 7.6094 Q159.9375 6.5781 161.4688 6.5781 ZM169.8398 10.5781 Q170.1523 10.6875 170.457 11.0391 Q170.7617 11.3906 171.0586 12 L172.0586 14 L170.9961 14 L170.0742 12.125 Q169.7148 11.3906 169.3711 11.1562 Q169.0273 10.9219 168.4492 10.9219 L167.3711 10.9219 L167.3711 14 L166.3867 14 L166.3867 6.7031 L168.6055 6.7031 Q169.8555 6.7031 170.4727 7.2266 Q171.0898 7.75 171.0898 8.8125 Q171.0898 9.5 170.7695 9.9531 Q170.4492 10.4062 169.8398 10.5781 ZM167.3711 7.5156 L167.3711 10.1094 L168.6055 10.1094 Q169.3242 10.1094 169.6914 9.7812 Q170.0586 9.4531 170.0586 8.8125 Q170.0586 8.1719 169.6914 7.8438 Q169.3242 7.5156 168.6055 7.5156 L167.3711 7.5156 ZM173.1475 6.4062 L173.9287 6.4062 Q174.6631 7.5625 175.0303 8.6641 Q175.3975 9.7656 175.3975 10.8594 Q175.3975 11.9531 175.0303 13.0625 Q174.6631 14.1719 173.9287 15.3125 L173.1475 15.3125 Q173.8037 14.2031 174.124 13.0938 Q174.4443 11.9844 174.4443 10.8594 Q174.4443 9.7344 174.124 8.6328 Q173.8037 7.5312 173.1475 6.4062 ZM184.79 6.9531 L184.79 7.9062 Q184.2275 7.6406 183.7275 7.5078 Q183.2275 7.375 182.7588 7.375 Q181.9619 7.375 181.5244 7.6875 Q181.0869 8 181.0869 8.5781 Q181.0869 9.0625 181.376 9.3125 Q181.665 9.5625 182.4775 9.7031 L183.0713 9.8281 Q184.165 10.0469 184.6963 10.5703 Q185.2275 11.0938 185.2275 11.9844 Q185.2275 13.0469 184.5166 13.5938 Q183.8057 14.1406 182.4307 14.1406 Q181.915 14.1406 181.3291 14.0234 Q180.7432 13.9062 180.1182 13.6719 L180.1182 12.6562 Q180.7275 13 181.2979 13.1719 Q181.8682 13.3438 182.4307 13.3438 Q183.2744 13.3438 183.7354 13.0078 Q184.1963 12.6719 184.1963 12.0625 Q184.1963 11.5312 183.8682 11.2266 Q183.54 10.9219 182.7744 10.7656 L182.1807 10.6562 Q181.0713 10.4375 180.5791 9.9688 Q180.0869 9.5 180.0869 8.6562 Q180.0869 7.6875 180.7666 7.1328 Q181.4463 6.5781 182.6494 6.5781 Q183.165 6.5781 183.6963 6.6719 Q184.2275 6.7656 184.79 6.9531 ZM186.7158 8.5312 L187.6221 8.5312 L187.6221 14 L186.7158 14 L186.7158 8.5312 ZM186.7158 6.4062 L187.6221 6.4062 L187.6221 7.5469 L186.7158 7.5469 L186.7158 6.4062 ZM193.1035 11.2031 Q193.1035 10.2188 192.6973 9.6875 Q192.291 9.1562 191.5723 9.1562 Q190.8379 9.1562 190.4395 9.6875 Q190.041 10.2188 190.041 11.2031 Q190.041 12.1719 190.4395 12.7109 Q190.8379 13.25 191.5723 13.25 Q192.291 13.25 192.6973 12.7109 Q193.1035 12.1719 193.1035 11.2031 ZM193.9941 13.3281 Q193.9941 14.7188 193.377 15.3984 Q192.7598 16.0781 191.4785 16.0781 Q191.0098 16.0781 190.5879 16.0078 Q190.166 15.9375 189.7754 15.7969 L189.7754 14.9219 Q190.166 15.1406 190.5488 15.2422 Q190.9316 15.3438 191.3379 15.3438 Q192.2129 15.3438 192.6582 14.8828 Q193.1035 14.4219 193.1035 13.4844 L193.1035 13.0312 Q192.8223 13.5156 192.3848 13.7578 Q191.9473 14 191.3379 14 Q190.3379 14 189.7207 13.2344 Q189.1035 12.4688 189.1035 11.2031 Q189.1035 9.9375 189.7207 9.1719 Q190.3379 8.4062 191.3379 8.4062 Q191.9473 8.4062 192.3848 8.6406 Q192.8223 8.875 193.1035 9.3594 L193.1035 8.5312 L193.9941 8.5312 L193.9941 13.3281 ZM200.3887 10.7031 L200.3887 14 L199.498 14 L199.498 10.7344 Q199.498 9.9531 199.1934 9.5703 Q198.8887 9.1875 198.2793 9.1875 Q197.5605 9.1875 197.1387 9.6484 Q196.7168 10.1094 196.7168 10.9062 L196.7168 14 L195.8105 14 L195.8105 8.5312 L196.7168 8.5312 L196.7168 9.375 Q197.0449 8.8906 197.4824 8.6484 Q197.9199 8.4062 198.4824 8.4062 Q199.4199 8.4062 199.9043 8.9844 Q200.3887 9.5625 200.3887 10.7031 ZM204.6641 11.25 Q203.5859 11.25 203.1641 11.5 Q202.7422 11.75 202.7422 12.3438 Q202.7422 12.8281 203.0547 13.1094 Q203.3672 13.3906 203.9141 13.3906 Q204.6641 13.3906 205.1172 12.8594 Q205.5703 12.3281 205.5703 11.4531 L205.5703 11.25 L204.6641 11.25 ZM206.4609 10.875 L206.4609 14 L205.5703 14 L205.5703 13.1719 Q205.2578 13.6719 204.7969 13.9062 Q204.3359 14.1406 203.6797 14.1406 Q202.8359 14.1406 202.3359 13.6719 Q201.8359 13.2031 201.8359 12.4062 Q201.8359 11.4844 202.4609 11.0156 Q203.0859 10.5469 204.3047 10.5469 L205.5703 10.5469 L205.5703 10.4531 Q205.5703 9.8438 205.1562 9.5 Q204.7422 9.1562 204.0078 9.1562 Q203.5391 9.1562 203.0938 9.2734 Q202.6484 9.3906 202.2422 9.6094 L202.2422 8.7812 Q202.7422 8.5938 203.2031 8.5 Q203.6641 8.4062 204.1016 8.4062 Q205.2891 8.4062 205.875 9.0156 Q206.4609 9.625 206.4609 10.875 ZM208.3076 6.4062 L209.2139 6.4062 L209.2139 14 L208.3076 14 L208.3076 6.4062 ZM211.0859 8.5312 L211.9922 8.5312 L211.9922 14 L211.0859 14 L211.0859 8.5312 ZM211.0859 6.4062 L211.9922 6.4062 L211.9922 7.5469 L211.0859 7.5469 L211.0859 6.4062 ZM218.4111 10.7031 L218.4111 14 L217.5205 14 L217.5205 10.7344 Q217.5205 9.9531 217.2158 9.5703 Q216.9111 9.1875 216.3018 9.1875 Q215.583 9.1875 215.1611 9.6484 Q214.7393 10.1094 214.7393 10.9062 L214.7393 14 L213.833 14 L213.833 8.5312 L214.7393 8.5312 L214.7393 9.375 Q215.0674 8.8906 215.5049 8.6484 Q215.9424 8.4062 216.5049 8.4062 Q217.4424 8.4062 217.9268 8.9844 Q218.4111 9.5625 218.4111 10.7031 ZM223.8115 11.2031 Q223.8115 10.2188 223.4053 9.6875 Q222.999 9.1562 222.2803 9.1562 Q221.5459 9.1562 221.1475 9.6875 Q220.749 10.2188 220.749 11.2031 Q220.749 12.1719 221.1475 12.7109 Q221.5459 13.25 222.2803 13.25 Q222.999 13.25 223.4053 12.7109 Q223.8115 12.1719 223.8115 11.2031 ZM224.7021 13.3281 Q224.7021 14.7188 224.085 15.3984 Q223.4678 16.0781 222.1865 16.0781 Q221.7178 16.0781 221.2959 16.0078 Q220.874 15.9375 220.4834 15.7969 L220.4834 14.9219 Q220.874 15.1406 221.2568 15.2422 Q221.6396 15.3438 222.0459 15.3438 Q222.9209 15.3438 223.3662 14.8828 Q223.8115 14.4219 223.8115 13.4844 L223.8115 13.0312 Q223.5303 13.5156 223.0928 13.7578 Q222.6553 14 222.0459 14 Q221.0459 14 220.4287 13.2344 Q219.8115 12.4688 219.8115 11.2031 Q219.8115 9.9375 220.4287 9.1719 Q221.0459 8.4062 222.0459 8.4062 Q222.6553 8.4062 223.0928 8.6406 Q223.5303 8.875 223.8115 9.3594 L223.8115 8.5312 L224.7021 8.5312 L224.7021 13.3281 Z\" style=\"clip-path:url(#clipPath2); stroke:none;\"/><path d=\"M5.3438 26.6719 L2.4062 26.6719 L1.9375 28 L0.0469 28 L2.75 20.7031 L4.9844 20.7031 L7.6875 28 L5.7969 28 L5.3438 26.6719 ZM2.875 25.3125 L4.875 25.3125 L3.875 22.4219 L2.875 25.3125 ZM7.8955 22.5312 L9.6455 22.5312 L11.0049 26.3125 L12.3643 22.5312 L14.1143 22.5312 L11.958 28 L10.0361 28 L7.8955 22.5312 ZM17.5547 25.5312 Q17.0078 25.5312 16.7266 25.7188 Q16.4453 25.9062 16.4453 26.2656 Q16.4453 26.6094 16.6719 26.7969 Q16.8984 26.9844 17.2891 26.9844 Q17.7891 26.9844 18.125 26.625 Q18.4609 26.2656 18.4609 25.7344 L18.4609 25.5312 L17.5547 25.5312 ZM20.2266 24.875 L20.2266 28 L18.4609 28 L18.4609 27.1875 Q18.1016 27.6875 17.6641 27.9141 Q17.2266 28.1406 16.6016 28.1406 Q15.7422 28.1406 15.2188 27.6484 Q14.6953 27.1562 14.6953 26.3594 Q14.6953 25.3906 15.3516 24.9453 Q16.0078 24.5 17.4297 24.5 L18.4609 24.5 L18.4609 24.3594 Q18.4609 23.9531 18.1328 23.7578 Q17.8047 23.5625 17.1172 23.5625 Q16.5547 23.5625 16.0703 23.6719 Q15.5859 23.7812 15.1641 24.0156 L15.1641 22.6719 Q15.7266 22.5469 16.2969 22.4766 Q16.8672 22.4062 17.4297 22.4062 Q18.9141 22.4062 19.5703 22.9844 Q20.2266 23.5625 20.2266 24.875 ZM21.8496 22.5312 L23.5996 22.5312 L23.5996 28 L21.8496 28 L21.8496 22.5312 ZM21.8496 20.4062 L23.5996 20.4062 L23.5996 21.8281 L21.8496 21.8281 L21.8496 20.4062 ZM25.2773 20.4062 L27.0273 20.4062 L27.0273 28 L25.2773 28 L25.2773 20.4062 ZM31.1582 25.5312 Q30.6113 25.5312 30.3301 25.7188 Q30.0488 25.9062 30.0488 26.2656 Q30.0488 26.6094 30.2754 26.7969 Q30.502 26.9844 30.8926 26.9844 Q31.3926 26.9844 31.7285 26.625 Q32.0645 26.2656 32.0645 25.7344 L32.0645 25.5312 L31.1582 25.5312 ZM33.8301 24.875 L33.8301 28 L32.0645 28 L32.0645 27.1875 Q31.7051 27.6875 31.2676 27.9141 Q30.8301 28.1406 30.2051 28.1406 Q29.3457 28.1406 28.8223 27.6484 Q28.2988 27.1562 28.2988 26.3594 Q28.2988 25.3906 28.9551 24.9453 Q29.6113 24.5 31.0332 24.5 L32.0645 24.5 L32.0645 24.3594 Q32.0645 23.9531 31.7363 23.7578 Q31.4082 23.5625 30.7207 23.5625 Q30.1582 23.5625 29.6738 23.6719 Q29.1895 23.7812 28.7676 24.0156 L28.7676 22.6719 Q29.3301 22.5469 29.9004 22.4766 Q30.4707 22.4062 31.0332 22.4062 Q32.5176 22.4062 33.1738 22.9844 Q33.8301 23.5625 33.8301 24.875 ZM38.3594 26.875 Q38.9219 26.875 39.2188 26.4609 Q39.5156 26.0469 39.5156 25.2656 Q39.5156 24.4844 39.2188 24.0781 Q38.9219 23.6719 38.3594 23.6719 Q37.7969 23.6719 37.5 24.0859 Q37.2031 24.5 37.2031 25.2656 Q37.2031 26.0469 37.5 26.4609 Q37.7969 26.875 38.3594 26.875 ZM37.2031 23.3281 Q37.5625 22.8594 38 22.6328 Q38.4375 22.4062 39.0156 22.4062 Q40.0156 22.4062 40.6641 23.2031 Q41.3125 24 41.3125 25.2656 Q41.3125 26.5312 40.6641 27.3359 Q40.0156 28.1406 39.0156 28.1406 Q38.4375 28.1406 38 27.9141 Q37.5625 27.6875 37.2031 27.2031 L37.2031 28 L35.4531 28 L35.4531 20.4062 L37.2031 20.4062 L37.2031 23.3281 ZM42.6113 22.5312 L44.3613 22.5312 L44.3613 28 L42.6113 28 L42.6113 22.5312 ZM42.6113 20.4062 L44.3613 20.4062 L44.3613 21.8281 L42.6113 21.8281 L42.6113 20.4062 ZM46.0391 20.4062 L47.7891 20.4062 L47.7891 28 L46.0391 28 L46.0391 20.4062 ZM49.4668 22.5312 L51.2168 22.5312 L51.2168 28 L49.4668 28 L49.4668 22.5312 ZM49.4668 20.4062 L51.2168 20.4062 L51.2168 21.8281 L49.4668 21.8281 L49.4668 20.4062 ZM54.8008 20.9844 L54.8008 22.5312 L56.5977 22.5312 L56.5977 23.7812 L54.8008 23.7812 L54.8008 26.0938 Q54.8008 26.4844 54.9492 26.6172 Q55.0977 26.75 55.5508 26.75 L56.457 26.75 L56.457 28 L54.957 28 Q53.9102 28 53.4805 27.5703 Q53.0508 27.1406 53.0508 26.0938 L53.0508 23.7812 L52.1758 23.7812 L52.1758 22.5312 L53.0508 22.5312 L53.0508 20.9844 L54.8008 20.9844 ZM56.9561 22.5312 L58.7061 22.5312 L60.1748 26.2344 L61.4248 22.5312 L63.1748 22.5312 L60.8623 28.5156 Q60.5186 29.4375 60.0576 29.7969 Q59.5967 30.1562 58.8467 30.1562 L57.8311 30.1562 L57.8311 29.0156 L58.3779 29.0156 Q58.8311 29.0156 59.0264 28.875 Q59.2217 28.7344 59.3467 28.3594 L59.3936 28.2031 L56.9561 22.5312 ZM64.4746 22.5312 L66.2246 22.5312 L66.2246 24.4219 L64.4746 24.4219 L64.4746 22.5312 ZM64.4746 26.1094 L66.2246 26.1094 L66.2246 28 L64.4746 28 L64.4746 26.1094 Z\" style=\"clip-path:url(#clipPath2); stroke:none;\"/><path d=\"M82.4375 21.2656 L82.4375 22.3125 Q81.9375 21.8438 81.375 21.6172 Q80.8125 21.3906 80.1875 21.3906 Q78.9375 21.3906 78.2734 22.1562 Q77.6094 22.9219 77.6094 24.3594 Q77.6094 25.7969 78.2734 26.5625 Q78.9375 27.3281 80.1875 27.3281 Q80.8125 27.3281 81.375 27.1016 Q81.9375 26.875 82.4375 26.4062 L82.4375 27.4375 Q81.9219 27.7969 81.3438 27.9688 Q80.7656 28.1406 80.125 28.1406 Q78.4688 28.1406 77.5156 27.125 Q76.5625 26.1094 76.5625 24.3594 Q76.5625 22.6094 77.5156 21.5938 Q78.4688 20.5781 80.125 20.5781 Q80.7812 20.5781 81.3594 20.75 Q81.9375 20.9219 82.4375 21.2656 ZM89.4199 21.2656 L89.4199 22.3125 Q88.9199 21.8438 88.3574 21.6172 Q87.7949 21.3906 87.1699 21.3906 Q85.9199 21.3906 85.2559 22.1562 Q84.5918 22.9219 84.5918 24.3594 Q84.5918 25.7969 85.2559 26.5625 Q85.9199 27.3281 87.1699 27.3281 Q87.7949 27.3281 88.3574 27.1016 Q88.9199 26.875 89.4199 26.4062 L89.4199 27.4375 Q88.9043 27.7969 88.3262 27.9688 Q87.748 28.1406 87.1074 28.1406 Q85.4512 28.1406 84.498 27.125 Q83.5449 26.1094 83.5449 24.3594 Q83.5449 22.6094 84.498 21.5938 Q85.4512 20.5781 87.1074 20.5781 Q87.7637 20.5781 88.3418 20.75 Q88.9199 20.9219 89.4199 21.2656 ZM95.1123 24.5156 L95.1123 27.1875 L96.6904 27.1875 Q97.4873 27.1875 97.8701 26.8594 Q98.2529 26.5312 98.2529 25.8438 Q98.2529 25.1719 97.8701 24.8438 Q97.4873 24.5156 96.6904 24.5156 L95.1123 24.5156 ZM95.1123 21.5156 L95.1123 23.7188 L96.5654 23.7188 Q97.2998 23.7188 97.6514 23.4453 Q98.0029 23.1719 98.0029 22.625 Q98.0029 22.0625 97.6514 21.7891 Q97.2998 21.5156 96.5654 21.5156 L95.1123 21.5156 ZM94.1279 20.7031 L96.6436 20.7031 Q97.7686 20.7031 98.3779 21.1719 Q98.9873 21.6406 98.9873 22.5156 Q98.9873 23.1875 98.6748 23.5781 Q98.3623 23.9688 97.7686 24.0625 Q98.4873 24.2188 98.8936 24.7188 Q99.2998 25.2188 99.2998 25.9531 Q99.2998 26.9375 98.6357 27.4688 Q97.9717 28 96.7373 28 L94.1279 28 L94.1279 20.7031 ZM99.9883 20.7031 L101.0508 20.7031 L103.0664 23.7031 L105.0664 20.7031 L106.1289 20.7031 L103.5508 24.5312 L103.5508 28 L102.5664 28 L102.5664 24.5312 L99.9883 20.7031 ZM111.2129 27.1719 L114.6504 27.1719 L114.6504 28 L110.0254 28 L110.0254 27.1719 Q110.5879 26.5938 111.5566 25.6094 Q112.5254 24.625 112.7754 24.3438 Q113.2441 23.8125 113.4316 23.4453 Q113.6191 23.0781 113.6191 22.7188 Q113.6191 22.1406 113.2129 21.7734 Q112.8066 21.4062 112.1504 21.4062 Q111.6816 21.4062 111.1738 21.5703 Q110.666 21.7344 110.0723 22.0625 L110.0723 21.0625 Q110.666 20.8281 111.1816 20.7031 Q111.6973 20.5781 112.1348 20.5781 Q113.2598 20.5781 113.9395 21.1406 Q114.6191 21.7031 114.6191 22.6562 Q114.6191 23.1094 114.4473 23.5078 Q114.2754 23.9062 113.8379 24.4531 Q113.7129 24.5938 113.0566 25.2734 Q112.4004 25.9531 111.2129 27.1719 ZM116.7158 26.7656 L117.7471 26.7656 L117.7471 28 L116.7158 28 L116.7158 26.7656 ZM122.0039 21.3594 Q121.2539 21.3594 120.8711 22.1094 Q120.4883 22.8594 120.4883 24.3594 Q120.4883 25.8594 120.8711 26.6094 Q121.2539 27.3594 122.0039 27.3594 Q122.7852 27.3594 123.168 26.6094 Q123.5508 25.8594 123.5508 24.3594 Q123.5508 22.8594 123.168 22.1094 Q122.7852 21.3594 122.0039 21.3594 ZM122.0039 20.5781 Q123.2383 20.5781 123.8867 21.5469 Q124.5352 22.5156 124.5352 24.3594 Q124.5352 26.2031 123.8867 27.1719 Q123.2383 28.1406 122.0039 28.1406 Q120.7852 28.1406 120.1367 27.1719 Q119.4883 26.2031 119.4883 24.3594 Q119.4883 22.5156 120.1367 21.5469 Q120.7852 20.5781 122.0039 20.5781 Z\" style=\"clip-path:url(#clipPath2); stroke:none;\"/><path d=\"M0.9219 33.7031 L2.7969 33.7031 L2.7969 39.5781 L6.0938 39.5781 L6.0938 41 L0.9219 41 L0.9219 33.7031 ZM9.6689 38.5312 Q9.1221 38.5312 8.8408 38.7188 Q8.5596 38.9062 8.5596 39.2656 Q8.5596 39.6094 8.7861 39.7969 Q9.0127 39.9844 9.4033 39.9844 Q9.9033 39.9844 10.2393 39.625 Q10.5752 39.2656 10.5752 38.7344 L10.5752 38.5312 L9.6689 38.5312 ZM12.3408 37.875 L12.3408 41 L10.5752 41 L10.5752 40.1875 Q10.2158 40.6875 9.7783 40.9141 Q9.3408 41.1406 8.7158 41.1406 Q7.8564 41.1406 7.333 40.6484 Q6.8096 40.1562 6.8096 39.3594 Q6.8096 38.3906 7.4658 37.9453 Q8.1221 37.5 9.5439 37.5 L10.5752 37.5 L10.5752 37.3594 Q10.5752 36.9531 10.2471 36.7578 Q9.9189 36.5625 9.2314 36.5625 Q8.6689 36.5625 8.1846 36.6719 Q7.7002 36.7812 7.2783 37.0156 L7.2783 35.6719 Q7.8408 35.5469 8.4111 35.4766 Q8.9814 35.4062 9.5439 35.4062 Q11.0283 35.4062 11.6846 35.9844 Q12.3408 36.5625 12.3408 37.875 ZM18.2295 35.7031 L18.2295 37.0312 Q17.667 36.7969 17.1436 36.6797 Q16.6201 36.5625 16.167 36.5625 Q15.667 36.5625 15.4248 36.6875 Q15.1826 36.8125 15.1826 37.0625 Q15.1826 37.2812 15.3623 37.3906 Q15.542 37.5 16.0264 37.5625 L16.3232 37.5938 Q17.667 37.7656 18.1357 38.1562 Q18.6045 38.5469 18.6045 39.3906 Q18.6045 40.2656 17.9561 40.7031 Q17.3076 41.1406 16.0264 41.1406 Q15.4951 41.1406 14.917 41.0547 Q14.3389 40.9688 13.7139 40.7969 L13.7139 39.4688 Q14.2451 39.7188 14.792 39.8516 Q15.3389 39.9844 15.9014 39.9844 Q16.417 39.9844 16.6748 39.8438 Q16.9326 39.7031 16.9326 39.4219 Q16.9326 39.1875 16.7607 39.0703 Q16.5889 38.9531 16.0576 38.8906 L15.7451 38.8438 Q14.5732 38.7031 14.1045 38.3047 Q13.6357 37.9062 13.6357 37.1094 Q13.6357 36.2344 14.2295 35.8203 Q14.8232 35.4062 16.0576 35.4062 Q16.542 35.4062 17.0732 35.4766 Q17.6045 35.5469 18.2295 35.7031 ZM21.8223 33.9844 L21.8223 35.5312 L23.6191 35.5312 L23.6191 36.7812 L21.8223 36.7812 L21.8223 39.0938 Q21.8223 39.4844 21.9707 39.6172 Q22.1191 39.75 22.5723 39.75 L23.4785 39.75 L23.4785 41 L21.9785 41 Q20.9316 41 20.502 40.5703 Q20.0723 40.1406 20.0723 39.0938 L20.0723 36.7812 L19.1973 36.7812 L19.1973 35.5312 L20.0723 35.5312 L20.0723 33.9844 L21.8223 33.9844 ZM33.2402 36.4375 Q33.5684 35.9375 34.0293 35.6719 Q34.4902 35.4062 35.0371 35.4062 Q35.9746 35.4062 36.4668 35.9844 Q36.959 36.5625 36.959 37.6719 L36.959 41 L35.209 41 L35.209 38.1406 Q35.209 38.0781 35.209 38.0156 Q35.209 37.9531 35.209 37.8281 Q35.209 37.2344 35.0449 36.9766 Q34.8809 36.7188 34.4902 36.7188 Q33.9902 36.7188 33.7246 37.125 Q33.459 37.5312 33.4434 38.3125 L33.4434 41 L31.6777 41 L31.6777 38.1406 Q31.6777 37.2344 31.5215 36.9766 Q31.3652 36.7188 30.9746 36.7188 Q30.4746 36.7188 30.2012 37.1328 Q29.9277 37.5469 29.9277 38.3125 L29.9277 41 L28.1621 41 L28.1621 35.5312 L29.9277 35.5312 L29.9277 36.3281 Q30.2402 35.875 30.6621 35.6406 Q31.084 35.4062 31.584 35.4062 Q32.1465 35.4062 32.584 35.6797 Q33.0215 35.9531 33.2402 36.4375 ZM41.1914 36.6562 Q40.6133 36.6562 40.3086 37.0703 Q40.0039 37.4844 40.0039 38.2656 Q40.0039 39.0625 40.3086 39.4766 Q40.6133 39.8906 41.1914 39.8906 Q41.7695 39.8906 42.0742 39.4766 Q42.3789 39.0625 42.3789 38.2656 Q42.3789 37.4844 42.0742 37.0703 Q41.7695 36.6562 41.1914 36.6562 ZM41.1914 35.4062 Q42.6133 35.4062 43.4023 36.1641 Q44.1914 36.9219 44.1914 38.2656 Q44.1914 39.625 43.4023 40.3828 Q42.6133 41.1406 41.1914 41.1406 Q39.7852 41.1406 38.9883 40.3828 Q38.1914 39.625 38.1914 38.2656 Q38.1914 36.9219 38.9883 36.1641 Q39.7852 35.4062 41.1914 35.4062 ZM49.1865 36.3281 L49.1865 33.4062 L50.9365 33.4062 L50.9365 41 L49.1865 41 L49.1865 40.2031 Q48.8271 40.6875 48.3896 40.9141 Q47.9521 41.1406 47.3896 41.1406 Q46.374 41.1406 45.7256 40.3359 Q45.0771 39.5312 45.0771 38.2656 Q45.0771 37 45.7256 36.2031 Q46.374 35.4062 47.3896 35.4062 Q47.9521 35.4062 48.3896 35.6328 Q48.8271 35.8594 49.1865 36.3281 ZM48.0303 39.875 Q48.5928 39.875 48.8896 39.4609 Q49.1865 39.0469 49.1865 38.2656 Q49.1865 37.4844 48.8896 37.0781 Q48.5928 36.6719 48.0303 36.6719 Q47.4834 36.6719 47.1865 37.0781 Q46.8896 37.4844 46.8896 38.2656 Q46.8896 39.0469 47.1865 39.4609 Q47.4834 39.875 48.0303 39.875 ZM52.626 35.5312 L54.376 35.5312 L54.376 41 L52.626 41 L52.626 35.5312 ZM52.626 33.4062 L54.376 33.4062 L54.376 34.8281 L52.626 34.8281 L52.626 33.4062 ZM59.6475 33.4062 L59.6475 34.5469 L58.6787 34.5469 Q58.3037 34.5469 58.1631 34.6797 Q58.0225 34.8125 58.0225 35.1562 L58.0225 35.5312 L59.5068 35.5312 L59.5068 36.7812 L58.0225 36.7812 L58.0225 41 L56.2725 41 L56.2725 36.7812 L55.3975 36.7812 L55.3975 35.5312 L56.2725 35.5312 L56.2725 35.1562 Q56.2725 34.25 56.7725 33.8281 Q57.2725 33.4062 58.3037 33.4062 L59.6475 33.4062 ZM60.4043 35.5312 L62.1543 35.5312 L62.1543 41 L60.4043 41 L60.4043 35.5312 ZM60.4043 33.4062 L62.1543 33.4062 L62.1543 34.8281 L60.4043 34.8281 L60.4043 33.4062 ZM69.2852 38.25 L69.2852 38.75 L65.207 38.75 Q65.2695 39.3594 65.6445 39.6719 Q66.0195 39.9844 66.707 39.9844 Q67.2539 39.9844 67.8398 39.8203 Q68.4258 39.6562 69.0352 39.3125 L69.0352 40.6719 Q68.4102 40.9062 67.793 41.0234 Q67.1758 41.1406 66.5508 41.1406 Q65.0664 41.1406 64.2461 40.3828 Q63.4258 39.625 63.4258 38.2656 Q63.4258 36.9375 64.2305 36.1719 Q65.0352 35.4062 66.457 35.4062 Q67.7383 35.4062 68.5117 36.1797 Q69.2852 36.9531 69.2852 38.25 ZM67.4883 37.6719 Q67.4883 37.1719 67.1992 36.8672 Q66.9102 36.5625 66.4414 36.5625 Q65.9258 36.5625 65.6133 36.8438 Q65.3008 37.125 65.2227 37.6719 L67.4883 37.6719 ZM74.333 36.3281 L74.333 33.4062 L76.083 33.4062 L76.083 41 L74.333 41 L74.333 40.2031 Q73.9736 40.6875 73.5361 40.9141 Q73.0986 41.1406 72.5361 41.1406 Q71.5205 41.1406 70.8721 40.3359 Q70.2236 39.5312 70.2236 38.2656 Q70.2236 37 70.8721 36.2031 Q71.5205 35.4062 72.5361 35.4062 Q73.0986 35.4062 73.5361 35.6328 Q73.9736 35.8594 74.333 36.3281 ZM73.1768 39.875 Q73.7393 39.875 74.0361 39.4609 Q74.333 39.0469 74.333 38.2656 Q74.333 37.4844 74.0361 37.0781 Q73.7393 36.6719 73.1768 36.6719 Q72.6299 36.6719 72.333 37.0781 Q72.0361 37.4844 72.0361 38.2656 Q72.0361 39.0469 72.333 39.4609 Q72.6299 39.875 73.1768 39.875 ZM78.0537 35.5312 L79.8037 35.5312 L79.8037 37.4219 L78.0537 37.4219 L78.0537 35.5312 ZM78.0537 39.1094 L79.8037 39.1094 L79.8037 41 L78.0537 41 L78.0537 39.1094 Z\" style=\"clip-path:url(#clipPath2); stroke:none;\"/><path d=\"M89.9219 40.1719 L93.3594 40.1719 L93.3594 41 L88.7344 41 L88.7344 40.1719 Q89.2969 39.5938 90.2656 38.6094 Q91.2344 37.625 91.4844 37.3438 Q91.9531 36.8125 92.1406 36.4453 Q92.3281 36.0781 92.3281 35.7188 Q92.3281 35.1406 91.9219 34.7734 Q91.5156 34.4062 90.8594 34.4062 Q90.3906 34.4062 89.8828 34.5703 Q89.375 34.7344 88.7812 35.0625 L88.7812 34.0625 Q89.375 33.8281 89.8906 33.7031 Q90.4062 33.5781 90.8438 33.5781 Q91.9688 33.5781 92.6484 34.1406 Q93.3281 34.7031 93.3281 35.6562 Q93.3281 36.1094 93.1562 36.5078 Q92.9844 36.9062 92.5469 37.4531 Q92.4219 37.5938 91.7656 38.2734 Q91.1094 38.9531 89.9219 40.1719 ZM96.9092 33.7031 L97.7373 33.7031 L95.1904 41.9219 L94.3623 41.9219 L96.9092 33.7031 ZM99.6533 40.1719 L103.0908 40.1719 L103.0908 41 L98.4658 41 L98.4658 40.1719 Q99.0283 39.5938 99.9971 38.6094 Q100.9658 37.625 101.2158 37.3438 Q101.6846 36.8125 101.8721 36.4453 Q102.0596 36.0781 102.0596 35.7188 Q102.0596 35.1406 101.6533 34.7734 Q101.2471 34.4062 100.5908 34.4062 Q100.1221 34.4062 99.6143 34.5703 Q99.1064 34.7344 98.5127 35.0625 L98.5127 34.0625 Q99.1064 33.8281 99.6221 33.7031 Q100.1377 33.5781 100.5752 33.5781 Q101.7002 33.5781 102.3799 34.1406 Q103.0596 34.7031 103.0596 35.6562 Q103.0596 36.1094 102.8877 36.5078 Q102.7158 36.9062 102.2783 37.4531 Q102.1533 37.5938 101.4971 38.2734 Q100.8408 38.9531 99.6533 40.1719 ZM106.0156 40.1719 L109.4531 40.1719 L109.4531 41 L104.8281 41 L104.8281 40.1719 Q105.3906 39.5938 106.3594 38.6094 Q107.3281 37.625 107.5781 37.3438 Q108.0469 36.8125 108.2344 36.4453 Q108.4219 36.0781 108.4219 35.7188 Q108.4219 35.1406 108.0156 34.7734 Q107.6094 34.4062 106.9531 34.4062 Q106.4844 34.4062 105.9766 34.5703 Q105.4688 34.7344 104.875 35.0625 L104.875 34.0625 Q105.4688 33.8281 105.9844 33.7031 Q106.5 33.5781 106.9375 33.5781 Q108.0625 33.5781 108.7422 34.1406 Q109.4219 34.7031 109.4219 35.6562 Q109.4219 36.1094 109.25 36.5078 Q109.0781 36.9062 108.6406 37.4531 Q108.5156 37.5938 107.8594 38.2734 Q107.2031 38.9531 106.0156 40.1719 ZM113.0029 33.7031 L113.8311 33.7031 L111.2842 41.9219 L110.4561 41.9219 L113.0029 33.7031 ZM115.7471 40.1719 L119.1846 40.1719 L119.1846 41 L114.5596 41 L114.5596 40.1719 Q115.1221 39.5938 116.0908 38.6094 Q117.0596 37.625 117.3096 37.3438 Q117.7783 36.8125 117.9658 36.4453 Q118.1533 36.0781 118.1533 35.7188 Q118.1533 35.1406 117.7471 34.7734 Q117.3408 34.4062 116.6846 34.4062 Q116.2158 34.4062 115.708 34.5703 Q115.2002 34.7344 114.6064 35.0625 L114.6064 34.0625 Q115.2002 33.8281 115.7158 33.7031 Q116.2314 33.5781 116.6689 33.5781 Q117.7939 33.5781 118.4736 34.1406 Q119.1533 34.7031 119.1533 35.6562 Q119.1533 36.1094 118.9814 36.5078 Q118.8096 36.9062 118.3721 37.4531 Q118.2471 37.5938 117.5908 38.2734 Q116.9346 38.9531 115.7471 40.1719 ZM123.3594 34.3594 Q122.6094 34.3594 122.2266 35.1094 Q121.8438 35.8594 121.8438 37.3594 Q121.8438 38.8594 122.2266 39.6094 Q122.6094 40.3594 123.3594 40.3594 Q124.1406 40.3594 124.5234 39.6094 Q124.9062 38.8594 124.9062 37.3594 Q124.9062 35.8594 124.5234 35.1094 Q124.1406 34.3594 123.3594 34.3594 ZM123.3594 33.5781 Q124.5938 33.5781 125.2422 34.5469 Q125.8906 35.5156 125.8906 37.3594 Q125.8906 39.2031 125.2422 40.1719 Q124.5938 41.1406 123.3594 41.1406 Q122.1406 41.1406 121.4922 40.1719 Q120.8438 39.2031 120.8438 37.3594 Q120.8438 35.5156 121.4922 34.5469 Q122.1406 33.5781 123.3594 33.5781 ZM127.7842 40.1719 L129.4092 40.1719 L129.4092 34.6094 L127.6436 34.9531 L127.6436 34.0625 L129.3936 33.7031 L130.3779 33.7031 L130.3779 40.1719 L131.9873 40.1719 L131.9873 41 L127.7842 41 L127.7842 40.1719 ZM136.9746 37.0625 Q137.6777 37.2188 138.0762 37.6953 Q138.4746 38.1719 138.4746 38.875 Q138.4746 39.9531 137.7324 40.5469 Q136.9902 41.1406 135.6152 41.1406 Q135.1621 41.1406 134.6777 41.0469 Q134.1934 40.9531 133.6777 40.7812 L133.6777 39.8281 Q134.084 40.0625 134.5762 40.1875 Q135.0684 40.3125 135.5996 40.3125 Q136.5215 40.3125 137.0059 39.9453 Q137.4902 39.5781 137.4902 38.875 Q137.4902 38.2344 137.0371 37.875 Q136.584 37.5156 135.7871 37.5156 L134.9277 37.5156 L134.9277 36.7031 L135.8184 36.7031 Q136.5527 36.7031 136.9355 36.4062 Q137.3184 36.1094 137.3184 35.5625 Q137.3184 35.0156 136.9199 34.7109 Q136.5215 34.4062 135.7871 34.4062 Q135.3809 34.4062 134.9121 34.4922 Q134.4434 34.5781 133.8965 34.7656 L133.8965 33.8906 Q134.459 33.7344 134.9512 33.6562 Q135.4434 33.5781 135.8652 33.5781 Q136.9902 33.5781 137.6465 34.0859 Q138.3027 34.5938 138.3027 35.4688 Q138.3027 36.0781 137.959 36.4922 Q137.6152 36.9062 136.9746 37.0625 Z\" style=\"clip-path:url(#clipPath2); stroke:none;\"/><path d=\"M4.25 48.9375 Q3.3906 48.9375 2.9141 49.5703 Q2.4375 50.2031 2.4375 51.3594 Q2.4375 52.5156 2.9141 53.1484 Q3.3906 53.7812 4.25 53.7812 Q5.1094 53.7812 5.5859 53.1484 Q6.0625 52.5156 6.0625 51.3594 Q6.0625 50.2031 5.5859 49.5703 Q5.1094 48.9375 4.25 48.9375 ZM4.25 47.5781 Q6 47.5781 7 48.5859 Q8 49.5938 8 51.3594 Q8 53.125 7 54.1328 Q6 55.1406 4.25 55.1406 Q2.5 55.1406 1.5 54.1328 Q0.5 53.125 0.5 51.3594 Q0.5 49.5938 1.5 48.5859 Q2.5 47.5781 4.25 47.5781 ZM13.4072 51.0156 Q13.1729 50.9062 12.9463 50.8594 Q12.7197 50.8125 12.4854 50.8125 Q11.8135 50.8125 11.4541 51.2422 Q11.0947 51.6719 11.0947 52.4844 L11.0947 55 L9.3447 55 L9.3447 49.5312 L11.0947 49.5312 L11.0947 50.4219 Q11.4229 49.8906 11.8604 49.6484 Q12.2979 49.4062 12.9072 49.4062 Q13.001 49.4062 13.1025 49.4062 Q13.2041 49.4062 13.3916 49.4375 L13.4072 51.0156 ZM17.9951 54.0781 Q17.6357 54.5469 17.1982 54.7734 Q16.7607 55 16.1982 55 Q15.1982 55 14.542 54.2109 Q13.8857 53.4219 13.8857 52.2031 Q13.8857 50.9688 14.542 50.1875 Q15.1982 49.4062 16.1982 49.4062 Q16.7607 49.4062 17.1982 49.6328 Q17.6357 49.8594 17.9951 50.3438 L17.9951 49.5312 L19.7451 49.5312 L19.7451 54.4531 Q19.7451 55.7656 18.917 56.4609 Q18.0889 57.1562 16.5107 57.1562 Q15.9951 57.1562 15.5186 57.0781 Q15.042 57 14.5576 56.8438 L14.5576 55.4844 Q15.0107 55.75 15.4482 55.875 Q15.8857 56 16.3389 56 Q17.1982 56 17.5967 55.625 Q17.9951 55.25 17.9951 54.4531 L17.9951 54.0781 ZM16.8389 50.6719 Q16.292 50.6719 15.9951 51.0703 Q15.6982 51.4688 15.6982 52.2031 Q15.6982 52.9531 15.9873 53.3438 Q16.2764 53.7344 16.8389 53.7344 Q17.3857 53.7344 17.6904 53.3281 Q17.9951 52.9219 17.9951 52.2031 Q17.9951 51.4688 17.6904 51.0703 Q17.3857 50.6719 16.8389 50.6719 ZM23.8877 52.5312 Q23.3408 52.5312 23.0596 52.7188 Q22.7783 52.9062 22.7783 53.2656 Q22.7783 53.6094 23.0049 53.7969 Q23.2314 53.9844 23.6221 53.9844 Q24.1221 53.9844 24.458 53.625 Q24.7939 53.2656 24.7939 52.7344 L24.7939 52.5312 L23.8877 52.5312 ZM26.5596 51.875 L26.5596 55 L24.7939 55 L24.7939 54.1875 Q24.4346 54.6875 23.9971 54.9141 Q23.5596 55.1406 22.9346 55.1406 Q22.0752 55.1406 21.5518 54.6484 Q21.0283 54.1562 21.0283 53.3594 Q21.0283 52.3906 21.6846 51.9453 Q22.3408 51.5 23.7627 51.5 L24.7939 51.5 L24.7939 51.3594 Q24.7939 50.9531 24.4658 50.7578 Q24.1377 50.5625 23.4502 50.5625 Q22.8877 50.5625 22.4033 50.6719 Q21.9189 50.7812 21.4971 51.0156 L21.4971 49.6719 Q22.0596 49.5469 22.6299 49.4766 Q23.2002 49.4062 23.7627 49.4062 Q25.2471 49.4062 25.9033 49.9844 Q26.5596 50.5625 26.5596 51.875 ZM33.6826 51.6719 L33.6826 55 L31.917 55 L31.917 54.4531 L31.917 52.4531 Q31.917 51.75 31.8857 51.4766 Q31.8545 51.2031 31.7764 51.0781 Q31.6826 50.9062 31.5029 50.8125 Q31.3232 50.7188 31.1045 50.7188 Q30.5576 50.7188 30.2451 51.1406 Q29.9326 51.5625 29.9326 52.3125 L29.9326 55 L28.1826 55 L28.1826 49.5312 L29.9326 49.5312 L29.9326 50.3281 Q30.3232 49.8594 30.7686 49.6328 Q31.2139 49.4062 31.7451 49.4062 Q32.6982 49.4062 33.1904 49.9844 Q33.6826 50.5625 33.6826 51.6719 ZM35.3018 49.5312 L37.0518 49.5312 L37.0518 55 L35.3018 55 L35.3018 49.5312 ZM35.3018 47.4062 L37.0518 47.4062 L37.0518 48.8281 L35.3018 48.8281 L35.3018 47.4062 ZM42.9951 49.7031 L42.9951 51.0312 Q42.4326 50.7969 41.9092 50.6797 Q41.3857 50.5625 40.9326 50.5625 Q40.4326 50.5625 40.1904 50.6875 Q39.9482 50.8125 39.9482 51.0625 Q39.9482 51.2812 40.1279 51.3906 Q40.3076 51.5 40.792 51.5625 L41.0889 51.5938 Q42.4326 51.7656 42.9014 52.1562 Q43.3701 52.5469 43.3701 53.3906 Q43.3701 54.2656 42.7217 54.7031 Q42.0732 55.1406 40.792 55.1406 Q40.2607 55.1406 39.6826 55.0547 Q39.1045 54.9688 38.4795 54.7969 L38.4795 53.4688 Q39.0107 53.7188 39.5576 53.8516 Q40.1045 53.9844 40.667 53.9844 Q41.1826 53.9844 41.4404 53.8438 Q41.6982 53.7031 41.6982 53.4219 Q41.6982 53.1875 41.5264 53.0703 Q41.3545 52.9531 40.8232 52.8906 L40.5107 52.8438 Q39.3389 52.7031 38.8701 52.3047 Q38.4014 51.9062 38.4014 51.1094 Q38.4014 50.2344 38.9951 49.8203 Q39.5889 49.4062 40.8232 49.4062 Q41.3076 49.4062 41.8389 49.4766 Q42.3701 49.5469 42.9951 49.7031 ZM49.7441 50.4375 Q50.0723 49.9375 50.5332 49.6719 Q50.9941 49.4062 51.541 49.4062 Q52.4785 49.4062 52.9707 49.9844 Q53.4629 50.5625 53.4629 51.6719 L53.4629 55 L51.7129 55 L51.7129 52.1406 Q51.7129 52.0781 51.7129 52.0156 Q51.7129 51.9531 51.7129 51.8281 Q51.7129 51.2344 51.5488 50.9766 Q51.3848 50.7188 50.9941 50.7188 Q50.4941 50.7188 50.2285 51.125 Q49.9629 51.5312 49.9473 52.3125 L49.9473 55 L48.1816 55 L48.1816 52.1406 Q48.1816 51.2344 48.0254 50.9766 Q47.8691 50.7188 47.4785 50.7188 Q46.9785 50.7188 46.7051 51.1328 Q46.4316 51.5469 46.4316 52.3125 L46.4316 55 L44.666 55 L44.666 49.5312 L46.4316 49.5312 L46.4316 50.3281 Q46.7441 49.875 47.166 49.6406 Q47.5879 49.4062 48.0879 49.4062 Q48.6504 49.4062 49.0879 49.6797 Q49.5254 49.9531 49.7441 50.4375 ZM55.3828 49.5312 L57.1328 49.5312 L57.1328 51.4219 L55.3828 51.4219 L55.3828 49.5312 ZM55.3828 53.1094 L57.1328 53.1094 L57.1328 55 L55.3828 55 L55.3828 53.1094 Z\" style=\"clip-path:url(#clipPath2); stroke:none;\"/><path d=\"M66.9844 47.7031 L67.9688 47.7031 L67.9688 50.7031 L71.5469 50.7031 L71.5469 47.7031 L72.5312 47.7031 L72.5312 55 L71.5469 55 L71.5469 51.5312 L67.9688 51.5312 L67.9688 55 L66.9844 55 L66.9844 47.7031 ZM76.582 50.1562 Q75.8633 50.1562 75.4414 50.7188 Q75.0195 51.2812 75.0195 52.2656 Q75.0195 53.25 75.4336 53.8125 Q75.8477 54.375 76.582 54.375 Q77.3008 54.375 77.7227 53.8125 Q78.1445 53.25 78.1445 52.2656 Q78.1445 51.2969 77.7227 50.7266 Q77.3008 50.1562 76.582 50.1562 ZM76.582 49.4062 Q77.7539 49.4062 78.4258 50.1641 Q79.0977 50.9219 79.0977 52.2656 Q79.0977 53.6094 78.4258 54.375 Q77.7539 55.1406 76.582 55.1406 Q75.4102 55.1406 74.7383 54.375 Q74.0664 53.6094 74.0664 52.2656 Q74.0664 50.9219 74.7383 50.1641 Q75.4102 49.4062 76.582 49.4062 ZM84.8408 50.5781 Q85.1689 49.9688 85.6377 49.6875 Q86.1064 49.4062 86.7471 49.4062 Q87.6064 49.4062 88.0674 50 Q88.5283 50.5938 88.5283 51.7031 L88.5283 55 L87.6221 55 L87.6221 51.7344 Q87.6221 50.9375 87.3486 50.5625 Q87.0752 50.1875 86.4971 50.1875 Q85.7939 50.1875 85.3955 50.6484 Q84.9971 51.1094 84.9971 51.9062 L84.9971 55 L84.0908 55 L84.0908 51.7344 Q84.0908 50.9375 83.8096 50.5625 Q83.5283 50.1875 82.9502 50.1875 Q82.2627 50.1875 81.8564 50.6484 Q81.4502 51.1094 81.4502 51.9062 L81.4502 55 L80.5439 55 L80.5439 49.5312 L81.4502 49.5312 L81.4502 50.375 Q81.7627 49.875 82.1924 49.6406 Q82.6221 49.4062 83.2002 49.4062 Q83.8096 49.4062 84.2236 49.7031 Q84.6377 50 84.8408 50.5781 ZM92.4414 50.1562 Q91.7227 50.1562 91.3008 50.7188 Q90.8789 51.2812 90.8789 52.2656 Q90.8789 53.25 91.293 53.8125 Q91.707 54.375 92.4414 54.375 Q93.1602 54.375 93.582 53.8125 Q94.0039 53.25 94.0039 52.2656 Q94.0039 51.2969 93.582 50.7266 Q93.1602 50.1562 92.4414 50.1562 ZM92.4414 49.4062 Q93.6133 49.4062 94.2852 50.1641 Q94.957 50.9219 94.957 52.2656 Q94.957 53.6094 94.2852 54.375 Q93.6133 55.1406 92.4414 55.1406 Q91.2695 55.1406 90.5977 54.375 Q89.9258 53.6094 89.9258 52.2656 Q89.9258 50.9219 90.5977 50.1641 Q91.2695 49.4062 92.4414 49.4062 ZM103.0977 49.6875 L103.0977 50.5469 Q102.7227 50.3438 102.3164 50.25 Q101.9102 50.1562 101.457 50.1562 Q100.8008 50.1562 100.4648 50.3594 Q100.1289 50.5625 100.1289 50.9688 Q100.1289 51.2812 100.3633 51.4609 Q100.5977 51.6406 101.332 51.7969 L101.6289 51.875 Q102.5977 52.0781 102.9961 52.4531 Q103.3945 52.8281 103.3945 53.4844 Q103.3945 54.25 102.793 54.6953 Q102.1914 55.1406 101.1445 55.1406 Q100.6914 55.1406 100.2148 55.0547 Q99.7383 54.9688 99.2227 54.7969 L99.2227 53.875 Q99.7227 54.125 100.1992 54.2578 Q100.6758 54.3906 101.1602 54.3906 Q101.7852 54.3906 102.1289 54.1719 Q102.4727 53.9531 102.4727 53.5625 Q102.4727 53.1875 102.2305 52.9922 Q101.9883 52.7969 101.1445 52.625 L100.832 52.5469 Q100.0039 52.375 99.6289 52.0078 Q99.2539 51.6406 99.2539 51.0156 Q99.2539 50.2344 99.8008 49.8203 Q100.3477 49.4062 101.3633 49.4062 Q101.8477 49.4062 102.293 49.4766 Q102.7383 49.5469 103.0977 49.6875 ZM107.3076 52.25 Q106.2295 52.25 105.8076 52.5 Q105.3857 52.75 105.3857 53.3438 Q105.3857 53.8281 105.6982 54.1094 Q106.0107 54.3906 106.5576 54.3906 Q107.3076 54.3906 107.7607 53.8594 Q108.2139 53.3281 108.2139 52.4531 L108.2139 52.25 L107.3076 52.25 ZM109.1045 51.875 L109.1045 55 L108.2139 55 L108.2139 54.1719 Q107.9014 54.6719 107.4404 54.9062 Q106.9795 55.1406 106.3232 55.1406 Q105.4795 55.1406 104.9795 54.6719 Q104.4795 54.2031 104.4795 53.4062 Q104.4795 52.4844 105.1045 52.0156 Q105.7295 51.5469 106.9482 51.5469 L108.2139 51.5469 L108.2139 51.4531 Q108.2139 50.8438 107.7998 50.5 Q107.3857 50.1562 106.6514 50.1562 Q106.1826 50.1562 105.7373 50.2734 Q105.292 50.3906 104.8857 50.6094 L104.8857 49.7812 Q105.3857 49.5938 105.8467 49.5 Q106.3076 49.4062 106.7451 49.4062 Q107.9326 49.4062 108.5186 50.0156 Q109.1045 50.625 109.1045 51.875 ZM111.8262 54.1719 L111.8262 57.0781 L110.9199 57.0781 L110.9199 49.5312 L111.8262 49.5312 L111.8262 50.3594 Q112.1074 49.875 112.5371 49.6406 Q112.9668 49.4062 113.5762 49.4062 Q114.5762 49.4062 115.1934 50.1953 Q115.8105 50.9844 115.8105 52.2656 Q115.8105 53.5625 115.1934 54.3516 Q114.5762 55.1406 113.5762 55.1406 Q112.9668 55.1406 112.5371 54.9062 Q112.1074 54.6719 111.8262 54.1719 ZM114.8887 52.2656 Q114.8887 51.2812 114.4746 50.7188 Q114.0605 50.1562 113.3574 50.1562 Q112.6387 50.1562 112.2324 50.7188 Q111.8262 51.2812 111.8262 52.2656 Q111.8262 53.2656 112.2324 53.8281 Q112.6387 54.3906 113.3574 54.3906 Q114.0605 54.3906 114.4746 53.8281 Q114.8887 53.2656 114.8887 52.2656 ZM117.2988 49.5312 L118.2051 49.5312 L118.2051 55 L117.2988 55 L117.2988 49.5312 ZM117.2988 47.4062 L118.2051 47.4062 L118.2051 48.5469 L117.2988 48.5469 L117.2988 47.4062 ZM124.7646 52.0469 L124.7646 52.4844 L120.624 52.4844 Q120.6865 53.4062 121.1865 53.8906 Q121.6865 54.375 122.5771 54.375 Q123.0928 54.375 123.585 54.25 Q124.0771 54.125 124.5459 53.875 L124.5459 54.7188 Q124.0615 54.9219 123.5537 55.0312 Q123.0459 55.1406 122.5303 55.1406 Q121.2178 55.1406 120.4521 54.3828 Q119.6865 53.625 119.6865 52.3125 Q119.6865 50.9688 120.4131 50.1875 Q121.1396 49.4062 122.374 49.4062 Q123.4834 49.4062 124.124 50.1094 Q124.7646 50.8125 124.7646 52.0469 ZM123.8584 51.7812 Q123.8584 51.0469 123.4521 50.6016 Q123.0459 50.1562 122.3896 50.1562 Q121.624 50.1562 121.1787 50.5859 Q120.7334 51.0156 120.6553 51.7812 L123.8584 51.7812 ZM130.7764 51.7031 L130.7764 55 L129.8857 55 L129.8857 51.7344 Q129.8857 50.9531 129.5811 50.5703 Q129.2764 50.1875 128.667 50.1875 Q127.9482 50.1875 127.5264 50.6484 Q127.1045 51.1094 127.1045 51.9062 L127.1045 55 L126.1982 55 L126.1982 49.5312 L127.1045 49.5312 L127.1045 50.375 Q127.4326 49.8906 127.8701 49.6484 Q128.3076 49.4062 128.8701 49.4062 Q129.8076 49.4062 130.292 49.9844 Q130.7764 50.5625 130.7764 51.7031 ZM136.0518 49.6875 L136.0518 50.5469 Q135.6768 50.3438 135.2705 50.25 Q134.8643 50.1562 134.4111 50.1562 Q133.7549 50.1562 133.4189 50.3594 Q133.083 50.5625 133.083 50.9688 Q133.083 51.2812 133.3174 51.4609 Q133.5518 51.6406 134.2861 51.7969 L134.583 51.875 Q135.5518 52.0781 135.9502 52.4531 Q136.3486 52.8281 136.3486 53.4844 Q136.3486 54.25 135.7471 54.6953 Q135.1455 55.1406 134.0986 55.1406 Q133.6455 55.1406 133.1689 55.0547 Q132.6924 54.9688 132.1768 54.7969 L132.1768 53.875 Q132.6768 54.125 133.1533 54.2578 Q133.6299 54.3906 134.1143 54.3906 Q134.7393 54.3906 135.083 54.1719 Q135.4268 53.9531 135.4268 53.5625 Q135.4268 53.1875 135.1846 52.9922 Q134.9424 52.7969 134.0986 52.625 L133.7861 52.5469 Q132.958 52.375 132.583 52.0078 Q132.208 51.6406 132.208 51.0156 Q132.208 50.2344 132.7549 49.8203 Q133.3018 49.4062 134.3174 49.4062 Q134.8018 49.4062 135.2471 49.4766 Q135.6924 49.5469 136.0518 49.6875 Z\" style=\"clip-path:url(#clipPath2); stroke:none;\"/></g><g style=\"fill:navy; text-rendering:geometricPrecision; font-size:8; stroke:navy;\"><text style=\"clip-path:url(#clipPath4); stroke:none;\" x=\"216\" xml:space=\"preserve\" y=\"29\">1, 2, 4, 6</text></g><g style=\"fill:rgb(180,180,100); text-rendering:geometricPrecision; fill-opacity:0.098; stroke-opacity:0.098; stroke:rgb(180,180,100);\"><path d=\"M71 195 L138 195 L156 213 L156 280 L138 298 L71 298 L53 280 L53 213 Z\" style=\"clip-path:url(#clipPath5); stroke:none;\"/></g><g style=\"fill:gray; text-rendering:geometricPrecision; stroke:gray;\"><path d=\"M71 195 L138 195 L156 213 L156 280 L138 298 L71 298 L53 280 L53 213 Z\" style=\"fill:none; clip-path:url(#clipPath5);\"/></g><g style=\"fill:rgb(180,180,100); text-rendering:geometricPrecision; fill-opacity:0.098; stroke-opacity:0.098; stroke:rgb(180,180,100);\"><path d=\"M500 265 L567 265 L585 283 L585 310 L567 328 L500 328 L482 310 L482 283 Z\" style=\"clip-path:url(#clipPath6); stroke:none;\"/></g><g style=\"fill:gray; text-rendering:geometricPrecision; stroke:gray;\"><path d=\"M500 265 L567 265 L585 283 L585 310 L567 328 L500 328 L482 310 L482 283 Z\" style=\"fill:none; clip-path:url(#clipPath6);\"/></g><g style=\"fill:rgb(180,180,100); text-rendering:geometricPrecision; fill-opacity:0.098; stroke-opacity:0.098; stroke:rgb(180,180,100);\"><path d=\"M228.8975 348.8975 L295.8975 348.8975 L313.8975 366.8975 L313.8975 393.8975 L295.8975 411.8975 L228.8975 411.8975 L210.8975 393.8975 L210.8975 366.8975 Z\" style=\"clip-path:url(#clipPath7); stroke:none;\"/></g><g style=\"fill:gray; text-rendering:geometricPrecision; stroke:gray;\"><path d=\"M228.8975 348.8975 L295.8975 348.8975 L313.8975 366.8975 L313.8975 393.8975 L295.8975 411.8975 L228.8975 411.8975 L210.8975 393.8975 L210.8975 366.8975 Z\" style=\"fill:none; clip-path:url(#clipPath7);\"/></g><g style=\"fill:rgb(180,180,100); text-rendering:geometricPrecision; fill-opacity:0.098; stroke-opacity:0.098; stroke:rgb(180,180,100);\"><path d=\"M587 472 L814 472 L832 490 L832 517 L814 535 L587 535 L569 517 L569 490 Z\" style=\"clip-path:url(#clipPath8); stroke:none;\"/></g><g style=\"fill:gray; text-rendering:geometricPrecision; stroke:gray;\"><path d=\"M587 472 L814 472 L832 490 L832 517 L814 535 L587 535 L569 517 L569 490 Z\" style=\"fill:none; clip-path:url(#clipPath8);\"/></g><g style=\"fill:rgb(180,180,100); text-rendering:geometricPrecision; fill-opacity:0.098; stroke-opacity:0.098; stroke:rgb(180,180,100);\"><path d=\"M214.6 470 L440.4 470 L458 487.6 L458 495.4 L440.4 513 L214.6 513 L197 495.4 L197 487.6 Z\" style=\"clip-path:url(#clipPath9); stroke:none;\"/></g><g style=\"fill:gray; text-rendering:geometricPrecision; stroke:gray;\"><path d=\"M214.6 470 L440.4 470 L458 487.6 L458 495.4 L440.4 513 L214.6 513 L197 495.4 L197 487.6 Z\" style=\"fill:none; clip-path:url(#clipPath9);\"/></g><g style=\"fill:navy; text-rendering:geometricPrecision; font-size:8; stroke:navy;\"><text style=\"clip-path:url(#clipPath11); stroke:none;\" x=\"154\" xml:space=\"preserve\" y=\"192\">3</text></g><g style=\"text-rendering:geometricPrecision;\"><path d=\"M428 445 L428 470\" style=\"fill:none; clip-path:url(#clipPath12);\"/><path d=\"M437.1 470 L437.1 471.3 L417.6 471.3 L417.6 470 L437.1 470 Z\" style=\"fill:white; clip-path:url(#clipPath12); stroke:none;\"/><path d=\"M437.1 470 L437.1 471.3 L417.6 471.3 L417.6 470 L437.1 470 Z\" style=\"fill:none; clip-path:url(#clipPath12);\"/></g><g style=\"text-rendering:geometricPrecision;\"><path d=\"M702.5 64 L702.5 176\" style=\"fill:none; clip-path:url(#clipPath13);\"/><path d=\"M702.5 176 L707.7 164.3 L697.3 164.3 Z\" style=\"clip-path:url(#clipPath13); fill-rule:evenodd; stroke:none;\"/></g><g style=\"text-rendering:geometricPrecision;\"><path d=\"M328 514 L328 534 M328 534 L352.5 534 M352.5 534 L352.5 576\" style=\"fill:none; clip-path:url(#clipPath14);\"/><path d=\"M352.5 576 L357.7 564.3 L347.3 564.3 Z\" style=\"clip-path:url(#clipPath14); fill-rule:evenodd; stroke:none;\"/></g><g style=\"text-rendering:geometricPrecision;\"><path d=\"M682.5 196 L682.5 435 M682.5 435 L475 435\" style=\"fill:none; clip-path:url(#clipPath15);\"/><path d=\"M475 444.1 L473.7 444.1 L473.7 424.6 L475 424.6 L475 444.1 Z\" style=\"fill:white; clip-path:url(#clipPath15); stroke:none;\"/><path d=\"M475 444.1 L473.7 444.1 L473.7 424.6 L475 424.6 L475 444.1 Z\" style=\"fill:none; clip-path:url(#clipPath15);\"/></g><g style=\"text-rendering:geometricPrecision;\"><path d=\"M105 299 L105 492 M105 492 L209 492\" style=\"fill:none; clip-path:url(#clipPath16);\"/><path d=\"M209 492 L197.3 486.8 L197.3 497.2 Z\" style=\"clip-path:url(#clipPath16); fill-rule:evenodd; stroke:none;\"/></g><g style=\"text-rendering:geometricPrecision;\"><path d=\"M153.6939 151.0686 L105 195\" style=\"fill:none; clip-path:url(#clipPath17);\"/><path d=\"M105 195 L117.1703 191.0235 L110.2038 183.3017 Z\" style=\"clip-path:url(#clipPath17); fill-rule:evenodd; stroke:none;\"/></g><g style=\"text-rendering:geometricPrecision;\"><path d=\"M328 502 L328 533.7598 M328 533.7598 L440 533.7598 M440 533.7598 L440 569\" style=\"fill:none; clip-path:url(#clipPath18);\"/><path d=\"M449.1 569 L449.1 570.3 L429.6 570.3 L429.6 569 L449.1 569 Z\" style=\"fill:white; clip-path:url(#clipPath18); stroke:none;\"/><path d=\"M449.1 569 L449.1 570.3 L429.6 570.3 L429.6 569 L449.1 569 Z\" style=\"fill:none; clip-path:url(#clipPath18);\"/></g><g style=\"stroke-dasharray:4,4; text-rendering:geometricPrecision;\"><path d=\"M328 514 L328 534 M328 534 L70.3235 534 M70.3235 534 L70.3235 606.0338\" style=\"fill:none; clip-path:url(#clipPath19);\"/><path d=\"M70.3235 606.0338 L75.5235 594.3337 L65.1235 594.3337 Z\" style=\"stroke-dasharray:none; clip-path:url(#clipPath19); fill-rule:evenodd; stroke:none;\"/></g><g style=\"text-rendering:geometricPrecision;\"><path d=\"M758 618 L759.0833 697.6667\" style=\"fill:none; clip-path:url(#clipPath20);\"/><path d=\"M759.0833 697.6667 L764.1238 685.897 L753.7247 686.0385 Z\" style=\"clip-path:url(#clipPath20); fill-rule:evenodd; stroke:none;\"/></g><g style=\"text-rendering:geometricPrecision;\"><path d=\"M742.5 186 L848 186 M848 186 L848 657\" style=\"fill:none; clip-path:url(#clipPath21);\"/><path d=\"M848 657 L853.2 645.3 L842.8 645.3 Z\" style=\"clip-path:url(#clipPath21); fill-rule:evenodd; stroke:none;\"/></g><g style=\"text-rendering:geometricPrecision;\"><path d=\"M70.3235 626.0338 L70.3235 652.4473\" style=\"fill:none; clip-path:url(#clipPath22);\"/><path d=\"M70.3235 652.4473 L75.5235 640.7473 L65.1235 640.7473 Z\" style=\"clip-path:url(#clipPath22); fill-rule:evenodd; stroke:none;\"/></g><g style=\"text-rendering:geometricPrecision;\"><path d=\"M328 67 L328 156\" style=\"fill:none; clip-path:url(#clipPath23);\"/><path d=\"M328 156 L333.2 144.3 L322.8 144.3 Z\" style=\"clip-path:url(#clipPath23); fill-rule:evenodd; stroke:none;\"/></g><g style=\"stroke-dasharray:4,4; text-rendering:geometricPrecision;\"><path d=\"M157 247 L514 374\" style=\"fill:none; clip-path:url(#clipPath24);\"/><path d=\"M514 374 L504.7196 365.1793 L501.2339 374.9778 Z\" style=\"stroke-dasharray:none; clip-path:url(#clipPath24); fill-rule:evenodd; stroke:none;\"/></g><g style=\"text-rendering:geometricPrecision;\"><path d=\"M328 204 L328 224 M328 224 L328 224 M328 224 L328 463\" style=\"fill:none; clip-path:url(#clipPath25);\"/><path d=\"M337.1 463 L337.1 464.3 L317.6 464.3 L317.6 463 L337.1 463 Z\" style=\"fill:white; clip-path:url(#clipPath25); stroke:none;\"/><path d=\"M337.1 463 L337.1 464.3 L317.6 464.3 L317.6 463 L337.1 463 Z\" style=\"fill:none; clip-path:url(#clipPath25);\"/></g><g style=\"text-rendering:geometricPrecision;\"><path d=\"M534 329 L534 349 M534 349 L534 349 M534 349 L534 367\" style=\"fill:none; clip-path:url(#clipPath26);\"/><path d=\"M543.1 367 L543.1 368.3 L523.6 368.3 L523.6 367 L543.1 367 Z\" style=\"fill:white; clip-path:url(#clipPath26); stroke:none;\"/><path d=\"M543.1 367 L543.1 368.3 L523.6 368.3 L523.6 367 L543.1 367 Z\" style=\"fill:none; clip-path:url(#clipPath26);\"/></g><g style=\"text-rendering:geometricPrecision;\"><path d=\"M328 514 L328 534 M328 534 L252.9833 534 M252.9833 534 L252.9833 544.4833\" style=\"fill:none; clip-path:url(#clipPath27);\"/><path d=\"M262.0833 544.4833 L262.0833 545.7833 L242.5833 545.7833 L242.5833 544.4833 L262.0833 544.4833 Z\" style=\"fill:white; clip-path:url(#clipPath27); stroke:none;\"/><path d=\"M262.0833 544.4833 L262.0833 545.7833 L242.5833 545.7833 L242.5833 544.4833 L262.0833 544.4833 Z\" style=\"fill:none; clip-path:url(#clipPath27);\"/></g><g style=\"text-rendering:geometricPrecision;\"><path d=\"M352.5 596 L312.75 643\" style=\"fill:none; clip-path:url(#clipPath28);\"/><path d=\"M312.75 643 L324.2758 637.4246 L316.335 630.7086 Z\" style=\"clip-path:url(#clipPath28); fill-rule:evenodd; stroke:none;\"/></g><g style=\"text-rendering:geometricPrecision;\"><path d=\"M328 204 L482 297\" style=\"fill:none; clip-path:url(#clipPath29);\"/><path d=\"M482 297 L474.6727 286.5004 L469.2965 295.403 Z\" style=\"clip-path:url(#clipPath29); fill-rule:evenodd; stroke:none;\"/></g><g style=\"text-rendering:geometricPrecision;\"><path d=\"M701 536 L758 578\" style=\"fill:none; clip-path:url(#clipPath30);\"/><path d=\"M758 578 L751.6655 566.8733 L745.4962 575.2458 Z\" style=\"clip-path:url(#clipPath30); fill-rule:evenodd; stroke:none;\"/></g><g style=\"text-rendering:geometricPrecision;\"><path d=\"M440 596 L439.6797 647.0001\" style=\"fill:none; clip-path:url(#clipPath31);\"/><path d=\"M448.7795 647.0573 L448.7713 648.3573 L429.2717 648.2348 L429.2799 646.9348 L448.7795 647.0573 Z\" style=\"fill:white; clip-path:url(#clipPath31); stroke:none;\"/><path d=\"M448.7795 647.0573 L448.7713 648.3573 L429.2717 648.2348 L429.2799 646.9348 L448.7795 647.0573 Z\" style=\"fill:none; clip-path:url(#clipPath31);\"/></g><g style=\"text-rendering:geometricPrecision;\"><path d=\"M701 536 L657 578\" style=\"fill:none; clip-path:url(#clipPath32);\"/><path d=\"M657 578 L669.0537 573.6829 L661.8728 566.16 Z\" style=\"clip-path:url(#clipPath32); fill-rule:evenodd; stroke:none;\"/></g><g style=\"text-rendering:geometricPrecision;\"><path d=\"M701 472 L702.5 196\" style=\"fill:none; clip-path:url(#clipPath33);\"/><path d=\"M702.5 196 L697.2365 207.6716 L707.6364 207.7281 Z\" style=\"clip-path:url(#clipPath33); fill-rule:evenodd; stroke:none;\"/></g><g style=\"text-rendering:geometricPrecision;\"><path d=\"M352.5 596 L352.5 685\" style=\"fill:none; clip-path:url(#clipPath34);\"/><path d=\"M361.6 685 L361.6 686.3 L342.1 686.3 L342.1 685 L361.6 685 Z\" style=\"fill:white; clip-path:url(#clipPath34); stroke:none;\"/><path d=\"M361.6 685 L361.6 686.3 L342.1 686.3 L342.1 685 L361.6 685 Z\" style=\"fill:none; clip-path:url(#clipPath34);\"/></g><g style=\"text-rendering:geometricPrecision;\"><path d=\"M352.5 596 L405.8857 654\" style=\"fill:none; clip-path:url(#clipPath35);\"/><path d=\"M405.8857 654 L401.7881 641.8699 L394.1361 648.9131 Z\" style=\"clip-path:url(#clipPath35); fill-rule:evenodd; stroke:none;\"/></g><g style=\"text-rendering:geometricPrecision;\"><path d=\"M328 514 L328 534 M328 534 L182.5 534 M182.5 534 L182.5 674\" style=\"fill:none; clip-path:url(#clipPath36);\"/><path d=\"M182.5 674 L187.7 662.3 L177.3 662.3 Z\" style=\"clip-path:url(#clipPath36); fill-rule:evenodd; stroke:none;\"/></g><g style=\"text-rendering:geometricPrecision;\"><path d=\"M494 384 L348 384 M348 384 L348 482\" style=\"fill:none; clip-path:url(#clipPath37);\"/><path d=\"M348 482 L353.2 470.3 L342.8 470.3 Z\" style=\"clip-path:url(#clipPath37); fill-rule:evenodd; stroke:none;\"/></g><g style=\"text-rendering:geometricPrecision;\"><path d=\"M252.9833 611.4833 L283.5 643\" style=\"fill:none; clip-path:url(#clipPath38);\"/><path d=\"M283.5 643 L279.097 630.9774 L271.6255 638.2118 Z\" style=\"clip-path:url(#clipPath38); fill-rule:evenodd; stroke:none;\"/></g><g style=\"text-rendering:geometricPrecision;\"><path d=\"M262.8975 412.8975 L262.5487 463.0002\" style=\"fill:none; clip-path:url(#clipPath39);\"/><path d=\"M271.6485 463.0635 L271.6395 464.3635 L252.1399 464.2278 L252.149 462.9278 L271.6485 463.0635 Z\" style=\"fill:white; clip-path:url(#clipPath39); stroke:none;\"/><path d=\"M271.6485 463.0635 L271.6395 464.3635 L252.1399 464.2278 L252.149 462.9278 L271.6485 463.0635 Z\" style=\"fill:none; clip-path:url(#clipPath39);\"/></g><g style=\"text-rendering:geometricPrecision;\"><path d=\"M682.5 196 L682.5 297 M682.5 297 L593 297\" style=\"fill:none; clip-path:url(#clipPath40);\"/><path d=\"M593 306.1 L591.7 306.1 L591.7 286.6 L593 286.6 L593 306.1 Z\" style=\"fill:white; clip-path:url(#clipPath40); stroke:none;\"/><path d=\"M593 306.1 L591.7 306.1 L591.7 286.6 L593 286.6 L593 306.1 Z\" style=\"fill:none; clip-path:url(#clipPath40);\"/></g><g style=\"text-rendering:geometricPrecision;\"><path d=\"M70.3235 693.5443 L70.3235 724.1772\" style=\"fill:none; clip-path:url(#clipPath41);\"/><path d=\"M70.3235 724.1772 L75.5235 712.4772 L65.1235 712.4772 Z\" style=\"clip-path:url(#clipPath41); fill-rule:evenodd; stroke:none;\"/></g><g style=\"text-rendering:geometricPrecision;\"><path d=\"M168.1008 77.6119 L168.1008 138.0597\" style=\"fill:none; clip-path:url(#clipPath42);\"/><path d=\"M168.1008 138.0597 L173.3008 126.3597 L162.9008 126.3597 Z\" style=\"clip-path:url(#clipPath42); fill-rule:evenodd; stroke:none;\"/></g><g style=\"text-rendering:geometricPrecision;\"><path d=\"M534 68 L534 174\" style=\"fill:none; clip-path:url(#clipPath43);\"/><path d=\"M534 174 L539.2 162.3 L528.8 162.3 Z\" style=\"clip-path:url(#clipPath43); fill-rule:evenodd; stroke:none;\"/></g><g style=\"text-rendering:geometricPrecision;\"><path d=\"M534 214 L534 265\" style=\"fill:none; clip-path:url(#clipPath44);\"/><path d=\"M534 265 L539.2 253.3 L528.8 253.3 Z\" style=\"clip-path:url(#clipPath44); fill-rule:evenodd; stroke:none;\"/></g><g style=\"text-rendering:geometricPrecision;\"><path d=\"M657 598 L759.0833 697.6667\" style=\"fill:none; clip-path:url(#clipPath45);\"/><path d=\"M759.0833 697.6667 L754.3444 685.7725 L747.079 693.2139 Z\" style=\"clip-path:url(#clipPath45); fill-rule:evenodd; stroke:none;\"/></g><g style=\"fill:silver; text-rendering:geometricPrecision; stroke:silver;\"><path d=\"M17.7059 111.4412 L17.7059 111.4412 L17.7059 111.4412 L19.2059 111.4412 L19.2059 112.9412 L19.2059 753.6555 L19.2059 755.1555 L17.7059 755.1555 L14.7059 755.1555 L14.7059 753.6555 L14.7059 752.1555 L17.7059 752.1555 L19.2059 752.1555 L19.2059 753.6555 C19.2059 756.6926 21.6684 759.1555 24.7059 759.1555 L26.2059 759.1555 L26.2059 760.6555 L26.2059 763.6555 L24.7059 763.6555 L23.2059 763.6555 L23.2059 760.6555 L23.2059 759.1555 L24.7059 759.1555 L891.2605 759.1555 L892.7606 759.1555 L892.7605 760.6555 L892.7605 763.6555 L891.2605 763.6555 L889.7605 763.6555 L889.7605 760.6555 L889.7605 759.1555 L891.2605 759.1555 C894.2983 759.1555 896.7605 756.6926 896.7605 753.6555 L896.7605 752.1555 L898.2605 752.1555 L901.2605 752.1555 L901.2605 753.6555 L901.2605 755.1555 L898.2605 755.1555 L896.7605 755.1555 L896.7605 753.6555 L896.7605 112.9412 L896.7605 111.4412 L898.2605 111.4412 L901.2605 111.4412 L901.2605 112.9412 L901.2605 114.4412 L898.2605 114.4412 L896.7605 114.4412 L896.7605 112.9412 C896.7605 109.9036 894.2983 107.4412 891.2605 107.4412 L889.7605 107.4412 L889.7605 105.9412 L889.7605 102.9412 L891.2605 102.9412 L892.7605 102.9412 L892.7605 105.9412 L892.7605 107.4412 L891.2605 107.4412 L24.7059 107.4412 L23.2058 107.4412 L23.2059 105.9412 L23.2059 102.9412 L24.7059 102.9412 L26.2059 102.9412 L26.2059 105.9412 L26.2059 107.4412 L24.7059 107.4412 C21.6683 107.4412 19.2059 109.9036 19.2059 112.9412 L19.2059 114.4412 L17.7059 114.4412 L14.7059 114.4412 L14.7059 112.9412 L14.7059 111.4412 L17.7059 111.4412 L19.2059 111.4412 L19.2059 114.4412 L17.7059 114.4412 L14.7059 114.4412 L14.7059 111.4412 L17.7059 111.4412 L17.7059 112.9412 L16.2059 112.9412 C16.2059 108.2467 20.0115 104.4412 24.7059 104.4412 L24.7059 105.9412 L23.2059 105.9412 L23.2059 102.9412 L26.2059 102.9412 L26.2059 105.9412 L24.7059 105.9412 L24.7059 104.4412 L891.2605 104.4412 L891.2605 105.9412 L889.7605 105.9412 L889.7605 102.9412 L892.7605 102.9412 L892.7605 105.9412 L891.2605 105.9412 L891.2605 104.4412 C895.9551 104.4412 899.7605 108.2467 899.7605 112.9412 L898.2605 112.9412 L898.2605 111.4412 L901.2605 111.4412 L901.2605 114.4412 L898.2605 114.4412 L898.2605 112.9412 L899.7605 112.9412 L899.7605 753.6555 L898.2605 753.6555 L898.2605 752.1555 L901.2605 752.1555 L901.2605 755.1555 L898.2605 755.1555 L898.2605 753.6555 L899.7605 753.6555 C899.7605 758.3493 895.9551 762.1555 891.2605 762.1555 L891.2605 760.6555 L892.7605 760.6555 L892.7605 763.6555 L889.7605 763.6555 L889.7605 760.6555 L891.2605 760.6555 L891.2605 762.1555 L24.7059 762.1555 L24.7059 760.6555 L26.2059 760.6555 L26.2059 763.6555 L23.2059 763.6555 L23.2059 760.6555 L24.7059 760.6555 L24.7059 762.1555 C20.0114 762.1555 16.2059 758.3493 16.2059 753.6555 L17.7059 753.6555 L17.7059 755.1555 L14.7059 755.1555 L14.7059 752.1555 L17.7059 752.1555 L17.7059 753.6555 L16.2059 753.6555 L16.2059 112.9412 L17.7059 112.9412 L17.7059 114.4412 L17.7059 114.4412 L16.2059 114.4412 L16.2059 111.4412 ZM11.7059 111.4412 L11.7059 111.4412 L11.7059 111.4412 L11.7059 112.9412 L10.2059 112.9412 C10.2059 104.933 16.6978 98.4412 24.7059 98.4412 L24.7059 99.9412 L24.7059 98.4412 L24.7059 98.4412 L24.7059 99.9412 L24.7059 98.4412 L891.2605 98.4412 L891.2605 99.9412 L891.2605 98.4412 L891.2605 98.4412 L891.2605 99.9412 L891.2605 98.4412 C899.2686 98.4412 905.7605 104.933 905.7605 112.9412 L904.2605 112.9412 L904.2605 111.4412 L904.2605 111.4412 L905.7605 111.4412 L905.7605 112.9412 L905.7605 753.6555 L904.2605 753.6555 L904.2605 752.1555 L904.2605 752.1555 L905.7605 752.1555 L905.7605 753.6555 C905.7605 761.6631 899.2686 768.1555 891.2605 768.1555 L891.2605 766.6555 L891.2605 765.1555 L891.2605 765.1555 L891.2605 766.6555 L891.2605 768.1555 L24.7059 768.1555 L24.7059 766.6555 L24.7059 765.1555 L24.7059 765.1555 L24.7059 766.6555 L24.7059 768.1555 C16.6977 768.1555 10.2059 761.6631 10.2059 753.6555 L10.2059 752.1555 L11.7059 752.1555 L11.7059 752.1555 L11.7059 753.6555 L10.2059 753.6555 L10.2059 112.9412 L10.2059 111.4412 L11.7059 111.4412 M11.7059 114.4412 L11.7059 112.9412 L13.2059 112.9412 L13.2059 753.6555 L13.2059 755.1555 L11.7059 755.1555 L11.7059 755.1555 L11.7059 753.6555 L13.2059 753.6555 C13.2059 760.0063 18.3546 765.1555 24.7059 765.1555 L24.7059 768.1555 L24.7059 768.1555 L24.7059 765.1555 L891.2605 765.1555 L891.2605 768.1555 L891.2605 768.1555 L891.2605 765.1555 C897.6118 765.1555 902.7605 760.0062 902.7605 753.6555 L904.2605 753.6555 L904.2605 755.1555 L904.2605 755.1555 L902.7605 755.1555 L902.7605 753.6555 L902.7605 112.9412 L904.2605 112.9412 L904.2605 114.4412 L904.2605 114.4412 L902.7605 114.4412 L902.7605 112.9412 C902.7605 106.5899 897.6118 101.4412 891.2605 101.4412 L891.2605 101.4412 L891.2605 101.4412 L891.2605 101.4412 L24.7059 101.4412 L24.7059 101.4412 L24.7059 101.4412 L24.7059 101.4412 C18.3546 101.4412 13.2059 106.5899 13.2059 112.9412 L13.2059 114.4412 L11.7059 114.4412 L11.7059 114.4412 Z\" style=\"clip-path:url(#clipPath46); stroke:none;\"/></g><g style=\"fill:rgb(102,0,102); text-rendering:geometricPrecision; font-weight:bold; stroke:rgb(102,0,102);\"><text style=\"clip-path:url(#clipPath47); stroke:none;\" x=\"821\" xml:space=\"preserve\" y=\"671\">Survival</text></g><g style=\"font-size:9; text-rendering:geometricPrecision;\"><text style=\"clip-path:url(#clipPath48); stroke:none;\" x=\"141\" xml:space=\"preserve\" y=\"74\">Amino acids</text></g><g style=\"font-weight:bold; font-size:16; text-rendering:geometricPrecision;\"><text style=\"clip-path:url(#clipPath49); stroke:none;\" x=\"562\" xml:space=\"preserve\" y=\"468\">mTORC2</text></g><g style=\"font-weight:bold; font-size:16; text-rendering:geometricPrecision;\"><text style=\"clip-path:url(#clipPath50); stroke:none;\" x=\"168\" xml:space=\"preserve\" y=\"467\">mTORC1</text></g><g style=\"fill:rgb(102,0,102); text-rendering:geometricPrecision; font-weight:bold; stroke:rgb(102,0,102);\"><text style=\"clip-path:url(#clipPath51); stroke:none;\" x=\"507\" xml:space=\"preserve\" y=\"62\">Hypoxia</text></g><g style=\"fill:rgb(102,0,102); text-rendering:geometricPrecision; font-weight:bold; stroke:rgb(102,0,102);\"><text style=\"clip-path:url(#clipPath52); stroke:none;\" x=\"281\" xml:space=\"preserve\" y=\"61\">high AMP:ATP</text></g><g style=\"font-size:10; text-rendering:geometricPrecision;\"><text style=\"clip-path:url(#clipPath53); stroke:none;\" x=\"272\" xml:space=\"preserve\" y=\"158\">AMPK</text></g><g style=\"fill:white; text-rendering:geometricPrecision; stroke:white;\"><path d=\"M367 482 L447 482 L447 502 L367 502 L367 482 Z\" style=\"clip-path:url(#clipPath54); stroke:none;\"/><path d=\"M367 482 L447 482 L447 502 L367 502 L367 482 Z\" style=\"fill:none; clip-path:url(#clipPath54); stroke:black;\"/><text style=\"font-size:10; clip-path:url(#clipPath54); fill:black; stroke:none;\" x=\"391\" xml:space=\"preserve\" y=\"495\">MLST8</text></g><g style=\"fill:white; text-rendering:geometricPrecision; stroke:white;\"><path d=\"M581 484 L661 484 L661 504 L581 504 L581 484 Z\" style=\"clip-path:url(#clipPath55); stroke:none;\"/><path d=\"M581 484 L661 484 L661 504 L581 504 L581 484 Z\" style=\"fill:none; clip-path:url(#clipPath55); stroke:black;\"/><text style=\"font-size:10; clip-path:url(#clipPath55); fill:black; stroke:none;\" x=\"603\" xml:space=\"preserve\" y=\"497\">RICTOR</text></g><g style=\"fill:white; text-rendering:geometricPrecision; stroke:white;\"><path d=\"M65 267 L145 267 L145 287 L65 287 L65 267 Z\" style=\"clip-path:url(#clipPath56); stroke:none;\"/><path d=\"M65 267 L145 267 L145 287 L65 287 L65 267 Z\" style=\"fill:none; clip-path:url(#clipPath56); stroke:black;\"/><text style=\"font-size:10; clip-path:url(#clipPath56); fill:black; stroke:none;\" x=\"87\" xml:space=\"preserve\" y=\"280\">RRAGD</text></g><g style=\"fill:white; text-rendering:geometricPrecision; stroke:white;\"><path d=\"M400 576 L480 576 L480 596 L400 596 L400 576 Z\" style=\"clip-path:url(#clipPath57); stroke:none;\"/><path d=\"M400 576 L480 576 L480 596 L400 596 L400 576 Z\" style=\"fill:none; clip-path:url(#clipPath57); stroke:black;\"/><text style=\"font-size:10; clip-path:url(#clipPath57); fill:black; stroke:none;\" x=\"417\" xml:space=\"preserve\" y=\"589\">EIF4EBP1</text></g><g style=\"fill:white; text-rendering:geometricPrecision; stroke:white;\"><path d=\"M65 227 L145 227 L145 247 L65 247 L65 227 Z\" style=\"clip-path:url(#clipPath58); stroke:none;\"/><path d=\"M65 227 L145 227 L145 247 L65 247 L65 227 Z\" style=\"fill:none; clip-path:url(#clipPath58); stroke:black;\"/><text style=\"font-size:10; clip-path:url(#clipPath58); fill:black; stroke:none;\" x=\"88\" xml:space=\"preserve\" y=\"240\">RRAGB</text></g><g style=\"fill:white; text-rendering:geometricPrecision; stroke:white;\"><path d=\"M212.9833 571.4833 L292.9833 571.4833 L292.9833 591.4833 L212.9833 591.4833 L212.9833 571.4833 Z\" style=\"clip-path:url(#clipPath59); stroke:none;\"/><path d=\"M212.9833 571.4833 L292.9833 571.4833 L292.9833 591.4833 L212.9833 591.4833 L212.9833 571.4833 Z\" style=\"fill:none; clip-path:url(#clipPath59); stroke:black;\"/><text style=\"font-size:10; clip-path:url(#clipPath59); fill:black; stroke:none;\" x=\"240\" xml:space=\"preserve\" y=\"585\">ULK2</text></g><g style=\"fill:white; text-rendering:geometricPrecision; stroke:white;\"><path d=\"M212.9833 591.4833 L292.9833 591.4833 L292.9833 611.4833 L212.9833 611.4833 L212.9833 591.4833 Z\" style=\"clip-path:url(#clipPath60); stroke:none;\"/><path d=\"M212.9833 591.4833 L292.9833 591.4833 L292.9833 611.4833 L212.9833 611.4833 L212.9833 591.4833 Z\" style=\"fill:none; clip-path:url(#clipPath60); stroke:black;\"/><text style=\"font-size:10; clip-path:url(#clipPath60); fill:black; stroke:none;\" x=\"240\" xml:space=\"preserve\" y=\"605\">ULK3</text></g><g style=\"fill:white; text-rendering:geometricPrecision; stroke:white;\"><path d=\"M209 482 L289 482 L289 502 L209 502 L209 482 Z\" style=\"clip-path:url(#clipPath61); stroke:none;\"/><path d=\"M209 482 L289 482 L289 502 L209 502 L209 482 Z\" style=\"fill:none; clip-path:url(#clipPath61); stroke:black;\"/><text style=\"font-size:10; clip-path:url(#clipPath61); fill:black; stroke:none;\" x=\"233\" xml:space=\"preserve\" y=\"495\">RPTOR</text></g><g style=\"fill:white; text-rendering:geometricPrecision; stroke:white;\"><path d=\"M30.3235 652.4473 L110.3235 652.4473 L110.3235 672.4473 L30.3235 672.4473 L30.3235 652.4473 Z\" style=\"clip-path:url(#clipPath62); stroke:none;\"/><path d=\"M30.3235 652.4473 L110.3235 652.4473 L110.3235 672.4473 L30.3235 672.4473 L30.3235 652.4473 Z\" style=\"fill:none; clip-path:url(#clipPath62); stroke:black;\"/><text style=\"font-size:10; clip-path:url(#clipPath62); fill:black; stroke:none;\" x=\"61\" xml:space=\"preserve\" y=\"666\">IDI1</text></g><g style=\"fill:rgb(20,150,30); text-rendering:geometricPrecision; font-weight:bold; stroke:rgb(20,150,30);\"><text style=\"clip-path:url(#clipPath63); stroke:none;\" x=\"647\" xml:space=\"preserve\" y=\"58\">Insulin signaling</text></g><g style=\"fill:rgb(20,150,30); text-rendering:geometricPrecision; font-weight:bold; stroke:rgb(20,150,30);\"><text style=\"clip-path:url(#clipPath64); stroke:none;\" x=\"247\" xml:space=\"preserve\" y=\"657\">Autophagy</text></g><g style=\"fill:rgb(20,150,30); text-rendering:geometricPrecision; font-weight:bold; stroke:rgb(20,150,30);\"><text style=\"clip-path:url(#clipPath65); stroke:none;\" x=\"111\" xml:space=\"preserve\" y=\"688\">Ribosome biogenesis</text></g><g style=\"fill:white; text-rendering:geometricPrecision; stroke:white;\"><path d=\"M494 194 L574 194 L574 214 L494 214 L494 194 Z\" style=\"clip-path:url(#clipPath66); stroke:none;\"/><path d=\"M494 194 L574 194 L574 214 L494 214 L494 194 Z\" style=\"fill:none; clip-path:url(#clipPath66); stroke:black;\"/><text style=\"font-size:10; clip-path:url(#clipPath66); fill:black; stroke:none;\" x=\"516\" xml:space=\"preserve\" y=\"207\">DDIT4L</text></g><g style=\"fill:white; text-rendering:geometricPrecision; stroke:white;\"><path d=\"M30.3235 606.0338 L110.3235 606.0338 L110.3235 626.0338 L30.3235 626.0338 L30.3235 606.0338 Z\" style=\"clip-path:url(#clipPath67); stroke:none;\"/><path d=\"M30.3235 606.0338 L110.3235 606.0338 L110.3235 626.0338 L30.3235 626.0338 L30.3235 606.0338 Z\" style=\"fill:none; clip-path:url(#clipPath67); stroke:black;\"/><text style=\"font-size:10; clip-path:url(#clipPath67); fill:black; stroke:none;\" x=\"51\" xml:space=\"preserve\" y=\"620\">SREPB2</text></g><g style=\"fill:rgb(20,150,30); text-rendering:geometricPrecision; font-weight:bold; stroke:rgb(20,150,30);\"><text style=\"clip-path:url(#clipPath68); stroke:none;\" x=\"31\" xml:space=\"preserve\" y=\"739\">Myelination</text></g><g style=\"fill:white; text-rendering:geometricPrecision; stroke:white;\"><path d=\"M494 174 L574 174 L574 194 L494 194 L494 174 Z\" style=\"clip-path:url(#clipPath69); stroke:none;\"/><path d=\"M494 174 L574 174 L574 194 L494 194 L494 174 Z\" style=\"fill:none; clip-path:url(#clipPath69); stroke:black;\"/><text style=\"font-size:10; clip-path:url(#clipPath69); fill:black; stroke:none;\" x=\"519\" xml:space=\"preserve\" y=\"187\">DDIT4</text></g><g style=\"fill:rgb(20,150,30); text-rendering:geometricPrecision; font-weight:bold; stroke:rgb(20,150,30);\"><text style=\"clip-path:url(#clipPath70); stroke:none;\" x=\"381\" xml:space=\"preserve\" y=\"668\">mRNA translation</text></g><g style=\"fill:rgb(20,150,30); text-rendering:geometricPrecision; font-weight:bold; stroke:rgb(20,150,30);\"><text style=\"clip-path:url(#clipPath71); stroke:none;\" x=\"547\" xml:space=\"preserve\" y=\"713\">Cytoskeletal dynamics</text></g><g style=\"fill:white; text-rendering:geometricPrecision; stroke:white;\"><path d=\"M312.5 576 L392.5 576 L392.5 596 L312.5 596 L312.5 576 Z\" style=\"clip-path:url(#clipPath72); stroke:none;\"/><path d=\"M312.5 576 L392.5 576 L392.5 596 L312.5 596 L312.5 576 Z\" style=\"fill:none; clip-path:url(#clipPath72); stroke:black;\"/><text style=\"font-size:10; clip-path:url(#clipPath72); fill:black; stroke:none;\" x=\"330\" xml:space=\"preserve\" y=\"589\">RPS6KB1</text></g><g style=\"fill:white; text-rendering:geometricPrecision; stroke:white;\"><path d=\"M718 598 L798 598 L798 618 L718 618 L718 598 Z\" style=\"clip-path:url(#clipPath73); stroke:none;\"/><path d=\"M718 598 L798 598 L798 618 L718 618 L718 598 Z\" style=\"fill:none; clip-path:url(#clipPath73); stroke:black;\"/><text style=\"font-size:10; clip-path:url(#clipPath73); fill:black; stroke:none;\" x=\"741\" xml:space=\"preserve\" y=\"611\">CDC42</text></g><g style=\"fill:rgb(20,150,30); text-rendering:geometricPrecision; font-weight:bold; stroke:rgb(20,150,30);\"><text style=\"clip-path:url(#clipPath74); stroke:none;\" x=\"727\" xml:space=\"preserve\" y=\"712\">Actin Organization</text></g><g style=\"fill:white; text-rendering:geometricPrecision; stroke:white;\"><path d=\"M65 207 L145 207 L145 227 L65 227 L65 207 Z\" style=\"clip-path:url(#clipPath75); stroke:none;\"/><path d=\"M65 207 L145 207 L145 227 L65 227 L65 207 Z\" style=\"fill:none; clip-path:url(#clipPath75); stroke:black;\"/><text style=\"font-size:10; clip-path:url(#clipPath75); fill:black; stroke:none;\" x=\"88\" xml:space=\"preserve\" y=\"220\">RRAGA</text></g><g style=\"fill:white; text-rendering:geometricPrecision; stroke:white;\"><path d=\"M222.8975 360.8975 L302.8975 360.8975 L302.8975 380.8975 L222.8975 380.8975 L222.8975 360.8975 Z\" style=\"clip-path:url(#clipPath76); stroke:none;\"/><path d=\"M222.8975 360.8975 L302.8975 360.8975 L302.8975 380.8975 L222.8975 380.8975 L222.8975 360.8975 Z\" style=\"fill:none; clip-path:url(#clipPath76); stroke:blue;\"/><text style=\"font-size:10; clip-path:url(#clipPath76); fill:blue; stroke:none;\" x=\"235\" xml:space=\"preserve\" y=\"374\">Rapamycin</text></g><g style=\"fill:white; text-rendering:geometricPrecision; stroke:white;\"><path d=\"M741 484 L821 484 L821 504 L741 504 L741 484 Z\" style=\"clip-path:url(#clipPath77); stroke:none;\"/><path d=\"M741 484 L821 484 L821 504 L741 504 L741 484 Z\" style=\"fill:none; clip-path:url(#clipPath77); stroke:black;\"/><text style=\"font-size:10; clip-path:url(#clipPath77); fill:black; stroke:none;\" x=\"765\" xml:space=\"preserve\" y=\"497\">MLST8</text></g><g style=\"fill:white; text-rendering:geometricPrecision; stroke:white;\"><path d=\"M388 425 L468 425 L468 445 L388 445 L388 425 Z\" style=\"clip-path:url(#clipPath78); stroke:none;\"/><path d=\"M388 425 L468 425 L468 445 L388 445 L388 425 Z\" style=\"fill:none; clip-path:url(#clipPath78); stroke:black;\"/><text style=\"font-size:10; clip-path:url(#clipPath78); fill:black; stroke:none;\" x=\"409\" xml:space=\"preserve\" y=\"438\">AKT1S1</text></g><g style=\"fill:white; text-rendering:geometricPrecision; stroke:white;\"><path d=\"M288 164 L368 164 L368 184 L288 184 L288 164 Z\" style=\"clip-path:url(#clipPath79); stroke:none;\"/><path d=\"M288 164 L368 164 L368 184 L288 184 L288 164 Z\" style=\"fill:none; clip-path:url(#clipPath79); stroke:black;\"/><text style=\"font-size:10; clip-path:url(#clipPath79); fill:black; stroke:none;\" x=\"309\" xml:space=\"preserve\" y=\"177\">PRKAB2</text></g><g style=\"fill:white; text-rendering:geometricPrecision; stroke:white;\"><path d=\"M581 504 L661 504 L661 524 L581 524 L581 504 Z\" style=\"clip-path:url(#clipPath80); stroke:none;\"/><path d=\"M581 504 L661 504 L661 524 L581 524 L581 504 Z\" style=\"fill:none; clip-path:url(#clipPath80); stroke:black;\"/><text style=\"font-size:10; clip-path:url(#clipPath80); fill:black; stroke:none;\" x=\"598\" xml:space=\"preserve\" y=\"517\">MAPKAP1</text></g><g style=\"fill:white; text-rendering:geometricPrecision; stroke:white;\"><path d=\"M208 184 L288 184 L288 204 L208 204 L208 184 Z\" style=\"clip-path:url(#clipPath81); stroke:none;\"/><path d=\"M208 184 L288 184 L288 204 L208 204 L208 184 Z\" style=\"fill:none; clip-path:url(#clipPath81); stroke:black;\"/><text style=\"font-size:10; clip-path:url(#clipPath81); fill:black; stroke:none;\" x=\"229\" xml:space=\"preserve\" y=\"197\">PRKAA2</text></g><g style=\"fill:white; text-rendering:geometricPrecision; stroke:white;\"><path d=\"M494 374 L574 374 L574 394 L494 394 L494 374 Z\" style=\"clip-path:url(#clipPath82); stroke:none;\"/><path d=\"M494 374 L574 374 L574 394 L494 394 L494 374 Z\" style=\"fill:none; clip-path:url(#clipPath82); stroke:black;\"/><text style=\"font-size:10; clip-path:url(#clipPath82); fill:black; stroke:none;\" x=\"521\" xml:space=\"preserve\" y=\"387\">RHEB</text></g><g style=\"fill:white; text-rendering:geometricPrecision; stroke:white;\"><path d=\"M368 204 L448 204 L448 224 L368 224 L368 204 Z\" style=\"clip-path:url(#clipPath83); stroke:none;\"/><path d=\"M368 204 L448 204 L448 224 L368 224 L368 204 Z\" style=\"fill:none; clip-path:url(#clipPath83); stroke:black;\"/><text style=\"font-size:10; clip-path:url(#clipPath83); fill:black; stroke:none;\" x=\"388\" xml:space=\"preserve\" y=\"217\">PRKAG3</text></g><g style=\"fill:white; text-rendering:geometricPrecision; stroke:white;\"><path d=\"M661 504 L741 504 L741 524 L661 524 L661 504 Z\" style=\"clip-path:url(#clipPath84); stroke:none;\"/><path d=\"M661 504 L741 504 L741 524 L661 524 L661 504 Z\" style=\"fill:none; clip-path:url(#clipPath84); stroke:black;\"/><text style=\"font-size:10; clip-path:url(#clipPath84); fill:black; stroke:none;\" x=\"688\" xml:space=\"preserve\" y=\"517\">PRR5</text></g><g style=\"fill:white; text-rendering:geometricPrecision; stroke:white;\"><path d=\"M30.3235 673.5443 L110.3235 673.5443 L110.3235 693.5443 L30.3235 693.5443 L30.3235 673.5443 Z\" style=\"clip-path:url(#clipPath85); stroke:none;\"/><path d=\"M30.3235 673.5443 L110.3235 673.5443 L110.3235 693.5443 L30.3235 693.5443 L30.3235 673.5443 Z\" style=\"fill:none; clip-path:url(#clipPath85); stroke:black;\"/><text style=\"font-size:10; clip-path:url(#clipPath85); fill:black; stroke:none;\" x=\"52\" xml:space=\"preserve\" y=\"687\">HMGCR</text></g><g style=\"fill:white; text-rendering:geometricPrecision; stroke:white;\"><path d=\"M65 247 L145 247 L145 267 L65 267 L65 247 Z\" style=\"clip-path:url(#clipPath86); stroke:none;\"/><path d=\"M65 247 L145 247 L145 267 L65 267 L65 247 Z\" style=\"fill:none; clip-path:url(#clipPath86); stroke:black;\"/><text style=\"font-size:10; clip-path:url(#clipPath86); fill:black; stroke:none;\" x=\"88\" xml:space=\"preserve\" y=\"260\">RRAGC</text></g><g style=\"fill:white; text-rendering:geometricPrecision; stroke:white;\"><path d=\"M718 578 L798 578 L798 598 L718 598 L718 578 Z\" style=\"clip-path:url(#clipPath87); stroke:none;\"/><path d=\"M718 578 L798 578 L798 598 L718 598 L718 578 Z\" style=\"fill:none; clip-path:url(#clipPath87); stroke:black;\"/><text style=\"font-size:10; clip-path:url(#clipPath87); fill:black; stroke:none;\" x=\"745\" xml:space=\"preserve\" y=\"591\">RAC1</text></g><g style=\"fill:white; text-rendering:geometricPrecision; stroke:white;\"><path d=\"M212.9833 551.4833 L292.9833 551.4833 L292.9833 571.4833 L212.9833 571.4833 L212.9833 551.4833 Z\" style=\"clip-path:url(#clipPath88); stroke:none;\"/><path d=\"M212.9833 551.4833 L292.9833 551.4833 L292.9833 571.4833 L212.9833 571.4833 L212.9833 551.4833 Z\" style=\"fill:none; clip-path:url(#clipPath88); stroke:black;\"/><text style=\"font-size:10; clip-path:url(#clipPath88); fill:black; stroke:none;\" x=\"240\" xml:space=\"preserve\" y=\"565\">ULK1</text></g><g style=\"fill:white; text-rendering:geometricPrecision; stroke:white;\"><path d=\"M288 482 L368 482 L368 502 L288 502 L288 482 Z\" style=\"clip-path:url(#clipPath89); stroke:none;\"/><path d=\"M288 482 L368 482 L368 502 L288 502 L288 482 Z\" style=\"fill:none; clip-path:url(#clipPath89); stroke:black;\"/><text style=\"font-size:10; clip-path:url(#clipPath89); fill:black; stroke:none;\" x=\"314\" xml:space=\"preserve\" y=\"495\">MTOR</text></g><g style=\"fill:white; text-rendering:geometricPrecision; stroke:white;\"><path d=\"M662.5 176 L742.5 176 L742.5 196 L662.5 196 L662.5 176 Z\" style=\"clip-path:url(#clipPath90); stroke:none;\"/><path d=\"M662.5 176 L742.5 176 L742.5 196 L662.5 196 L662.5 176 Z\" style=\"fill:none; clip-path:url(#clipPath90); stroke:black;\"/><text style=\"font-size:10; clip-path:url(#clipPath90); fill:black; stroke:none;\" x=\"690\" xml:space=\"preserve\" y=\"189\">AKT1</text></g><g style=\"fill:white; text-rendering:geometricPrecision; stroke:white;\"><path d=\"M494 297 L574 297 L574 317 L494 317 L494 297 Z\" style=\"clip-path:url(#clipPath91); stroke:none;\"/><path d=\"M494 297 L574 297 L574 317 L494 317 L494 297 Z\" style=\"fill:none; clip-path:url(#clipPath91); stroke:black;\"/><text style=\"font-size:10; clip-path:url(#clipPath91); fill:black; stroke:none;\" x=\"522\" xml:space=\"preserve\" y=\"310\">TSC2</text></g><g style=\"fill:white; text-rendering:geometricPrecision; stroke:white;\"><path d=\"M288 184 L368 184 L368 204 L288 204 L288 184 Z\" style=\"clip-path:url(#clipPath92); stroke:none;\"/><path d=\"M288 184 L368 184 L368 204 L288 204 L288 184 Z\" style=\"fill:none; clip-path:url(#clipPath92); stroke:black;\"/><text style=\"font-size:10; clip-path:url(#clipPath92); fill:black; stroke:none;\" x=\"309\" xml:space=\"preserve\" y=\"197\">PRKAB1</text></g><g style=\"fill:white; text-rendering:geometricPrecision; stroke:white;\"><path d=\"M368 164 L448 164 L448 184 L368 184 L368 164 Z\" style=\"clip-path:url(#clipPath93); stroke:none;\"/><path d=\"M368 164 L448 164 L448 184 L368 184 L368 164 Z\" style=\"fill:none; clip-path:url(#clipPath93); stroke:black;\"/><text style=\"font-size:10; clip-path:url(#clipPath93); fill:black; stroke:none;\" x=\"388\" xml:space=\"preserve\" y=\"177\">PRKAG1</text></g><g style=\"fill:white; text-rendering:geometricPrecision; stroke:white;\"><path d=\"M208 164 L288 164 L288 184 L208 184 L208 164 Z\" style=\"clip-path:url(#clipPath94); stroke:none;\"/><path d=\"M208 164 L288 164 L288 184 L208 184 L208 164 Z\" style=\"fill:none; clip-path:url(#clipPath94); stroke:black;\"/><text style=\"font-size:10; clip-path:url(#clipPath94); fill:black; stroke:none;\" x=\"229\" xml:space=\"preserve\" y=\"177\">PRKAA1</text></g><g style=\"fill:white; text-rendering:geometricPrecision; stroke:white;\"><path d=\"M494 277 L574 277 L574 297 L494 297 L494 277 Z\" style=\"clip-path:url(#clipPath95); stroke:none;\"/><path d=\"M494 277 L574 277 L574 297 L494 297 L494 277 Z\" style=\"fill:none; clip-path:url(#clipPath95); stroke:black;\"/><text style=\"font-size:10; clip-path:url(#clipPath95); fill:black; stroke:none;\" x=\"522\" xml:space=\"preserve\" y=\"290\">TSC1</text></g><g style=\"fill:white; text-rendering:geometricPrecision; stroke:white;\"><path d=\"M222.8975 380.8975 L302.8975 380.8975 L302.8975 400.8975 L222.8975 400.8975 L222.8975 380.8975 Z\" style=\"clip-path:url(#clipPath96); stroke:none;\"/><path d=\"M222.8975 380.8975 L302.8975 380.8975 L302.8975 400.8975 L222.8975 400.8975 L222.8975 380.8975 Z\" style=\"fill:none; clip-path:url(#clipPath96); stroke:black;\"/><text style=\"font-size:10; clip-path:url(#clipPath96); fill:black; stroke:none;\" x=\"243\" xml:space=\"preserve\" y=\"394\">FKBP1A</text></g><g style=\"fill:white; text-rendering:geometricPrecision; stroke:white;\"><path d=\"M368 184 L448 184 L448 204 L368 204 L368 184 Z\" style=\"clip-path:url(#clipPath97); stroke:none;\"/><path d=\"M368 184 L448 184 L448 204 L368 204 L368 184 Z\" style=\"fill:none; clip-path:url(#clipPath97); stroke:black;\"/><text style=\"font-size:10; clip-path:url(#clipPath97); fill:black; stroke:none;\" x=\"388\" xml:space=\"preserve\" y=\"197\">PRKAG2</text></g><g style=\"fill:white; text-rendering:geometricPrecision; stroke:white;\"><path d=\"M617 578 L697 578 L697 598 L617 598 L617 578 Z\" style=\"clip-path:url(#clipPath98); stroke:none;\"/><path d=\"M617 578 L697 578 L697 598 L617 598 L617 578 Z\" style=\"fill:none; clip-path:url(#clipPath98); stroke:black;\"/><text style=\"font-size:10; clip-path:url(#clipPath98); fill:black; stroke:none;\" x=\"641\" xml:space=\"preserve\" y=\"591\">PRKCA</text></g><g style=\"fill:rgb(20,150,30); text-rendering:geometricPrecision; font-weight:bold; stroke:rgb(20,150,30);\"><text style=\"clip-path:url(#clipPath99); stroke:none;\" x=\"297\" xml:space=\"preserve\" y=\"706\">Insulin signaling</text></g><g style=\"fill:white; text-rendering:geometricPrecision; stroke:white;\"><path d=\"M741 504 L821 504 L821 524 L741 524 L741 504 Z\" style=\"clip-path:url(#clipPath100); stroke:none;\"/><path d=\"M741 504 L821 504 L821 524 L741 524 L741 504 Z\" style=\"fill:none; clip-path:url(#clipPath100); stroke:black;\"/><text style=\"font-size:10; clip-path:url(#clipPath100); fill:black; stroke:none;\" x=\"766\" xml:space=\"preserve\" y=\"517\">PRR5L</text></g><g style=\"fill:white; text-rendering:geometricPrecision; stroke:white;\"><path d=\"M661 484 L741 484 L741 504 L661 504 L661 484 Z\" style=\"clip-path:url(#clipPath101); stroke:none;\"/><path d=\"M661 484 L741 484 L741 504 L661 504 L661 484 Z\" style=\"fill:none; clip-path:url(#clipPath101); stroke:black;\"/><text style=\"font-size:10; clip-path:url(#clipPath101); fill:black; stroke:none;\" x=\"687\" xml:space=\"preserve\" y=\"497\">MTOR</text></g><g style=\"fill:navy; text-rendering:geometricPrecision; font-size:8; stroke:navy;\"><text style=\"clip-path:url(#clipPath103); stroke:none;\" x=\"107\" xml:space=\"preserve\" y=\"603\">5</text></g><g style=\"fill:navy; text-rendering:geometricPrecision; font-size:8; stroke:navy;\"><text style=\"clip-path:url(#clipPath105); stroke:none;\" x=\"107\" xml:space=\"preserve\" y=\"721\">5</text></g><g style=\"fill:navy; text-rendering:geometricPrecision; font-size:8; stroke:navy;\"><text style=\"clip-path:url(#clipPath107); stroke:none;\" x=\"107\" xml:space=\"preserve\" y=\"649\">5</text></g><g style=\"text-rendering:geometricPrecision;\"><path d=\"M758 618 L658.5833 698.6667\" style=\"fill:none; clip-path:url(#clipPath108);\"/><path d=\"M658.5833 698.6667 L670.9452 695.3327 L664.3923 687.2568 Z\" style=\"clip-path:url(#clipPath108); fill-rule:evenodd; stroke:none;\"/></g><g style=\"fill:navy; text-rendering:geometricPrecision; font-size:8; stroke:navy;\"><text style=\"clip-path:url(#clipPath110); stroke:none;\" x=\"107\" xml:space=\"preserve\" y=\"670\">5</text></g><g style=\"text-rendering:geometricPrecision;\"><path d=\"M657 598 L658.5833 698.6667\" style=\"fill:none; clip-path:url(#clipPath111);\"/><path d=\"M658.5833 698.6667 L663.5987 686.8864 L653.2 687.0499 Z\" style=\"clip-path:url(#clipPath111); fill-rule:evenodd; stroke:none;\"/></g><g style=\"font-size:9; text-rendering:geometricPrecision;\"><text style=\"clip-path:url(#clipPath112); stroke:none;\" x=\"141\" xml:space=\"preserve\" y=\"148\">Amino acids</text></g><g style=\"text-rendering:geometricPrecision;\"><path d=\"M175.8657 88.9851 L186.899 88.9851 L186.899 116.013 L175.8657 116.013 L175.8657 88.9851 Z\" style=\"fill:none; clip-path:url(#clipPath113);\"/></g><g style=\"text-rendering:geometricPrecision;\"><path d=\"M148.8657 88.9851 L159.899 88.9851 L159.899 116.013 L148.8657 116.013 L148.8657 88.9851 Z\" style=\"fill:none; clip-path:url(#clipPath114);\"/></g></g></svg>"
      ],
      "text/plain": [
       "<IPython.core.display.SVG object>"
      ]
     },
     "execution_count": 23,
     "metadata": {},
     "output_type": "execute_result"
    }
   ],
   "source": [
    "SVG(im)"
   ]
  },
  {
   "cell_type": "markdown",
   "metadata": {},
   "source": [
    "### ChEMBL"
   ]
  },
  {
   "cell_type": "code",
   "execution_count": 24,
   "metadata": {
    "collapsed": true
   },
   "outputs": [],
   "source": [
    "s = ChEMBL()"
   ]
  },
  {
   "cell_type": "code",
   "execution_count": 25,
   "metadata": {},
   "outputs": [],
   "source": [
    "res = s.get_compounds_by_chemblId(['CHEMBL%s' % i for i in range(0,1000)])"
   ]
  },
  {
   "cell_type": "code",
   "execution_count": 26,
   "metadata": {},
   "outputs": [
    {
     "data": {
      "text/plain": [
       "{'compound': {'acdAcidicPka': 6.31,\n",
       "  'acdLogd': 0.63,\n",
       "  'acdLogp': 1.99,\n",
       "  'alogp': 1.63,\n",
       "  'chemblId': 'CHEMBL50',\n",
       "  'knownDrug': 'No',\n",
       "  'molecularFormula': 'C15H10O7',\n",
       "  'molecularWeight': 302.24,\n",
       "  'numRo5Violations': 0,\n",
       "  'passesRuleOfThree': 'No',\n",
       "  'preferredCompoundName': 'QUERCETIN',\n",
       "  'rotatableBonds': 1,\n",
       "  'smiles': 'OC1=C(Oc2cc(O)cc(O)c2C1=O)c3ccc(O)c(O)c3',\n",
       "  'species': 'ACID',\n",
       "  'stdInChiKey': 'REFJWTPEDVJJIY-UHFFFAOYSA-N',\n",
       "  'synonyms': 'Meletin,C.I. Natural Red 1,Sophoretin,NSC-9219,Xanthaurine'}}"
      ]
     },
     "execution_count": 26,
     "metadata": {},
     "output_type": "execute_result"
    }
   ],
   "source": [
    "res[1]"
   ]
  },
  {
   "cell_type": "code",
   "execution_count": 28,
   "metadata": {},
   "outputs": [
    {
     "data": {
      "text/plain": [
       "<matplotlib.axes._subplots.AxesSubplot at 0x7fba9cae10b8>"
      ]
     },
     "execution_count": 28,
     "metadata": {},
     "output_type": "execute_result"
    },
    {
     "data": {
      "image/png": "[encoded data removed]",
      "text/plain": [
       "<matplotlib.figure.Figure at 0x7fba9cae2978>"
      ]
     },
     "metadata": {},
     "output_type": "display_data"
    }
   ],
   "source": [
    "# here this look a bit esoteric but what we do if to remove the 404 numbers\n",
    "# and transform the data into a nice dataframe for easy plotting of some \n",
    "# relevant information \n",
    "import pandas as pd\n",
    "df = pd.DataFrame(\n",
    "    [dict(this['compound']) for this in res if this!=404], \n",
    "    index=[this['compound']['chemblId'] for this in res if this!=404])\n",
    "\n",
    "df.plot(x='molecularWeight', y='alogp', marker='o', kind='scatter', \n",
    "        fontsize=20)"
   ]
  },
  {
   "cell_type": "markdown",
   "metadata": {},
   "source": [
    "### KEGG"
   ]
  },
  {
   "cell_type": "code",
   "execution_count": 29,
   "metadata": {},
   "outputs": [
    {
     "name": "stderr",
     "output_type": "stream",
     "text": [
      "INFO:root:Initialising KEGG service (REST)\n"
     ]
    }
   ],
   "source": [
    "k = KEGG(verbose=True)"
   ]
  },
  {
   "cell_type": "code",
   "execution_count": 30,
   "metadata": {},
   "outputs": [
    {
     "data": {
      "text/plain": [
       "['path:map04662 B cell receptor signaling pathway']"
      ]
     },
     "execution_count": 30,
     "metadata": {},
     "output_type": "execute_result"
    }
   ],
   "source": [
    "k.lookfor_pathway(\"B cell\")"
   ]
  },
  {
   "cell_type": "code",
   "execution_count": 31,
   "metadata": {},
   "outputs": [
    {
     "name": "stderr",
     "output_type": "stream",
     "text": [
      "INFO:root:http://www.kegg.jp/kegg-bin/show_pathway?hsa04662/default%3dpink/\n"
     ]
    },
    {
     "data": {
      "text/plain": [
       "True"
      ]
     },
     "execution_count": 31,
     "metadata": {},
     "output_type": "execute_result"
    }
   ],
   "source": [
    "k.show_pathway(\"path:hsa04662\")"
   ]
  },
  {
   "cell_type": "markdown",
   "metadata": {},
   "source": [
    "### Others"
   ]
  },
  {
   "cell_type": "markdown",
   "metadata": {},
   "source": [
    "        2.1. ArrayExpress\n",
    "        2.2. BioDBnet\n",
    "        2.3. BioGrid\n",
    "        2.4. BioMart\n",
    "        2.5. BioModels\n",
    "        2.6. ChEBI\n",
    "        2.7. ChEMBL\n",
    "        2.8. ChemSpider\n",
    "        2.9. EUtils\n",
    "        2.10. GeneProf\n",
    "        2.11. QuickGO\n",
    "        2.12. Kegg\n",
    "        2.13. HGNC\n",
    "        2.14. MUSCLE\n",
    "        2.15. Miriam\n",
    "        2.16. NCBIblast\n",
    "        2.17. Pathway Commons\n",
    "        2.18. PDB module\n",
    "        2.19. PICR module\n",
    "        2.20. PSICQUIC\n",
    "        2.21. Rhea\n",
    "        2.22. Reactome\n",
    "        2.23. Readseq\n",
    "        2.24. UniChem\n",
    "        2.25. UniProt\n",
    "        2.26. wsdbfetch\n",
    "        2.27. Wikipathway\n",
    "    "
   ]
  },
  {
   "cell_type": "markdown",
   "metadata": {},
   "source": [
    "Resources\n",
    "=============\n",
    "\n",
    "http://pythonhosted.org//bioservices/\n",
    "\n",
    "\n",
    "> BioServices is tested for Python 2.7, 3.3. Version 3.4 is currently not\n",
    "  available due to a gevent dependencies, which should be fixed soon.\n",
    "\n",
    "> contributions: Please join https://github.com/cokelaer/bioservices and share your notebooks https://github.com/bioservices/notebooks/\n",
    "\n",
    ">issues: Please use https://github.com/cokelaer/bioservices/issues\n",
    "\n",
    "\n"
   ]
  }
 ],
 "metadata": {
  "kernelspec": {
   "display_name": "Python 3",
   "language": "python",
   "name": "python3"
  },
  "language_info": {
   "codemirror_mode": {
    "name": "ipython",
    "version": 3
   },
   "file_extension": ".py",
   "mimetype": "text/x-python",
   "name": "python",
   "nbconvert_exporter": "python",
   "pygments_lexer": "ipython3",
   "version": "3.7.3"
  }
 },
 "nbformat": 4,
 "nbformat_minor": 1
}
