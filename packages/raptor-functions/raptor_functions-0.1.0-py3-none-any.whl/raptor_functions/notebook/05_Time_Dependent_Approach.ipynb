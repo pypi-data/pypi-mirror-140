{
 "cells": [
  {
   "cell_type": "code",
   "execution_count": null,
   "metadata": {},
   "outputs": [],
   "source": []
  },
  {
   "cell_type": "markdown",
   "metadata": {},
   "source": [
    "### Package Requirements\n",
    "- numpy, pandas, sktime, scikit-learn, scikitplot, matplotlib"
   ]
  },
  {
   "cell_type": "markdown",
   "metadata": {},
   "source": [
    "# Time series approach"
   ]
  },
  {
   "cell_type": "code",
   "execution_count": 21,
   "metadata": {},
   "outputs": [],
   "source": [
    "from  raptor_functions.datasets import get_data\n",
    "from raptor_functions.preprocess import preprocess_all_files, preprocess_single_file\n",
    "from raptor_functions.feature_selection import get_train_features\n",
    "from raptor_functions.metrics import eval_metrics"
   ]
  },
  {
   "cell_type": "code",
   "execution_count": 2,
   "metadata": {},
   "outputs": [],
   "source": [
    "import numpy as np\n",
    "import pandas as pd\n",
    "import itertools\n",
    "import matplotlib.pyplot as plt\n",
    "from datetime import datetime\n",
    "from sklearn.preprocessing import LabelEncoder\n",
    "\n",
    "\n",
    "import scikitplot as skplt\n",
    "import matplotlib.pyplot as plt\n",
    "from sklearn.metrics import confusion_matrix, ConfusionMatrixDisplay\n",
    "from sklearn.metrics import classification_report\n",
    "import seaborn as sns\n",
    "import matplotlib.pyplot as plt\n",
    "from sklearn.metrics import plot_confusion_matrix\n",
    "from sklearn.metrics import precision_score, recall_score\n",
    "from sklearn import metrics, model_selection\n"
   ]
  },
  {
   "cell_type": "code",
   "execution_count": 3,
   "metadata": {
    "id": "sUFWYQTr5yBC"
   },
   "outputs": [],
   "source": [
    "import warnings\n",
    "warnings.filterwarnings(\"ignore\")\n",
    "\n",
    "from sklearn.exceptions import ConvergenceWarning\n",
    "warnings.simplefilter(action='ignore', category=ConvergenceWarning)"
   ]
  },
  {
   "cell_type": "code",
   "execution_count": 4,
   "metadata": {},
   "outputs": [],
   "source": [
    "import sktime"
   ]
  },
  {
   "cell_type": "code",
   "execution_count": 5,
   "metadata": {},
   "outputs": [],
   "source": [
    "# dir(sktime.classification.interval_based)"
   ]
  },
  {
   "cell_type": "code",
   "execution_count": 6,
   "metadata": {},
   "outputs": [],
   "source": [
    "import numpy as np\n",
    "from sklearn.model_selection import train_test_split\n",
    "from sklearn.pipeline import Pipeline\n",
    "\n",
    "from sktime.classification.compose import ColumnEnsembleClassifier\n",
    "from sktime.classification.dictionary_based import BOSSEnsemble\n",
    "from sktime.classification.interval_based import TimeSeriesForestClassifier\n",
    "from sktime.classification.shapelet_based import MrSEQLClassifier\n",
    "from sktime.datasets import load_basic_motions\n",
    "from sktime.transformations.panel.compose import ColumnConcatenator"
   ]
  },
  {
   "cell_type": "code",
   "execution_count": 7,
   "metadata": {
    "id": "QC3GJC0h5x7m"
   },
   "outputs": [],
   "source": [
    "import numpy as np\n",
    "import pandas as pd\n",
    "from sklearn.pipeline import Pipeline\n",
    "from sktime.classification.compose import ColumnEnsembleClassifier\n",
    "from sktime.classification.interval_based import TimeSeriesForestClassifier\n",
    "from sktime.classification.dictionary_based import BOSSEnsemble\n",
    "# from sktime.classification.shapelet_based import MrSEQLClassifier\n",
    "from sktime.transformations.panel.compose import ColumnConcatenator\n",
    "from sklearn.model_selection import train_test_split\n",
    "from sktime.datatypes._panel._convert import (\n",
    "    from_multi_index_to_nested,\n",
    "    from_nested_to_multi_index,\n",
    ")"
   ]
  },
  {
   "cell_type": "code",
   "execution_count": 8,
   "metadata": {},
   "outputs": [],
   "source": [
    "# from raptor_functions.raptor_data import load_validated_breath_dataset\n",
    "# df = load_validated_breath_dataset()\n",
    "# df.head()"
   ]
  },
  {
   "cell_type": "code",
   "execution_count": 169,
   "metadata": {},
   "outputs": [
    {
     "data": {
      "text/plain": [
       "(1530, 34)"
      ]
     },
     "execution_count": 169,
     "metadata": {},
     "output_type": "execute_result"
    }
   ],
   "source": [
    "# path = '/home/amash/Desktop/Projects/Raptor/raptor_mlflow_pycaret/Samples/*.txt'\n",
    "path = '/home/amash/Desktop/Projects/Raptor/raptor_functions/NoRepeats/*.txt'\n",
    "df_all = preprocess_all_files(path)\n",
    "# df_all = preprocess_all_files(no_repeat_path)\n",
    "df_all.shape\n"
   ]
  },
  {
   "cell_type": "code",
   "execution_count": 157,
   "metadata": {},
   "outputs": [
    {
     "data": {
      "text/plain": [
       "((200, 12), (200,), (200, 13))"
      ]
     },
     "execution_count": 157,
     "metadata": {},
     "output_type": "execute_result"
    }
   ],
   "source": [
    "df, _, _ = get_train_features(df_all)\n",
    "X = df.drop('result', axis=1)\n",
    "y = df['result'].replace({'Control': 0, 'Covid': 1})\n",
    "X.shape, y.shape, df.shape"
   ]
  },
  {
   "cell_type": "code",
   "execution_count": 158,
   "metadata": {},
   "outputs": [
    {
     "data": {
      "text/html": [
       "<div>\n",
       "<style scoped>\n",
       "    .dataframe tbody tr th:only-of-type {\n",
       "        vertical-align: middle;\n",
       "    }\n",
       "\n",
       "    .dataframe tbody tr th {\n",
       "        vertical-align: top;\n",
       "    }\n",
       "\n",
       "    .dataframe thead th {\n",
       "        text-align: right;\n",
       "    }\n",
       "</style>\n",
       "<table border=\"1\" class=\"dataframe\">\n",
       "  <thead>\n",
       "    <tr style=\"text-align: right;\">\n",
       "      <th></th>\n",
       "      <th>sensor_1</th>\n",
       "      <th>sensor_2</th>\n",
       "      <th>sensor_3</th>\n",
       "      <th>sensor_4</th>\n",
       "      <th>sensor_5</th>\n",
       "      <th>sensor_6</th>\n",
       "      <th>sensor_7</th>\n",
       "      <th>sensor_8</th>\n",
       "      <th>sensor_9</th>\n",
       "      <th>sensor_10</th>\n",
       "      <th>sensor_11</th>\n",
       "      <th>sensor_12</th>\n",
       "      <th>result</th>\n",
       "    </tr>\n",
       "  </thead>\n",
       "  <tbody>\n",
       "    <tr>\n",
       "      <th>41</th>\n",
       "      <td>288.901</td>\n",
       "      <td>267.677</td>\n",
       "      <td>313.133</td>\n",
       "      <td>313.300</td>\n",
       "      <td>290.596</td>\n",
       "      <td>309.742</td>\n",
       "      <td>311.199</td>\n",
       "      <td>303.559</td>\n",
       "      <td>290.405</td>\n",
       "      <td>306.066</td>\n",
       "      <td>284.437</td>\n",
       "      <td>239.268</td>\n",
       "      <td>Control</td>\n",
       "    </tr>\n",
       "    <tr>\n",
       "      <th>42</th>\n",
       "      <td>287.015</td>\n",
       "      <td>265.624</td>\n",
       "      <td>313.610</td>\n",
       "      <td>313.013</td>\n",
       "      <td>289.665</td>\n",
       "      <td>309.575</td>\n",
       "      <td>310.530</td>\n",
       "      <td>302.389</td>\n",
       "      <td>289.068</td>\n",
       "      <td>305.875</td>\n",
       "      <td>282.789</td>\n",
       "      <td>236.141</td>\n",
       "      <td>Control</td>\n",
       "    </tr>\n",
       "    <tr>\n",
       "      <th>43</th>\n",
       "      <td>297.758</td>\n",
       "      <td>268.919</td>\n",
       "      <td>312.894</td>\n",
       "      <td>312.774</td>\n",
       "      <td>288.782</td>\n",
       "      <td>308.835</td>\n",
       "      <td>310.124</td>\n",
       "      <td>301.578</td>\n",
       "      <td>287.206</td>\n",
       "      <td>304.729</td>\n",
       "      <td>280.856</td>\n",
       "      <td>239.698</td>\n",
       "      <td>Control</td>\n",
       "    </tr>\n",
       "    <tr>\n",
       "      <th>44</th>\n",
       "      <td>308.979</td>\n",
       "      <td>282.933</td>\n",
       "      <td>313.395</td>\n",
       "      <td>312.918</td>\n",
       "      <td>287.851</td>\n",
       "      <td>308.573</td>\n",
       "      <td>309.456</td>\n",
       "      <td>301.053</td>\n",
       "      <td>285.535</td>\n",
       "      <td>305.183</td>\n",
       "      <td>281.381</td>\n",
       "      <td>255.359</td>\n",
       "      <td>Control</td>\n",
       "    </tr>\n",
       "    <tr>\n",
       "      <th>45</th>\n",
       "      <td>313.873</td>\n",
       "      <td>295.705</td>\n",
       "      <td>312.273</td>\n",
       "      <td>312.679</td>\n",
       "      <td>286.418</td>\n",
       "      <td>307.713</td>\n",
       "      <td>309.361</td>\n",
       "      <td>301.148</td>\n",
       "      <td>284.484</td>\n",
       "      <td>306.257</td>\n",
       "      <td>284.986</td>\n",
       "      <td>272.261</td>\n",
       "      <td>Control</td>\n",
       "    </tr>\n",
       "  </tbody>\n",
       "</table>\n",
       "</div>"
      ],
      "text/plain": [
       "    sensor_1  sensor_2  sensor_3  sensor_4  sensor_5  sensor_6  sensor_7  \\\n",
       "41   288.901   267.677   313.133   313.300   290.596   309.742   311.199   \n",
       "42   287.015   265.624   313.610   313.013   289.665   309.575   310.530   \n",
       "43   297.758   268.919   312.894   312.774   288.782   308.835   310.124   \n",
       "44   308.979   282.933   313.395   312.918   287.851   308.573   309.456   \n",
       "45   313.873   295.705   312.273   312.679   286.418   307.713   309.361   \n",
       "\n",
       "    sensor_8  sensor_9  sensor_10  sensor_11  sensor_12   result  \n",
       "41   303.559   290.405    306.066    284.437    239.268  Control  \n",
       "42   302.389   289.068    305.875    282.789    236.141  Control  \n",
       "43   301.578   287.206    304.729    280.856    239.698  Control  \n",
       "44   301.053   285.535    305.183    281.381    255.359  Control  \n",
       "45   301.148   284.484    306.257    284.986    272.261  Control  "
      ]
     },
     "execution_count": 158,
     "metadata": {},
     "output_type": "execute_result"
    }
   ],
   "source": [
    "df.head()"
   ]
  },
  {
   "cell_type": "code",
   "execution_count": 162,
   "metadata": {},
   "outputs": [],
   "source": [
    "# df_all = load_validated_breath_dataset()\n",
    "\n",
    "# df_all = df_all.drop(['exp_name', 'humidity', 'measurement_stage', 'date_exp', 'time_elapsed', 'datetime_exp', 'filename'], axis = 1)\n",
    "# df_all['result'] = df_all['result'].replace({'Control':0, 'Covid':1})\n",
    "# X = df_all.drop(['exp_unique_id', 'timesteps', 'result'], axis=1)\n",
    "# y = df_all['result'].replace({'Control': 0, 'Covid': 1})\n",
    "\n",
    "# df_all = get_train_features(df_all)\n",
    "\n",
    "# print(result)\n",
    "\n",
    "X_train, X_test, y_train, y_test = train_test_split(X, y, stratify=y, random_state=42)\n",
    "\n",
    "X_mi = df_all.groupby(['exp_unique_id', 'timesteps']).mean()\n",
    "X_nested = from_multi_index_to_nested(X_mi, instance_index=\"exp_unique_id\").drop(['humidity', 'time_elapsed'], axis=1)\n",
    "y_nested = df_all.groupby('exp_unique_id').first()['result'].replace({'Control':0, 'Covid':1})\n",
    "\n",
    "X_nested_train, X_nested_test, y_nested_train, y_nested_test = train_test_split(X_nested, y_nested, stratify=y_nested, random_state=42)\n"
   ]
  },
  {
   "cell_type": "code",
   "execution_count": 163,
   "metadata": {},
   "outputs": [
    {
     "data": {
      "text/plain": [
       "((150, 12), (50, 12), (150,), (50,))"
      ]
     },
     "execution_count": 163,
     "metadata": {},
     "output_type": "execute_result"
    }
   ],
   "source": [
    "X_train.shape, X_test.shape, y_train.shape, y_test.shape"
   ]
  },
  {
   "cell_type": "code",
   "execution_count": 164,
   "metadata": {},
   "outputs": [
    {
     "data": {
      "text/plain": [
       "((7, 24), (3, 24), (7,), (3,))"
      ]
     },
     "execution_count": 164,
     "metadata": {},
     "output_type": "execute_result"
    }
   ],
   "source": [
    "X_nested_train.shape, X_nested_test.shape, y_nested_train.shape, y_nested_test.shape"
   ]
  },
  {
   "cell_type": "code",
   "execution_count": 165,
   "metadata": {},
   "outputs": [
    {
     "data": {
      "text/html": [
       "<div>\n",
       "<style scoped>\n",
       "    .dataframe tbody tr th:only-of-type {\n",
       "        vertical-align: middle;\n",
       "    }\n",
       "\n",
       "    .dataframe tbody tr th {\n",
       "        vertical-align: top;\n",
       "    }\n",
       "\n",
       "    .dataframe thead th {\n",
       "        text-align: right;\n",
       "    }\n",
       "</style>\n",
       "<table border=\"1\" class=\"dataframe\">\n",
       "  <thead>\n",
       "    <tr style=\"text-align: right;\">\n",
       "      <th></th>\n",
       "      <th>sensor_1</th>\n",
       "      <th>sensor_2</th>\n",
       "      <th>sensor_3</th>\n",
       "      <th>sensor_4</th>\n",
       "      <th>sensor_5</th>\n",
       "      <th>sensor_6</th>\n",
       "      <th>sensor_7</th>\n",
       "      <th>sensor_8</th>\n",
       "      <th>sensor_9</th>\n",
       "      <th>sensor_10</th>\n",
       "      <th>...</th>\n",
       "      <th>sensor_15</th>\n",
       "      <th>sensor_16</th>\n",
       "      <th>sensor_17</th>\n",
       "      <th>sensor_18</th>\n",
       "      <th>sensor_19</th>\n",
       "      <th>sensor_20</th>\n",
       "      <th>sensor_21</th>\n",
       "      <th>sensor_22</th>\n",
       "      <th>sensor_23</th>\n",
       "      <th>sensor_24</th>\n",
       "    </tr>\n",
       "  </thead>\n",
       "  <tbody>\n",
       "    <tr>\n",
       "      <th>0</th>\n",
       "      <td>0.0      316.164\n",
       "1.0      316.737\n",
       "2.0      316...</td>\n",
       "      <td>0.0      315.878\n",
       "1.0      316.236\n",
       "2.0      315...</td>\n",
       "      <td>0.0      315.711\n",
       "1.0      315.639\n",
       "2.0      316...</td>\n",
       "      <td>0.0      313.968\n",
       "1.0      314.278\n",
       "2.0      314...</td>\n",
       "      <td>0.0      310.912\n",
       "1.0      311.461\n",
       "2.0      311...</td>\n",
       "      <td>0.0      315.544\n",
       "1.0      315.568\n",
       "2.0      315...</td>\n",
       "      <td>0.0      316.045\n",
       "1.0      316.188\n",
       "2.0      316...</td>\n",
       "      <td>0.0      316.714\n",
       "1.0      315.997\n",
       "2.0      315...</td>\n",
       "      <td>0.0      316.141\n",
       "1.0      316.523\n",
       "2.0      316...</td>\n",
       "      <td>0.0      316.141\n",
       "1.0      315.926\n",
       "2.0      315...</td>\n",
       "      <td>...</td>\n",
       "      <td>0.0      103.333\n",
       "1.0      103.452\n",
       "2.0      103...</td>\n",
       "      <td>0.0      104.311\n",
       "1.0      104.526\n",
       "2.0      104...</td>\n",
       "      <td>0.0      107.749\n",
       "1.0      107.797\n",
       "2.0      107...</td>\n",
       "      <td>0.0      103.643\n",
       "1.0      103.380\n",
       "2.0      103...</td>\n",
       "      <td>0.0      103.357\n",
       "1.0      103.285\n",
       "2.0      103...</td>\n",
       "      <td>0.0      103.070\n",
       "1.0      103.237\n",
       "2.0      103...</td>\n",
       "      <td>0.0      103.213\n",
       "1.0      103.333\n",
       "2.0      103...</td>\n",
       "      <td>0.0      103.619\n",
       "1.0      103.691\n",
       "2.0      103...</td>\n",
       "      <td>0.0      103.333\n",
       "1.0      103.452\n",
       "2.0      103...</td>\n",
       "      <td>0.0      103.667\n",
       "1.0      103.548\n",
       "2.0      103...</td>\n",
       "    </tr>\n",
       "    <tr>\n",
       "      <th>1</th>\n",
       "      <td>0.0      316.905\n",
       "1.0      317.334\n",
       "2.0      316...</td>\n",
       "      <td>0.0      315.496\n",
       "1.0      316.284\n",
       "2.0      316...</td>\n",
       "      <td>0.0      316.308\n",
       "1.0      315.854\n",
       "2.0      316...</td>\n",
       "      <td>0.0      314.756\n",
       "1.0      314.302\n",
       "2.0      314...</td>\n",
       "      <td>0.0      311.414\n",
       "1.0      311.247\n",
       "2.0      311...</td>\n",
       "      <td>0.0      315.854\n",
       "1.0      315.950\n",
       "2.0      315...</td>\n",
       "      <td>0.0      316.642\n",
       "1.0      316.260\n",
       "2.0      316...</td>\n",
       "      <td>0.0      315.830\n",
       "1.0      316.284\n",
       "2.0      315...</td>\n",
       "      <td>0.0      315.496\n",
       "1.0      316.403\n",
       "2.0      316...</td>\n",
       "      <td>0.0      315.424\n",
       "1.0      315.544\n",
       "2.0      315...</td>\n",
       "      <td>...</td>\n",
       "      <td>0.0      103.476\n",
       "1.0      103.643\n",
       "2.0      103...</td>\n",
       "      <td>0.0      104.502\n",
       "1.0      104.717\n",
       "2.0      104...</td>\n",
       "      <td>0.0      107.558\n",
       "1.0      107.725\n",
       "2.0      107...</td>\n",
       "      <td>0.0      103.404\n",
       "1.0      103.476\n",
       "2.0      103...</td>\n",
       "      <td>0.0      103.380\n",
       "1.0      103.428\n",
       "2.0      103...</td>\n",
       "      <td>0.0      103.237\n",
       "1.0      103.213\n",
       "2.0      103...</td>\n",
       "      <td>0.0      103.404\n",
       "1.0      103.166\n",
       "2.0      103...</td>\n",
       "      <td>0.0      103.619\n",
       "1.0      103.667\n",
       "2.0      103...</td>\n",
       "      <td>0.0      103.309\n",
       "1.0      103.428\n",
       "2.0      103...</td>\n",
       "      <td>0.0      103.667\n",
       "1.0      103.691\n",
       "2.0      103...</td>\n",
       "    </tr>\n",
       "    <tr>\n",
       "      <th>2</th>\n",
       "      <td>0.0      316.594\n",
       "1.0      316.546\n",
       "2.0      316...</td>\n",
       "      <td>0.0      316.618\n",
       "1.0      315.735\n",
       "2.0      316...</td>\n",
       "      <td>0.0      315.806\n",
       "1.0      316.284\n",
       "2.0      315...</td>\n",
       "      <td>0.0      314.493\n",
       "1.0      314.756\n",
       "2.0      314...</td>\n",
       "      <td>0.0      311.294\n",
       "1.0      310.984\n",
       "2.0      310...</td>\n",
       "      <td>0.0      315.878\n",
       "1.0      315.997\n",
       "2.0      315...</td>\n",
       "      <td>0.0      315.973\n",
       "1.0      316.117\n",
       "2.0      316...</td>\n",
       "      <td>0.0      315.878\n",
       "1.0      315.902\n",
       "2.0      316...</td>\n",
       "      <td>0.0      315.950\n",
       "1.0      315.973\n",
       "2.0      316...</td>\n",
       "      <td>0.0      315.400\n",
       "1.0      315.759\n",
       "2.0      315...</td>\n",
       "      <td>...</td>\n",
       "      <td>0.0      103.762\n",
       "1.0      103.524\n",
       "2.0      103...</td>\n",
       "      <td>0.0      104.622\n",
       "1.0      104.526\n",
       "2.0      104...</td>\n",
       "      <td>0.0      108.036\n",
       "1.0      108.227\n",
       "2.0      108...</td>\n",
       "      <td>0.0      103.237\n",
       "1.0      103.452\n",
       "2.0      103...</td>\n",
       "      <td>0.0      103.357\n",
       "1.0      103.380\n",
       "2.0      103...</td>\n",
       "      <td>0.0      103.213\n",
       "1.0      103.237\n",
       "2.0      103...</td>\n",
       "      <td>0.0      103.380\n",
       "1.0      103.333\n",
       "2.0      103...</td>\n",
       "      <td>0.0      103.858\n",
       "1.0      103.715\n",
       "2.0      103...</td>\n",
       "      <td>0.0      103.333\n",
       "1.0      103.357\n",
       "2.0      103...</td>\n",
       "      <td>0.0      103.571\n",
       "1.0      103.595\n",
       "2.0      103...</td>\n",
       "    </tr>\n",
       "    <tr>\n",
       "      <th>3</th>\n",
       "      <td>0.0      316.499\n",
       "1.0      317.024\n",
       "2.0      316...</td>\n",
       "      <td>0.0      316.332\n",
       "1.0      316.093\n",
       "2.0      316...</td>\n",
       "      <td>0.0      315.973\n",
       "1.0      315.806\n",
       "2.0      315...</td>\n",
       "      <td>0.0      314.135\n",
       "1.0      314.589\n",
       "2.0      314...</td>\n",
       "      <td>0.0      311.390\n",
       "1.0      311.676\n",
       "2.0      311...</td>\n",
       "      <td>0.0      315.973\n",
       "1.0      316.069\n",
       "2.0      315...</td>\n",
       "      <td>0.0      316.212\n",
       "1.0      316.308\n",
       "2.0      316...</td>\n",
       "      <td>0.0      315.997\n",
       "1.0      316.188\n",
       "2.0      316...</td>\n",
       "      <td>0.0      316.141\n",
       "1.0      316.451\n",
       "2.0      316...</td>\n",
       "      <td>0.0      315.448\n",
       "1.0      315.711\n",
       "2.0      315...</td>\n",
       "      <td>...</td>\n",
       "      <td>0.0      103.619\n",
       "1.0      103.500\n",
       "2.0      103...</td>\n",
       "      <td>0.0      104.431\n",
       "1.0      104.431\n",
       "2.0      104...</td>\n",
       "      <td>0.0      107.701\n",
       "1.0      107.654\n",
       "2.0      107...</td>\n",
       "      <td>0.0      103.380\n",
       "1.0      103.500\n",
       "2.0      103...</td>\n",
       "      <td>0.0      103.380\n",
       "1.0      103.428\n",
       "2.0      103...</td>\n",
       "      <td>0.0      103.309\n",
       "1.0      103.213\n",
       "2.0      103...</td>\n",
       "      <td>0.0      103.404\n",
       "1.0      103.285\n",
       "2.0      103...</td>\n",
       "      <td>0.0      103.548\n",
       "1.0      103.643\n",
       "2.0      103...</td>\n",
       "      <td>0.0      103.380\n",
       "1.0      103.357\n",
       "2.0      103...</td>\n",
       "      <td>0.0      103.500\n",
       "1.0      103.428\n",
       "2.0      103...</td>\n",
       "    </tr>\n",
       "    <tr>\n",
       "      <th>4</th>\n",
       "      <td>0.0      316.666\n",
       "1.0      316.737\n",
       "2.0      316...</td>\n",
       "      <td>0.0      316.451\n",
       "1.0      316.737\n",
       "2.0      316...</td>\n",
       "      <td>0.0      315.902\n",
       "1.0      316.141\n",
       "2.0      316...</td>\n",
       "      <td>0.0      314.446\n",
       "1.0      314.326\n",
       "2.0      314...</td>\n",
       "      <td>0.0      311.127\n",
       "1.0      311.605\n",
       "2.0      311...</td>\n",
       "      <td>0.0      316.308\n",
       "1.0      315.759\n",
       "2.0      316...</td>\n",
       "      <td>0.0      316.188\n",
       "1.0      316.642\n",
       "2.0      316...</td>\n",
       "      <td>0.0      315.997\n",
       "1.0      315.878\n",
       "2.0      315...</td>\n",
       "      <td>0.0      316.141\n",
       "1.0      315.950\n",
       "2.0      315...</td>\n",
       "      <td>0.0      315.711\n",
       "1.0      315.257\n",
       "2.0      315...</td>\n",
       "      <td>...</td>\n",
       "      <td>0.0      103.571\n",
       "1.0      103.571\n",
       "2.0      103...</td>\n",
       "      <td>0.0      104.407\n",
       "1.0      104.502\n",
       "2.0      104...</td>\n",
       "      <td>0.0      108.083\n",
       "1.0      108.012\n",
       "2.0      108...</td>\n",
       "      <td>0.0      103.571\n",
       "1.0      103.213\n",
       "2.0      103...</td>\n",
       "      <td>0.0      103.452\n",
       "1.0      103.309\n",
       "2.0      103...</td>\n",
       "      <td>0.0      103.237\n",
       "1.0      103.237\n",
       "2.0      103...</td>\n",
       "      <td>0.0      103.189\n",
       "1.0      103.380\n",
       "2.0      103...</td>\n",
       "      <td>0.0      103.524\n",
       "1.0      103.739\n",
       "2.0      103...</td>\n",
       "      <td>0.0      103.261\n",
       "1.0      103.357\n",
       "2.0      103...</td>\n",
       "      <td>0.0      103.667\n",
       "1.0      103.452\n",
       "2.0      103...</td>\n",
       "    </tr>\n",
       "  </tbody>\n",
       "</table>\n",
       "<p>5 rows × 24 columns</p>\n",
       "</div>"
      ],
      "text/plain": [
       "                                            sensor_1  \\\n",
       "0  0.0      316.164\n",
       "1.0      316.737\n",
       "2.0      316...   \n",
       "1  0.0      316.905\n",
       "1.0      317.334\n",
       "2.0      316...   \n",
       "2  0.0      316.594\n",
       "1.0      316.546\n",
       "2.0      316...   \n",
       "3  0.0      316.499\n",
       "1.0      317.024\n",
       "2.0      316...   \n",
       "4  0.0      316.666\n",
       "1.0      316.737\n",
       "2.0      316...   \n",
       "\n",
       "                                            sensor_2  \\\n",
       "0  0.0      315.878\n",
       "1.0      316.236\n",
       "2.0      315...   \n",
       "1  0.0      315.496\n",
       "1.0      316.284\n",
       "2.0      316...   \n",
       "2  0.0      316.618\n",
       "1.0      315.735\n",
       "2.0      316...   \n",
       "3  0.0      316.332\n",
       "1.0      316.093\n",
       "2.0      316...   \n",
       "4  0.0      316.451\n",
       "1.0      316.737\n",
       "2.0      316...   \n",
       "\n",
       "                                            sensor_3  \\\n",
       "0  0.0      315.711\n",
       "1.0      315.639\n",
       "2.0      316...   \n",
       "1  0.0      316.308\n",
       "1.0      315.854\n",
       "2.0      316...   \n",
       "2  0.0      315.806\n",
       "1.0      316.284\n",
       "2.0      315...   \n",
       "3  0.0      315.973\n",
       "1.0      315.806\n",
       "2.0      315...   \n",
       "4  0.0      315.902\n",
       "1.0      316.141\n",
       "2.0      316...   \n",
       "\n",
       "                                            sensor_4  \\\n",
       "0  0.0      313.968\n",
       "1.0      314.278\n",
       "2.0      314...   \n",
       "1  0.0      314.756\n",
       "1.0      314.302\n",
       "2.0      314...   \n",
       "2  0.0      314.493\n",
       "1.0      314.756\n",
       "2.0      314...   \n",
       "3  0.0      314.135\n",
       "1.0      314.589\n",
       "2.0      314...   \n",
       "4  0.0      314.446\n",
       "1.0      314.326\n",
       "2.0      314...   \n",
       "\n",
       "                                            sensor_5  \\\n",
       "0  0.0      310.912\n",
       "1.0      311.461\n",
       "2.0      311...   \n",
       "1  0.0      311.414\n",
       "1.0      311.247\n",
       "2.0      311...   \n",
       "2  0.0      311.294\n",
       "1.0      310.984\n",
       "2.0      310...   \n",
       "3  0.0      311.390\n",
       "1.0      311.676\n",
       "2.0      311...   \n",
       "4  0.0      311.127\n",
       "1.0      311.605\n",
       "2.0      311...   \n",
       "\n",
       "                                            sensor_6  \\\n",
       "0  0.0      315.544\n",
       "1.0      315.568\n",
       "2.0      315...   \n",
       "1  0.0      315.854\n",
       "1.0      315.950\n",
       "2.0      315...   \n",
       "2  0.0      315.878\n",
       "1.0      315.997\n",
       "2.0      315...   \n",
       "3  0.0      315.973\n",
       "1.0      316.069\n",
       "2.0      315...   \n",
       "4  0.0      316.308\n",
       "1.0      315.759\n",
       "2.0      316...   \n",
       "\n",
       "                                            sensor_7  \\\n",
       "0  0.0      316.045\n",
       "1.0      316.188\n",
       "2.0      316...   \n",
       "1  0.0      316.642\n",
       "1.0      316.260\n",
       "2.0      316...   \n",
       "2  0.0      315.973\n",
       "1.0      316.117\n",
       "2.0      316...   \n",
       "3  0.0      316.212\n",
       "1.0      316.308\n",
       "2.0      316...   \n",
       "4  0.0      316.188\n",
       "1.0      316.642\n",
       "2.0      316...   \n",
       "\n",
       "                                            sensor_8  \\\n",
       "0  0.0      316.714\n",
       "1.0      315.997\n",
       "2.0      315...   \n",
       "1  0.0      315.830\n",
       "1.0      316.284\n",
       "2.0      315...   \n",
       "2  0.0      315.878\n",
       "1.0      315.902\n",
       "2.0      316...   \n",
       "3  0.0      315.997\n",
       "1.0      316.188\n",
       "2.0      316...   \n",
       "4  0.0      315.997\n",
       "1.0      315.878\n",
       "2.0      315...   \n",
       "\n",
       "                                            sensor_9  \\\n",
       "0  0.0      316.141\n",
       "1.0      316.523\n",
       "2.0      316...   \n",
       "1  0.0      315.496\n",
       "1.0      316.403\n",
       "2.0      316...   \n",
       "2  0.0      315.950\n",
       "1.0      315.973\n",
       "2.0      316...   \n",
       "3  0.0      316.141\n",
       "1.0      316.451\n",
       "2.0      316...   \n",
       "4  0.0      316.141\n",
       "1.0      315.950\n",
       "2.0      315...   \n",
       "\n",
       "                                           sensor_10  ...  \\\n",
       "0  0.0      316.141\n",
       "1.0      315.926\n",
       "2.0      315...  ...   \n",
       "1  0.0      315.424\n",
       "1.0      315.544\n",
       "2.0      315...  ...   \n",
       "2  0.0      315.400\n",
       "1.0      315.759\n",
       "2.0      315...  ...   \n",
       "3  0.0      315.448\n",
       "1.0      315.711\n",
       "2.0      315...  ...   \n",
       "4  0.0      315.711\n",
       "1.0      315.257\n",
       "2.0      315...  ...   \n",
       "\n",
       "                                           sensor_15  \\\n",
       "0  0.0      103.333\n",
       "1.0      103.452\n",
       "2.0      103...   \n",
       "1  0.0      103.476\n",
       "1.0      103.643\n",
       "2.0      103...   \n",
       "2  0.0      103.762\n",
       "1.0      103.524\n",
       "2.0      103...   \n",
       "3  0.0      103.619\n",
       "1.0      103.500\n",
       "2.0      103...   \n",
       "4  0.0      103.571\n",
       "1.0      103.571\n",
       "2.0      103...   \n",
       "\n",
       "                                           sensor_16  \\\n",
       "0  0.0      104.311\n",
       "1.0      104.526\n",
       "2.0      104...   \n",
       "1  0.0      104.502\n",
       "1.0      104.717\n",
       "2.0      104...   \n",
       "2  0.0      104.622\n",
       "1.0      104.526\n",
       "2.0      104...   \n",
       "3  0.0      104.431\n",
       "1.0      104.431\n",
       "2.0      104...   \n",
       "4  0.0      104.407\n",
       "1.0      104.502\n",
       "2.0      104...   \n",
       "\n",
       "                                           sensor_17  \\\n",
       "0  0.0      107.749\n",
       "1.0      107.797\n",
       "2.0      107...   \n",
       "1  0.0      107.558\n",
       "1.0      107.725\n",
       "2.0      107...   \n",
       "2  0.0      108.036\n",
       "1.0      108.227\n",
       "2.0      108...   \n",
       "3  0.0      107.701\n",
       "1.0      107.654\n",
       "2.0      107...   \n",
       "4  0.0      108.083\n",
       "1.0      108.012\n",
       "2.0      108...   \n",
       "\n",
       "                                           sensor_18  \\\n",
       "0  0.0      103.643\n",
       "1.0      103.380\n",
       "2.0      103...   \n",
       "1  0.0      103.404\n",
       "1.0      103.476\n",
       "2.0      103...   \n",
       "2  0.0      103.237\n",
       "1.0      103.452\n",
       "2.0      103...   \n",
       "3  0.0      103.380\n",
       "1.0      103.500\n",
       "2.0      103...   \n",
       "4  0.0      103.571\n",
       "1.0      103.213\n",
       "2.0      103...   \n",
       "\n",
       "                                           sensor_19  \\\n",
       "0  0.0      103.357\n",
       "1.0      103.285\n",
       "2.0      103...   \n",
       "1  0.0      103.380\n",
       "1.0      103.428\n",
       "2.0      103...   \n",
       "2  0.0      103.357\n",
       "1.0      103.380\n",
       "2.0      103...   \n",
       "3  0.0      103.380\n",
       "1.0      103.428\n",
       "2.0      103...   \n",
       "4  0.0      103.452\n",
       "1.0      103.309\n",
       "2.0      103...   \n",
       "\n",
       "                                           sensor_20  \\\n",
       "0  0.0      103.070\n",
       "1.0      103.237\n",
       "2.0      103...   \n",
       "1  0.0      103.237\n",
       "1.0      103.213\n",
       "2.0      103...   \n",
       "2  0.0      103.213\n",
       "1.0      103.237\n",
       "2.0      103...   \n",
       "3  0.0      103.309\n",
       "1.0      103.213\n",
       "2.0      103...   \n",
       "4  0.0      103.237\n",
       "1.0      103.237\n",
       "2.0      103...   \n",
       "\n",
       "                                           sensor_21  \\\n",
       "0  0.0      103.213\n",
       "1.0      103.333\n",
       "2.0      103...   \n",
       "1  0.0      103.404\n",
       "1.0      103.166\n",
       "2.0      103...   \n",
       "2  0.0      103.380\n",
       "1.0      103.333\n",
       "2.0      103...   \n",
       "3  0.0      103.404\n",
       "1.0      103.285\n",
       "2.0      103...   \n",
       "4  0.0      103.189\n",
       "1.0      103.380\n",
       "2.0      103...   \n",
       "\n",
       "                                           sensor_22  \\\n",
       "0  0.0      103.619\n",
       "1.0      103.691\n",
       "2.0      103...   \n",
       "1  0.0      103.619\n",
       "1.0      103.667\n",
       "2.0      103...   \n",
       "2  0.0      103.858\n",
       "1.0      103.715\n",
       "2.0      103...   \n",
       "3  0.0      103.548\n",
       "1.0      103.643\n",
       "2.0      103...   \n",
       "4  0.0      103.524\n",
       "1.0      103.739\n",
       "2.0      103...   \n",
       "\n",
       "                                           sensor_23  \\\n",
       "0  0.0      103.333\n",
       "1.0      103.452\n",
       "2.0      103...   \n",
       "1  0.0      103.309\n",
       "1.0      103.428\n",
       "2.0      103...   \n",
       "2  0.0      103.333\n",
       "1.0      103.357\n",
       "2.0      103...   \n",
       "3  0.0      103.380\n",
       "1.0      103.357\n",
       "2.0      103...   \n",
       "4  0.0      103.261\n",
       "1.0      103.357\n",
       "2.0      103...   \n",
       "\n",
       "                                           sensor_24  \n",
       "0  0.0      103.667\n",
       "1.0      103.548\n",
       "2.0      103...  \n",
       "1  0.0      103.667\n",
       "1.0      103.691\n",
       "2.0      103...  \n",
       "2  0.0      103.571\n",
       "1.0      103.595\n",
       "2.0      103...  \n",
       "3  0.0      103.500\n",
       "1.0      103.428\n",
       "2.0      103...  \n",
       "4  0.0      103.667\n",
       "1.0      103.452\n",
       "2.0      103...  \n",
       "\n",
       "[5 rows x 24 columns]"
      ]
     },
     "execution_count": 165,
     "metadata": {},
     "output_type": "execute_result"
    }
   ],
   "source": [
    "X_nested.head()"
   ]
  },
  {
   "cell_type": "code",
   "execution_count": 166,
   "metadata": {},
   "outputs": [],
   "source": [
    "# export NEPTUNE_API_TOKEN=\"eyJhcGlfYWRkcmVzcyI6Imh0dHBzOi8vYXBwLm5lcHR1bmUuYWkiLCJhcGlfdXJsIjoiaHR0cHM6Ly9hcHAubmVwdHVuZS5haSIsImFwaV9rZXkiOiI0MGU4MjZiNS0wYzAzLTRlZjQtODNlNS04MTY5OGRkYzhjMmQifQ==\"\n",
    "# export NEPTUNE_PROJECT=\"iaanimashaun/raptor\""
   ]
  },
  {
   "cell_type": "code",
   "execution_count": 133,
   "metadata": {},
   "outputs": [],
   "source": [
    "from xgboost import XGBClassifier\n"
   ]
  },
  {
   "cell_type": "code",
   "execution_count": 167,
   "metadata": {},
   "outputs": [
    {
     "name": "stdout",
     "output_type": "stream",
     "text": [
      "[13:24:15] WARNING: ../src/learner.cc:1115: Starting in XGBoost 1.3.0, the default evaluation metric used with the objective 'binary:logistic' was changed from 'error' to 'logloss'. Explicitly set eval_metric if you'd like to restore the old behavior.\n"
     ]
    }
   ],
   "source": [
    "clf = XGBClassifier()\n",
    "clf.fit(X_train, y_train)\n",
    "pred = clf.predict(X_test)\n"
   ]
  },
  {
   "cell_type": "code",
   "execution_count": 168,
   "metadata": {},
   "outputs": [
    {
     "data": {
      "text/plain": [
       "(0.58, 0.6, 0.56, 0.5769230769230769)"
      ]
     },
     "execution_count": 168,
     "metadata": {},
     "output_type": "execute_result"
    }
   ],
   "source": [
    "accuracy, sensitivity, specificity, precision = eval_metrics(y_test, pred)\n",
    "accuracy, sensitivity, specificity, precision"
   ]
  },
  {
   "cell_type": "code",
   "execution_count": 161,
   "metadata": {},
   "outputs": [
    {
     "data": {
      "text/plain": [
       "(0.6, 0.6, 0.6, 0.6)"
      ]
     },
     "execution_count": 161,
     "metadata": {},
     "output_type": "execute_result"
    }
   ],
   "source": [
    "accuracy, sensitivity, specificity, precision = eval_metrics(y_test, pred)\n",
    "accuracy, sensitivity, specificity, precision"
   ]
  },
  {
   "cell_type": "markdown",
   "metadata": {},
   "source": [
    "### preprocess data\n",
    "- convert pandas dataframe to multi index dataframe \n",
    "- convert from multi index dataframe to nested dataframe\n",
    "- we now have data in this format (samples or window, timesteps or data points, features)\n",
    "- the samples or windows is each experiment\n",
    "- time steps is data points\n",
    "- features is are the sensor signals and other features"
   ]
  },
  {
   "cell_type": "code",
   "execution_count": 67,
   "metadata": {},
   "outputs": [
    {
     "data": {
      "text/html": [
       "<div>\n",
       "<style scoped>\n",
       "    .dataframe tbody tr th:only-of-type {\n",
       "        vertical-align: middle;\n",
       "    }\n",
       "\n",
       "    .dataframe tbody tr th {\n",
       "        vertical-align: top;\n",
       "    }\n",
       "\n",
       "    .dataframe thead th {\n",
       "        text-align: right;\n",
       "    }\n",
       "</style>\n",
       "<table border=\"1\" class=\"dataframe\">\n",
       "  <thead>\n",
       "    <tr style=\"text-align: right;\">\n",
       "      <th></th>\n",
       "      <th>sensor_1</th>\n",
       "      <th>sensor_2</th>\n",
       "      <th>sensor_3</th>\n",
       "      <th>sensor_4</th>\n",
       "      <th>sensor_5</th>\n",
       "      <th>sensor_6</th>\n",
       "      <th>sensor_7</th>\n",
       "      <th>sensor_8</th>\n",
       "      <th>sensor_9</th>\n",
       "      <th>sensor_10</th>\n",
       "      <th>sensor_11</th>\n",
       "      <th>sensor_12</th>\n",
       "      <th>result</th>\n",
       "    </tr>\n",
       "  </thead>\n",
       "  <tbody>\n",
       "    <tr>\n",
       "      <th>37</th>\n",
       "      <td>285.559</td>\n",
       "      <td>261.518</td>\n",
       "      <td>312.989</td>\n",
       "      <td>313.276</td>\n",
       "      <td>291.097</td>\n",
       "      <td>309.623</td>\n",
       "      <td>311.008</td>\n",
       "      <td>301.244</td>\n",
       "      <td>288.424</td>\n",
       "      <td>305.612</td>\n",
       "      <td>284.031</td>\n",
       "      <td>232.154</td>\n",
       "      <td>Control</td>\n",
       "    </tr>\n",
       "    <tr>\n",
       "      <th>38</th>\n",
       "      <td>284.819</td>\n",
       "      <td>262.354</td>\n",
       "      <td>312.703</td>\n",
       "      <td>312.297</td>\n",
       "      <td>289.928</td>\n",
       "      <td>309.599</td>\n",
       "      <td>310.888</td>\n",
       "      <td>301.673</td>\n",
       "      <td>287.445</td>\n",
       "      <td>305.063</td>\n",
       "      <td>282.956</td>\n",
       "      <td>233.109</td>\n",
       "      <td>Control</td>\n",
       "    </tr>\n",
       "    <tr>\n",
       "      <th>39</th>\n",
       "      <td>285.296</td>\n",
       "      <td>262.616</td>\n",
       "      <td>312.703</td>\n",
       "      <td>313.419</td>\n",
       "      <td>289.999</td>\n",
       "      <td>309.193</td>\n",
       "      <td>310.936</td>\n",
       "      <td>302.007</td>\n",
       "      <td>287.373</td>\n",
       "      <td>305.326</td>\n",
       "      <td>282.240</td>\n",
       "      <td>234.350</td>\n",
       "      <td>Control</td>\n",
       "    </tr>\n",
       "    <tr>\n",
       "      <th>40</th>\n",
       "      <td>285.368</td>\n",
       "      <td>264.287</td>\n",
       "      <td>312.989</td>\n",
       "      <td>313.228</td>\n",
       "      <td>289.856</td>\n",
       "      <td>308.764</td>\n",
       "      <td>310.172</td>\n",
       "      <td>301.721</td>\n",
       "      <td>286.585</td>\n",
       "      <td>305.111</td>\n",
       "      <td>282.121</td>\n",
       "      <td>234.446</td>\n",
       "      <td>Control</td>\n",
       "    </tr>\n",
       "    <tr>\n",
       "      <th>37</th>\n",
       "      <td>286.108</td>\n",
       "      <td>261.088</td>\n",
       "      <td>313.085</td>\n",
       "      <td>313.061</td>\n",
       "      <td>290.787</td>\n",
       "      <td>309.480</td>\n",
       "      <td>311.175</td>\n",
       "      <td>301.363</td>\n",
       "      <td>287.683</td>\n",
       "      <td>305.636</td>\n",
       "      <td>283.959</td>\n",
       "      <td>231.294</td>\n",
       "      <td>Covid</td>\n",
       "    </tr>\n",
       "  </tbody>\n",
       "</table>\n",
       "</div>"
      ],
      "text/plain": [
       "    sensor_1  sensor_2  sensor_3  sensor_4  sensor_5  sensor_6  sensor_7  \\\n",
       "37   285.559   261.518   312.989   313.276   291.097   309.623   311.008   \n",
       "38   284.819   262.354   312.703   312.297   289.928   309.599   310.888   \n",
       "39   285.296   262.616   312.703   313.419   289.999   309.193   310.936   \n",
       "40   285.368   264.287   312.989   313.228   289.856   308.764   310.172   \n",
       "37   286.108   261.088   313.085   313.061   290.787   309.480   311.175   \n",
       "\n",
       "    sensor_8  sensor_9  sensor_10  sensor_11  sensor_12   result  \n",
       "37   301.244   288.424    305.612    284.031    232.154  Control  \n",
       "38   301.673   287.445    305.063    282.956    233.109  Control  \n",
       "39   302.007   287.373    305.326    282.240    234.350  Control  \n",
       "40   301.721   286.585    305.111    282.121    234.446  Control  \n",
       "37   301.363   287.683    305.636    283.959    231.294    Covid  "
      ]
     },
     "execution_count": 67,
     "metadata": {},
     "output_type": "execute_result"
    }
   ],
   "source": [
    "df.head()"
   ]
  },
  {
   "cell_type": "markdown",
   "metadata": {},
   "source": [
    "### Dropping other columns and using only sensor arrays for model training"
   ]
  },
  {
   "cell_type": "code",
   "execution_count": 18,
   "metadata": {},
   "outputs": [],
   "source": [
    "df_train = df.drop(['exp_name', 'humidity', 'measurement_stage', 'date_exp', 'time_elapsed', 'datetime_exp', 'filename', 'result'], axis = 1)"
   ]
  },
  {
   "cell_type": "code",
   "execution_count": 40,
   "metadata": {},
   "outputs": [
    {
     "data": {
      "text/plain": [
       "(21114, 26)"
      ]
     },
     "execution_count": 40,
     "metadata": {},
     "output_type": "execute_result"
    }
   ],
   "source": [
    "df_train.shape"
   ]
  },
  {
   "cell_type": "code",
   "execution_count": 66,
   "metadata": {
    "id": "1N4Qmhvd5xxa"
   },
   "outputs": [],
   "source": [
    "X_mi = df_train.groupby(['unique_id', 'timesteps']).mean()\n",
    "X_nested = from_multi_index_to_nested(X_mi, instance_index=\"unique_id\")\n",
    "y = df.groupby('unique_id').first()['result'].replace({'Covid': 1, 'Control': 0})"
   ]
  },
  {
   "cell_type": "code",
   "execution_count": null,
   "metadata": {
    "id": "kFj3fZBH7TDc"
   },
   "outputs": [],
   "source": [
    "X_train, X_test, y_train, y_test = train_test_split(X_nested, y, stratify=y, random_state=42)\n",
    "X_train.shape, y_train.shape, X_test.shape, y_test.shape\n"
   ]
  },
  {
   "cell_type": "code",
   "execution_count": null,
   "metadata": {
    "id": "ZGCQBqKG7v-w"
   },
   "outputs": [],
   "source": [
    "def objective(trial):\n",
    "\n",
    "    with mlflow.start_run():\n",
    "        classifier_name = trial.suggest_categorical(\"classifier\", [\"tsf\", \"ce\"])\n",
    "        \n",
    "        # Step 2. Setup values for the hyperparameters:\n",
    "        if classifier_name == 'tsf':\n",
    "            tsf_n_estimators = trial.suggest_int(\"tsf_n_estimators\", 10, 1000)\n",
    "            # logreg_c = trial.suggest_float(\"logreg_c\", 1e-10, 1e10, log=True)\n",
    "            steps = [\n",
    "                (\"concatenate\", ColumnConcatenator()),\n",
    "                (\"classify\", TimeSeriesForestClassifier(n_estimators=tsf_n_estimators)),\n",
    "            ]\n",
    "            classifier_obj = Pipeline(steps)\n",
    "        else:\n",
    "            ce_n_estimators = trial.suggest_int(\"ce_n_estimators\", 10, 1000)\n",
    "            ce_max_ensemble_size = trial.suggest_int(\"ce_max_ensemble_size\", 2, 32, log=True)\n",
    "\n",
    "            classifier_obj = ColumnEnsembleClassifier(\n",
    "            estimators=[\n",
    "                    (\"TSF0\", TimeSeriesForestClassifier(n_estimators=ce_n_estimators), [0]),\n",
    "                    (\"BOSSEnsemble3\", BOSSEnsemble(max_ensemble_size=ce_max_ensemble_size), [3]),\n",
    "                ]\n",
    "            )\n",
    "            # classifier_obj = ensemble.RandomForestClassifier(\n",
    "            #     max_depth=rf_max_depth, n_estimators=rf_n_estimators\n",
    "            # )\n",
    "\n",
    "\n",
    "############### MLFLOW ##############################\n",
    "        mlflow.log_params(trial.params)\n",
    "\n",
    "        # print('trial params: ',trial.params)\n",
    "\n",
    "\n",
    "        # Step 3: Scoring method:\n",
    "        score = model_selection.cross_val_score(classifier_obj, X, y, n_jobs=-1, cv=3)\n",
    "        accuracy = score.mean()\n",
    "\n",
    "        mlflow.log_metric('accuracy', accuracy)\n",
    "        return accuracy"
   ]
  },
  {
   "cell_type": "code",
   "execution_count": 136,
   "metadata": {},
   "outputs": [
    {
     "data": {
      "text/plain": [
       "0.6666666666666666"
      ]
     },
     "execution_count": 136,
     "metadata": {},
     "output_type": "execute_result"
    }
   ],
   "source": [
    "steps = [\n",
    "    (\"concatenate\", ColumnConcatenator()),\n",
    "    (\"classify\", TimeSeriesForestClassifier(n_estimators=100)),\n",
    "]\n",
    "clf = Pipeline(steps)\n",
    "clf.fit(X_nested_train, y_nested_train)\n",
    "clf.score(X_nested_test, y_nested_test)"
   ]
  },
  {
   "cell_type": "code",
   "execution_count": 84,
   "metadata": {},
   "outputs": [
    {
     "data": {
      "text/plain": [
       "1.0"
      ]
     },
     "execution_count": 84,
     "metadata": {},
     "output_type": "execute_result"
    }
   ],
   "source": [
    "clf.score(X_nested_train, y_nested_train)"
   ]
  },
  {
   "cell_type": "code",
   "execution_count": 70,
   "metadata": {},
   "outputs": [],
   "source": [
    "from sklearn.metrics import accuracy_score, recall_score, precision_score\n"
   ]
  },
  {
   "cell_type": "code",
   "execution_count": 137,
   "metadata": {},
   "outputs": [
    {
     "data": {
      "text/plain": [
       "array([0, 1, 1])"
      ]
     },
     "execution_count": 137,
     "metadata": {},
     "output_type": "execute_result"
    }
   ],
   "source": [
    "pred = clf.predict(X_nested_test)\n",
    "pred\n"
   ]
  },
  {
   "cell_type": "code",
   "execution_count": 138,
   "metadata": {},
   "outputs": [
    {
     "data": {
      "text/plain": [
       "(0.6666666666666666, 1.0, 0.5, 0.5)"
      ]
     },
     "execution_count": 138,
     "metadata": {},
     "output_type": "execute_result"
    }
   ],
   "source": [
    "accuracy, sensitivity, specificity, precision = eval_metrics(y_nested_test, pred)\n",
    "accuracy, sensitivity, specificity, precision\n"
   ]
  },
  {
   "cell_type": "code",
   "execution_count": 174,
   "metadata": {},
   "outputs": [],
   "source": []
  },
  {
   "cell_type": "code",
   "execution_count": 139,
   "metadata": {},
   "outputs": [
    {
     "name": "stdout",
     "output_type": "stream",
     "text": [
      "[13:09:34] WARNING: ../src/learner.cc:1115: Starting in XGBoost 1.3.0, the default evaluation metric used with the objective 'binary:logistic' was changed from 'error' to 'logloss'. Explicitly set eval_metric if you'd like to restore the old behavior.\n"
     ]
    }
   ],
   "source": [
    "classifier_obj = XGBClassifier()\n",
    "classifier_obj.fit(X_train, y_train)\n",
    "pred = classifier_obj.predict(X_test)\n"
   ]
  },
  {
   "cell_type": "code",
   "execution_count": 87,
   "metadata": {},
   "outputs": [
    {
     "data": {
      "text/plain": [
       "0.375"
      ]
     },
     "execution_count": 87,
     "metadata": {},
     "output_type": "execute_result"
    }
   ],
   "source": [
    "clf = ColumnEnsembleClassifier(\n",
    "    estimators=[\n",
    "        (\"TSF0\", TimeSeriesForestClassifier(n_estimators=100), [0]),\n",
    "        (\"BOSSEnsemble3\", BOSSEnsemble(max_ensemble_size=5), [3]),\n",
    "    ]\n",
    ")\n",
    "clf.fit(X_nested_train, y_nested_train)\n",
    "clf.score(X_nested_test, y_nested_test)"
   ]
  },
  {
   "cell_type": "code",
   "execution_count": 88,
   "metadata": {},
   "outputs": [
    {
     "data": {
      "text/plain": [
       "1.0"
      ]
     },
     "execution_count": 88,
     "metadata": {},
     "output_type": "execute_result"
    }
   ],
   "source": [
    "clf.score(X_nested_train, y_nested_train)"
   ]
  },
  {
   "cell_type": "code",
   "execution_count": 41,
   "metadata": {},
   "outputs": [],
   "source": [
    "from sklearn import model_selection\n"
   ]
  },
  {
   "cell_type": "code",
   "execution_count": 99,
   "metadata": {},
   "outputs": [
    {
     "name": "stderr",
     "output_type": "stream",
     "text": [
      "/home/amash/anaconda3/envs/raptor/lib/python3.8/site-packages/sktime/datatypes/_series/_check.py:42: FutureWarning: pandas.Int64Index is deprecated and will be removed from pandas in a future version. Use pandas.Index with the appropriate dtype instead.\n",
      "  VALID_INDEX_TYPES = (pd.Int64Index, pd.RangeIndex, pd.PeriodIndex, pd.DatetimeIndex)\n",
      "/home/amash/anaconda3/envs/raptor/lib/python3.8/site-packages/sktime/datatypes/_panel/_check.py:45: FutureWarning: pandas.Int64Index is deprecated and will be removed from pandas in a future version. Use pandas.Index with the appropriate dtype instead.\n",
      "  VALID_INDEX_TYPES = (pd.Int64Index, pd.RangeIndex, pd.PeriodIndex, pd.DatetimeIndex)\n",
      "/home/amash/anaconda3/envs/raptor/lib/python3.8/site-packages/sktime/datatypes/_panel/_check.py:46: FutureWarning: pandas.Int64Index is deprecated and will be removed from pandas in a future version. Use pandas.Index with the appropriate dtype instead.\n",
      "  VALID_MULTIINDEX_TYPES = (pd.Int64Index, pd.RangeIndex)\n",
      "/home/amash/anaconda3/envs/raptor/lib/python3.8/site-packages/sktime/datatypes/_series/_check.py:42: FutureWarning: pandas.Int64Index is deprecated and will be removed from pandas in a future version. Use pandas.Index with the appropriate dtype instead.\n",
      "  VALID_INDEX_TYPES = (pd.Int64Index, pd.RangeIndex, pd.PeriodIndex, pd.DatetimeIndex)\n",
      "/home/amash/anaconda3/envs/raptor/lib/python3.8/site-packages/sktime/datatypes/_panel/_check.py:45: FutureWarning: pandas.Int64Index is deprecated and will be removed from pandas in a future version. Use pandas.Index with the appropriate dtype instead.\n",
      "  VALID_INDEX_TYPES = (pd.Int64Index, pd.RangeIndex, pd.PeriodIndex, pd.DatetimeIndex)\n",
      "/home/amash/anaconda3/envs/raptor/lib/python3.8/site-packages/sktime/datatypes/_panel/_check.py:46: FutureWarning: pandas.Int64Index is deprecated and will be removed from pandas in a future version. Use pandas.Index with the appropriate dtype instead.\n",
      "  VALID_MULTIINDEX_TYPES = (pd.Int64Index, pd.RangeIndex)\n",
      "/home/amash/anaconda3/envs/raptor/lib/python3.8/site-packages/sktime/datatypes/_series/_check.py:42: FutureWarning: pandas.Int64Index is deprecated and will be removed from pandas in a future version. Use pandas.Index with the appropriate dtype instead.\n",
      "  VALID_INDEX_TYPES = (pd.Int64Index, pd.RangeIndex, pd.PeriodIndex, pd.DatetimeIndex)\n",
      "/home/amash/anaconda3/envs/raptor/lib/python3.8/site-packages/sktime/datatypes/_panel/_check.py:45: FutureWarning: pandas.Int64Index is deprecated and will be removed from pandas in a future version. Use pandas.Index with the appropriate dtype instead.\n",
      "  VALID_INDEX_TYPES = (pd.Int64Index, pd.RangeIndex, pd.PeriodIndex, pd.DatetimeIndex)\n",
      "/home/amash/anaconda3/envs/raptor/lib/python3.8/site-packages/sktime/datatypes/_panel/_check.py:46: FutureWarning: pandas.Int64Index is deprecated and will be removed from pandas in a future version. Use pandas.Index with the appropriate dtype instead.\n",
      "  VALID_MULTIINDEX_TYPES = (pd.Int64Index, pd.RangeIndex)\n"
     ]
    }
   ],
   "source": [
    "score = model_selection.cross_val_score(clf, X_nested, y_nested, n_jobs=-1, cv=3)\n"
   ]
  },
  {
   "cell_type": "code",
   "execution_count": 100,
   "metadata": {},
   "outputs": [
    {
     "data": {
      "text/plain": [
       "array([0.8       , 0.8       , 0.88888889])"
      ]
     },
     "execution_count": 100,
     "metadata": {},
     "output_type": "execute_result"
    }
   ],
   "source": [
    "score"
   ]
  },
  {
   "cell_type": "code",
   "execution_count": null,
   "metadata": {},
   "outputs": [],
   "source": []
  },
  {
   "cell_type": "markdown",
   "metadata": {},
   "source": [
    "# Model Training"
   ]
  },
  {
   "cell_type": "code",
   "execution_count": 89,
   "metadata": {},
   "outputs": [
    {
     "data": {
      "text/plain": [
       "0.5"
      ]
     },
     "execution_count": 89,
     "metadata": {},
     "output_type": "execute_result"
    }
   ],
   "source": [
    "clf = MrSEQLClassifier()\n",
    "clf.fit(X_nested_train, y_nested_train)\n",
    "clf.score(X_nested_test, y_nested_test)"
   ]
  },
  {
   "cell_type": "code",
   "execution_count": 90,
   "metadata": {},
   "outputs": [
    {
     "data": {
      "text/plain": [
       "1.0"
      ]
     },
     "execution_count": 90,
     "metadata": {},
     "output_type": "execute_result"
    }
   ],
   "source": [
    "clf.score(X_nested_train, y_nested_train)"
   ]
  },
  {
   "cell_type": "code",
   "execution_count": 150,
   "metadata": {
    "id": "R6br3lxa7lZ8"
   },
   "outputs": [],
   "source": [
    "# pred = clf.predict(X_nested_test)\n",
    "# true = y_nested_test\n",
    "\n",
    "pred = clf.predict(X_test)\n",
    "true = y_test\n",
    "target_names = ['Control','Covid']\n",
    "labels = [0,1]"
   ]
  },
  {
   "cell_type": "code",
   "execution_count": 151,
   "metadata": {
    "id": "4pgODzLm7lWz"
   },
   "outputs": [
    {
     "name": "stdout",
     "output_type": "stream",
     "text": [
      "              precision    recall  f1-score   support\n",
      "\n",
      "     Control       0.60      0.60      0.60         5\n",
      "       Covid       0.60      0.60      0.60         5\n",
      "\n",
      "    accuracy                           0.60        10\n",
      "   macro avg       0.60      0.60      0.60        10\n",
      "weighted avg       0.60      0.60      0.60        10\n",
      "\n"
     ]
    }
   ],
   "source": [
    "clf_report = classification_report(true,\n",
    "                                   pred,\n",
    "                                   target_names=target_names)\n",
    "\n",
    "print(clf_report)"
   ]
  },
  {
   "cell_type": "code",
   "execution_count": 152,
   "metadata": {},
   "outputs": [
    {
     "data": {
      "image/png": "[encoded data removed]",
      "text/plain": [
       "<Figure size 432x288 with 2 Axes>"
      ]
     },
     "metadata": {
      "needs_background": "light"
     },
     "output_type": "display_data"
    }
   ],
   "source": [
    "# cm = confusion_matrix(y_nested_test, pred, normalize='all')\n",
    "cm = confusion_matrix(y_test, pred )\n",
    "cmd = ConfusionMatrixDisplay(cm, display_labels=['Covid','Control'])\n",
    "cmd.plot()\n",
    "plt.title('Confusion Matrix XGBoost');"
   ]
  },
  {
   "cell_type": "code",
   "execution_count": 153,
   "metadata": {},
   "outputs": [],
   "source": [
    "# y_probas = clf.predict_proba(X_nested_test)\n",
    "y_probas = clf.predict_proba(X_test)"
   ]
  },
  {
   "cell_type": "code",
   "execution_count": 154,
   "metadata": {},
   "outputs": [
    {
     "data": {
      "image/png": "[encoded data removed]",
      "text/plain": [
       "<Figure size 432x288 with 1 Axes>"
      ]
     },
     "metadata": {
      "needs_background": "light"
     },
     "output_type": "display_data"
    }
   ],
   "source": [
    "# skplt.metrics.plot_roc_curve(y_nested_test, y_probas)\n",
    "skplt.metrics.plot_roc_curve(y_test, y_probas)\n",
    "plt.title('AUC-ROC XGBoost')\n",
    "plt.show()"
   ]
  },
  {
   "cell_type": "code",
   "execution_count": null,
   "metadata": {},
   "outputs": [],
   "source": []
  },
  {
   "cell_type": "code",
   "execution_count": null,
   "metadata": {},
   "outputs": [],
   "source": []
  },
  {
   "cell_type": "code",
   "execution_count": null,
   "metadata": {},
   "outputs": [],
   "source": []
  },
  {
   "cell_type": "markdown",
   "metadata": {},
   "source": [
    "### Training on 1st 12 sensor array"
   ]
  },
  {
   "cell_type": "code",
   "execution_count": 18,
   "metadata": {},
   "outputs": [],
   "source": [
    "df_train = df_train.iloc[:,:14]"
   ]
  },
  {
   "cell_type": "code",
   "execution_count": null,
   "metadata": {},
   "outputs": [],
   "source": []
  },
  {
   "cell_type": "code",
   "execution_count": 19,
   "metadata": {},
   "outputs": [
    {
     "data": {
      "text/plain": [
       "(21114, 14)"
      ]
     },
     "execution_count": 19,
     "metadata": {},
     "output_type": "execute_result"
    }
   ],
   "source": [
    "df_train.shape"
   ]
  },
  {
   "cell_type": "code",
   "execution_count": 20,
   "metadata": {
    "id": "1N4Qmhvd5xxa"
   },
   "outputs": [],
   "source": [
    "X_mi = df_train.groupby(['unique_id', 'timesteps']).mean()\n",
    "X_nested = from_multi_index_to_nested(X_mi, instance_index=\"unique_id\")\n",
    "y = df.groupby('unique_id').first()['result']"
   ]
  },
  {
   "cell_type": "code",
   "execution_count": 21,
   "metadata": {},
   "outputs": [
    {
     "data": {
      "text/plain": [
       "((138, 12), (138,))"
      ]
     },
     "execution_count": 21,
     "metadata": {},
     "output_type": "execute_result"
    }
   ],
   "source": [
    "X_nested.shape, y.shape"
   ]
  },
  {
   "cell_type": "code",
   "execution_count": 22,
   "metadata": {
    "id": "kFj3fZBH7TDc"
   },
   "outputs": [
    {
     "data": {
      "text/plain": [
       "((103, 12), (103,), (35, 12), (35,))"
      ]
     },
     "execution_count": 22,
     "metadata": {},
     "output_type": "execute_result"
    }
   ],
   "source": [
    "X_train, X_test, y_train, y_test = train_test_split(X_nested, y, stratify=y)\n",
    "X_train.shape, y_train.shape, X_test.shape, y_test.shape\n"
   ]
  },
  {
   "cell_type": "code",
   "execution_count": null,
   "metadata": {
    "id": "ZGCQBqKG7v-w"
   },
   "outputs": [],
   "source": []
  },
  {
   "cell_type": "markdown",
   "metadata": {},
   "source": [
    "# Model Training"
   ]
  },
  {
   "cell_type": "code",
   "execution_count": 23,
   "metadata": {},
   "outputs": [
    {
     "data": {
      "text/plain": [
       "1.0"
      ]
     },
     "execution_count": 23,
     "metadata": {},
     "output_type": "execute_result"
    }
   ],
   "source": [
    "clf = MrSEQLClassifier()\n",
    "clf.fit(X_train, y_train)\n",
    "clf.score(X_test, y_test)"
   ]
  },
  {
   "cell_type": "code",
   "execution_count": 24,
   "metadata": {},
   "outputs": [
    {
     "data": {
      "text/plain": [
       "1.0"
      ]
     },
     "execution_count": 24,
     "metadata": {},
     "output_type": "execute_result"
    }
   ],
   "source": [
    "clf.score(X_train, y_train)"
   ]
  },
  {
   "cell_type": "code",
   "execution_count": 25,
   "metadata": {
    "id": "R6br3lxa7lZ8"
   },
   "outputs": [],
   "source": [
    "pred = clf.predict(X_test)\n",
    "true = y_test\n",
    "target_names = ['Control','Covid']\n",
    "labels = [0,1]"
   ]
  },
  {
   "cell_type": "code",
   "execution_count": 26,
   "metadata": {
    "id": "4pgODzLm7lWz"
   },
   "outputs": [
    {
     "name": "stdout",
     "output_type": "stream",
     "text": [
      "              precision    recall  f1-score   support\n",
      "\n",
      "     Control       1.00      1.00      1.00        26\n",
      "       Covid       1.00      1.00      1.00         9\n",
      "\n",
      "    accuracy                           1.00        35\n",
      "   macro avg       1.00      1.00      1.00        35\n",
      "weighted avg       1.00      1.00      1.00        35\n",
      "\n"
     ]
    }
   ],
   "source": [
    "clf_report = classification_report(true,\n",
    "                                   pred,\n",
    "                                   target_names=target_names)\n",
    "\n",
    "print(clf_report)"
   ]
  },
  {
   "cell_type": "code",
   "execution_count": 27,
   "metadata": {},
   "outputs": [
    {
     "data": {
      "text/plain": [
       "<sklearn.metrics._plot.confusion_matrix.ConfusionMatrixDisplay at 0x7f42d1e34e20>"
      ]
     },
     "execution_count": 27,
     "metadata": {},
     "output_type": "execute_result"
    },
    {
     "data": {
      "image/png": "[encoded data removed]",
      "text/plain": [
       "<Figure size 432x288 with 2 Axes>"
      ]
     },
     "metadata": {
      "needs_background": "light"
     },
     "output_type": "display_data"
    }
   ],
   "source": [
    "cm = confusion_matrix(y_test, pred, normalize='all')\n",
    "cmd = ConfusionMatrixDisplay(cm, display_labels=['Covid','Control'])\n",
    "cmd.plot()"
   ]
  },
  {
   "cell_type": "code",
   "execution_count": 28,
   "metadata": {},
   "outputs": [],
   "source": [
    "y_probas = clf.predict_proba(X_test)"
   ]
  },
  {
   "cell_type": "code",
   "execution_count": 29,
   "metadata": {},
   "outputs": [
    {
     "data": {
      "image/png": "[encoded data removed]",
      "text/plain": [
       "<Figure size 432x288 with 1 Axes>"
      ]
     },
     "metadata": {
      "needs_background": "light"
     },
     "output_type": "display_data"
    }
   ],
   "source": [
    "skplt.metrics.plot_roc_curve(y_test, y_probas)\n",
    "plt.show()"
   ]
  },
  {
   "cell_type": "code",
   "execution_count": null,
   "metadata": {},
   "outputs": [],
   "source": []
  }
 ],
 "metadata": {
  "interpreter": {
   "hash": "b217ebf6e689a3b612a51022e5db1c4563e7e736a41a934a8973d8c6921a16e7"
  },
  "kernelspec": {
   "display_name": "Python 3.8.12 ('raptor')",
   "language": "python",
   "name": "python3"
  },
  "language_info": {
   "codemirror_mode": {
    "name": "ipython",
    "version": 3
   },
   "file_extension": ".py",
   "mimetype": "text/x-python",
   "name": "python",
   "nbconvert_exporter": "python",
   "pygments_lexer": "ipython3",
   "version": "3.8.12"
  },
  "orig_nbformat": 4
 },
 "nbformat": 4,
 "nbformat_minor": 2
}
